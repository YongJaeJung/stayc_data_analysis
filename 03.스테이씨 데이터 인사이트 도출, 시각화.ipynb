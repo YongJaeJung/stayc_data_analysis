{
 "cells": [
  {
   "cell_type": "markdown",
   "id": "09261b75",
   "metadata": {},
   "source": [
    "# 필요한 라이브러리, 데이터 로드"
   ]
  },
  {
   "cell_type": "code",
   "execution_count": 42,
   "id": "4fafbbd7",
   "metadata": {
    "ExecuteTime": {
     "end_time": "2021-12-29T13:27:26.313358Z",
     "start_time": "2021-12-29T13:27:26.306359Z"
    }
   },
   "outputs": [
    {
     "data": {
      "text/html": [
       "        <script type=\"text/javascript\">\n",
       "        window.PlotlyConfig = {MathJaxConfig: 'local'};\n",
       "        if (window.MathJax) {MathJax.Hub.Config({SVG: {font: \"STIX-Web\"}});}\n",
       "        if (typeof require !== 'undefined') {\n",
       "        require.undef(\"plotly\");\n",
       "        requirejs.config({\n",
       "            paths: {\n",
       "                'plotly': ['https://cdn.plot.ly/plotly-2.8.3.min']\n",
       "            }\n",
       "        });\n",
       "        require(['plotly'], function(Plotly) {\n",
       "            window._Plotly = Plotly;\n",
       "        });\n",
       "        }\n",
       "        </script>\n",
       "        "
      ]
     },
     "metadata": {},
     "output_type": "display_data"
    }
   ],
   "source": [
    "import pandas as pd\n",
    "import re\n",
    "pd.options.plotting.backend = \"plotly\"\n",
    "import cufflinks as cf\n",
    "cf.go_offline(connected=True)\n",
    "from more_itertools import locate,replace"
   ]
  },
  {
   "cell_type": "code",
   "execution_count": 45,
   "id": "c0f3325c",
   "metadata": {
    "ExecuteTime": {
     "end_time": "2021-12-29T13:28:02.475835Z",
     "start_time": "2021-12-29T13:28:02.454835Z"
    }
   },
   "outputs": [
    {
     "data": {
      "text/html": [
       "<div>\n",
       "<style scoped>\n",
       "    .dataframe tbody tr th:only-of-type {\n",
       "        vertical-align: middle;\n",
       "    }\n",
       "\n",
       "    .dataframe tbody tr th {\n",
       "        vertical-align: top;\n",
       "    }\n",
       "\n",
       "    .dataframe thead th {\n",
       "        text-align: right;\n",
       "    }\n",
       "</style>\n",
       "<table border=\"1\" class=\"dataframe\">\n",
       "  <thead>\n",
       "    <tr style=\"text-align: right;\">\n",
       "      <th></th>\n",
       "      <th>제목</th>\n",
       "      <th>업로더</th>\n",
       "      <th>조회수</th>\n",
       "      <th>게시일</th>\n",
       "    </tr>\n",
       "  </thead>\n",
       "  <tbody>\n",
       "    <tr>\n",
       "      <th>0</th>\n",
       "      <td>STAYC(스테이씨) '색안경 (STEREOTYPE)' MV</td>\n",
       "      <td>STAYC</td>\n",
       "      <td>48102354</td>\n",
       "      <td>2021-09-06</td>\n",
       "    </tr>\n",
       "    <tr>\n",
       "      <th>1</th>\n",
       "      <td>STAYC(스테이씨) - ASAP+색안경 [2021 KBS 가요대축제] | KBS ...</td>\n",
       "      <td>KBS Kpop</td>\n",
       "      <td>139432</td>\n",
       "      <td>2021-12-17</td>\n",
       "    </tr>\n",
       "    <tr>\n",
       "      <th>2</th>\n",
       "      <td>(ENG) 3️⃣ 일코 SSAP 가능 굿즈부터 최애 이모지까지 TMI 대방출ㅣ[#블...</td>\n",
       "      <td>블립 - blip</td>\n",
       "      <td>12901</td>\n",
       "      <td>2021-12-27</td>\n",
       "    </tr>\n",
       "    <tr>\n",
       "      <th>3</th>\n",
       "      <td>STAYC (스테이씨) PLAYLIST 2021 (ALL SONGS) | 스테이씨 ...</td>\n",
       "      <td>LQ KPOP</td>\n",
       "      <td>274756</td>\n",
       "      <td>2021-09-06</td>\n",
       "    </tr>\n",
       "    <tr>\n",
       "      <th>4</th>\n",
       "      <td>(ENG) 1️⃣ 데뷔부터 ASAP까지! 스테이씨 비하인드 대방출ㅣ[#블립데이터연구...</td>\n",
       "      <td>블립 - blip</td>\n",
       "      <td>44003</td>\n",
       "      <td>2021-12-20</td>\n",
       "    </tr>\n",
       "    <tr>\n",
       "      <th>...</th>\n",
       "      <td>...</td>\n",
       "      <td>...</td>\n",
       "      <td>...</td>\n",
       "      <td>...</td>\n",
       "    </tr>\n",
       "    <tr>\n",
       "      <th>114</th>\n",
       "      <td>스테이씨의 연습실 라이브 안무영상</td>\n",
       "      <td>얼빠주인장♡ᴡʜᴏ ʟᴏᴠᴇs ɪᴅᴏʟ</td>\n",
       "      <td>1152511</td>\n",
       "      <td>2021-09-29</td>\n",
       "    </tr>\n",
       "    <tr>\n",
       "      <th>115</th>\n",
       "      <td>STEREOTYPE Practice VLOG #1</td>\n",
       "      <td>STAYC</td>\n",
       "      <td>320742</td>\n",
       "      <td>2021-09-28</td>\n",
       "    </tr>\n",
       "    <tr>\n",
       "      <th>116</th>\n",
       "      <td>스테이씨 X 땡깡 (색안경) #땡깡의커튼콜</td>\n",
       "      <td>땡깡DanceKang</td>\n",
       "      <td>1708421</td>\n",
       "      <td>2021-09-04</td>\n",
       "    </tr>\n",
       "    <tr>\n",
       "      <th>117</th>\n",
       "      <td>STAYC(스테이씨) [STEREOTYPE] Album UNBOXING</td>\n",
       "      <td>STAYC</td>\n",
       "      <td>232671</td>\n",
       "      <td>2021-09-08</td>\n",
       "    </tr>\n",
       "    <tr>\n",
       "      <th>118</th>\n",
       "      <td>스테이씨 시은, 태몽부터 남다른 방송 12년차 아이돌[STAYC SIEUN](ENG)</td>\n",
       "      <td>Doyouram - Everyday K-Culture</td>\n",
       "      <td>64118</td>\n",
       "      <td>2021-12-02</td>\n",
       "    </tr>\n",
       "  </tbody>\n",
       "</table>\n",
       "<p>119 rows × 4 columns</p>\n",
       "</div>"
      ],
      "text/plain": [
       "                                                    제목  \\\n",
       "0                    STAYC(스테이씨) '색안경 (STEREOTYPE)' MV   \n",
       "1    STAYC(스테이씨) - ASAP+색안경 [2021 KBS 가요대축제] | KBS ...   \n",
       "2    (ENG) 3️⃣ 일코 SSAP 가능 굿즈부터 최애 이모지까지 TMI 대방출ㅣ[#블...   \n",
       "3    STAYC (스테이씨) PLAYLIST 2021 (ALL SONGS) | 스테이씨 ...   \n",
       "4    (ENG) 1️⃣ 데뷔부터 ASAP까지! 스테이씨 비하인드 대방출ㅣ[#블립데이터연구...   \n",
       "..                                                 ...   \n",
       "114                                 스테이씨의 연습실 라이브 안무영상   \n",
       "115                        STEREOTYPE Practice VLOG #1   \n",
       "116                            스테이씨 X 땡깡 (색안경) #땡깡의커튼콜   \n",
       "117            STAYC(스테이씨) [STEREOTYPE] Album UNBOXING   \n",
       "118    스테이씨 시은, 태몽부터 남다른 방송 12년차 아이돌[STAYC SIEUN](ENG)   \n",
       "\n",
       "                               업로더       조회수         게시일  \n",
       "0                            STAYC  48102354  2021-09-06  \n",
       "1                         KBS Kpop    139432  2021-12-17  \n",
       "2                        블립 - blip     12901  2021-12-27  \n",
       "3                          LQ KPOP    274756  2021-09-06  \n",
       "4                        블립 - blip     44003  2021-12-20  \n",
       "..                             ...       ...         ...  \n",
       "114           얼빠주인장♡ᴡʜᴏ ʟᴏᴠᴇs ɪᴅᴏʟ   1152511  2021-09-29  \n",
       "115                          STAYC    320742  2021-09-28  \n",
       "116                    땡깡DanceKang   1708421  2021-09-04  \n",
       "117                          STAYC    232671  2021-09-08  \n",
       "118  Doyouram - Everyday K-Culture     64118  2021-12-02  \n",
       "\n",
       "[119 rows x 4 columns]"
      ]
     },
     "execution_count": 45,
     "metadata": {},
     "output_type": "execute_result"
    }
   ],
   "source": [
    "stayc_df = pd.read_csv('./data/stacy_youtube_preprocessed.csv',encoding='utf-8-sig')\n",
    "stayc_df"
   ]
  },
  {
   "cell_type": "code",
   "execution_count": null,
   "id": "51051370",
   "metadata": {},
   "outputs": [],
   "source": [
    "stayc_df"
   ]
  }
 ],
 "metadata": {
  "kernelspec": {
   "display_name": "Python 3 (ipykernel)",
   "language": "python",
   "name": "python3"
  },
  "language_info": {
   "codemirror_mode": {
    "name": "ipython",
    "version": 3
   },
   "file_extension": ".py",
   "mimetype": "text/x-python",
   "name": "python",
   "nbconvert_exporter": "python",
   "pygments_lexer": "ipython3",
   "version": "3.7.11"
  },
  "toc": {
   "base_numbering": 1,
   "nav_menu": {},
   "number_sections": true,
   "sideBar": true,
   "skip_h1_title": false,
   "title_cell": "Table of Contents",
   "title_sidebar": "Contents",
   "toc_cell": false,
   "toc_position": {},
   "toc_section_display": true,
   "toc_window_display": false
  },
  "varInspector": {
   "cols": {
    "lenName": 16,
    "lenType": 16,
    "lenVar": 40
   },
   "kernels_config": {
    "python": {
     "delete_cmd_postfix": "",
     "delete_cmd_prefix": "del ",
     "library": "var_list.py",
     "varRefreshCmd": "print(var_dic_list())"
    },
    "r": {
     "delete_cmd_postfix": ") ",
     "delete_cmd_prefix": "rm(",
     "library": "var_list.r",
     "varRefreshCmd": "cat(var_dic_list()) "
    }
   },
   "types_to_exclude": [
    "module",
    "function",
    "builtin_function_or_method",
    "instance",
    "_Feature"
   ],
   "window_display": false
  }
 },
 "nbformat": 4,
 "nbformat_minor": 5
}
