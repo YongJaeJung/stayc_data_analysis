{
 "cells": [
  {
   "cell_type": "markdown",
   "id": "09261b75",
   "metadata": {},
   "source": [
    "# 필요한 라이브러리, 데이터 로드"
   ]
  },
  {
   "cell_type": "code",
   "execution_count": 9,
   "id": "4fafbbd7",
   "metadata": {
    "ExecuteTime": {
     "end_time": "2022-01-01T06:37:38.554576Z",
     "start_time": "2022-01-01T06:37:38.549578Z"
    }
   },
   "outputs": [],
   "source": [
    "import pandas as pd\n",
    "import re"
   ]
  },
  {
   "cell_type": "code",
   "execution_count": 10,
   "id": "c0f3325c",
   "metadata": {
    "ExecuteTime": {
     "end_time": "2022-01-01T06:37:38.779855Z",
     "start_time": "2022-01-01T06:37:38.758856Z"
    }
   },
   "outputs": [],
   "source": [
    "izone_df = pd.read_csv('./data/izone_youtube.csv')\n",
    "izone_df = izone_df.drop(columns=izone_df.columns[0],axis=1)"
   ]
  },
  {
   "cell_type": "code",
   "execution_count": 11,
   "id": "b282c911",
   "metadata": {
    "ExecuteTime": {
     "end_time": "2022-01-01T06:37:39.066038Z",
     "start_time": "2022-01-01T06:37:39.059038Z"
    }
   },
   "outputs": [],
   "source": [
    "izone_df = izone_df.dropna()"
   ]
  },
  {
   "cell_type": "code",
   "execution_count": 12,
   "id": "ff4a87b6",
   "metadata": {
    "ExecuteTime": {
     "end_time": "2022-01-01T06:37:39.668132Z",
     "start_time": "2022-01-01T06:37:39.659132Z"
    }
   },
   "outputs": [],
   "source": [
    "izone_df = izone_df.drop_duplicates(['제목'],keep='first')\n",
    "izone_df = izone_df.reset_index(drop=True)"
   ]
  },
  {
   "cell_type": "markdown",
   "id": "dfdf0b17",
   "metadata": {},
   "source": [
    "# 조회수"
   ]
  },
  {
   "cell_type": "code",
   "execution_count": 14,
   "id": "dd0e4eb4",
   "metadata": {
    "ExecuteTime": {
     "end_time": "2022-01-01T06:38:01.381719Z",
     "start_time": "2022-01-01T06:38:01.378721Z"
    }
   },
   "outputs": [],
   "source": [
    "izone_df = izone_df.drop(index = izone_df[izone_df['조회수'] == '오류'].index)"
   ]
  },
  {
   "cell_type": "code",
   "execution_count": 15,
   "id": "b5bcf2cd",
   "metadata": {
    "ExecuteTime": {
     "end_time": "2022-01-01T06:38:16.901734Z",
     "start_time": "2022-01-01T06:38:16.888736Z"
    }
   },
   "outputs": [],
   "source": [
    "izone_df = izone_df.reset_index(drop=True)"
   ]
  },
  {
   "cell_type": "code",
   "execution_count": 16,
   "id": "f4d678c9",
   "metadata": {
    "ExecuteTime": {
     "end_time": "2022-01-01T06:38:20.114128Z",
     "start_time": "2022-01-01T06:38:20.098131Z"
    }
   },
   "outputs": [],
   "source": [
    "click_num_re = re.compile('[0-9,]+')"
   ]
  },
  {
   "cell_type": "code",
   "execution_count": 17,
   "id": "4dd9b462",
   "metadata": {
    "ExecuteTime": {
     "end_time": "2022-01-01T06:38:20.462650Z",
     "start_time": "2022-01-01T06:38:20.458651Z"
    }
   },
   "outputs": [],
   "source": [
    "def click_clear(x):\n",
    "            \n",
    "    return int(click_num_re.findall(x)[0].replace(',',''))\n",
    "\n",
    "izone_df['조회수'] = izone_df['조회수'].map(click_clear)"
   ]
  },
  {
   "cell_type": "markdown",
   "id": "30e04ff6",
   "metadata": {},
   "source": [
    "# 게시일"
   ]
  },
  {
   "cell_type": "code",
   "execution_count": 18,
   "id": "42970e68",
   "metadata": {
    "ExecuteTime": {
     "end_time": "2022-01-01T06:38:22.726848Z",
     "start_time": "2022-01-01T06:38:22.708846Z"
    }
   },
   "outputs": [
    {
     "data": {
      "text/plain": [
       "datetime.datetime(2022, 1, 1, 0, 0)"
      ]
     },
     "execution_count": 18,
     "metadata": {},
     "output_type": "execute_result"
    }
   ],
   "source": [
    "from datetime import datetime\n",
    "from dateutil.relativedelta import relativedelta\n",
    "\n",
    "now = datetime.now()\n",
    "now - relativedelta(months=10)\n",
    "\n",
    "datetime(now.year,now.month,1)"
   ]
  },
  {
   "cell_type": "code",
   "execution_count": 19,
   "id": "e33f83e1",
   "metadata": {
    "ExecuteTime": {
     "end_time": "2022-01-01T06:38:22.892851Z",
     "start_time": "2022-01-01T06:38:22.888850Z"
    }
   },
   "outputs": [
    {
     "data": {
      "text/plain": [
       "'2020-11-5'"
      ]
     },
     "execution_count": 19,
     "metadata": {},
     "output_type": "execute_result"
    }
   ],
   "source": [
    "upload_num_re = re.compile('[0-9]+')\n",
    "#upload_str_re = re.compile('[가-힣]+')\n",
    "\n",
    "#upload_str_re.findall(izone_df.loc[64,'게시일'])\n",
    "'-'.join(upload_num_re.findall(izone_df.loc[2,'게시일']))"
   ]
  },
  {
   "cell_type": "code",
   "execution_count": 20,
   "id": "9bd774fa",
   "metadata": {
    "ExecuteTime": {
     "end_time": "2022-01-01T06:38:30.061762Z",
     "start_time": "2022-01-01T06:38:30.057764Z"
    }
   },
   "outputs": [],
   "source": [
    "def upload_clear(x):\n",
    "\n",
    "    return '-'.join(upload_num_re.findall(x))"
   ]
  },
  {
   "cell_type": "code",
   "execution_count": 21,
   "id": "25498386",
   "metadata": {
    "ExecuteTime": {
     "end_time": "2022-01-01T06:38:30.334090Z",
     "start_time": "2022-01-01T06:38:30.328089Z"
    }
   },
   "outputs": [],
   "source": [
    "izone_df['게시일'] = izone_df['게시일'].map(upload_clear)"
   ]
  },
  {
   "cell_type": "code",
   "execution_count": 22,
   "id": "f68cc9eb",
   "metadata": {
    "ExecuteTime": {
     "end_time": "2022-01-01T06:38:30.697431Z",
     "start_time": "2022-01-01T06:38:30.687430Z"
    }
   },
   "outputs": [
    {
     "data": {
      "text/html": [
       "<div>\n",
       "<style scoped>\n",
       "    .dataframe tbody tr th:only-of-type {\n",
       "        vertical-align: middle;\n",
       "    }\n",
       "\n",
       "    .dataframe tbody tr th {\n",
       "        vertical-align: top;\n",
       "    }\n",
       "\n",
       "    .dataframe thead th {\n",
       "        text-align: right;\n",
       "    }\n",
       "</style>\n",
       "<table border=\"1\" class=\"dataframe\">\n",
       "  <thead>\n",
       "    <tr style=\"text-align: right;\">\n",
       "      <th></th>\n",
       "      <th>제목</th>\n",
       "      <th>업로더</th>\n",
       "      <th>조회수</th>\n",
       "      <th>게시일</th>\n",
       "    </tr>\n",
       "  </thead>\n",
       "  <tbody>\n",
       "    <tr>\n",
       "      <th>0</th>\n",
       "      <td>엠넷 재팬 MC 本田仁美 혼다히토미 아이즈원 언급 한글자막</td>\n",
       "      <td>곽군테레비 郭君テレビ</td>\n",
       "      <td>11330</td>\n",
       "      <td>2021-12-28</td>\n",
       "    </tr>\n",
       "    <tr>\n",
       "      <th>1</th>\n",
       "      <td>아이즈원</td>\n",
       "      <td>강민혁 X 차누</td>\n",
       "      <td>3727913</td>\n",
       "      <td>2021-3-25</td>\n",
       "    </tr>\n",
       "    <tr>\n",
       "      <th>2</th>\n",
       "      <td>🎵 아이즈원 (IZONE) 노래모음 추천곡 (라비앙로즈, FIESTA, 비올레타, ...</td>\n",
       "      <td>박승오리 Box</td>\n",
       "      <td>158297</td>\n",
       "      <td>2020-11-5</td>\n",
       "    </tr>\n",
       "    <tr>\n",
       "      <th>3</th>\n",
       "      <td>아이즈원(IZ*ONE) - Panorama(파노라마) 교차편집(stage mix)</td>\n",
       "      <td>강민혁 X 차누</td>\n",
       "      <td>5157126</td>\n",
       "      <td>2021-3-24</td>\n",
       "    </tr>\n",
       "    <tr>\n",
       "      <th>4</th>\n",
       "      <td>IZ*ONE (아이즈원) 'Panorama' MV</td>\n",
       "      <td>Stone Music Entertainment</td>\n",
       "      <td>69191968</td>\n",
       "      <td>2020-12-7</td>\n",
       "    </tr>\n",
       "  </tbody>\n",
       "</table>\n",
       "</div>"
      ],
      "text/plain": [
       "                                                  제목  \\\n",
       "0                   엠넷 재팬 MC 本田仁美 혼다히토미 아이즈원 언급 한글자막   \n",
       "1                                               아이즈원   \n",
       "2  🎵 아이즈원 (IZONE) 노래모음 추천곡 (라비앙로즈, FIESTA, 비올레타, ...   \n",
       "3      아이즈원(IZ*ONE) - Panorama(파노라마) 교차편집(stage mix)   \n",
       "4                        IZ*ONE (아이즈원) 'Panorama' MV   \n",
       "\n",
       "                         업로더       조회수         게시일  \n",
       "0                곽군테레비 郭君テレビ     11330  2021-12-28  \n",
       "1                   강민혁 X 차누   3727913   2021-3-25  \n",
       "2                   박승오리 Box    158297   2020-11-5  \n",
       "3                   강민혁 X 차누   5157126   2021-3-24  \n",
       "4  Stone Music Entertainment  69191968   2020-12-7  "
      ]
     },
     "execution_count": 22,
     "metadata": {},
     "output_type": "execute_result"
    }
   ],
   "source": [
    "izone_df.head()"
   ]
  },
  {
   "cell_type": "code",
   "execution_count": 26,
   "id": "fd3675c7",
   "metadata": {
    "ExecuteTime": {
     "end_time": "2022-01-01T06:44:27.688954Z",
     "start_time": "2022-01-01T06:44:27.680954Z"
    }
   },
   "outputs": [],
   "source": [
    "error_col = []\n",
    "\n",
    "for i,v in enumerate(izone_df['게시일']):\n",
    "    try:\n",
    "        datetime.strptime(v,'%Y-%m-%d')\n",
    "    except:\n",
    "        error_col.append(i)"
   ]
  },
  {
   "cell_type": "code",
   "execution_count": 27,
   "id": "d4b1a02f",
   "metadata": {
    "ExecuteTime": {
     "end_time": "2022-01-01T06:44:32.489759Z",
     "start_time": "2022-01-01T06:44:32.479759Z"
    }
   },
   "outputs": [
    {
     "data": {
      "text/plain": [
       "[118, 285]"
      ]
     },
     "execution_count": 27,
     "metadata": {},
     "output_type": "execute_result"
    }
   ],
   "source": [
    "error_col"
   ]
  },
  {
   "cell_type": "code",
   "execution_count": 28,
   "id": "48a62b00",
   "metadata": {
    "ExecuteTime": {
     "end_time": "2022-01-01T06:44:47.369478Z",
     "start_time": "2022-01-01T06:44:47.359479Z"
    }
   },
   "outputs": [
    {
     "data": {
      "text/html": [
       "<div>\n",
       "<style scoped>\n",
       "    .dataframe tbody tr th:only-of-type {\n",
       "        vertical-align: middle;\n",
       "    }\n",
       "\n",
       "    .dataframe tbody tr th {\n",
       "        vertical-align: top;\n",
       "    }\n",
       "\n",
       "    .dataframe thead th {\n",
       "        text-align: right;\n",
       "    }\n",
       "</style>\n",
       "<table border=\"1\" class=\"dataframe\">\n",
       "  <thead>\n",
       "    <tr style=\"text-align: right;\">\n",
       "      <th></th>\n",
       "      <th>제목</th>\n",
       "      <th>업로더</th>\n",
       "      <th>조회수</th>\n",
       "      <th>게시일</th>\n",
       "    </tr>\n",
       "  </thead>\n",
       "  <tbody>\n",
       "    <tr>\n",
       "      <th>118</th>\n",
       "      <td>💛아이즈원 커버 보컬 팀 허니봉봉💛ROCOCO (COVER)~εїз</td>\n",
       "      <td>허니봉봉</td>\n",
       "      <td>79</td>\n",
       "      <td>15</td>\n",
       "    </tr>\n",
       "    <tr>\n",
       "      <th>285</th>\n",
       "      <td>🍒[아이즈원커버보컬팀][Cherrinity]기분 좋은 안녕(ご機嫌サヨナラ） COVER🍒</td>\n",
       "      <td>체리니티</td>\n",
       "      <td>255</td>\n",
       "      <td>14</td>\n",
       "    </tr>\n",
       "  </tbody>\n",
       "</table>\n",
       "</div>"
      ],
      "text/plain": [
       "                                                   제목   업로더  조회수 게시일\n",
       "118             💛아이즈원 커버 보컬 팀 허니봉봉💛ROCOCO (COVER)~εїз  허니봉봉   79  15\n",
       "285  🍒[아이즈원커버보컬팀][Cherrinity]기분 좋은 안녕(ご機嫌サヨナラ） COVER🍒  체리니티  255  14"
      ]
     },
     "execution_count": 28,
     "metadata": {},
     "output_type": "execute_result"
    }
   ],
   "source": [
    "izone_df.iloc[error_col]"
   ]
  },
  {
   "cell_type": "code",
   "execution_count": 29,
   "id": "878e21fd",
   "metadata": {
    "ExecuteTime": {
     "end_time": "2022-01-01T07:04:01.891232Z",
     "start_time": "2022-01-01T07:04:01.886230Z"
    }
   },
   "outputs": [],
   "source": [
    "izone_df = izone_df.drop(index = error_col)"
   ]
  },
  {
   "cell_type": "code",
   "execution_count": 30,
   "id": "19e6871c",
   "metadata": {
    "ExecuteTime": {
     "end_time": "2022-01-01T07:04:04.152622Z",
     "start_time": "2022-01-01T07:04:04.135623Z"
    }
   },
   "outputs": [],
   "source": [
    "izone_df['게시일'] = pd.to_datetime(izone_df['게시일'])"
   ]
  },
  {
   "cell_type": "code",
   "execution_count": 32,
   "id": "2a78d4ed",
   "metadata": {
    "ExecuteTime": {
     "end_time": "2022-01-01T07:04:30.104657Z",
     "start_time": "2022-01-01T07:04:30.084646Z"
    }
   },
   "outputs": [],
   "source": [
    "izone_df.to_csv('./data/izone_youtube_preprocessed.csv',encoding='utf-8-sig',index=False)"
   ]
  }
 ],
 "metadata": {
  "kernelspec": {
   "display_name": "Python 3 (ipykernel)",
   "language": "python",
   "name": "python3"
  },
  "language_info": {
   "codemirror_mode": {
    "name": "ipython",
    "version": 3
   },
   "file_extension": ".py",
   "mimetype": "text/x-python",
   "name": "python",
   "nbconvert_exporter": "python",
   "pygments_lexer": "ipython3",
   "version": "3.7.11"
  },
  "toc": {
   "base_numbering": 1,
   "nav_menu": {},
   "number_sections": true,
   "sideBar": true,
   "skip_h1_title": false,
   "title_cell": "Table of Contents",
   "title_sidebar": "Contents",
   "toc_cell": false,
   "toc_position": {},
   "toc_section_display": true,
   "toc_window_display": false
  },
  "varInspector": {
   "cols": {
    "lenName": 16,
    "lenType": 16,
    "lenVar": 40
   },
   "kernels_config": {
    "python": {
     "delete_cmd_postfix": "",
     "delete_cmd_prefix": "del ",
     "library": "var_list.py",
     "varRefreshCmd": "print(var_dic_list())"
    },
    "r": {
     "delete_cmd_postfix": ") ",
     "delete_cmd_prefix": "rm(",
     "library": "var_list.r",
     "varRefreshCmd": "cat(var_dic_list()) "
    }
   },
   "types_to_exclude": [
    "module",
    "function",
    "builtin_function_or_method",
    "instance",
    "_Feature"
   ],
   "window_display": false
  }
 },
 "nbformat": 4,
 "nbformat_minor": 5
}
