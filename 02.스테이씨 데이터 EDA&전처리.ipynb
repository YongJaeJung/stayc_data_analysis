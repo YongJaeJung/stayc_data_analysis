{
 "cells": [
  {
   "cell_type": "markdown",
   "id": "09261b75",
   "metadata": {},
   "source": [
    "# 필요한 라이브러리, 데이터 로드"
   ]
  },
  {
   "cell_type": "code",
   "execution_count": 1,
   "id": "4fafbbd7",
   "metadata": {
    "ExecuteTime": {
     "end_time": "2021-12-29T13:26:15.181056Z",
     "start_time": "2021-12-29T13:26:14.803057Z"
    }
   },
   "outputs": [],
   "source": [
    "import pandas as pd\n",
    "import re"
   ]
  },
  {
   "cell_type": "code",
   "execution_count": 2,
   "id": "c0f3325c",
   "metadata": {
    "ExecuteTime": {
     "end_time": "2021-12-29T13:26:15.196058Z",
     "start_time": "2021-12-29T13:26:15.182057Z"
    }
   },
   "outputs": [],
   "source": [
    "stayc_df = pd.read_csv('./data/stayc_youtube.csv')\n",
    "stayc_df = stayc_df.drop(columns=stayc_df.columns[0],axis=1)"
   ]
  },
  {
   "cell_type": "code",
   "execution_count": 3,
   "id": "b282c911",
   "metadata": {
    "ExecuteTime": {
     "end_time": "2021-12-29T13:26:15.211056Z",
     "start_time": "2021-12-29T13:26:15.197058Z"
    }
   },
   "outputs": [],
   "source": [
    "stayc_df = stayc_df.dropna()"
   ]
  },
  {
   "cell_type": "code",
   "execution_count": 4,
   "id": "ff4a87b6",
   "metadata": {
    "ExecuteTime": {
     "end_time": "2021-12-29T13:26:15.226057Z",
     "start_time": "2021-12-29T13:26:15.212058Z"
    }
   },
   "outputs": [],
   "source": [
    "stayc_df = stayc_df.drop_duplicates(['제목'],keep='first')\n",
    "stayc_df = stayc_df.reset_index(drop=True)"
   ]
  },
  {
   "cell_type": "markdown",
   "id": "dfdf0b17",
   "metadata": {},
   "source": [
    "# 조회수"
   ]
  },
  {
   "cell_type": "code",
   "execution_count": 5,
   "id": "f4d678c9",
   "metadata": {
    "ExecuteTime": {
     "end_time": "2021-12-29T13:26:15.241057Z",
     "start_time": "2021-12-29T13:26:15.226057Z"
    }
   },
   "outputs": [],
   "source": [
    "click_num_re = re.compile('[0-9,]+')"
   ]
  },
  {
   "cell_type": "code",
   "execution_count": 6,
   "id": "4dd9b462",
   "metadata": {
    "ExecuteTime": {
     "end_time": "2021-12-29T13:26:15.256056Z",
     "start_time": "2021-12-29T13:26:15.242058Z"
    }
   },
   "outputs": [],
   "source": [
    "def click_clear(x):\n",
    "            \n",
    "    return int(click_num_re.findall(x)[0].replace(',',''))\n",
    "\n",
    "stayc_df['조회수'] = stayc_df['조회수'].map(click_clear)"
   ]
  },
  {
   "cell_type": "markdown",
   "id": "30e04ff6",
   "metadata": {},
   "source": [
    "# 게시일"
   ]
  },
  {
   "cell_type": "code",
   "execution_count": 7,
   "id": "42970e68",
   "metadata": {
    "ExecuteTime": {
     "end_time": "2021-12-29T13:26:15.271058Z",
     "start_time": "2021-12-29T13:26:15.257058Z"
    }
   },
   "outputs": [
    {
     "data": {
      "text/plain": [
       "datetime.datetime(2021, 12, 1, 0, 0)"
      ]
     },
     "execution_count": 7,
     "metadata": {},
     "output_type": "execute_result"
    }
   ],
   "source": [
    "from datetime import datetime\n",
    "from dateutil.relativedelta import relativedelta\n",
    "\n",
    "now = datetime.now()\n",
    "now - relativedelta(months=10)\n",
    "\n",
    "datetime(now.year,now.month,1)"
   ]
  },
  {
   "cell_type": "code",
   "execution_count": 8,
   "id": "e33f83e1",
   "metadata": {
    "ExecuteTime": {
     "end_time": "2021-12-29T13:26:15.286056Z",
     "start_time": "2021-12-29T13:26:15.272057Z"
    }
   },
   "outputs": [
    {
     "data": {
      "text/plain": [
       "'2021-12-27'"
      ]
     },
     "execution_count": 8,
     "metadata": {},
     "output_type": "execute_result"
    }
   ],
   "source": [
    "upload_num_re = re.compile('[0-9]+')\n",
    "#upload_str_re = re.compile('[가-힣]+')\n",
    "\n",
    "#upload_str_re.findall(stayc_df.loc[64,'게시일'])\n",
    "'-'.join(upload_num_re.findall(stayc_df.loc[2,'게시일']))"
   ]
  },
  {
   "cell_type": "code",
   "execution_count": 9,
   "id": "9bd774fa",
   "metadata": {
    "ExecuteTime": {
     "end_time": "2021-12-29T13:26:15.301077Z",
     "start_time": "2021-12-29T13:26:15.287057Z"
    }
   },
   "outputs": [],
   "source": [
    "def upload_clear(x):\n",
    "\n",
    "    return '-'.join(upload_num_re.findall(x))"
   ]
  },
  {
   "cell_type": "code",
   "execution_count": 10,
   "id": "25498386",
   "metadata": {
    "ExecuteTime": {
     "end_time": "2021-12-29T13:26:15.316443Z",
     "start_time": "2021-12-29T13:26:15.302079Z"
    }
   },
   "outputs": [],
   "source": [
    "stayc_df['게시일'] = stayc_df['게시일'].map(upload_clear)"
   ]
  },
  {
   "cell_type": "code",
   "execution_count": 11,
   "id": "f68cc9eb",
   "metadata": {
    "ExecuteTime": {
     "end_time": "2021-12-29T13:26:15.331445Z",
     "start_time": "2021-12-29T13:26:15.317444Z"
    }
   },
   "outputs": [
    {
     "data": {
      "text/html": [
       "<div>\n",
       "<style scoped>\n",
       "    .dataframe tbody tr th:only-of-type {\n",
       "        vertical-align: middle;\n",
       "    }\n",
       "\n",
       "    .dataframe tbody tr th {\n",
       "        vertical-align: top;\n",
       "    }\n",
       "\n",
       "    .dataframe thead th {\n",
       "        text-align: right;\n",
       "    }\n",
       "</style>\n",
       "<table border=\"1\" class=\"dataframe\">\n",
       "  <thead>\n",
       "    <tr style=\"text-align: right;\">\n",
       "      <th></th>\n",
       "      <th>제목</th>\n",
       "      <th>업로더</th>\n",
       "      <th>조회수</th>\n",
       "      <th>게시일</th>\n",
       "    </tr>\n",
       "  </thead>\n",
       "  <tbody>\n",
       "    <tr>\n",
       "      <th>0</th>\n",
       "      <td>STAYC(스테이씨) '색안경 (STEREOTYPE)' MV</td>\n",
       "      <td>STAYC</td>\n",
       "      <td>48102354</td>\n",
       "      <td>2021-9-6</td>\n",
       "    </tr>\n",
       "    <tr>\n",
       "      <th>1</th>\n",
       "      <td>STAYC(스테이씨) - ASAP+색안경 [2021 KBS 가요대축제] | KBS ...</td>\n",
       "      <td>KBS Kpop</td>\n",
       "      <td>139432</td>\n",
       "      <td>2021-12-17</td>\n",
       "    </tr>\n",
       "    <tr>\n",
       "      <th>2</th>\n",
       "      <td>(ENG) 3️⃣ 일코 SSAP 가능 굿즈부터 최애 이모지까지 TMI 대방출ㅣ[#블...</td>\n",
       "      <td>블립 - blip</td>\n",
       "      <td>12901</td>\n",
       "      <td>2021-12-27</td>\n",
       "    </tr>\n",
       "    <tr>\n",
       "      <th>3</th>\n",
       "      <td>STAYC (스테이씨) PLAYLIST 2021 (ALL SONGS) | 스테이씨 ...</td>\n",
       "      <td>LQ KPOP</td>\n",
       "      <td>274756</td>\n",
       "      <td>2021-9-6</td>\n",
       "    </tr>\n",
       "    <tr>\n",
       "      <th>4</th>\n",
       "      <td>(ENG) 1️⃣ 데뷔부터 ASAP까지! 스테이씨 비하인드 대방출ㅣ[#블립데이터연구...</td>\n",
       "      <td>블립 - blip</td>\n",
       "      <td>44003</td>\n",
       "      <td>2021-12-20</td>\n",
       "    </tr>\n",
       "  </tbody>\n",
       "</table>\n",
       "</div>"
      ],
      "text/plain": [
       "                                                  제목        업로더       조회수  \\\n",
       "0                  STAYC(스테이씨) '색안경 (STEREOTYPE)' MV      STAYC  48102354   \n",
       "1  STAYC(스테이씨) - ASAP+색안경 [2021 KBS 가요대축제] | KBS ...   KBS Kpop    139432   \n",
       "2  (ENG) 3️⃣ 일코 SSAP 가능 굿즈부터 최애 이모지까지 TMI 대방출ㅣ[#블...  블립 - blip     12901   \n",
       "3  STAYC (스테이씨) PLAYLIST 2021 (ALL SONGS) | 스테이씨 ...    LQ KPOP    274756   \n",
       "4  (ENG) 1️⃣ 데뷔부터 ASAP까지! 스테이씨 비하인드 대방출ㅣ[#블립데이터연구...  블립 - blip     44003   \n",
       "\n",
       "          게시일  \n",
       "0    2021-9-6  \n",
       "1  2021-12-17  \n",
       "2  2021-12-27  \n",
       "3    2021-9-6  \n",
       "4  2021-12-20  "
      ]
     },
     "execution_count": 11,
     "metadata": {},
     "output_type": "execute_result"
    }
   ],
   "source": [
    "stayc_df.head()"
   ]
  },
  {
   "cell_type": "code",
   "execution_count": 12,
   "id": "19e6871c",
   "metadata": {
    "ExecuteTime": {
     "end_time": "2021-12-29T13:26:15.346462Z",
     "start_time": "2021-12-29T13:26:15.332444Z"
    }
   },
   "outputs": [],
   "source": [
    "stayc_df['게시일'] = pd.to_datetime(stayc_df['게시일'])"
   ]
  },
  {
   "cell_type": "code",
   "execution_count": 13,
   "id": "2a78d4ed",
   "metadata": {
    "ExecuteTime": {
     "end_time": "2021-12-29T13:26:15.361476Z",
     "start_time": "2021-12-29T13:26:15.347461Z"
    }
   },
   "outputs": [],
   "source": [
    "stayc_df.to_csv('./data/stacy_youtube_preprocessed.csv',encoding='utf-8-sig',index=False)"
   ]
  }
 ],
 "metadata": {
  "kernelspec": {
   "display_name": "Python 3 (ipykernel)",
   "language": "python",
   "name": "python3"
  },
  "language_info": {
   "codemirror_mode": {
    "name": "ipython",
    "version": 3
   },
   "file_extension": ".py",
   "mimetype": "text/x-python",
   "name": "python",
   "nbconvert_exporter": "python",
   "pygments_lexer": "ipython3",
   "version": "3.7.11"
  },
  "toc": {
   "base_numbering": 1,
   "nav_menu": {},
   "number_sections": true,
   "sideBar": true,
   "skip_h1_title": false,
   "title_cell": "Table of Contents",
   "title_sidebar": "Contents",
   "toc_cell": false,
   "toc_position": {},
   "toc_section_display": true,
   "toc_window_display": false
  },
  "varInspector": {
   "cols": {
    "lenName": 16,
    "lenType": 16,
    "lenVar": 40
   },
   "kernels_config": {
    "python": {
     "delete_cmd_postfix": "",
     "delete_cmd_prefix": "del ",
     "library": "var_list.py",
     "varRefreshCmd": "print(var_dic_list())"
    },
    "r": {
     "delete_cmd_postfix": ") ",
     "delete_cmd_prefix": "rm(",
     "library": "var_list.r",
     "varRefreshCmd": "cat(var_dic_list()) "
    }
   },
   "types_to_exclude": [
    "module",
    "function",
    "builtin_function_or_method",
    "instance",
    "_Feature"
   ],
   "window_display": false
  }
 },
 "nbformat": 4,
 "nbformat_minor": 5
}
