{
 "cells": [
  {
   "cell_type": "markdown",
   "id": "09261b75",
   "metadata": {},
   "source": [
    "# 필요한 라이브러리, 데이터 로드"
   ]
  },
  {
   "cell_type": "code",
   "execution_count": 1,
   "id": "4fafbbd7",
   "metadata": {
    "ExecuteTime": {
     "end_time": "2022-01-01T07:05:49.326768Z",
     "start_time": "2022-01-01T07:05:47.496767Z"
    }
   },
   "outputs": [
    {
     "data": {
      "text/html": [
       "        <script type=\"text/javascript\">\n",
       "        window.PlotlyConfig = {MathJaxConfig: 'local'};\n",
       "        if (window.MathJax) {MathJax.Hub.Config({SVG: {font: \"STIX-Web\"}});}\n",
       "        if (typeof require !== 'undefined') {\n",
       "        require.undef(\"plotly\");\n",
       "        requirejs.config({\n",
       "            paths: {\n",
       "                'plotly': ['https://cdn.plot.ly/plotly-2.8.3.min']\n",
       "            }\n",
       "        });\n",
       "        require(['plotly'], function(Plotly) {\n",
       "            window._Plotly = Plotly;\n",
       "        });\n",
       "        }\n",
       "        </script>\n",
       "        "
      ]
     },
     "metadata": {},
     "output_type": "display_data"
    }
   ],
   "source": [
    "import pandas as pd\n",
    "import re\n",
    "pd.options.plotting.backend = \"plotly\"\n",
    "import cufflinks as cf\n",
    "cf.go_offline(connected=True)\n",
    "from more_itertools import locate,replace"
   ]
  },
  {
   "cell_type": "code",
   "execution_count": 2,
   "id": "c0f3325c",
   "metadata": {
    "ExecuteTime": {
     "end_time": "2022-01-01T07:05:49.356768Z",
     "start_time": "2022-01-01T07:05:49.331768Z"
    }
   },
   "outputs": [
    {
     "data": {
      "text/html": [
       "<div>\n",
       "<style scoped>\n",
       "    .dataframe tbody tr th:only-of-type {\n",
       "        vertical-align: middle;\n",
       "    }\n",
       "\n",
       "    .dataframe tbody tr th {\n",
       "        vertical-align: top;\n",
       "    }\n",
       "\n",
       "    .dataframe thead th {\n",
       "        text-align: right;\n",
       "    }\n",
       "</style>\n",
       "<table border=\"1\" class=\"dataframe\">\n",
       "  <thead>\n",
       "    <tr style=\"text-align: right;\">\n",
       "      <th></th>\n",
       "      <th>제목</th>\n",
       "      <th>업로더</th>\n",
       "      <th>조회수</th>\n",
       "      <th>게시일</th>\n",
       "    </tr>\n",
       "  </thead>\n",
       "  <tbody>\n",
       "    <tr>\n",
       "      <th>0</th>\n",
       "      <td>엠넷 재팬 MC 本田仁美 혼다히토미 아이즈원 언급 한글자막</td>\n",
       "      <td>곽군테레비 郭君テレビ</td>\n",
       "      <td>11330</td>\n",
       "      <td>2021-12-28</td>\n",
       "    </tr>\n",
       "    <tr>\n",
       "      <th>1</th>\n",
       "      <td>아이즈원</td>\n",
       "      <td>강민혁 X 차누</td>\n",
       "      <td>3727913</td>\n",
       "      <td>2021-03-25</td>\n",
       "    </tr>\n",
       "    <tr>\n",
       "      <th>2</th>\n",
       "      <td>🎵 아이즈원 (IZONE) 노래모음 추천곡 (라비앙로즈, FIESTA, 비올레타, ...</td>\n",
       "      <td>박승오리 Box</td>\n",
       "      <td>158297</td>\n",
       "      <td>2020-11-05</td>\n",
       "    </tr>\n",
       "    <tr>\n",
       "      <th>3</th>\n",
       "      <td>아이즈원(IZ*ONE) - Panorama(파노라마) 교차편집(stage mix)</td>\n",
       "      <td>강민혁 X 차누</td>\n",
       "      <td>5157126</td>\n",
       "      <td>2021-03-24</td>\n",
       "    </tr>\n",
       "    <tr>\n",
       "      <th>4</th>\n",
       "      <td>IZ*ONE (아이즈원) 'Panorama' MV</td>\n",
       "      <td>Stone Music Entertainment</td>\n",
       "      <td>69191968</td>\n",
       "      <td>2020-12-07</td>\n",
       "    </tr>\n",
       "    <tr>\n",
       "      <th>...</th>\n",
       "      <td>...</td>\n",
       "      <td>...</td>\n",
       "      <td>...</td>\n",
       "      <td>...</td>\n",
       "    </tr>\n",
       "    <tr>\n",
       "      <th>523</th>\n",
       "      <td>[아이즈원]은비 당황, LA에도 내 취향은 없어요</td>\n",
       "      <td>쌈조TV3</td>\n",
       "      <td>2553</td>\n",
       "      <td>2021-12-31</td>\n",
       "    </tr>\n",
       "    <tr>\n",
       "      <th>524</th>\n",
       "      <td>[아이즈원]초딩실직, 너무 귀여운 예나</td>\n",
       "      <td>쌈조TV3</td>\n",
       "      <td>2035</td>\n",
       "      <td>2021-12-31</td>\n",
       "    </tr>\n",
       "    <tr>\n",
       "      <th>525</th>\n",
       "      <td>2021년 베스트 걸그룹 1위!! 아이즈원 삼성동 광고</td>\n",
       "      <td>곽군테레비 郭君テレビ</td>\n",
       "      <td>1916</td>\n",
       "      <td>2021-12-29</td>\n",
       "    </tr>\n",
       "    <tr>\n",
       "      <th>526</th>\n",
       "      <td>[아이즈원]드디어 뭉쳤다 3사 MC즈!</td>\n",
       "      <td>쌈조TV3</td>\n",
       "      <td>22516</td>\n",
       "      <td>2021-12-31</td>\n",
       "    </tr>\n",
       "    <tr>\n",
       "      <th>527</th>\n",
       "      <td>아이즈원 굿즈 판매! 완전 싸게 처분!</td>\n",
       "      <td>아쪼</td>\n",
       "      <td>26</td>\n",
       "      <td>2021-12-30</td>\n",
       "    </tr>\n",
       "  </tbody>\n",
       "</table>\n",
       "<p>528 rows × 4 columns</p>\n",
       "</div>"
      ],
      "text/plain": [
       "                                                    제목  \\\n",
       "0                     엠넷 재팬 MC 本田仁美 혼다히토미 아이즈원 언급 한글자막   \n",
       "1                                                 아이즈원   \n",
       "2    🎵 아이즈원 (IZONE) 노래모음 추천곡 (라비앙로즈, FIESTA, 비올레타, ...   \n",
       "3        아이즈원(IZ*ONE) - Panorama(파노라마) 교차편집(stage mix)   \n",
       "4                          IZ*ONE (아이즈원) 'Panorama' MV   \n",
       "..                                                 ...   \n",
       "523                        [아이즈원]은비 당황, LA에도 내 취향은 없어요   \n",
       "524                              [아이즈원]초딩실직, 너무 귀여운 예나   \n",
       "525                     2021년 베스트 걸그룹 1위!! 아이즈원 삼성동 광고   \n",
       "526                              [아이즈원]드디어 뭉쳤다 3사 MC즈!   \n",
       "527                              아이즈원 굿즈 판매! 완전 싸게 처분!   \n",
       "\n",
       "                           업로더       조회수         게시일  \n",
       "0                  곽군테레비 郭君テレビ     11330  2021-12-28  \n",
       "1                     강민혁 X 차누   3727913  2021-03-25  \n",
       "2                     박승오리 Box    158297  2020-11-05  \n",
       "3                     강민혁 X 차누   5157126  2021-03-24  \n",
       "4    Stone Music Entertainment  69191968  2020-12-07  \n",
       "..                         ...       ...         ...  \n",
       "523                      쌈조TV3      2553  2021-12-31  \n",
       "524                      쌈조TV3      2035  2021-12-31  \n",
       "525                곽군테레비 郭君テレビ      1916  2021-12-29  \n",
       "526                      쌈조TV3     22516  2021-12-31  \n",
       "527                         아쪼        26  2021-12-30  \n",
       "\n",
       "[528 rows x 4 columns]"
      ]
     },
     "execution_count": 2,
     "metadata": {},
     "output_type": "execute_result"
    }
   ],
   "source": [
    "izone_df = pd.read_csv('./data/izone_youtube_preprocessed.csv',encoding='utf-8-sig')\n",
    "izone_df"
   ]
  },
  {
   "cell_type": "markdown",
   "id": "32b5a45a",
   "metadata": {},
   "source": [
    "# 조회수 상위 10위 유튜버"
   ]
  },
  {
   "cell_type": "code",
   "execution_count": 3,
   "id": "c5938525",
   "metadata": {
    "ExecuteTime": {
     "end_time": "2022-01-01T07:05:49.371767Z",
     "start_time": "2022-01-01T07:05:49.357767Z"
    }
   },
   "outputs": [],
   "source": [
    "izone_youtuber = izone_df['조회수'].groupby(izone_df['업로더']).sum().to_frame().sort_values(by='조회수',ascending=False).head(11)"
   ]
  },
  {
   "cell_type": "code",
   "execution_count": 4,
   "id": "6b7ceb18",
   "metadata": {
    "ExecuteTime": {
     "end_time": "2022-01-01T07:05:49.386768Z",
     "start_time": "2022-01-01T07:05:49.373767Z"
    }
   },
   "outputs": [
    {
     "data": {
      "text/html": [
       "<div>\n",
       "<style scoped>\n",
       "    .dataframe tbody tr th:only-of-type {\n",
       "        vertical-align: middle;\n",
       "    }\n",
       "\n",
       "    .dataframe tbody tr th {\n",
       "        vertical-align: top;\n",
       "    }\n",
       "\n",
       "    .dataframe thead th {\n",
       "        text-align: right;\n",
       "    }\n",
       "</style>\n",
       "<table border=\"1\" class=\"dataframe\">\n",
       "  <thead>\n",
       "    <tr style=\"text-align: right;\">\n",
       "      <th></th>\n",
       "      <th>조회수</th>\n",
       "    </tr>\n",
       "    <tr>\n",
       "      <th>업로더</th>\n",
       "      <th></th>\n",
       "    </tr>\n",
       "  </thead>\n",
       "  <tbody>\n",
       "    <tr>\n",
       "      <th>Stone Music Entertainment</th>\n",
       "      <td>504442750</td>\n",
       "    </tr>\n",
       "    <tr>\n",
       "      <th>official IZ*ONE</th>\n",
       "      <td>224430839</td>\n",
       "    </tr>\n",
       "    <tr>\n",
       "      <th>M2</th>\n",
       "      <td>200632526</td>\n",
       "    </tr>\n",
       "    <tr>\n",
       "      <th>강민혁 X 차누</th>\n",
       "      <td>48620600</td>\n",
       "    </tr>\n",
       "    <tr>\n",
       "      <th>Mnet K-POP</th>\n",
       "      <td>46965047</td>\n",
       "    </tr>\n",
       "    <tr>\n",
       "      <th>KBS Kpop</th>\n",
       "      <td>32551637</td>\n",
       "    </tr>\n",
       "    <tr>\n",
       "      <th>STUDIO CHOOM [스튜디오 춤]</th>\n",
       "      <td>26381460</td>\n",
       "    </tr>\n",
       "    <tr>\n",
       "      <th>Jaeguchi</th>\n",
       "      <td>25208289</td>\n",
       "    </tr>\n",
       "    <tr>\n",
       "      <th>그린채널</th>\n",
       "      <td>20879102</td>\n",
       "    </tr>\n",
       "    <tr>\n",
       "      <th>스브스케이팝 / SBS KPOP</th>\n",
       "      <td>19270503</td>\n",
       "    </tr>\n",
       "    <tr>\n",
       "      <th>JTBC Voyage</th>\n",
       "      <td>18101887</td>\n",
       "    </tr>\n",
       "  </tbody>\n",
       "</table>\n",
       "</div>"
      ],
      "text/plain": [
       "                                 조회수\n",
       "업로더                                 \n",
       "Stone Music Entertainment  504442750\n",
       "official IZ*ONE            224430839\n",
       "M2                         200632526\n",
       "강민혁 X 차누                    48620600\n",
       "Mnet K-POP                  46965047\n",
       "KBS Kpop                    32551637\n",
       "STUDIO CHOOM [스튜디오 춤]       26381460\n",
       "Jaeguchi                    25208289\n",
       "그린채널                        20879102\n",
       "스브스케이팝 / SBS KPOP           19270503\n",
       "JTBC Voyage                 18101887"
      ]
     },
     "execution_count": 4,
     "metadata": {},
     "output_type": "execute_result"
    }
   ],
   "source": [
    "izone_youtuber"
   ]
  },
  {
   "cell_type": "code",
   "execution_count": 5,
   "id": "692d57ea",
   "metadata": {
    "ExecuteTime": {
     "end_time": "2022-01-01T07:05:50.422766Z",
     "start_time": "2022-01-01T07:05:49.387767Z"
    }
   },
   "outputs": [
    {
     "data": {
      "application/vnd.plotly.v1+json": {
       "config": {
        "plotlyServerURL": "https://plot.ly"
       },
       "data": [
        {
         "alignmentgroup": "True",
         "hovertemplate": "variable=조회수<br>업로더=%{x}<br>value=%{y}<extra></extra>",
         "legendgroup": "조회수",
         "marker": {
          "color": "#636efa",
          "pattern": {
           "shape": ""
          }
         },
         "name": "조회수",
         "offsetgroup": "조회수",
         "orientation": "v",
         "showlegend": true,
         "textposition": "auto",
         "type": "bar",
         "x": [
          "official IZ*ONE",
          "M2",
          "강민혁 X 차누",
          "Mnet K-POP",
          "KBS Kpop",
          "STUDIO CHOOM [스튜디오 춤]",
          "Jaeguchi",
          "그린채널",
          "스브스케이팝 / SBS KPOP",
          "JTBC Voyage"
         ],
         "xaxis": "x",
         "y": [
          224430839,
          200632526,
          48620600,
          46965047,
          32551637,
          26381460,
          25208289,
          20879102,
          19270503,
          18101887
         ],
         "yaxis": "y"
        }
       ],
       "layout": {
        "barmode": "relative",
        "legend": {
         "title": {
          "text": "variable"
         },
         "tracegroupgap": 0
        },
        "margin": {
         "t": 60
        },
        "template": {
         "data": {
          "bar": [
           {
            "error_x": {
             "color": "#2a3f5f"
            },
            "error_y": {
             "color": "#2a3f5f"
            },
            "marker": {
             "line": {
              "color": "#E5ECF6",
              "width": 0.5
             },
             "pattern": {
              "fillmode": "overlay",
              "size": 10,
              "solidity": 0.2
             }
            },
            "type": "bar"
           }
          ],
          "barpolar": [
           {
            "marker": {
             "line": {
              "color": "#E5ECF6",
              "width": 0.5
             },
             "pattern": {
              "fillmode": "overlay",
              "size": 10,
              "solidity": 0.2
             }
            },
            "type": "barpolar"
           }
          ],
          "carpet": [
           {
            "aaxis": {
             "endlinecolor": "#2a3f5f",
             "gridcolor": "white",
             "linecolor": "white",
             "minorgridcolor": "white",
             "startlinecolor": "#2a3f5f"
            },
            "baxis": {
             "endlinecolor": "#2a3f5f",
             "gridcolor": "white",
             "linecolor": "white",
             "minorgridcolor": "white",
             "startlinecolor": "#2a3f5f"
            },
            "type": "carpet"
           }
          ],
          "choropleth": [
           {
            "colorbar": {
             "outlinewidth": 0,
             "ticks": ""
            },
            "type": "choropleth"
           }
          ],
          "contour": [
           {
            "colorbar": {
             "outlinewidth": 0,
             "ticks": ""
            },
            "colorscale": [
             [
              0,
              "#0d0887"
             ],
             [
              0.1111111111111111,
              "#46039f"
             ],
             [
              0.2222222222222222,
              "#7201a8"
             ],
             [
              0.3333333333333333,
              "#9c179e"
             ],
             [
              0.4444444444444444,
              "#bd3786"
             ],
             [
              0.5555555555555556,
              "#d8576b"
             ],
             [
              0.6666666666666666,
              "#ed7953"
             ],
             [
              0.7777777777777778,
              "#fb9f3a"
             ],
             [
              0.8888888888888888,
              "#fdca26"
             ],
             [
              1,
              "#f0f921"
             ]
            ],
            "type": "contour"
           }
          ],
          "contourcarpet": [
           {
            "colorbar": {
             "outlinewidth": 0,
             "ticks": ""
            },
            "type": "contourcarpet"
           }
          ],
          "heatmap": [
           {
            "colorbar": {
             "outlinewidth": 0,
             "ticks": ""
            },
            "colorscale": [
             [
              0,
              "#0d0887"
             ],
             [
              0.1111111111111111,
              "#46039f"
             ],
             [
              0.2222222222222222,
              "#7201a8"
             ],
             [
              0.3333333333333333,
              "#9c179e"
             ],
             [
              0.4444444444444444,
              "#bd3786"
             ],
             [
              0.5555555555555556,
              "#d8576b"
             ],
             [
              0.6666666666666666,
              "#ed7953"
             ],
             [
              0.7777777777777778,
              "#fb9f3a"
             ],
             [
              0.8888888888888888,
              "#fdca26"
             ],
             [
              1,
              "#f0f921"
             ]
            ],
            "type": "heatmap"
           }
          ],
          "heatmapgl": [
           {
            "colorbar": {
             "outlinewidth": 0,
             "ticks": ""
            },
            "colorscale": [
             [
              0,
              "#0d0887"
             ],
             [
              0.1111111111111111,
              "#46039f"
             ],
             [
              0.2222222222222222,
              "#7201a8"
             ],
             [
              0.3333333333333333,
              "#9c179e"
             ],
             [
              0.4444444444444444,
              "#bd3786"
             ],
             [
              0.5555555555555556,
              "#d8576b"
             ],
             [
              0.6666666666666666,
              "#ed7953"
             ],
             [
              0.7777777777777778,
              "#fb9f3a"
             ],
             [
              0.8888888888888888,
              "#fdca26"
             ],
             [
              1,
              "#f0f921"
             ]
            ],
            "type": "heatmapgl"
           }
          ],
          "histogram": [
           {
            "marker": {
             "pattern": {
              "fillmode": "overlay",
              "size": 10,
              "solidity": 0.2
             }
            },
            "type": "histogram"
           }
          ],
          "histogram2d": [
           {
            "colorbar": {
             "outlinewidth": 0,
             "ticks": ""
            },
            "colorscale": [
             [
              0,
              "#0d0887"
             ],
             [
              0.1111111111111111,
              "#46039f"
             ],
             [
              0.2222222222222222,
              "#7201a8"
             ],
             [
              0.3333333333333333,
              "#9c179e"
             ],
             [
              0.4444444444444444,
              "#bd3786"
             ],
             [
              0.5555555555555556,
              "#d8576b"
             ],
             [
              0.6666666666666666,
              "#ed7953"
             ],
             [
              0.7777777777777778,
              "#fb9f3a"
             ],
             [
              0.8888888888888888,
              "#fdca26"
             ],
             [
              1,
              "#f0f921"
             ]
            ],
            "type": "histogram2d"
           }
          ],
          "histogram2dcontour": [
           {
            "colorbar": {
             "outlinewidth": 0,
             "ticks": ""
            },
            "colorscale": [
             [
              0,
              "#0d0887"
             ],
             [
              0.1111111111111111,
              "#46039f"
             ],
             [
              0.2222222222222222,
              "#7201a8"
             ],
             [
              0.3333333333333333,
              "#9c179e"
             ],
             [
              0.4444444444444444,
              "#bd3786"
             ],
             [
              0.5555555555555556,
              "#d8576b"
             ],
             [
              0.6666666666666666,
              "#ed7953"
             ],
             [
              0.7777777777777778,
              "#fb9f3a"
             ],
             [
              0.8888888888888888,
              "#fdca26"
             ],
             [
              1,
              "#f0f921"
             ]
            ],
            "type": "histogram2dcontour"
           }
          ],
          "mesh3d": [
           {
            "colorbar": {
             "outlinewidth": 0,
             "ticks": ""
            },
            "type": "mesh3d"
           }
          ],
          "parcoords": [
           {
            "line": {
             "colorbar": {
              "outlinewidth": 0,
              "ticks": ""
             }
            },
            "type": "parcoords"
           }
          ],
          "pie": [
           {
            "automargin": true,
            "type": "pie"
           }
          ],
          "scatter": [
           {
            "marker": {
             "colorbar": {
              "outlinewidth": 0,
              "ticks": ""
             }
            },
            "type": "scatter"
           }
          ],
          "scatter3d": [
           {
            "line": {
             "colorbar": {
              "outlinewidth": 0,
              "ticks": ""
             }
            },
            "marker": {
             "colorbar": {
              "outlinewidth": 0,
              "ticks": ""
             }
            },
            "type": "scatter3d"
           }
          ],
          "scattercarpet": [
           {
            "marker": {
             "colorbar": {
              "outlinewidth": 0,
              "ticks": ""
             }
            },
            "type": "scattercarpet"
           }
          ],
          "scattergeo": [
           {
            "marker": {
             "colorbar": {
              "outlinewidth": 0,
              "ticks": ""
             }
            },
            "type": "scattergeo"
           }
          ],
          "scattergl": [
           {
            "marker": {
             "colorbar": {
              "outlinewidth": 0,
              "ticks": ""
             }
            },
            "type": "scattergl"
           }
          ],
          "scattermapbox": [
           {
            "marker": {
             "colorbar": {
              "outlinewidth": 0,
              "ticks": ""
             }
            },
            "type": "scattermapbox"
           }
          ],
          "scatterpolar": [
           {
            "marker": {
             "colorbar": {
              "outlinewidth": 0,
              "ticks": ""
             }
            },
            "type": "scatterpolar"
           }
          ],
          "scatterpolargl": [
           {
            "marker": {
             "colorbar": {
              "outlinewidth": 0,
              "ticks": ""
             }
            },
            "type": "scatterpolargl"
           }
          ],
          "scatterternary": [
           {
            "marker": {
             "colorbar": {
              "outlinewidth": 0,
              "ticks": ""
             }
            },
            "type": "scatterternary"
           }
          ],
          "surface": [
           {
            "colorbar": {
             "outlinewidth": 0,
             "ticks": ""
            },
            "colorscale": [
             [
              0,
              "#0d0887"
             ],
             [
              0.1111111111111111,
              "#46039f"
             ],
             [
              0.2222222222222222,
              "#7201a8"
             ],
             [
              0.3333333333333333,
              "#9c179e"
             ],
             [
              0.4444444444444444,
              "#bd3786"
             ],
             [
              0.5555555555555556,
              "#d8576b"
             ],
             [
              0.6666666666666666,
              "#ed7953"
             ],
             [
              0.7777777777777778,
              "#fb9f3a"
             ],
             [
              0.8888888888888888,
              "#fdca26"
             ],
             [
              1,
              "#f0f921"
             ]
            ],
            "type": "surface"
           }
          ],
          "table": [
           {
            "cells": {
             "fill": {
              "color": "#EBF0F8"
             },
             "line": {
              "color": "white"
             }
            },
            "header": {
             "fill": {
              "color": "#C8D4E3"
             },
             "line": {
              "color": "white"
             }
            },
            "type": "table"
           }
          ]
         },
         "layout": {
          "annotationdefaults": {
           "arrowcolor": "#2a3f5f",
           "arrowhead": 0,
           "arrowwidth": 1
          },
          "autotypenumbers": "strict",
          "coloraxis": {
           "colorbar": {
            "outlinewidth": 0,
            "ticks": ""
           }
          },
          "colorscale": {
           "diverging": [
            [
             0,
             "#8e0152"
            ],
            [
             0.1,
             "#c51b7d"
            ],
            [
             0.2,
             "#de77ae"
            ],
            [
             0.3,
             "#f1b6da"
            ],
            [
             0.4,
             "#fde0ef"
            ],
            [
             0.5,
             "#f7f7f7"
            ],
            [
             0.6,
             "#e6f5d0"
            ],
            [
             0.7,
             "#b8e186"
            ],
            [
             0.8,
             "#7fbc41"
            ],
            [
             0.9,
             "#4d9221"
            ],
            [
             1,
             "#276419"
            ]
           ],
           "sequential": [
            [
             0,
             "#0d0887"
            ],
            [
             0.1111111111111111,
             "#46039f"
            ],
            [
             0.2222222222222222,
             "#7201a8"
            ],
            [
             0.3333333333333333,
             "#9c179e"
            ],
            [
             0.4444444444444444,
             "#bd3786"
            ],
            [
             0.5555555555555556,
             "#d8576b"
            ],
            [
             0.6666666666666666,
             "#ed7953"
            ],
            [
             0.7777777777777778,
             "#fb9f3a"
            ],
            [
             0.8888888888888888,
             "#fdca26"
            ],
            [
             1,
             "#f0f921"
            ]
           ],
           "sequentialminus": [
            [
             0,
             "#0d0887"
            ],
            [
             0.1111111111111111,
             "#46039f"
            ],
            [
             0.2222222222222222,
             "#7201a8"
            ],
            [
             0.3333333333333333,
             "#9c179e"
            ],
            [
             0.4444444444444444,
             "#bd3786"
            ],
            [
             0.5555555555555556,
             "#d8576b"
            ],
            [
             0.6666666666666666,
             "#ed7953"
            ],
            [
             0.7777777777777778,
             "#fb9f3a"
            ],
            [
             0.8888888888888888,
             "#fdca26"
            ],
            [
             1,
             "#f0f921"
            ]
           ]
          },
          "colorway": [
           "#636efa",
           "#EF553B",
           "#00cc96",
           "#ab63fa",
           "#FFA15A",
           "#19d3f3",
           "#FF6692",
           "#B6E880",
           "#FF97FF",
           "#FECB52"
          ],
          "font": {
           "color": "#2a3f5f"
          },
          "geo": {
           "bgcolor": "white",
           "lakecolor": "white",
           "landcolor": "#E5ECF6",
           "showlakes": true,
           "showland": true,
           "subunitcolor": "white"
          },
          "hoverlabel": {
           "align": "left"
          },
          "hovermode": "closest",
          "mapbox": {
           "style": "light"
          },
          "paper_bgcolor": "white",
          "plot_bgcolor": "#E5ECF6",
          "polar": {
           "angularaxis": {
            "gridcolor": "white",
            "linecolor": "white",
            "ticks": ""
           },
           "bgcolor": "#E5ECF6",
           "radialaxis": {
            "gridcolor": "white",
            "linecolor": "white",
            "ticks": ""
           }
          },
          "scene": {
           "xaxis": {
            "backgroundcolor": "#E5ECF6",
            "gridcolor": "white",
            "gridwidth": 2,
            "linecolor": "white",
            "showbackground": true,
            "ticks": "",
            "zerolinecolor": "white"
           },
           "yaxis": {
            "backgroundcolor": "#E5ECF6",
            "gridcolor": "white",
            "gridwidth": 2,
            "linecolor": "white",
            "showbackground": true,
            "ticks": "",
            "zerolinecolor": "white"
           },
           "zaxis": {
            "backgroundcolor": "#E5ECF6",
            "gridcolor": "white",
            "gridwidth": 2,
            "linecolor": "white",
            "showbackground": true,
            "ticks": "",
            "zerolinecolor": "white"
           }
          },
          "shapedefaults": {
           "line": {
            "color": "#2a3f5f"
           }
          },
          "ternary": {
           "aaxis": {
            "gridcolor": "white",
            "linecolor": "white",
            "ticks": ""
           },
           "baxis": {
            "gridcolor": "white",
            "linecolor": "white",
            "ticks": ""
           },
           "bgcolor": "#E5ECF6",
           "caxis": {
            "gridcolor": "white",
            "linecolor": "white",
            "ticks": ""
           }
          },
          "title": {
           "x": 0.05
          },
          "xaxis": {
           "automargin": true,
           "gridcolor": "white",
           "linecolor": "white",
           "ticks": "",
           "title": {
            "standoff": 15
           },
           "zerolinecolor": "white",
           "zerolinewidth": 2
          },
          "yaxis": {
           "automargin": true,
           "gridcolor": "white",
           "linecolor": "white",
           "ticks": "",
           "title": {
            "standoff": 15
           },
           "zerolinecolor": "white",
           "zerolinewidth": 2
          }
         }
        },
        "xaxis": {
         "anchor": "y",
         "domain": [
          0,
          1
         ],
         "title": {
          "text": "업로더"
         }
        },
        "yaxis": {
         "anchor": "x",
         "domain": [
          0,
          1
         ],
         "title": {
          "text": "value"
         }
        }
       }
      },
      "text/html": [
       "<div>                            <div id=\"6ea53094-fd1e-4972-b974-5a40a286d5d8\" class=\"plotly-graph-div\" style=\"height:525px; width:100%;\"></div>            <script type=\"text/javascript\">                require([\"plotly\"], function(Plotly) {                    window.PLOTLYENV=window.PLOTLYENV || {};                                    if (document.getElementById(\"6ea53094-fd1e-4972-b974-5a40a286d5d8\")) {                    Plotly.newPlot(                        \"6ea53094-fd1e-4972-b974-5a40a286d5d8\",                        [{\"alignmentgroup\":\"True\",\"hovertemplate\":\"variable=\\uc870\\ud68c\\uc218<br>\\uc5c5\\ub85c\\ub354=%{x}<br>value=%{y}<extra></extra>\",\"legendgroup\":\"\\uc870\\ud68c\\uc218\",\"marker\":{\"color\":\"#636efa\",\"pattern\":{\"shape\":\"\"}},\"name\":\"\\uc870\\ud68c\\uc218\",\"offsetgroup\":\"\\uc870\\ud68c\\uc218\",\"orientation\":\"v\",\"showlegend\":true,\"textposition\":\"auto\",\"x\":[\"official IZ*ONE\",\"M2\",\"\\uac15\\ubbfc\\ud601 X \\ucc28\\ub204\",\"Mnet K-POP\",\"KBS Kpop\",\"STUDIO CHOOM [\\uc2a4\\ud29c\\ub514\\uc624 \\ucda4]\",\"Jaeguchi\",\"\\uadf8\\ub9b0\\ucc44\\ub110\",\"\\uc2a4\\ube0c\\uc2a4\\ucf00\\uc774\\ud31d / SBS KPOP\",\"JTBC Voyage\"],\"xaxis\":\"x\",\"y\":[224430839,200632526,48620600,46965047,32551637,26381460,25208289,20879102,19270503,18101887],\"yaxis\":\"y\",\"type\":\"bar\"}],                        {\"template\":{\"data\":{\"bar\":[{\"error_x\":{\"color\":\"#2a3f5f\"},\"error_y\":{\"color\":\"#2a3f5f\"},\"marker\":{\"line\":{\"color\":\"#E5ECF6\",\"width\":0.5},\"pattern\":{\"fillmode\":\"overlay\",\"size\":10,\"solidity\":0.2}},\"type\":\"bar\"}],\"barpolar\":[{\"marker\":{\"line\":{\"color\":\"#E5ECF6\",\"width\":0.5},\"pattern\":{\"fillmode\":\"overlay\",\"size\":10,\"solidity\":0.2}},\"type\":\"barpolar\"}],\"carpet\":[{\"aaxis\":{\"endlinecolor\":\"#2a3f5f\",\"gridcolor\":\"white\",\"linecolor\":\"white\",\"minorgridcolor\":\"white\",\"startlinecolor\":\"#2a3f5f\"},\"baxis\":{\"endlinecolor\":\"#2a3f5f\",\"gridcolor\":\"white\",\"linecolor\":\"white\",\"minorgridcolor\":\"white\",\"startlinecolor\":\"#2a3f5f\"},\"type\":\"carpet\"}],\"choropleth\":[{\"colorbar\":{\"outlinewidth\":0,\"ticks\":\"\"},\"type\":\"choropleth\"}],\"contour\":[{\"colorbar\":{\"outlinewidth\":0,\"ticks\":\"\"},\"colorscale\":[[0.0,\"#0d0887\"],[0.1111111111111111,\"#46039f\"],[0.2222222222222222,\"#7201a8\"],[0.3333333333333333,\"#9c179e\"],[0.4444444444444444,\"#bd3786\"],[0.5555555555555556,\"#d8576b\"],[0.6666666666666666,\"#ed7953\"],[0.7777777777777778,\"#fb9f3a\"],[0.8888888888888888,\"#fdca26\"],[1.0,\"#f0f921\"]],\"type\":\"contour\"}],\"contourcarpet\":[{\"colorbar\":{\"outlinewidth\":0,\"ticks\":\"\"},\"type\":\"contourcarpet\"}],\"heatmap\":[{\"colorbar\":{\"outlinewidth\":0,\"ticks\":\"\"},\"colorscale\":[[0.0,\"#0d0887\"],[0.1111111111111111,\"#46039f\"],[0.2222222222222222,\"#7201a8\"],[0.3333333333333333,\"#9c179e\"],[0.4444444444444444,\"#bd3786\"],[0.5555555555555556,\"#d8576b\"],[0.6666666666666666,\"#ed7953\"],[0.7777777777777778,\"#fb9f3a\"],[0.8888888888888888,\"#fdca26\"],[1.0,\"#f0f921\"]],\"type\":\"heatmap\"}],\"heatmapgl\":[{\"colorbar\":{\"outlinewidth\":0,\"ticks\":\"\"},\"colorscale\":[[0.0,\"#0d0887\"],[0.1111111111111111,\"#46039f\"],[0.2222222222222222,\"#7201a8\"],[0.3333333333333333,\"#9c179e\"],[0.4444444444444444,\"#bd3786\"],[0.5555555555555556,\"#d8576b\"],[0.6666666666666666,\"#ed7953\"],[0.7777777777777778,\"#fb9f3a\"],[0.8888888888888888,\"#fdca26\"],[1.0,\"#f0f921\"]],\"type\":\"heatmapgl\"}],\"histogram\":[{\"marker\":{\"pattern\":{\"fillmode\":\"overlay\",\"size\":10,\"solidity\":0.2}},\"type\":\"histogram\"}],\"histogram2d\":[{\"colorbar\":{\"outlinewidth\":0,\"ticks\":\"\"},\"colorscale\":[[0.0,\"#0d0887\"],[0.1111111111111111,\"#46039f\"],[0.2222222222222222,\"#7201a8\"],[0.3333333333333333,\"#9c179e\"],[0.4444444444444444,\"#bd3786\"],[0.5555555555555556,\"#d8576b\"],[0.6666666666666666,\"#ed7953\"],[0.7777777777777778,\"#fb9f3a\"],[0.8888888888888888,\"#fdca26\"],[1.0,\"#f0f921\"]],\"type\":\"histogram2d\"}],\"histogram2dcontour\":[{\"colorbar\":{\"outlinewidth\":0,\"ticks\":\"\"},\"colorscale\":[[0.0,\"#0d0887\"],[0.1111111111111111,\"#46039f\"],[0.2222222222222222,\"#7201a8\"],[0.3333333333333333,\"#9c179e\"],[0.4444444444444444,\"#bd3786\"],[0.5555555555555556,\"#d8576b\"],[0.6666666666666666,\"#ed7953\"],[0.7777777777777778,\"#fb9f3a\"],[0.8888888888888888,\"#fdca26\"],[1.0,\"#f0f921\"]],\"type\":\"histogram2dcontour\"}],\"mesh3d\":[{\"colorbar\":{\"outlinewidth\":0,\"ticks\":\"\"},\"type\":\"mesh3d\"}],\"parcoords\":[{\"line\":{\"colorbar\":{\"outlinewidth\":0,\"ticks\":\"\"}},\"type\":\"parcoords\"}],\"pie\":[{\"automargin\":true,\"type\":\"pie\"}],\"scatter\":[{\"marker\":{\"colorbar\":{\"outlinewidth\":0,\"ticks\":\"\"}},\"type\":\"scatter\"}],\"scatter3d\":[{\"line\":{\"colorbar\":{\"outlinewidth\":0,\"ticks\":\"\"}},\"marker\":{\"colorbar\":{\"outlinewidth\":0,\"ticks\":\"\"}},\"type\":\"scatter3d\"}],\"scattercarpet\":[{\"marker\":{\"colorbar\":{\"outlinewidth\":0,\"ticks\":\"\"}},\"type\":\"scattercarpet\"}],\"scattergeo\":[{\"marker\":{\"colorbar\":{\"outlinewidth\":0,\"ticks\":\"\"}},\"type\":\"scattergeo\"}],\"scattergl\":[{\"marker\":{\"colorbar\":{\"outlinewidth\":0,\"ticks\":\"\"}},\"type\":\"scattergl\"}],\"scattermapbox\":[{\"marker\":{\"colorbar\":{\"outlinewidth\":0,\"ticks\":\"\"}},\"type\":\"scattermapbox\"}],\"scatterpolar\":[{\"marker\":{\"colorbar\":{\"outlinewidth\":0,\"ticks\":\"\"}},\"type\":\"scatterpolar\"}],\"scatterpolargl\":[{\"marker\":{\"colorbar\":{\"outlinewidth\":0,\"ticks\":\"\"}},\"type\":\"scatterpolargl\"}],\"scatterternary\":[{\"marker\":{\"colorbar\":{\"outlinewidth\":0,\"ticks\":\"\"}},\"type\":\"scatterternary\"}],\"surface\":[{\"colorbar\":{\"outlinewidth\":0,\"ticks\":\"\"},\"colorscale\":[[0.0,\"#0d0887\"],[0.1111111111111111,\"#46039f\"],[0.2222222222222222,\"#7201a8\"],[0.3333333333333333,\"#9c179e\"],[0.4444444444444444,\"#bd3786\"],[0.5555555555555556,\"#d8576b\"],[0.6666666666666666,\"#ed7953\"],[0.7777777777777778,\"#fb9f3a\"],[0.8888888888888888,\"#fdca26\"],[1.0,\"#f0f921\"]],\"type\":\"surface\"}],\"table\":[{\"cells\":{\"fill\":{\"color\":\"#EBF0F8\"},\"line\":{\"color\":\"white\"}},\"header\":{\"fill\":{\"color\":\"#C8D4E3\"},\"line\":{\"color\":\"white\"}},\"type\":\"table\"}]},\"layout\":{\"annotationdefaults\":{\"arrowcolor\":\"#2a3f5f\",\"arrowhead\":0,\"arrowwidth\":1},\"autotypenumbers\":\"strict\",\"coloraxis\":{\"colorbar\":{\"outlinewidth\":0,\"ticks\":\"\"}},\"colorscale\":{\"diverging\":[[0,\"#8e0152\"],[0.1,\"#c51b7d\"],[0.2,\"#de77ae\"],[0.3,\"#f1b6da\"],[0.4,\"#fde0ef\"],[0.5,\"#f7f7f7\"],[0.6,\"#e6f5d0\"],[0.7,\"#b8e186\"],[0.8,\"#7fbc41\"],[0.9,\"#4d9221\"],[1,\"#276419\"]],\"sequential\":[[0.0,\"#0d0887\"],[0.1111111111111111,\"#46039f\"],[0.2222222222222222,\"#7201a8\"],[0.3333333333333333,\"#9c179e\"],[0.4444444444444444,\"#bd3786\"],[0.5555555555555556,\"#d8576b\"],[0.6666666666666666,\"#ed7953\"],[0.7777777777777778,\"#fb9f3a\"],[0.8888888888888888,\"#fdca26\"],[1.0,\"#f0f921\"]],\"sequentialminus\":[[0.0,\"#0d0887\"],[0.1111111111111111,\"#46039f\"],[0.2222222222222222,\"#7201a8\"],[0.3333333333333333,\"#9c179e\"],[0.4444444444444444,\"#bd3786\"],[0.5555555555555556,\"#d8576b\"],[0.6666666666666666,\"#ed7953\"],[0.7777777777777778,\"#fb9f3a\"],[0.8888888888888888,\"#fdca26\"],[1.0,\"#f0f921\"]]},\"colorway\":[\"#636efa\",\"#EF553B\",\"#00cc96\",\"#ab63fa\",\"#FFA15A\",\"#19d3f3\",\"#FF6692\",\"#B6E880\",\"#FF97FF\",\"#FECB52\"],\"font\":{\"color\":\"#2a3f5f\"},\"geo\":{\"bgcolor\":\"white\",\"lakecolor\":\"white\",\"landcolor\":\"#E5ECF6\",\"showlakes\":true,\"showland\":true,\"subunitcolor\":\"white\"},\"hoverlabel\":{\"align\":\"left\"},\"hovermode\":\"closest\",\"mapbox\":{\"style\":\"light\"},\"paper_bgcolor\":\"white\",\"plot_bgcolor\":\"#E5ECF6\",\"polar\":{\"angularaxis\":{\"gridcolor\":\"white\",\"linecolor\":\"white\",\"ticks\":\"\"},\"bgcolor\":\"#E5ECF6\",\"radialaxis\":{\"gridcolor\":\"white\",\"linecolor\":\"white\",\"ticks\":\"\"}},\"scene\":{\"xaxis\":{\"backgroundcolor\":\"#E5ECF6\",\"gridcolor\":\"white\",\"gridwidth\":2,\"linecolor\":\"white\",\"showbackground\":true,\"ticks\":\"\",\"zerolinecolor\":\"white\"},\"yaxis\":{\"backgroundcolor\":\"#E5ECF6\",\"gridcolor\":\"white\",\"gridwidth\":2,\"linecolor\":\"white\",\"showbackground\":true,\"ticks\":\"\",\"zerolinecolor\":\"white\"},\"zaxis\":{\"backgroundcolor\":\"#E5ECF6\",\"gridcolor\":\"white\",\"gridwidth\":2,\"linecolor\":\"white\",\"showbackground\":true,\"ticks\":\"\",\"zerolinecolor\":\"white\"}},\"shapedefaults\":{\"line\":{\"color\":\"#2a3f5f\"}},\"ternary\":{\"aaxis\":{\"gridcolor\":\"white\",\"linecolor\":\"white\",\"ticks\":\"\"},\"baxis\":{\"gridcolor\":\"white\",\"linecolor\":\"white\",\"ticks\":\"\"},\"bgcolor\":\"#E5ECF6\",\"caxis\":{\"gridcolor\":\"white\",\"linecolor\":\"white\",\"ticks\":\"\"}},\"title\":{\"x\":0.05},\"xaxis\":{\"automargin\":true,\"gridcolor\":\"white\",\"linecolor\":\"white\",\"ticks\":\"\",\"title\":{\"standoff\":15},\"zerolinecolor\":\"white\",\"zerolinewidth\":2},\"yaxis\":{\"automargin\":true,\"gridcolor\":\"white\",\"linecolor\":\"white\",\"ticks\":\"\",\"title\":{\"standoff\":15},\"zerolinecolor\":\"white\",\"zerolinewidth\":2}}},\"xaxis\":{\"anchor\":\"y\",\"domain\":[0.0,1.0],\"title\":{\"text\":\"\\uc5c5\\ub85c\\ub354\"}},\"yaxis\":{\"anchor\":\"x\",\"domain\":[0.0,1.0],\"title\":{\"text\":\"value\"}},\"legend\":{\"title\":{\"text\":\"variable\"},\"tracegroupgap\":0},\"margin\":{\"t\":60},\"barmode\":\"relative\"},                        {\"responsive\": true}                    ).then(function(){\n",
       "                            \n",
       "var gd = document.getElementById('6ea53094-fd1e-4972-b974-5a40a286d5d8');\n",
       "var x = new MutationObserver(function (mutations, observer) {{\n",
       "        var display = window.getComputedStyle(gd).display;\n",
       "        if (!display || display === 'none') {{\n",
       "            console.log([gd, 'removed!']);\n",
       "            Plotly.purge(gd);\n",
       "            observer.disconnect();\n",
       "        }}\n",
       "}});\n",
       "\n",
       "// Listen for the removal of the full notebook cells\n",
       "var notebookContainer = gd.closest('#notebook-container');\n",
       "if (notebookContainer) {{\n",
       "    x.observe(notebookContainer, {childList: true});\n",
       "}}\n",
       "\n",
       "// Listen for the clearing of the current output cell\n",
       "var outputEl = gd.closest('.output');\n",
       "if (outputEl) {{\n",
       "    x.observe(outputEl, {childList: true});\n",
       "}}\n",
       "\n",
       "                        })                };                });            </script>        </div>"
      ]
     },
     "metadata": {},
     "output_type": "display_data"
    }
   ],
   "source": [
    "# 솔연님의 눈부신 성과\n",
    "izone_youtuber.iloc[1:].plot.bar()"
   ]
  },
  {
   "cell_type": "code",
   "execution_count": 6,
   "id": "18de0a5d",
   "metadata": {
    "ExecuteTime": {
     "end_time": "2022-01-01T07:05:50.437767Z",
     "start_time": "2022-01-01T07:05:50.423767Z"
    }
   },
   "outputs": [
    {
     "data": {
      "text/html": [
       "<div>\n",
       "<style scoped>\n",
       "    .dataframe tbody tr th:only-of-type {\n",
       "        vertical-align: middle;\n",
       "    }\n",
       "\n",
       "    .dataframe tbody tr th {\n",
       "        vertical-align: top;\n",
       "    }\n",
       "\n",
       "    .dataframe thead th {\n",
       "        text-align: right;\n",
       "    }\n",
       "</style>\n",
       "<table border=\"1\" class=\"dataframe\">\n",
       "  <thead>\n",
       "    <tr style=\"text-align: right;\">\n",
       "      <th></th>\n",
       "      <th>제목</th>\n",
       "      <th>업로더</th>\n",
       "      <th>조회수</th>\n",
       "      <th>게시일</th>\n",
       "    </tr>\n",
       "  </thead>\n",
       "  <tbody>\n",
       "    <tr>\n",
       "      <th>252</th>\n",
       "      <td>아이즈원 (IZ*ONE) Panorama (파노라마) 교차편집 (Stage Mix)</td>\n",
       "      <td>SoulYeon솔연</td>\n",
       "      <td>3659885</td>\n",
       "      <td>2021-01-02</td>\n",
       "    </tr>\n",
       "  </tbody>\n",
       "</table>\n",
       "</div>"
      ],
      "text/plain": [
       "                                                 제목         업로더      조회수  \\\n",
       "252  아이즈원 (IZ*ONE) Panorama (파노라마) 교차편집 (Stage Mix)  SoulYeon솔연  3659885   \n",
       "\n",
       "            게시일  \n",
       "252  2021-01-02  "
      ]
     },
     "execution_count": 6,
     "metadata": {},
     "output_type": "execute_result"
    }
   ],
   "source": [
    "# 교차편집 맛집\n",
    "izone_df[izone_df['업로더']=='SoulYeon솔연']"
   ]
  },
  {
   "cell_type": "markdown",
   "id": "074c70d9",
   "metadata": {},
   "source": [
    "# 조회수 분석"
   ]
  },
  {
   "cell_type": "markdown",
   "id": "e8090028",
   "metadata": {},
   "source": [
    "## MV가 높은 조회수"
   ]
  },
  {
   "cell_type": "code",
   "execution_count": 7,
   "id": "30b6b2ce",
   "metadata": {
    "ExecuteTime": {
     "end_time": "2022-01-01T07:05:50.512767Z",
     "start_time": "2022-01-01T07:05:50.438768Z"
    }
   },
   "outputs": [
    {
     "data": {
      "application/vnd.plotly.v1+json": {
       "config": {
        "plotlyServerURL": "https://plot.ly"
       },
       "data": [
        {
         "hovertemplate": "variable=조회수<br>게시일=%{x}<br>value=%{y}<extra></extra>",
         "legendgroup": "조회수",
         "line": {
          "color": "#636efa",
          "dash": "solid"
         },
         "marker": {
          "symbol": "circle"
         },
         "mode": "lines",
         "name": "조회수",
         "orientation": "v",
         "showlegend": true,
         "type": "scatter",
         "x": [
          "2018-10-05",
          "2018-10-16",
          "2018-10-19",
          "2018-10-20",
          "2018-10-26",
          "2018-10-27",
          "2018-10-29",
          "2018-10-30",
          "2018-10-31",
          "2018-11-04",
          "2018-11-05",
          "2018-11-08",
          "2018-11-09",
          "2018-11-16",
          "2018-11-18",
          "2018-11-23",
          "2018-11-28",
          "2018-12-31",
          "2019-01-04",
          "2019-01-05",
          "2019-01-07",
          "2019-01-25",
          "2019-02-01",
          "2019-02-03",
          "2019-04-01",
          "2019-04-02",
          "2019-04-04",
          "2019-04-05",
          "2019-04-07",
          "2019-04-08",
          "2019-04-12",
          "2019-04-20",
          "2019-05-04",
          "2019-05-08",
          "2019-05-12",
          "2019-05-18",
          "2019-06-10",
          "2019-06-13",
          "2019-06-16",
          "2019-07-16",
          "2019-07-25",
          "2019-08-02",
          "2019-08-22",
          "2019-08-31",
          "2019-09-03",
          "2019-09-13",
          "2019-09-17",
          "2019-09-24",
          "2019-10-16",
          "2019-10-19",
          "2019-10-29",
          "2019-12-22",
          "2020-02-12",
          "2020-02-17",
          "2020-02-18",
          "2020-02-19",
          "2020-02-20",
          "2020-02-21",
          "2020-02-22",
          "2020-02-23",
          "2020-02-28",
          "2020-02-29",
          "2020-03-02",
          "2020-03-04",
          "2020-03-06",
          "2020-03-07",
          "2020-03-08",
          "2020-03-10",
          "2020-04-11",
          "2020-05-04",
          "2020-05-24",
          "2020-06-01",
          "2020-06-03",
          "2020-06-10",
          "2020-06-11",
          "2020-06-12",
          "2020-06-15",
          "2020-06-16",
          "2020-06-18",
          "2020-06-20",
          "2020-06-21",
          "2020-06-23",
          "2020-06-24",
          "2020-06-25",
          "2020-06-26",
          "2020-06-27",
          "2020-06-28",
          "2020-06-29",
          "2020-06-30",
          "2020-07-03",
          "2020-07-04",
          "2020-07-05",
          "2020-07-07",
          "2020-07-20",
          "2020-07-25",
          "2020-08-08",
          "2020-09-09",
          "2020-09-22",
          "2020-09-23",
          "2020-09-30",
          "2020-10-01",
          "2020-10-05",
          "2020-10-07",
          "2020-10-08",
          "2020-10-10",
          "2020-10-27",
          "2020-10-29",
          "2020-10-31",
          "2020-11-05",
          "2020-11-23",
          "2020-12-02",
          "2020-12-03",
          "2020-12-05",
          "2020-12-06",
          "2020-12-07",
          "2020-12-08",
          "2020-12-09",
          "2020-12-10",
          "2020-12-11",
          "2020-12-12",
          "2020-12-13",
          "2020-12-14",
          "2020-12-15",
          "2020-12-16",
          "2020-12-17",
          "2020-12-18",
          "2020-12-19",
          "2020-12-20",
          "2020-12-25",
          "2020-12-30",
          "2020-12-31",
          "2021-01-01",
          "2021-01-02",
          "2021-01-06",
          "2021-01-08",
          "2021-01-09",
          "2021-01-15",
          "2021-01-16",
          "2021-01-20",
          "2021-01-24",
          "2021-01-26",
          "2021-01-27",
          "2021-01-28",
          "2021-01-31",
          "2021-02-01",
          "2021-02-02",
          "2021-02-08",
          "2021-02-13",
          "2021-02-15",
          "2021-02-16",
          "2021-02-18",
          "2021-02-25",
          "2021-03-04",
          "2021-03-07",
          "2021-03-13",
          "2021-03-14",
          "2021-03-15",
          "2021-03-16",
          "2021-03-17",
          "2021-03-24",
          "2021-03-25",
          "2021-03-26",
          "2021-03-27",
          "2021-03-31",
          "2021-04-02",
          "2021-04-09",
          "2021-04-18",
          "2021-04-19",
          "2021-04-23",
          "2021-04-26",
          "2021-04-29",
          "2021-05-02",
          "2021-05-05",
          "2021-05-09",
          "2021-05-17",
          "2021-05-19",
          "2021-05-29",
          "2021-05-30",
          "2021-06-05",
          "2021-06-11",
          "2021-06-12",
          "2021-06-14",
          "2021-06-15",
          "2021-06-18",
          "2021-06-19",
          "2021-06-23",
          "2021-06-27",
          "2021-06-29",
          "2021-06-30",
          "2021-07-01",
          "2021-07-03",
          "2021-07-04",
          "2021-07-06",
          "2021-07-07",
          "2021-07-09",
          "2021-07-16",
          "2021-07-17",
          "2021-07-18",
          "2021-07-21",
          "2021-07-23",
          "2021-07-29",
          "2021-07-30",
          "2021-08-03",
          "2021-08-06",
          "2021-08-07",
          "2021-08-08",
          "2021-08-09",
          "2021-08-10",
          "2021-08-12",
          "2021-08-13",
          "2021-08-17",
          "2021-08-18",
          "2021-08-19",
          "2021-08-20",
          "2021-08-22",
          "2021-08-23",
          "2021-08-27",
          "2021-09-05",
          "2021-09-07",
          "2021-09-13",
          "2021-09-14",
          "2021-09-17",
          "2021-09-23",
          "2021-10-07",
          "2021-10-11",
          "2021-10-12",
          "2021-10-13",
          "2021-10-14",
          "2021-10-15",
          "2021-10-16",
          "2021-10-23",
          "2021-10-29",
          "2021-11-11",
          "2021-11-13",
          "2021-11-14",
          "2021-11-20",
          "2021-11-21",
          "2021-11-23",
          "2021-11-24",
          "2021-11-26",
          "2021-11-28",
          "2021-11-30",
          "2021-12-03",
          "2021-12-05",
          "2021-12-06",
          "2021-12-09",
          "2021-12-11",
          "2021-12-12",
          "2021-12-13",
          "2021-12-14",
          "2021-12-17",
          "2021-12-18",
          "2021-12-19",
          "2021-12-21",
          "2021-12-22",
          "2021-12-23",
          "2021-12-24",
          "2021-12-25",
          "2021-12-26",
          "2021-12-27",
          "2021-12-28",
          "2021-12-29",
          "2021-12-30",
          "2021-12-31",
          "2022-01-01"
         ],
         "xaxis": "x",
         "y": [
          19226942,
          783094,
          6262375,
          5184354,
          848708,
          9834882,
          172050945,
          765506,
          10671534,
          18816739,
          13937237,
          7738689,
          28481942,
          2795337,
          137424,
          365842,
          16164786,
          3637788,
          384225,
          10082409,
          5791259,
          27205106,
          1323189,
          3034682,
          120366696,
          10833772,
          3526381,
          2833460,
          23960947,
          14567638,
          263122,
          3426283,
          8155677,
          1511657,
          8302657,
          6974709,
          2925937,
          15531187,
          2876492,
          9726738,
          3233846,
          2297168,
          53777,
          2623710,
          1470498,
          17795740,
          2936166,
          2288393,
          6762978,
          7895288,
          3800278,
          1605912,
          1627376,
          136821041,
          19795784,
          13363312,
          2606278,
          4278923,
          2002922,
          3645744,
          13052757,
          10446984,
          1713889,
          453784,
          8090183,
          1590424,
          808474,
          5234614,
          1817050,
          4061040,
          675104,
          2563950,
          592923,
          349930,
          1882560,
          459963,
          13208110,
          79452149,
          15201261,
          6747272,
          4213156,
          8890132,
          1020203,
          863482,
          5408005,
          1176183,
          1121926,
          990182,
          720366,
          4655391,
          297211,
          5039742,
          1268141,
          2262747,
          462520,
          6323731,
          24221,
          148081,
          49807,
          540698,
          3744449,
          11820458,
          14465256,
          161935,
          1945262,
          539802,
          1547358,
          775101,
          158297,
          90334,
          1494045,
          1264037,
          1758500,
          8048864,
          88883534,
          6689899,
          1824280,
          2341443,
          18467251,
          1693815,
          16223234,
          13614753,
          2009382,
          5762112,
          13337137,
          8649644,
          892437,
          3084463,
          2577083,
          449782,
          10991628,
          2316938,
          3659885,
          1637453,
          804912,
          366428,
          838501,
          2010703,
          381197,
          5834,
          983598,
          702546,
          1765833,
          55584,
          374171,
          2101165,
          370246,
          868681,
          1754185,
          145470,
          389519,
          4709527,
          53736,
          1233337,
          4040576,
          115973,
          346739,
          304293,
          570827,
          6111017,
          16339444,
          2983473,
          5817338,
          231009,
          1353838,
          7397,
          6112,
          1633742,
          2009879,
          108794,
          194082,
          2544805,
          1149032,
          616270,
          3760914,
          413357,
          216284,
          205599,
          415028,
          2033621,
          798625,
          679918,
          4858722,
          1041522,
          1018917,
          131506,
          903076,
          197915,
          433211,
          1248172,
          262134,
          4001797,
          867725,
          281600,
          577066,
          2250385,
          757879,
          5310686,
          358352,
          576674,
          281979,
          231843,
          309231,
          5497578,
          1527366,
          524914,
          198386,
          1112575,
          403822,
          189038,
          931756,
          49622,
          836851,
          127317,
          372224,
          408388,
          14450020,
          343121,
          1393436,
          7407,
          273226,
          8608,
          17500,
          4477221,
          83086,
          122700,
          1690198,
          26505,
          144454,
          3096489,
          13435,
          21531,
          597586,
          226225,
          167242,
          769426,
          338035,
          47420,
          1053689,
          279378,
          194221,
          576673,
          362554,
          2060843,
          126039,
          51796,
          313798,
          346875,
          240205,
          172555,
          344136,
          3247,
          460239,
          129316,
          563917,
          28649,
          13942,
          173977,
          643975,
          903884,
          59097,
          39312,
          71130,
          99626,
          6672
         ],
         "yaxis": "y"
        }
       ],
       "layout": {
        "legend": {
         "title": {
          "text": "variable"
         },
         "tracegroupgap": 0
        },
        "margin": {
         "t": 60
        },
        "template": {
         "data": {
          "bar": [
           {
            "error_x": {
             "color": "#2a3f5f"
            },
            "error_y": {
             "color": "#2a3f5f"
            },
            "marker": {
             "line": {
              "color": "#E5ECF6",
              "width": 0.5
             },
             "pattern": {
              "fillmode": "overlay",
              "size": 10,
              "solidity": 0.2
             }
            },
            "type": "bar"
           }
          ],
          "barpolar": [
           {
            "marker": {
             "line": {
              "color": "#E5ECF6",
              "width": 0.5
             },
             "pattern": {
              "fillmode": "overlay",
              "size": 10,
              "solidity": 0.2
             }
            },
            "type": "barpolar"
           }
          ],
          "carpet": [
           {
            "aaxis": {
             "endlinecolor": "#2a3f5f",
             "gridcolor": "white",
             "linecolor": "white",
             "minorgridcolor": "white",
             "startlinecolor": "#2a3f5f"
            },
            "baxis": {
             "endlinecolor": "#2a3f5f",
             "gridcolor": "white",
             "linecolor": "white",
             "minorgridcolor": "white",
             "startlinecolor": "#2a3f5f"
            },
            "type": "carpet"
           }
          ],
          "choropleth": [
           {
            "colorbar": {
             "outlinewidth": 0,
             "ticks": ""
            },
            "type": "choropleth"
           }
          ],
          "contour": [
           {
            "colorbar": {
             "outlinewidth": 0,
             "ticks": ""
            },
            "colorscale": [
             [
              0,
              "#0d0887"
             ],
             [
              0.1111111111111111,
              "#46039f"
             ],
             [
              0.2222222222222222,
              "#7201a8"
             ],
             [
              0.3333333333333333,
              "#9c179e"
             ],
             [
              0.4444444444444444,
              "#bd3786"
             ],
             [
              0.5555555555555556,
              "#d8576b"
             ],
             [
              0.6666666666666666,
              "#ed7953"
             ],
             [
              0.7777777777777778,
              "#fb9f3a"
             ],
             [
              0.8888888888888888,
              "#fdca26"
             ],
             [
              1,
              "#f0f921"
             ]
            ],
            "type": "contour"
           }
          ],
          "contourcarpet": [
           {
            "colorbar": {
             "outlinewidth": 0,
             "ticks": ""
            },
            "type": "contourcarpet"
           }
          ],
          "heatmap": [
           {
            "colorbar": {
             "outlinewidth": 0,
             "ticks": ""
            },
            "colorscale": [
             [
              0,
              "#0d0887"
             ],
             [
              0.1111111111111111,
              "#46039f"
             ],
             [
              0.2222222222222222,
              "#7201a8"
             ],
             [
              0.3333333333333333,
              "#9c179e"
             ],
             [
              0.4444444444444444,
              "#bd3786"
             ],
             [
              0.5555555555555556,
              "#d8576b"
             ],
             [
              0.6666666666666666,
              "#ed7953"
             ],
             [
              0.7777777777777778,
              "#fb9f3a"
             ],
             [
              0.8888888888888888,
              "#fdca26"
             ],
             [
              1,
              "#f0f921"
             ]
            ],
            "type": "heatmap"
           }
          ],
          "heatmapgl": [
           {
            "colorbar": {
             "outlinewidth": 0,
             "ticks": ""
            },
            "colorscale": [
             [
              0,
              "#0d0887"
             ],
             [
              0.1111111111111111,
              "#46039f"
             ],
             [
              0.2222222222222222,
              "#7201a8"
             ],
             [
              0.3333333333333333,
              "#9c179e"
             ],
             [
              0.4444444444444444,
              "#bd3786"
             ],
             [
              0.5555555555555556,
              "#d8576b"
             ],
             [
              0.6666666666666666,
              "#ed7953"
             ],
             [
              0.7777777777777778,
              "#fb9f3a"
             ],
             [
              0.8888888888888888,
              "#fdca26"
             ],
             [
              1,
              "#f0f921"
             ]
            ],
            "type": "heatmapgl"
           }
          ],
          "histogram": [
           {
            "marker": {
             "pattern": {
              "fillmode": "overlay",
              "size": 10,
              "solidity": 0.2
             }
            },
            "type": "histogram"
           }
          ],
          "histogram2d": [
           {
            "colorbar": {
             "outlinewidth": 0,
             "ticks": ""
            },
            "colorscale": [
             [
              0,
              "#0d0887"
             ],
             [
              0.1111111111111111,
              "#46039f"
             ],
             [
              0.2222222222222222,
              "#7201a8"
             ],
             [
              0.3333333333333333,
              "#9c179e"
             ],
             [
              0.4444444444444444,
              "#bd3786"
             ],
             [
              0.5555555555555556,
              "#d8576b"
             ],
             [
              0.6666666666666666,
              "#ed7953"
             ],
             [
              0.7777777777777778,
              "#fb9f3a"
             ],
             [
              0.8888888888888888,
              "#fdca26"
             ],
             [
              1,
              "#f0f921"
             ]
            ],
            "type": "histogram2d"
           }
          ],
          "histogram2dcontour": [
           {
            "colorbar": {
             "outlinewidth": 0,
             "ticks": ""
            },
            "colorscale": [
             [
              0,
              "#0d0887"
             ],
             [
              0.1111111111111111,
              "#46039f"
             ],
             [
              0.2222222222222222,
              "#7201a8"
             ],
             [
              0.3333333333333333,
              "#9c179e"
             ],
             [
              0.4444444444444444,
              "#bd3786"
             ],
             [
              0.5555555555555556,
              "#d8576b"
             ],
             [
              0.6666666666666666,
              "#ed7953"
             ],
             [
              0.7777777777777778,
              "#fb9f3a"
             ],
             [
              0.8888888888888888,
              "#fdca26"
             ],
             [
              1,
              "#f0f921"
             ]
            ],
            "type": "histogram2dcontour"
           }
          ],
          "mesh3d": [
           {
            "colorbar": {
             "outlinewidth": 0,
             "ticks": ""
            },
            "type": "mesh3d"
           }
          ],
          "parcoords": [
           {
            "line": {
             "colorbar": {
              "outlinewidth": 0,
              "ticks": ""
             }
            },
            "type": "parcoords"
           }
          ],
          "pie": [
           {
            "automargin": true,
            "type": "pie"
           }
          ],
          "scatter": [
           {
            "marker": {
             "colorbar": {
              "outlinewidth": 0,
              "ticks": ""
             }
            },
            "type": "scatter"
           }
          ],
          "scatter3d": [
           {
            "line": {
             "colorbar": {
              "outlinewidth": 0,
              "ticks": ""
             }
            },
            "marker": {
             "colorbar": {
              "outlinewidth": 0,
              "ticks": ""
             }
            },
            "type": "scatter3d"
           }
          ],
          "scattercarpet": [
           {
            "marker": {
             "colorbar": {
              "outlinewidth": 0,
              "ticks": ""
             }
            },
            "type": "scattercarpet"
           }
          ],
          "scattergeo": [
           {
            "marker": {
             "colorbar": {
              "outlinewidth": 0,
              "ticks": ""
             }
            },
            "type": "scattergeo"
           }
          ],
          "scattergl": [
           {
            "marker": {
             "colorbar": {
              "outlinewidth": 0,
              "ticks": ""
             }
            },
            "type": "scattergl"
           }
          ],
          "scattermapbox": [
           {
            "marker": {
             "colorbar": {
              "outlinewidth": 0,
              "ticks": ""
             }
            },
            "type": "scattermapbox"
           }
          ],
          "scatterpolar": [
           {
            "marker": {
             "colorbar": {
              "outlinewidth": 0,
              "ticks": ""
             }
            },
            "type": "scatterpolar"
           }
          ],
          "scatterpolargl": [
           {
            "marker": {
             "colorbar": {
              "outlinewidth": 0,
              "ticks": ""
             }
            },
            "type": "scatterpolargl"
           }
          ],
          "scatterternary": [
           {
            "marker": {
             "colorbar": {
              "outlinewidth": 0,
              "ticks": ""
             }
            },
            "type": "scatterternary"
           }
          ],
          "surface": [
           {
            "colorbar": {
             "outlinewidth": 0,
             "ticks": ""
            },
            "colorscale": [
             [
              0,
              "#0d0887"
             ],
             [
              0.1111111111111111,
              "#46039f"
             ],
             [
              0.2222222222222222,
              "#7201a8"
             ],
             [
              0.3333333333333333,
              "#9c179e"
             ],
             [
              0.4444444444444444,
              "#bd3786"
             ],
             [
              0.5555555555555556,
              "#d8576b"
             ],
             [
              0.6666666666666666,
              "#ed7953"
             ],
             [
              0.7777777777777778,
              "#fb9f3a"
             ],
             [
              0.8888888888888888,
              "#fdca26"
             ],
             [
              1,
              "#f0f921"
             ]
            ],
            "type": "surface"
           }
          ],
          "table": [
           {
            "cells": {
             "fill": {
              "color": "#EBF0F8"
             },
             "line": {
              "color": "white"
             }
            },
            "header": {
             "fill": {
              "color": "#C8D4E3"
             },
             "line": {
              "color": "white"
             }
            },
            "type": "table"
           }
          ]
         },
         "layout": {
          "annotationdefaults": {
           "arrowcolor": "#2a3f5f",
           "arrowhead": 0,
           "arrowwidth": 1
          },
          "autotypenumbers": "strict",
          "coloraxis": {
           "colorbar": {
            "outlinewidth": 0,
            "ticks": ""
           }
          },
          "colorscale": {
           "diverging": [
            [
             0,
             "#8e0152"
            ],
            [
             0.1,
             "#c51b7d"
            ],
            [
             0.2,
             "#de77ae"
            ],
            [
             0.3,
             "#f1b6da"
            ],
            [
             0.4,
             "#fde0ef"
            ],
            [
             0.5,
             "#f7f7f7"
            ],
            [
             0.6,
             "#e6f5d0"
            ],
            [
             0.7,
             "#b8e186"
            ],
            [
             0.8,
             "#7fbc41"
            ],
            [
             0.9,
             "#4d9221"
            ],
            [
             1,
             "#276419"
            ]
           ],
           "sequential": [
            [
             0,
             "#0d0887"
            ],
            [
             0.1111111111111111,
             "#46039f"
            ],
            [
             0.2222222222222222,
             "#7201a8"
            ],
            [
             0.3333333333333333,
             "#9c179e"
            ],
            [
             0.4444444444444444,
             "#bd3786"
            ],
            [
             0.5555555555555556,
             "#d8576b"
            ],
            [
             0.6666666666666666,
             "#ed7953"
            ],
            [
             0.7777777777777778,
             "#fb9f3a"
            ],
            [
             0.8888888888888888,
             "#fdca26"
            ],
            [
             1,
             "#f0f921"
            ]
           ],
           "sequentialminus": [
            [
             0,
             "#0d0887"
            ],
            [
             0.1111111111111111,
             "#46039f"
            ],
            [
             0.2222222222222222,
             "#7201a8"
            ],
            [
             0.3333333333333333,
             "#9c179e"
            ],
            [
             0.4444444444444444,
             "#bd3786"
            ],
            [
             0.5555555555555556,
             "#d8576b"
            ],
            [
             0.6666666666666666,
             "#ed7953"
            ],
            [
             0.7777777777777778,
             "#fb9f3a"
            ],
            [
             0.8888888888888888,
             "#fdca26"
            ],
            [
             1,
             "#f0f921"
            ]
           ]
          },
          "colorway": [
           "#636efa",
           "#EF553B",
           "#00cc96",
           "#ab63fa",
           "#FFA15A",
           "#19d3f3",
           "#FF6692",
           "#B6E880",
           "#FF97FF",
           "#FECB52"
          ],
          "font": {
           "color": "#2a3f5f"
          },
          "geo": {
           "bgcolor": "white",
           "lakecolor": "white",
           "landcolor": "#E5ECF6",
           "showlakes": true,
           "showland": true,
           "subunitcolor": "white"
          },
          "hoverlabel": {
           "align": "left"
          },
          "hovermode": "closest",
          "mapbox": {
           "style": "light"
          },
          "paper_bgcolor": "white",
          "plot_bgcolor": "#E5ECF6",
          "polar": {
           "angularaxis": {
            "gridcolor": "white",
            "linecolor": "white",
            "ticks": ""
           },
           "bgcolor": "#E5ECF6",
           "radialaxis": {
            "gridcolor": "white",
            "linecolor": "white",
            "ticks": ""
           }
          },
          "scene": {
           "xaxis": {
            "backgroundcolor": "#E5ECF6",
            "gridcolor": "white",
            "gridwidth": 2,
            "linecolor": "white",
            "showbackground": true,
            "ticks": "",
            "zerolinecolor": "white"
           },
           "yaxis": {
            "backgroundcolor": "#E5ECF6",
            "gridcolor": "white",
            "gridwidth": 2,
            "linecolor": "white",
            "showbackground": true,
            "ticks": "",
            "zerolinecolor": "white"
           },
           "zaxis": {
            "backgroundcolor": "#E5ECF6",
            "gridcolor": "white",
            "gridwidth": 2,
            "linecolor": "white",
            "showbackground": true,
            "ticks": "",
            "zerolinecolor": "white"
           }
          },
          "shapedefaults": {
           "line": {
            "color": "#2a3f5f"
           }
          },
          "ternary": {
           "aaxis": {
            "gridcolor": "white",
            "linecolor": "white",
            "ticks": ""
           },
           "baxis": {
            "gridcolor": "white",
            "linecolor": "white",
            "ticks": ""
           },
           "bgcolor": "#E5ECF6",
           "caxis": {
            "gridcolor": "white",
            "linecolor": "white",
            "ticks": ""
           }
          },
          "title": {
           "x": 0.05
          },
          "xaxis": {
           "automargin": true,
           "gridcolor": "white",
           "linecolor": "white",
           "ticks": "",
           "title": {
            "standoff": 15
           },
           "zerolinecolor": "white",
           "zerolinewidth": 2
          },
          "yaxis": {
           "automargin": true,
           "gridcolor": "white",
           "linecolor": "white",
           "ticks": "",
           "title": {
            "standoff": 15
           },
           "zerolinecolor": "white",
           "zerolinewidth": 2
          }
         }
        },
        "xaxis": {
         "anchor": "y",
         "domain": [
          0,
          1
         ],
         "title": {
          "text": "게시일"
         }
        },
        "yaxis": {
         "anchor": "x",
         "domain": [
          0,
          1
         ],
         "title": {
          "text": "value"
         }
        }
       }
      },
      "text/html": [
       "<div>                            <div id=\"a6c10bd3-f3a3-4203-8b6a-7c6ea0c5eac2\" class=\"plotly-graph-div\" style=\"height:525px; width:100%;\"></div>            <script type=\"text/javascript\">                require([\"plotly\"], function(Plotly) {                    window.PLOTLYENV=window.PLOTLYENV || {};                                    if (document.getElementById(\"a6c10bd3-f3a3-4203-8b6a-7c6ea0c5eac2\")) {                    Plotly.newPlot(                        \"a6c10bd3-f3a3-4203-8b6a-7c6ea0c5eac2\",                        [{\"hovertemplate\":\"variable=\\uc870\\ud68c\\uc218<br>\\uac8c\\uc2dc\\uc77c=%{x}<br>value=%{y}<extra></extra>\",\"legendgroup\":\"\\uc870\\ud68c\\uc218\",\"line\":{\"color\":\"#636efa\",\"dash\":\"solid\"},\"marker\":{\"symbol\":\"circle\"},\"mode\":\"lines\",\"name\":\"\\uc870\\ud68c\\uc218\",\"orientation\":\"v\",\"showlegend\":true,\"x\":[\"2018-10-05\",\"2018-10-16\",\"2018-10-19\",\"2018-10-20\",\"2018-10-26\",\"2018-10-27\",\"2018-10-29\",\"2018-10-30\",\"2018-10-31\",\"2018-11-04\",\"2018-11-05\",\"2018-11-08\",\"2018-11-09\",\"2018-11-16\",\"2018-11-18\",\"2018-11-23\",\"2018-11-28\",\"2018-12-31\",\"2019-01-04\",\"2019-01-05\",\"2019-01-07\",\"2019-01-25\",\"2019-02-01\",\"2019-02-03\",\"2019-04-01\",\"2019-04-02\",\"2019-04-04\",\"2019-04-05\",\"2019-04-07\",\"2019-04-08\",\"2019-04-12\",\"2019-04-20\",\"2019-05-04\",\"2019-05-08\",\"2019-05-12\",\"2019-05-18\",\"2019-06-10\",\"2019-06-13\",\"2019-06-16\",\"2019-07-16\",\"2019-07-25\",\"2019-08-02\",\"2019-08-22\",\"2019-08-31\",\"2019-09-03\",\"2019-09-13\",\"2019-09-17\",\"2019-09-24\",\"2019-10-16\",\"2019-10-19\",\"2019-10-29\",\"2019-12-22\",\"2020-02-12\",\"2020-02-17\",\"2020-02-18\",\"2020-02-19\",\"2020-02-20\",\"2020-02-21\",\"2020-02-22\",\"2020-02-23\",\"2020-02-28\",\"2020-02-29\",\"2020-03-02\",\"2020-03-04\",\"2020-03-06\",\"2020-03-07\",\"2020-03-08\",\"2020-03-10\",\"2020-04-11\",\"2020-05-04\",\"2020-05-24\",\"2020-06-01\",\"2020-06-03\",\"2020-06-10\",\"2020-06-11\",\"2020-06-12\",\"2020-06-15\",\"2020-06-16\",\"2020-06-18\",\"2020-06-20\",\"2020-06-21\",\"2020-06-23\",\"2020-06-24\",\"2020-06-25\",\"2020-06-26\",\"2020-06-27\",\"2020-06-28\",\"2020-06-29\",\"2020-06-30\",\"2020-07-03\",\"2020-07-04\",\"2020-07-05\",\"2020-07-07\",\"2020-07-20\",\"2020-07-25\",\"2020-08-08\",\"2020-09-09\",\"2020-09-22\",\"2020-09-23\",\"2020-09-30\",\"2020-10-01\",\"2020-10-05\",\"2020-10-07\",\"2020-10-08\",\"2020-10-10\",\"2020-10-27\",\"2020-10-29\",\"2020-10-31\",\"2020-11-05\",\"2020-11-23\",\"2020-12-02\",\"2020-12-03\",\"2020-12-05\",\"2020-12-06\",\"2020-12-07\",\"2020-12-08\",\"2020-12-09\",\"2020-12-10\",\"2020-12-11\",\"2020-12-12\",\"2020-12-13\",\"2020-12-14\",\"2020-12-15\",\"2020-12-16\",\"2020-12-17\",\"2020-12-18\",\"2020-12-19\",\"2020-12-20\",\"2020-12-25\",\"2020-12-30\",\"2020-12-31\",\"2021-01-01\",\"2021-01-02\",\"2021-01-06\",\"2021-01-08\",\"2021-01-09\",\"2021-01-15\",\"2021-01-16\",\"2021-01-20\",\"2021-01-24\",\"2021-01-26\",\"2021-01-27\",\"2021-01-28\",\"2021-01-31\",\"2021-02-01\",\"2021-02-02\",\"2021-02-08\",\"2021-02-13\",\"2021-02-15\",\"2021-02-16\",\"2021-02-18\",\"2021-02-25\",\"2021-03-04\",\"2021-03-07\",\"2021-03-13\",\"2021-03-14\",\"2021-03-15\",\"2021-03-16\",\"2021-03-17\",\"2021-03-24\",\"2021-03-25\",\"2021-03-26\",\"2021-03-27\",\"2021-03-31\",\"2021-04-02\",\"2021-04-09\",\"2021-04-18\",\"2021-04-19\",\"2021-04-23\",\"2021-04-26\",\"2021-04-29\",\"2021-05-02\",\"2021-05-05\",\"2021-05-09\",\"2021-05-17\",\"2021-05-19\",\"2021-05-29\",\"2021-05-30\",\"2021-06-05\",\"2021-06-11\",\"2021-06-12\",\"2021-06-14\",\"2021-06-15\",\"2021-06-18\",\"2021-06-19\",\"2021-06-23\",\"2021-06-27\",\"2021-06-29\",\"2021-06-30\",\"2021-07-01\",\"2021-07-03\",\"2021-07-04\",\"2021-07-06\",\"2021-07-07\",\"2021-07-09\",\"2021-07-16\",\"2021-07-17\",\"2021-07-18\",\"2021-07-21\",\"2021-07-23\",\"2021-07-29\",\"2021-07-30\",\"2021-08-03\",\"2021-08-06\",\"2021-08-07\",\"2021-08-08\",\"2021-08-09\",\"2021-08-10\",\"2021-08-12\",\"2021-08-13\",\"2021-08-17\",\"2021-08-18\",\"2021-08-19\",\"2021-08-20\",\"2021-08-22\",\"2021-08-23\",\"2021-08-27\",\"2021-09-05\",\"2021-09-07\",\"2021-09-13\",\"2021-09-14\",\"2021-09-17\",\"2021-09-23\",\"2021-10-07\",\"2021-10-11\",\"2021-10-12\",\"2021-10-13\",\"2021-10-14\",\"2021-10-15\",\"2021-10-16\",\"2021-10-23\",\"2021-10-29\",\"2021-11-11\",\"2021-11-13\",\"2021-11-14\",\"2021-11-20\",\"2021-11-21\",\"2021-11-23\",\"2021-11-24\",\"2021-11-26\",\"2021-11-28\",\"2021-11-30\",\"2021-12-03\",\"2021-12-05\",\"2021-12-06\",\"2021-12-09\",\"2021-12-11\",\"2021-12-12\",\"2021-12-13\",\"2021-12-14\",\"2021-12-17\",\"2021-12-18\",\"2021-12-19\",\"2021-12-21\",\"2021-12-22\",\"2021-12-23\",\"2021-12-24\",\"2021-12-25\",\"2021-12-26\",\"2021-12-27\",\"2021-12-28\",\"2021-12-29\",\"2021-12-30\",\"2021-12-31\",\"2022-01-01\"],\"xaxis\":\"x\",\"y\":[19226942,783094,6262375,5184354,848708,9834882,172050945,765506,10671534,18816739,13937237,7738689,28481942,2795337,137424,365842,16164786,3637788,384225,10082409,5791259,27205106,1323189,3034682,120366696,10833772,3526381,2833460,23960947,14567638,263122,3426283,8155677,1511657,8302657,6974709,2925937,15531187,2876492,9726738,3233846,2297168,53777,2623710,1470498,17795740,2936166,2288393,6762978,7895288,3800278,1605912,1627376,136821041,19795784,13363312,2606278,4278923,2002922,3645744,13052757,10446984,1713889,453784,8090183,1590424,808474,5234614,1817050,4061040,675104,2563950,592923,349930,1882560,459963,13208110,79452149,15201261,6747272,4213156,8890132,1020203,863482,5408005,1176183,1121926,990182,720366,4655391,297211,5039742,1268141,2262747,462520,6323731,24221,148081,49807,540698,3744449,11820458,14465256,161935,1945262,539802,1547358,775101,158297,90334,1494045,1264037,1758500,8048864,88883534,6689899,1824280,2341443,18467251,1693815,16223234,13614753,2009382,5762112,13337137,8649644,892437,3084463,2577083,449782,10991628,2316938,3659885,1637453,804912,366428,838501,2010703,381197,5834,983598,702546,1765833,55584,374171,2101165,370246,868681,1754185,145470,389519,4709527,53736,1233337,4040576,115973,346739,304293,570827,6111017,16339444,2983473,5817338,231009,1353838,7397,6112,1633742,2009879,108794,194082,2544805,1149032,616270,3760914,413357,216284,205599,415028,2033621,798625,679918,4858722,1041522,1018917,131506,903076,197915,433211,1248172,262134,4001797,867725,281600,577066,2250385,757879,5310686,358352,576674,281979,231843,309231,5497578,1527366,524914,198386,1112575,403822,189038,931756,49622,836851,127317,372224,408388,14450020,343121,1393436,7407,273226,8608,17500,4477221,83086,122700,1690198,26505,144454,3096489,13435,21531,597586,226225,167242,769426,338035,47420,1053689,279378,194221,576673,362554,2060843,126039,51796,313798,346875,240205,172555,344136,3247,460239,129316,563917,28649,13942,173977,643975,903884,59097,39312,71130,99626,6672],\"yaxis\":\"y\",\"type\":\"scatter\"}],                        {\"template\":{\"data\":{\"bar\":[{\"error_x\":{\"color\":\"#2a3f5f\"},\"error_y\":{\"color\":\"#2a3f5f\"},\"marker\":{\"line\":{\"color\":\"#E5ECF6\",\"width\":0.5},\"pattern\":{\"fillmode\":\"overlay\",\"size\":10,\"solidity\":0.2}},\"type\":\"bar\"}],\"barpolar\":[{\"marker\":{\"line\":{\"color\":\"#E5ECF6\",\"width\":0.5},\"pattern\":{\"fillmode\":\"overlay\",\"size\":10,\"solidity\":0.2}},\"type\":\"barpolar\"}],\"carpet\":[{\"aaxis\":{\"endlinecolor\":\"#2a3f5f\",\"gridcolor\":\"white\",\"linecolor\":\"white\",\"minorgridcolor\":\"white\",\"startlinecolor\":\"#2a3f5f\"},\"baxis\":{\"endlinecolor\":\"#2a3f5f\",\"gridcolor\":\"white\",\"linecolor\":\"white\",\"minorgridcolor\":\"white\",\"startlinecolor\":\"#2a3f5f\"},\"type\":\"carpet\"}],\"choropleth\":[{\"colorbar\":{\"outlinewidth\":0,\"ticks\":\"\"},\"type\":\"choropleth\"}],\"contour\":[{\"colorbar\":{\"outlinewidth\":0,\"ticks\":\"\"},\"colorscale\":[[0.0,\"#0d0887\"],[0.1111111111111111,\"#46039f\"],[0.2222222222222222,\"#7201a8\"],[0.3333333333333333,\"#9c179e\"],[0.4444444444444444,\"#bd3786\"],[0.5555555555555556,\"#d8576b\"],[0.6666666666666666,\"#ed7953\"],[0.7777777777777778,\"#fb9f3a\"],[0.8888888888888888,\"#fdca26\"],[1.0,\"#f0f921\"]],\"type\":\"contour\"}],\"contourcarpet\":[{\"colorbar\":{\"outlinewidth\":0,\"ticks\":\"\"},\"type\":\"contourcarpet\"}],\"heatmap\":[{\"colorbar\":{\"outlinewidth\":0,\"ticks\":\"\"},\"colorscale\":[[0.0,\"#0d0887\"],[0.1111111111111111,\"#46039f\"],[0.2222222222222222,\"#7201a8\"],[0.3333333333333333,\"#9c179e\"],[0.4444444444444444,\"#bd3786\"],[0.5555555555555556,\"#d8576b\"],[0.6666666666666666,\"#ed7953\"],[0.7777777777777778,\"#fb9f3a\"],[0.8888888888888888,\"#fdca26\"],[1.0,\"#f0f921\"]],\"type\":\"heatmap\"}],\"heatmapgl\":[{\"colorbar\":{\"outlinewidth\":0,\"ticks\":\"\"},\"colorscale\":[[0.0,\"#0d0887\"],[0.1111111111111111,\"#46039f\"],[0.2222222222222222,\"#7201a8\"],[0.3333333333333333,\"#9c179e\"],[0.4444444444444444,\"#bd3786\"],[0.5555555555555556,\"#d8576b\"],[0.6666666666666666,\"#ed7953\"],[0.7777777777777778,\"#fb9f3a\"],[0.8888888888888888,\"#fdca26\"],[1.0,\"#f0f921\"]],\"type\":\"heatmapgl\"}],\"histogram\":[{\"marker\":{\"pattern\":{\"fillmode\":\"overlay\",\"size\":10,\"solidity\":0.2}},\"type\":\"histogram\"}],\"histogram2d\":[{\"colorbar\":{\"outlinewidth\":0,\"ticks\":\"\"},\"colorscale\":[[0.0,\"#0d0887\"],[0.1111111111111111,\"#46039f\"],[0.2222222222222222,\"#7201a8\"],[0.3333333333333333,\"#9c179e\"],[0.4444444444444444,\"#bd3786\"],[0.5555555555555556,\"#d8576b\"],[0.6666666666666666,\"#ed7953\"],[0.7777777777777778,\"#fb9f3a\"],[0.8888888888888888,\"#fdca26\"],[1.0,\"#f0f921\"]],\"type\":\"histogram2d\"}],\"histogram2dcontour\":[{\"colorbar\":{\"outlinewidth\":0,\"ticks\":\"\"},\"colorscale\":[[0.0,\"#0d0887\"],[0.1111111111111111,\"#46039f\"],[0.2222222222222222,\"#7201a8\"],[0.3333333333333333,\"#9c179e\"],[0.4444444444444444,\"#bd3786\"],[0.5555555555555556,\"#d8576b\"],[0.6666666666666666,\"#ed7953\"],[0.7777777777777778,\"#fb9f3a\"],[0.8888888888888888,\"#fdca26\"],[1.0,\"#f0f921\"]],\"type\":\"histogram2dcontour\"}],\"mesh3d\":[{\"colorbar\":{\"outlinewidth\":0,\"ticks\":\"\"},\"type\":\"mesh3d\"}],\"parcoords\":[{\"line\":{\"colorbar\":{\"outlinewidth\":0,\"ticks\":\"\"}},\"type\":\"parcoords\"}],\"pie\":[{\"automargin\":true,\"type\":\"pie\"}],\"scatter\":[{\"marker\":{\"colorbar\":{\"outlinewidth\":0,\"ticks\":\"\"}},\"type\":\"scatter\"}],\"scatter3d\":[{\"line\":{\"colorbar\":{\"outlinewidth\":0,\"ticks\":\"\"}},\"marker\":{\"colorbar\":{\"outlinewidth\":0,\"ticks\":\"\"}},\"type\":\"scatter3d\"}],\"scattercarpet\":[{\"marker\":{\"colorbar\":{\"outlinewidth\":0,\"ticks\":\"\"}},\"type\":\"scattercarpet\"}],\"scattergeo\":[{\"marker\":{\"colorbar\":{\"outlinewidth\":0,\"ticks\":\"\"}},\"type\":\"scattergeo\"}],\"scattergl\":[{\"marker\":{\"colorbar\":{\"outlinewidth\":0,\"ticks\":\"\"}},\"type\":\"scattergl\"}],\"scattermapbox\":[{\"marker\":{\"colorbar\":{\"outlinewidth\":0,\"ticks\":\"\"}},\"type\":\"scattermapbox\"}],\"scatterpolar\":[{\"marker\":{\"colorbar\":{\"outlinewidth\":0,\"ticks\":\"\"}},\"type\":\"scatterpolar\"}],\"scatterpolargl\":[{\"marker\":{\"colorbar\":{\"outlinewidth\":0,\"ticks\":\"\"}},\"type\":\"scatterpolargl\"}],\"scatterternary\":[{\"marker\":{\"colorbar\":{\"outlinewidth\":0,\"ticks\":\"\"}},\"type\":\"scatterternary\"}],\"surface\":[{\"colorbar\":{\"outlinewidth\":0,\"ticks\":\"\"},\"colorscale\":[[0.0,\"#0d0887\"],[0.1111111111111111,\"#46039f\"],[0.2222222222222222,\"#7201a8\"],[0.3333333333333333,\"#9c179e\"],[0.4444444444444444,\"#bd3786\"],[0.5555555555555556,\"#d8576b\"],[0.6666666666666666,\"#ed7953\"],[0.7777777777777778,\"#fb9f3a\"],[0.8888888888888888,\"#fdca26\"],[1.0,\"#f0f921\"]],\"type\":\"surface\"}],\"table\":[{\"cells\":{\"fill\":{\"color\":\"#EBF0F8\"},\"line\":{\"color\":\"white\"}},\"header\":{\"fill\":{\"color\":\"#C8D4E3\"},\"line\":{\"color\":\"white\"}},\"type\":\"table\"}]},\"layout\":{\"annotationdefaults\":{\"arrowcolor\":\"#2a3f5f\",\"arrowhead\":0,\"arrowwidth\":1},\"autotypenumbers\":\"strict\",\"coloraxis\":{\"colorbar\":{\"outlinewidth\":0,\"ticks\":\"\"}},\"colorscale\":{\"diverging\":[[0,\"#8e0152\"],[0.1,\"#c51b7d\"],[0.2,\"#de77ae\"],[0.3,\"#f1b6da\"],[0.4,\"#fde0ef\"],[0.5,\"#f7f7f7\"],[0.6,\"#e6f5d0\"],[0.7,\"#b8e186\"],[0.8,\"#7fbc41\"],[0.9,\"#4d9221\"],[1,\"#276419\"]],\"sequential\":[[0.0,\"#0d0887\"],[0.1111111111111111,\"#46039f\"],[0.2222222222222222,\"#7201a8\"],[0.3333333333333333,\"#9c179e\"],[0.4444444444444444,\"#bd3786\"],[0.5555555555555556,\"#d8576b\"],[0.6666666666666666,\"#ed7953\"],[0.7777777777777778,\"#fb9f3a\"],[0.8888888888888888,\"#fdca26\"],[1.0,\"#f0f921\"]],\"sequentialminus\":[[0.0,\"#0d0887\"],[0.1111111111111111,\"#46039f\"],[0.2222222222222222,\"#7201a8\"],[0.3333333333333333,\"#9c179e\"],[0.4444444444444444,\"#bd3786\"],[0.5555555555555556,\"#d8576b\"],[0.6666666666666666,\"#ed7953\"],[0.7777777777777778,\"#fb9f3a\"],[0.8888888888888888,\"#fdca26\"],[1.0,\"#f0f921\"]]},\"colorway\":[\"#636efa\",\"#EF553B\",\"#00cc96\",\"#ab63fa\",\"#FFA15A\",\"#19d3f3\",\"#FF6692\",\"#B6E880\",\"#FF97FF\",\"#FECB52\"],\"font\":{\"color\":\"#2a3f5f\"},\"geo\":{\"bgcolor\":\"white\",\"lakecolor\":\"white\",\"landcolor\":\"#E5ECF6\",\"showlakes\":true,\"showland\":true,\"subunitcolor\":\"white\"},\"hoverlabel\":{\"align\":\"left\"},\"hovermode\":\"closest\",\"mapbox\":{\"style\":\"light\"},\"paper_bgcolor\":\"white\",\"plot_bgcolor\":\"#E5ECF6\",\"polar\":{\"angularaxis\":{\"gridcolor\":\"white\",\"linecolor\":\"white\",\"ticks\":\"\"},\"bgcolor\":\"#E5ECF6\",\"radialaxis\":{\"gridcolor\":\"white\",\"linecolor\":\"white\",\"ticks\":\"\"}},\"scene\":{\"xaxis\":{\"backgroundcolor\":\"#E5ECF6\",\"gridcolor\":\"white\",\"gridwidth\":2,\"linecolor\":\"white\",\"showbackground\":true,\"ticks\":\"\",\"zerolinecolor\":\"white\"},\"yaxis\":{\"backgroundcolor\":\"#E5ECF6\",\"gridcolor\":\"white\",\"gridwidth\":2,\"linecolor\":\"white\",\"showbackground\":true,\"ticks\":\"\",\"zerolinecolor\":\"white\"},\"zaxis\":{\"backgroundcolor\":\"#E5ECF6\",\"gridcolor\":\"white\",\"gridwidth\":2,\"linecolor\":\"white\",\"showbackground\":true,\"ticks\":\"\",\"zerolinecolor\":\"white\"}},\"shapedefaults\":{\"line\":{\"color\":\"#2a3f5f\"}},\"ternary\":{\"aaxis\":{\"gridcolor\":\"white\",\"linecolor\":\"white\",\"ticks\":\"\"},\"baxis\":{\"gridcolor\":\"white\",\"linecolor\":\"white\",\"ticks\":\"\"},\"bgcolor\":\"#E5ECF6\",\"caxis\":{\"gridcolor\":\"white\",\"linecolor\":\"white\",\"ticks\":\"\"}},\"title\":{\"x\":0.05},\"xaxis\":{\"automargin\":true,\"gridcolor\":\"white\",\"linecolor\":\"white\",\"ticks\":\"\",\"title\":{\"standoff\":15},\"zerolinecolor\":\"white\",\"zerolinewidth\":2},\"yaxis\":{\"automargin\":true,\"gridcolor\":\"white\",\"linecolor\":\"white\",\"ticks\":\"\",\"title\":{\"standoff\":15},\"zerolinecolor\":\"white\",\"zerolinewidth\":2}}},\"xaxis\":{\"anchor\":\"y\",\"domain\":[0.0,1.0],\"title\":{\"text\":\"\\uac8c\\uc2dc\\uc77c\"}},\"yaxis\":{\"anchor\":\"x\",\"domain\":[0.0,1.0],\"title\":{\"text\":\"value\"}},\"legend\":{\"title\":{\"text\":\"variable\"},\"tracegroupgap\":0},\"margin\":{\"t\":60}},                        {\"responsive\": true}                    ).then(function(){\n",
       "                            \n",
       "var gd = document.getElementById('a6c10bd3-f3a3-4203-8b6a-7c6ea0c5eac2');\n",
       "var x = new MutationObserver(function (mutations, observer) {{\n",
       "        var display = window.getComputedStyle(gd).display;\n",
       "        if (!display || display === 'none') {{\n",
       "            console.log([gd, 'removed!']);\n",
       "            Plotly.purge(gd);\n",
       "            observer.disconnect();\n",
       "        }}\n",
       "}});\n",
       "\n",
       "// Listen for the removal of the full notebook cells\n",
       "var notebookContainer = gd.closest('#notebook-container');\n",
       "if (notebookContainer) {{\n",
       "    x.observe(notebookContainer, {childList: true});\n",
       "}}\n",
       "\n",
       "// Listen for the clearing of the current output cell\n",
       "var outputEl = gd.closest('.output');\n",
       "if (outputEl) {{\n",
       "    x.observe(outputEl, {childList: true});\n",
       "}}\n",
       "\n",
       "                        })                };                });            </script>        </div>"
      ]
     },
     "metadata": {},
     "output_type": "display_data"
    }
   ],
   "source": [
    "izone_view_df = izone_df['조회수'].groupby(izone_df['게시일']).sum()\n",
    "izone_view_df.plot()"
   ]
  },
  {
   "cell_type": "markdown",
   "id": "54a9bf39",
   "metadata": {},
   "source": [
    "## izone 공식 유튜브 제외"
   ]
  },
  {
   "cell_type": "code",
   "execution_count": 8,
   "id": "636425c4",
   "metadata": {
    "ExecuteTime": {
     "end_time": "2022-01-01T07:05:50.529769Z",
     "start_time": "2022-01-01T07:05:50.513767Z"
    }
   },
   "outputs": [],
   "source": [
    "non_official_df = izone_df[izone_df['업로더']!='izone']\n",
    "non_official_df = non_official_df[non_official_df['업로더']!='1theK (원더케이)']"
   ]
  },
  {
   "cell_type": "code",
   "execution_count": 9,
   "id": "b11b1f74",
   "metadata": {
    "ExecuteTime": {
     "end_time": "2022-01-01T07:05:50.588766Z",
     "start_time": "2022-01-01T07:05:50.531767Z"
    }
   },
   "outputs": [
    {
     "data": {
      "application/vnd.plotly.v1+json": {
       "config": {
        "plotlyServerURL": "https://plot.ly"
       },
       "data": [
        {
         "hovertemplate": "variable=조회수<br>게시일=%{x}<br>value=%{y}<extra></extra>",
         "legendgroup": "조회수",
         "line": {
          "color": "#636efa",
          "dash": "solid"
         },
         "marker": {
          "symbol": "circle"
         },
         "mode": "lines",
         "name": "조회수",
         "orientation": "v",
         "showlegend": true,
         "type": "scatter",
         "x": [
          "2018-10-05",
          "2018-10-16",
          "2018-10-19",
          "2018-10-20",
          "2018-10-26",
          "2018-10-27",
          "2018-10-29",
          "2018-10-30",
          "2018-10-31",
          "2018-11-04",
          "2018-11-05",
          "2018-11-08",
          "2018-11-09",
          "2018-11-16",
          "2018-11-18",
          "2018-11-23",
          "2018-11-28",
          "2018-12-31",
          "2019-01-04",
          "2019-01-05",
          "2019-01-07",
          "2019-01-25",
          "2019-02-01",
          "2019-02-03",
          "2019-04-01",
          "2019-04-02",
          "2019-04-04",
          "2019-04-05",
          "2019-04-07",
          "2019-04-08",
          "2019-04-12",
          "2019-04-20",
          "2019-05-04",
          "2019-05-08",
          "2019-05-12",
          "2019-05-18",
          "2019-06-10",
          "2019-06-13",
          "2019-06-16",
          "2019-07-16",
          "2019-07-25",
          "2019-08-02",
          "2019-08-22",
          "2019-08-31",
          "2019-09-03",
          "2019-09-13",
          "2019-09-17",
          "2019-09-24",
          "2019-10-16",
          "2019-10-19",
          "2019-10-29",
          "2019-12-22",
          "2020-02-12",
          "2020-02-17",
          "2020-02-18",
          "2020-02-19",
          "2020-02-20",
          "2020-02-21",
          "2020-02-22",
          "2020-02-23",
          "2020-02-28",
          "2020-02-29",
          "2020-03-02",
          "2020-03-04",
          "2020-03-06",
          "2020-03-07",
          "2020-03-08",
          "2020-03-10",
          "2020-04-11",
          "2020-05-04",
          "2020-05-24",
          "2020-06-01",
          "2020-06-03",
          "2020-06-10",
          "2020-06-11",
          "2020-06-12",
          "2020-06-15",
          "2020-06-16",
          "2020-06-18",
          "2020-06-20",
          "2020-06-21",
          "2020-06-23",
          "2020-06-24",
          "2020-06-25",
          "2020-06-26",
          "2020-06-27",
          "2020-06-28",
          "2020-06-29",
          "2020-06-30",
          "2020-07-03",
          "2020-07-04",
          "2020-07-05",
          "2020-07-07",
          "2020-07-20",
          "2020-07-25",
          "2020-08-08",
          "2020-09-09",
          "2020-09-22",
          "2020-09-23",
          "2020-09-30",
          "2020-10-01",
          "2020-10-05",
          "2020-10-07",
          "2020-10-08",
          "2020-10-10",
          "2020-10-27",
          "2020-10-29",
          "2020-10-31",
          "2020-11-05",
          "2020-11-23",
          "2020-12-02",
          "2020-12-03",
          "2020-12-05",
          "2020-12-06",
          "2020-12-07",
          "2020-12-08",
          "2020-12-09",
          "2020-12-10",
          "2020-12-11",
          "2020-12-12",
          "2020-12-13",
          "2020-12-14",
          "2020-12-15",
          "2020-12-16",
          "2020-12-17",
          "2020-12-18",
          "2020-12-19",
          "2020-12-20",
          "2020-12-25",
          "2020-12-30",
          "2020-12-31",
          "2021-01-01",
          "2021-01-02",
          "2021-01-06",
          "2021-01-08",
          "2021-01-09",
          "2021-01-15",
          "2021-01-16",
          "2021-01-20",
          "2021-01-24",
          "2021-01-26",
          "2021-01-27",
          "2021-01-31",
          "2021-02-01",
          "2021-02-02",
          "2021-02-08",
          "2021-02-13",
          "2021-02-15",
          "2021-02-16",
          "2021-02-18",
          "2021-02-25",
          "2021-03-04",
          "2021-03-07",
          "2021-03-13",
          "2021-03-14",
          "2021-03-15",
          "2021-03-16",
          "2021-03-17",
          "2021-03-24",
          "2021-03-25",
          "2021-03-26",
          "2021-03-27",
          "2021-03-31",
          "2021-04-02",
          "2021-04-09",
          "2021-04-18",
          "2021-04-19",
          "2021-04-23",
          "2021-04-26",
          "2021-04-29",
          "2021-05-02",
          "2021-05-05",
          "2021-05-09",
          "2021-05-17",
          "2021-05-19",
          "2021-05-29",
          "2021-05-30",
          "2021-06-05",
          "2021-06-11",
          "2021-06-12",
          "2021-06-14",
          "2021-06-15",
          "2021-06-18",
          "2021-06-19",
          "2021-06-23",
          "2021-06-27",
          "2021-06-29",
          "2021-06-30",
          "2021-07-01",
          "2021-07-03",
          "2021-07-04",
          "2021-07-06",
          "2021-07-07",
          "2021-07-09",
          "2021-07-16",
          "2021-07-17",
          "2021-07-18",
          "2021-07-21",
          "2021-07-23",
          "2021-07-29",
          "2021-07-30",
          "2021-08-03",
          "2021-08-06",
          "2021-08-07",
          "2021-08-08",
          "2021-08-09",
          "2021-08-10",
          "2021-08-12",
          "2021-08-13",
          "2021-08-17",
          "2021-08-18",
          "2021-08-19",
          "2021-08-20",
          "2021-08-22",
          "2021-08-23",
          "2021-08-27",
          "2021-09-05",
          "2021-09-07",
          "2021-09-13",
          "2021-09-14",
          "2021-09-17",
          "2021-09-23",
          "2021-10-07",
          "2021-10-11",
          "2021-10-12",
          "2021-10-13",
          "2021-10-14",
          "2021-10-15",
          "2021-10-16",
          "2021-10-23",
          "2021-10-29",
          "2021-11-11",
          "2021-11-13",
          "2021-11-14",
          "2021-11-20",
          "2021-11-21",
          "2021-11-23",
          "2021-11-24",
          "2021-11-26",
          "2021-11-28",
          "2021-11-30",
          "2021-12-03",
          "2021-12-05",
          "2021-12-06",
          "2021-12-09",
          "2021-12-11",
          "2021-12-12",
          "2021-12-13",
          "2021-12-14",
          "2021-12-17",
          "2021-12-18",
          "2021-12-19",
          "2021-12-21",
          "2021-12-22",
          "2021-12-23",
          "2021-12-24",
          "2021-12-25",
          "2021-12-26",
          "2021-12-27",
          "2021-12-28",
          "2021-12-29",
          "2021-12-30",
          "2021-12-31",
          "2022-01-01"
         ],
         "xaxis": "x",
         "y": [
          19226942,
          783094,
          6262375,
          5184354,
          848708,
          9834882,
          172050945,
          765506,
          10671534,
          18816739,
          13937237,
          7738689,
          28481942,
          2795337,
          137424,
          365842,
          16164786,
          3637788,
          384225,
          10082409,
          5791259,
          27205106,
          1323189,
          3034682,
          120366696,
          10833772,
          3526381,
          2833460,
          23960947,
          14567638,
          263122,
          3426283,
          8155677,
          1511657,
          8302657,
          6974709,
          2925937,
          15531187,
          2876492,
          9726738,
          3233846,
          2297168,
          53777,
          2623710,
          1470498,
          17795740,
          2936166,
          2288393,
          6762978,
          7895288,
          3800278,
          1605912,
          1627376,
          136821041,
          19795784,
          13363312,
          2606278,
          4278923,
          2002922,
          3645744,
          13052757,
          10446984,
          1713889,
          453784,
          8090183,
          1590424,
          808474,
          5234614,
          1817050,
          4061040,
          675104,
          2563950,
          592923,
          349930,
          1882560,
          459963,
          13208110,
          79452149,
          15201261,
          6747272,
          4213156,
          8890132,
          1020203,
          863482,
          5408005,
          1176183,
          1121926,
          990182,
          720366,
          4655391,
          297211,
          5039742,
          1268141,
          2262747,
          462520,
          6323731,
          24221,
          148081,
          49807,
          540698,
          3744449,
          11820458,
          14465256,
          161935,
          1945262,
          539802,
          1547358,
          775101,
          158297,
          90334,
          1494045,
          1264037,
          1758500,
          8048864,
          88883534,
          6689899,
          1824280,
          2341443,
          18467251,
          1693815,
          16223234,
          13614753,
          2009382,
          5762112,
          13337137,
          8649644,
          892437,
          3084463,
          2577083,
          449782,
          10991628,
          2316938,
          3659885,
          1637453,
          804912,
          366428,
          838501,
          2010703,
          381197,
          5834,
          983598,
          702546,
          55584,
          374171,
          2101165,
          370246,
          868681,
          1754185,
          145470,
          389519,
          4709527,
          53736,
          1233337,
          4040576,
          115973,
          346739,
          304293,
          570827,
          6111017,
          16339444,
          2983473,
          5817338,
          231009,
          1353838,
          7397,
          6112,
          1633742,
          2009879,
          108794,
          194082,
          2544805,
          1149032,
          616270,
          3760914,
          413357,
          216284,
          205599,
          415028,
          2033621,
          798625,
          679918,
          4858722,
          1041522,
          1018917,
          131506,
          903076,
          197915,
          433211,
          1248172,
          262134,
          4001797,
          867725,
          281600,
          577066,
          2250385,
          757879,
          5310686,
          358352,
          576674,
          281979,
          231843,
          309231,
          5497578,
          1527366,
          524914,
          198386,
          1112575,
          403822,
          189038,
          931756,
          49622,
          836851,
          127317,
          372224,
          408388,
          14450020,
          343121,
          1393436,
          7407,
          273226,
          8608,
          17500,
          4477221,
          83086,
          122700,
          1690198,
          26505,
          144454,
          3096489,
          13435,
          21531,
          597586,
          226225,
          167242,
          769426,
          338035,
          47420,
          1053689,
          279378,
          194221,
          576673,
          362554,
          2060843,
          126039,
          51796,
          313798,
          346875,
          240205,
          172555,
          344136,
          3247,
          460239,
          129316,
          563917,
          28649,
          13942,
          173977,
          643975,
          903884,
          59097,
          39312,
          71130,
          99626,
          6672
         ],
         "yaxis": "y"
        }
       ],
       "layout": {
        "legend": {
         "title": {
          "text": "variable"
         },
         "tracegroupgap": 0
        },
        "margin": {
         "t": 60
        },
        "template": {
         "data": {
          "bar": [
           {
            "error_x": {
             "color": "#2a3f5f"
            },
            "error_y": {
             "color": "#2a3f5f"
            },
            "marker": {
             "line": {
              "color": "#E5ECF6",
              "width": 0.5
             },
             "pattern": {
              "fillmode": "overlay",
              "size": 10,
              "solidity": 0.2
             }
            },
            "type": "bar"
           }
          ],
          "barpolar": [
           {
            "marker": {
             "line": {
              "color": "#E5ECF6",
              "width": 0.5
             },
             "pattern": {
              "fillmode": "overlay",
              "size": 10,
              "solidity": 0.2
             }
            },
            "type": "barpolar"
           }
          ],
          "carpet": [
           {
            "aaxis": {
             "endlinecolor": "#2a3f5f",
             "gridcolor": "white",
             "linecolor": "white",
             "minorgridcolor": "white",
             "startlinecolor": "#2a3f5f"
            },
            "baxis": {
             "endlinecolor": "#2a3f5f",
             "gridcolor": "white",
             "linecolor": "white",
             "minorgridcolor": "white",
             "startlinecolor": "#2a3f5f"
            },
            "type": "carpet"
           }
          ],
          "choropleth": [
           {
            "colorbar": {
             "outlinewidth": 0,
             "ticks": ""
            },
            "type": "choropleth"
           }
          ],
          "contour": [
           {
            "colorbar": {
             "outlinewidth": 0,
             "ticks": ""
            },
            "colorscale": [
             [
              0,
              "#0d0887"
             ],
             [
              0.1111111111111111,
              "#46039f"
             ],
             [
              0.2222222222222222,
              "#7201a8"
             ],
             [
              0.3333333333333333,
              "#9c179e"
             ],
             [
              0.4444444444444444,
              "#bd3786"
             ],
             [
              0.5555555555555556,
              "#d8576b"
             ],
             [
              0.6666666666666666,
              "#ed7953"
             ],
             [
              0.7777777777777778,
              "#fb9f3a"
             ],
             [
              0.8888888888888888,
              "#fdca26"
             ],
             [
              1,
              "#f0f921"
             ]
            ],
            "type": "contour"
           }
          ],
          "contourcarpet": [
           {
            "colorbar": {
             "outlinewidth": 0,
             "ticks": ""
            },
            "type": "contourcarpet"
           }
          ],
          "heatmap": [
           {
            "colorbar": {
             "outlinewidth": 0,
             "ticks": ""
            },
            "colorscale": [
             [
              0,
              "#0d0887"
             ],
             [
              0.1111111111111111,
              "#46039f"
             ],
             [
              0.2222222222222222,
              "#7201a8"
             ],
             [
              0.3333333333333333,
              "#9c179e"
             ],
             [
              0.4444444444444444,
              "#bd3786"
             ],
             [
              0.5555555555555556,
              "#d8576b"
             ],
             [
              0.6666666666666666,
              "#ed7953"
             ],
             [
              0.7777777777777778,
              "#fb9f3a"
             ],
             [
              0.8888888888888888,
              "#fdca26"
             ],
             [
              1,
              "#f0f921"
             ]
            ],
            "type": "heatmap"
           }
          ],
          "heatmapgl": [
           {
            "colorbar": {
             "outlinewidth": 0,
             "ticks": ""
            },
            "colorscale": [
             [
              0,
              "#0d0887"
             ],
             [
              0.1111111111111111,
              "#46039f"
             ],
             [
              0.2222222222222222,
              "#7201a8"
             ],
             [
              0.3333333333333333,
              "#9c179e"
             ],
             [
              0.4444444444444444,
              "#bd3786"
             ],
             [
              0.5555555555555556,
              "#d8576b"
             ],
             [
              0.6666666666666666,
              "#ed7953"
             ],
             [
              0.7777777777777778,
              "#fb9f3a"
             ],
             [
              0.8888888888888888,
              "#fdca26"
             ],
             [
              1,
              "#f0f921"
             ]
            ],
            "type": "heatmapgl"
           }
          ],
          "histogram": [
           {
            "marker": {
             "pattern": {
              "fillmode": "overlay",
              "size": 10,
              "solidity": 0.2
             }
            },
            "type": "histogram"
           }
          ],
          "histogram2d": [
           {
            "colorbar": {
             "outlinewidth": 0,
             "ticks": ""
            },
            "colorscale": [
             [
              0,
              "#0d0887"
             ],
             [
              0.1111111111111111,
              "#46039f"
             ],
             [
              0.2222222222222222,
              "#7201a8"
             ],
             [
              0.3333333333333333,
              "#9c179e"
             ],
             [
              0.4444444444444444,
              "#bd3786"
             ],
             [
              0.5555555555555556,
              "#d8576b"
             ],
             [
              0.6666666666666666,
              "#ed7953"
             ],
             [
              0.7777777777777778,
              "#fb9f3a"
             ],
             [
              0.8888888888888888,
              "#fdca26"
             ],
             [
              1,
              "#f0f921"
             ]
            ],
            "type": "histogram2d"
           }
          ],
          "histogram2dcontour": [
           {
            "colorbar": {
             "outlinewidth": 0,
             "ticks": ""
            },
            "colorscale": [
             [
              0,
              "#0d0887"
             ],
             [
              0.1111111111111111,
              "#46039f"
             ],
             [
              0.2222222222222222,
              "#7201a8"
             ],
             [
              0.3333333333333333,
              "#9c179e"
             ],
             [
              0.4444444444444444,
              "#bd3786"
             ],
             [
              0.5555555555555556,
              "#d8576b"
             ],
             [
              0.6666666666666666,
              "#ed7953"
             ],
             [
              0.7777777777777778,
              "#fb9f3a"
             ],
             [
              0.8888888888888888,
              "#fdca26"
             ],
             [
              1,
              "#f0f921"
             ]
            ],
            "type": "histogram2dcontour"
           }
          ],
          "mesh3d": [
           {
            "colorbar": {
             "outlinewidth": 0,
             "ticks": ""
            },
            "type": "mesh3d"
           }
          ],
          "parcoords": [
           {
            "line": {
             "colorbar": {
              "outlinewidth": 0,
              "ticks": ""
             }
            },
            "type": "parcoords"
           }
          ],
          "pie": [
           {
            "automargin": true,
            "type": "pie"
           }
          ],
          "scatter": [
           {
            "marker": {
             "colorbar": {
              "outlinewidth": 0,
              "ticks": ""
             }
            },
            "type": "scatter"
           }
          ],
          "scatter3d": [
           {
            "line": {
             "colorbar": {
              "outlinewidth": 0,
              "ticks": ""
             }
            },
            "marker": {
             "colorbar": {
              "outlinewidth": 0,
              "ticks": ""
             }
            },
            "type": "scatter3d"
           }
          ],
          "scattercarpet": [
           {
            "marker": {
             "colorbar": {
              "outlinewidth": 0,
              "ticks": ""
             }
            },
            "type": "scattercarpet"
           }
          ],
          "scattergeo": [
           {
            "marker": {
             "colorbar": {
              "outlinewidth": 0,
              "ticks": ""
             }
            },
            "type": "scattergeo"
           }
          ],
          "scattergl": [
           {
            "marker": {
             "colorbar": {
              "outlinewidth": 0,
              "ticks": ""
             }
            },
            "type": "scattergl"
           }
          ],
          "scattermapbox": [
           {
            "marker": {
             "colorbar": {
              "outlinewidth": 0,
              "ticks": ""
             }
            },
            "type": "scattermapbox"
           }
          ],
          "scatterpolar": [
           {
            "marker": {
             "colorbar": {
              "outlinewidth": 0,
              "ticks": ""
             }
            },
            "type": "scatterpolar"
           }
          ],
          "scatterpolargl": [
           {
            "marker": {
             "colorbar": {
              "outlinewidth": 0,
              "ticks": ""
             }
            },
            "type": "scatterpolargl"
           }
          ],
          "scatterternary": [
           {
            "marker": {
             "colorbar": {
              "outlinewidth": 0,
              "ticks": ""
             }
            },
            "type": "scatterternary"
           }
          ],
          "surface": [
           {
            "colorbar": {
             "outlinewidth": 0,
             "ticks": ""
            },
            "colorscale": [
             [
              0,
              "#0d0887"
             ],
             [
              0.1111111111111111,
              "#46039f"
             ],
             [
              0.2222222222222222,
              "#7201a8"
             ],
             [
              0.3333333333333333,
              "#9c179e"
             ],
             [
              0.4444444444444444,
              "#bd3786"
             ],
             [
              0.5555555555555556,
              "#d8576b"
             ],
             [
              0.6666666666666666,
              "#ed7953"
             ],
             [
              0.7777777777777778,
              "#fb9f3a"
             ],
             [
              0.8888888888888888,
              "#fdca26"
             ],
             [
              1,
              "#f0f921"
             ]
            ],
            "type": "surface"
           }
          ],
          "table": [
           {
            "cells": {
             "fill": {
              "color": "#EBF0F8"
             },
             "line": {
              "color": "white"
             }
            },
            "header": {
             "fill": {
              "color": "#C8D4E3"
             },
             "line": {
              "color": "white"
             }
            },
            "type": "table"
           }
          ]
         },
         "layout": {
          "annotationdefaults": {
           "arrowcolor": "#2a3f5f",
           "arrowhead": 0,
           "arrowwidth": 1
          },
          "autotypenumbers": "strict",
          "coloraxis": {
           "colorbar": {
            "outlinewidth": 0,
            "ticks": ""
           }
          },
          "colorscale": {
           "diverging": [
            [
             0,
             "#8e0152"
            ],
            [
             0.1,
             "#c51b7d"
            ],
            [
             0.2,
             "#de77ae"
            ],
            [
             0.3,
             "#f1b6da"
            ],
            [
             0.4,
             "#fde0ef"
            ],
            [
             0.5,
             "#f7f7f7"
            ],
            [
             0.6,
             "#e6f5d0"
            ],
            [
             0.7,
             "#b8e186"
            ],
            [
             0.8,
             "#7fbc41"
            ],
            [
             0.9,
             "#4d9221"
            ],
            [
             1,
             "#276419"
            ]
           ],
           "sequential": [
            [
             0,
             "#0d0887"
            ],
            [
             0.1111111111111111,
             "#46039f"
            ],
            [
             0.2222222222222222,
             "#7201a8"
            ],
            [
             0.3333333333333333,
             "#9c179e"
            ],
            [
             0.4444444444444444,
             "#bd3786"
            ],
            [
             0.5555555555555556,
             "#d8576b"
            ],
            [
             0.6666666666666666,
             "#ed7953"
            ],
            [
             0.7777777777777778,
             "#fb9f3a"
            ],
            [
             0.8888888888888888,
             "#fdca26"
            ],
            [
             1,
             "#f0f921"
            ]
           ],
           "sequentialminus": [
            [
             0,
             "#0d0887"
            ],
            [
             0.1111111111111111,
             "#46039f"
            ],
            [
             0.2222222222222222,
             "#7201a8"
            ],
            [
             0.3333333333333333,
             "#9c179e"
            ],
            [
             0.4444444444444444,
             "#bd3786"
            ],
            [
             0.5555555555555556,
             "#d8576b"
            ],
            [
             0.6666666666666666,
             "#ed7953"
            ],
            [
             0.7777777777777778,
             "#fb9f3a"
            ],
            [
             0.8888888888888888,
             "#fdca26"
            ],
            [
             1,
             "#f0f921"
            ]
           ]
          },
          "colorway": [
           "#636efa",
           "#EF553B",
           "#00cc96",
           "#ab63fa",
           "#FFA15A",
           "#19d3f3",
           "#FF6692",
           "#B6E880",
           "#FF97FF",
           "#FECB52"
          ],
          "font": {
           "color": "#2a3f5f"
          },
          "geo": {
           "bgcolor": "white",
           "lakecolor": "white",
           "landcolor": "#E5ECF6",
           "showlakes": true,
           "showland": true,
           "subunitcolor": "white"
          },
          "hoverlabel": {
           "align": "left"
          },
          "hovermode": "closest",
          "mapbox": {
           "style": "light"
          },
          "paper_bgcolor": "white",
          "plot_bgcolor": "#E5ECF6",
          "polar": {
           "angularaxis": {
            "gridcolor": "white",
            "linecolor": "white",
            "ticks": ""
           },
           "bgcolor": "#E5ECF6",
           "radialaxis": {
            "gridcolor": "white",
            "linecolor": "white",
            "ticks": ""
           }
          },
          "scene": {
           "xaxis": {
            "backgroundcolor": "#E5ECF6",
            "gridcolor": "white",
            "gridwidth": 2,
            "linecolor": "white",
            "showbackground": true,
            "ticks": "",
            "zerolinecolor": "white"
           },
           "yaxis": {
            "backgroundcolor": "#E5ECF6",
            "gridcolor": "white",
            "gridwidth": 2,
            "linecolor": "white",
            "showbackground": true,
            "ticks": "",
            "zerolinecolor": "white"
           },
           "zaxis": {
            "backgroundcolor": "#E5ECF6",
            "gridcolor": "white",
            "gridwidth": 2,
            "linecolor": "white",
            "showbackground": true,
            "ticks": "",
            "zerolinecolor": "white"
           }
          },
          "shapedefaults": {
           "line": {
            "color": "#2a3f5f"
           }
          },
          "ternary": {
           "aaxis": {
            "gridcolor": "white",
            "linecolor": "white",
            "ticks": ""
           },
           "baxis": {
            "gridcolor": "white",
            "linecolor": "white",
            "ticks": ""
           },
           "bgcolor": "#E5ECF6",
           "caxis": {
            "gridcolor": "white",
            "linecolor": "white",
            "ticks": ""
           }
          },
          "title": {
           "x": 0.05
          },
          "xaxis": {
           "automargin": true,
           "gridcolor": "white",
           "linecolor": "white",
           "ticks": "",
           "title": {
            "standoff": 15
           },
           "zerolinecolor": "white",
           "zerolinewidth": 2
          },
          "yaxis": {
           "automargin": true,
           "gridcolor": "white",
           "linecolor": "white",
           "ticks": "",
           "title": {
            "standoff": 15
           },
           "zerolinecolor": "white",
           "zerolinewidth": 2
          }
         }
        },
        "xaxis": {
         "anchor": "y",
         "domain": [
          0,
          1
         ],
         "title": {
          "text": "게시일"
         }
        },
        "yaxis": {
         "anchor": "x",
         "domain": [
          0,
          1
         ],
         "title": {
          "text": "value"
         }
        }
       }
      },
      "text/html": [
       "<div>                            <div id=\"3d66004b-5351-4aa1-b63d-3d51f35d08ff\" class=\"plotly-graph-div\" style=\"height:525px; width:100%;\"></div>            <script type=\"text/javascript\">                require([\"plotly\"], function(Plotly) {                    window.PLOTLYENV=window.PLOTLYENV || {};                                    if (document.getElementById(\"3d66004b-5351-4aa1-b63d-3d51f35d08ff\")) {                    Plotly.newPlot(                        \"3d66004b-5351-4aa1-b63d-3d51f35d08ff\",                        [{\"hovertemplate\":\"variable=\\uc870\\ud68c\\uc218<br>\\uac8c\\uc2dc\\uc77c=%{x}<br>value=%{y}<extra></extra>\",\"legendgroup\":\"\\uc870\\ud68c\\uc218\",\"line\":{\"color\":\"#636efa\",\"dash\":\"solid\"},\"marker\":{\"symbol\":\"circle\"},\"mode\":\"lines\",\"name\":\"\\uc870\\ud68c\\uc218\",\"orientation\":\"v\",\"showlegend\":true,\"x\":[\"2018-10-05\",\"2018-10-16\",\"2018-10-19\",\"2018-10-20\",\"2018-10-26\",\"2018-10-27\",\"2018-10-29\",\"2018-10-30\",\"2018-10-31\",\"2018-11-04\",\"2018-11-05\",\"2018-11-08\",\"2018-11-09\",\"2018-11-16\",\"2018-11-18\",\"2018-11-23\",\"2018-11-28\",\"2018-12-31\",\"2019-01-04\",\"2019-01-05\",\"2019-01-07\",\"2019-01-25\",\"2019-02-01\",\"2019-02-03\",\"2019-04-01\",\"2019-04-02\",\"2019-04-04\",\"2019-04-05\",\"2019-04-07\",\"2019-04-08\",\"2019-04-12\",\"2019-04-20\",\"2019-05-04\",\"2019-05-08\",\"2019-05-12\",\"2019-05-18\",\"2019-06-10\",\"2019-06-13\",\"2019-06-16\",\"2019-07-16\",\"2019-07-25\",\"2019-08-02\",\"2019-08-22\",\"2019-08-31\",\"2019-09-03\",\"2019-09-13\",\"2019-09-17\",\"2019-09-24\",\"2019-10-16\",\"2019-10-19\",\"2019-10-29\",\"2019-12-22\",\"2020-02-12\",\"2020-02-17\",\"2020-02-18\",\"2020-02-19\",\"2020-02-20\",\"2020-02-21\",\"2020-02-22\",\"2020-02-23\",\"2020-02-28\",\"2020-02-29\",\"2020-03-02\",\"2020-03-04\",\"2020-03-06\",\"2020-03-07\",\"2020-03-08\",\"2020-03-10\",\"2020-04-11\",\"2020-05-04\",\"2020-05-24\",\"2020-06-01\",\"2020-06-03\",\"2020-06-10\",\"2020-06-11\",\"2020-06-12\",\"2020-06-15\",\"2020-06-16\",\"2020-06-18\",\"2020-06-20\",\"2020-06-21\",\"2020-06-23\",\"2020-06-24\",\"2020-06-25\",\"2020-06-26\",\"2020-06-27\",\"2020-06-28\",\"2020-06-29\",\"2020-06-30\",\"2020-07-03\",\"2020-07-04\",\"2020-07-05\",\"2020-07-07\",\"2020-07-20\",\"2020-07-25\",\"2020-08-08\",\"2020-09-09\",\"2020-09-22\",\"2020-09-23\",\"2020-09-30\",\"2020-10-01\",\"2020-10-05\",\"2020-10-07\",\"2020-10-08\",\"2020-10-10\",\"2020-10-27\",\"2020-10-29\",\"2020-10-31\",\"2020-11-05\",\"2020-11-23\",\"2020-12-02\",\"2020-12-03\",\"2020-12-05\",\"2020-12-06\",\"2020-12-07\",\"2020-12-08\",\"2020-12-09\",\"2020-12-10\",\"2020-12-11\",\"2020-12-12\",\"2020-12-13\",\"2020-12-14\",\"2020-12-15\",\"2020-12-16\",\"2020-12-17\",\"2020-12-18\",\"2020-12-19\",\"2020-12-20\",\"2020-12-25\",\"2020-12-30\",\"2020-12-31\",\"2021-01-01\",\"2021-01-02\",\"2021-01-06\",\"2021-01-08\",\"2021-01-09\",\"2021-01-15\",\"2021-01-16\",\"2021-01-20\",\"2021-01-24\",\"2021-01-26\",\"2021-01-27\",\"2021-01-31\",\"2021-02-01\",\"2021-02-02\",\"2021-02-08\",\"2021-02-13\",\"2021-02-15\",\"2021-02-16\",\"2021-02-18\",\"2021-02-25\",\"2021-03-04\",\"2021-03-07\",\"2021-03-13\",\"2021-03-14\",\"2021-03-15\",\"2021-03-16\",\"2021-03-17\",\"2021-03-24\",\"2021-03-25\",\"2021-03-26\",\"2021-03-27\",\"2021-03-31\",\"2021-04-02\",\"2021-04-09\",\"2021-04-18\",\"2021-04-19\",\"2021-04-23\",\"2021-04-26\",\"2021-04-29\",\"2021-05-02\",\"2021-05-05\",\"2021-05-09\",\"2021-05-17\",\"2021-05-19\",\"2021-05-29\",\"2021-05-30\",\"2021-06-05\",\"2021-06-11\",\"2021-06-12\",\"2021-06-14\",\"2021-06-15\",\"2021-06-18\",\"2021-06-19\",\"2021-06-23\",\"2021-06-27\",\"2021-06-29\",\"2021-06-30\",\"2021-07-01\",\"2021-07-03\",\"2021-07-04\",\"2021-07-06\",\"2021-07-07\",\"2021-07-09\",\"2021-07-16\",\"2021-07-17\",\"2021-07-18\",\"2021-07-21\",\"2021-07-23\",\"2021-07-29\",\"2021-07-30\",\"2021-08-03\",\"2021-08-06\",\"2021-08-07\",\"2021-08-08\",\"2021-08-09\",\"2021-08-10\",\"2021-08-12\",\"2021-08-13\",\"2021-08-17\",\"2021-08-18\",\"2021-08-19\",\"2021-08-20\",\"2021-08-22\",\"2021-08-23\",\"2021-08-27\",\"2021-09-05\",\"2021-09-07\",\"2021-09-13\",\"2021-09-14\",\"2021-09-17\",\"2021-09-23\",\"2021-10-07\",\"2021-10-11\",\"2021-10-12\",\"2021-10-13\",\"2021-10-14\",\"2021-10-15\",\"2021-10-16\",\"2021-10-23\",\"2021-10-29\",\"2021-11-11\",\"2021-11-13\",\"2021-11-14\",\"2021-11-20\",\"2021-11-21\",\"2021-11-23\",\"2021-11-24\",\"2021-11-26\",\"2021-11-28\",\"2021-11-30\",\"2021-12-03\",\"2021-12-05\",\"2021-12-06\",\"2021-12-09\",\"2021-12-11\",\"2021-12-12\",\"2021-12-13\",\"2021-12-14\",\"2021-12-17\",\"2021-12-18\",\"2021-12-19\",\"2021-12-21\",\"2021-12-22\",\"2021-12-23\",\"2021-12-24\",\"2021-12-25\",\"2021-12-26\",\"2021-12-27\",\"2021-12-28\",\"2021-12-29\",\"2021-12-30\",\"2021-12-31\",\"2022-01-01\"],\"xaxis\":\"x\",\"y\":[19226942,783094,6262375,5184354,848708,9834882,172050945,765506,10671534,18816739,13937237,7738689,28481942,2795337,137424,365842,16164786,3637788,384225,10082409,5791259,27205106,1323189,3034682,120366696,10833772,3526381,2833460,23960947,14567638,263122,3426283,8155677,1511657,8302657,6974709,2925937,15531187,2876492,9726738,3233846,2297168,53777,2623710,1470498,17795740,2936166,2288393,6762978,7895288,3800278,1605912,1627376,136821041,19795784,13363312,2606278,4278923,2002922,3645744,13052757,10446984,1713889,453784,8090183,1590424,808474,5234614,1817050,4061040,675104,2563950,592923,349930,1882560,459963,13208110,79452149,15201261,6747272,4213156,8890132,1020203,863482,5408005,1176183,1121926,990182,720366,4655391,297211,5039742,1268141,2262747,462520,6323731,24221,148081,49807,540698,3744449,11820458,14465256,161935,1945262,539802,1547358,775101,158297,90334,1494045,1264037,1758500,8048864,88883534,6689899,1824280,2341443,18467251,1693815,16223234,13614753,2009382,5762112,13337137,8649644,892437,3084463,2577083,449782,10991628,2316938,3659885,1637453,804912,366428,838501,2010703,381197,5834,983598,702546,55584,374171,2101165,370246,868681,1754185,145470,389519,4709527,53736,1233337,4040576,115973,346739,304293,570827,6111017,16339444,2983473,5817338,231009,1353838,7397,6112,1633742,2009879,108794,194082,2544805,1149032,616270,3760914,413357,216284,205599,415028,2033621,798625,679918,4858722,1041522,1018917,131506,903076,197915,433211,1248172,262134,4001797,867725,281600,577066,2250385,757879,5310686,358352,576674,281979,231843,309231,5497578,1527366,524914,198386,1112575,403822,189038,931756,49622,836851,127317,372224,408388,14450020,343121,1393436,7407,273226,8608,17500,4477221,83086,122700,1690198,26505,144454,3096489,13435,21531,597586,226225,167242,769426,338035,47420,1053689,279378,194221,576673,362554,2060843,126039,51796,313798,346875,240205,172555,344136,3247,460239,129316,563917,28649,13942,173977,643975,903884,59097,39312,71130,99626,6672],\"yaxis\":\"y\",\"type\":\"scatter\"}],                        {\"template\":{\"data\":{\"bar\":[{\"error_x\":{\"color\":\"#2a3f5f\"},\"error_y\":{\"color\":\"#2a3f5f\"},\"marker\":{\"line\":{\"color\":\"#E5ECF6\",\"width\":0.5},\"pattern\":{\"fillmode\":\"overlay\",\"size\":10,\"solidity\":0.2}},\"type\":\"bar\"}],\"barpolar\":[{\"marker\":{\"line\":{\"color\":\"#E5ECF6\",\"width\":0.5},\"pattern\":{\"fillmode\":\"overlay\",\"size\":10,\"solidity\":0.2}},\"type\":\"barpolar\"}],\"carpet\":[{\"aaxis\":{\"endlinecolor\":\"#2a3f5f\",\"gridcolor\":\"white\",\"linecolor\":\"white\",\"minorgridcolor\":\"white\",\"startlinecolor\":\"#2a3f5f\"},\"baxis\":{\"endlinecolor\":\"#2a3f5f\",\"gridcolor\":\"white\",\"linecolor\":\"white\",\"minorgridcolor\":\"white\",\"startlinecolor\":\"#2a3f5f\"},\"type\":\"carpet\"}],\"choropleth\":[{\"colorbar\":{\"outlinewidth\":0,\"ticks\":\"\"},\"type\":\"choropleth\"}],\"contour\":[{\"colorbar\":{\"outlinewidth\":0,\"ticks\":\"\"},\"colorscale\":[[0.0,\"#0d0887\"],[0.1111111111111111,\"#46039f\"],[0.2222222222222222,\"#7201a8\"],[0.3333333333333333,\"#9c179e\"],[0.4444444444444444,\"#bd3786\"],[0.5555555555555556,\"#d8576b\"],[0.6666666666666666,\"#ed7953\"],[0.7777777777777778,\"#fb9f3a\"],[0.8888888888888888,\"#fdca26\"],[1.0,\"#f0f921\"]],\"type\":\"contour\"}],\"contourcarpet\":[{\"colorbar\":{\"outlinewidth\":0,\"ticks\":\"\"},\"type\":\"contourcarpet\"}],\"heatmap\":[{\"colorbar\":{\"outlinewidth\":0,\"ticks\":\"\"},\"colorscale\":[[0.0,\"#0d0887\"],[0.1111111111111111,\"#46039f\"],[0.2222222222222222,\"#7201a8\"],[0.3333333333333333,\"#9c179e\"],[0.4444444444444444,\"#bd3786\"],[0.5555555555555556,\"#d8576b\"],[0.6666666666666666,\"#ed7953\"],[0.7777777777777778,\"#fb9f3a\"],[0.8888888888888888,\"#fdca26\"],[1.0,\"#f0f921\"]],\"type\":\"heatmap\"}],\"heatmapgl\":[{\"colorbar\":{\"outlinewidth\":0,\"ticks\":\"\"},\"colorscale\":[[0.0,\"#0d0887\"],[0.1111111111111111,\"#46039f\"],[0.2222222222222222,\"#7201a8\"],[0.3333333333333333,\"#9c179e\"],[0.4444444444444444,\"#bd3786\"],[0.5555555555555556,\"#d8576b\"],[0.6666666666666666,\"#ed7953\"],[0.7777777777777778,\"#fb9f3a\"],[0.8888888888888888,\"#fdca26\"],[1.0,\"#f0f921\"]],\"type\":\"heatmapgl\"}],\"histogram\":[{\"marker\":{\"pattern\":{\"fillmode\":\"overlay\",\"size\":10,\"solidity\":0.2}},\"type\":\"histogram\"}],\"histogram2d\":[{\"colorbar\":{\"outlinewidth\":0,\"ticks\":\"\"},\"colorscale\":[[0.0,\"#0d0887\"],[0.1111111111111111,\"#46039f\"],[0.2222222222222222,\"#7201a8\"],[0.3333333333333333,\"#9c179e\"],[0.4444444444444444,\"#bd3786\"],[0.5555555555555556,\"#d8576b\"],[0.6666666666666666,\"#ed7953\"],[0.7777777777777778,\"#fb9f3a\"],[0.8888888888888888,\"#fdca26\"],[1.0,\"#f0f921\"]],\"type\":\"histogram2d\"}],\"histogram2dcontour\":[{\"colorbar\":{\"outlinewidth\":0,\"ticks\":\"\"},\"colorscale\":[[0.0,\"#0d0887\"],[0.1111111111111111,\"#46039f\"],[0.2222222222222222,\"#7201a8\"],[0.3333333333333333,\"#9c179e\"],[0.4444444444444444,\"#bd3786\"],[0.5555555555555556,\"#d8576b\"],[0.6666666666666666,\"#ed7953\"],[0.7777777777777778,\"#fb9f3a\"],[0.8888888888888888,\"#fdca26\"],[1.0,\"#f0f921\"]],\"type\":\"histogram2dcontour\"}],\"mesh3d\":[{\"colorbar\":{\"outlinewidth\":0,\"ticks\":\"\"},\"type\":\"mesh3d\"}],\"parcoords\":[{\"line\":{\"colorbar\":{\"outlinewidth\":0,\"ticks\":\"\"}},\"type\":\"parcoords\"}],\"pie\":[{\"automargin\":true,\"type\":\"pie\"}],\"scatter\":[{\"marker\":{\"colorbar\":{\"outlinewidth\":0,\"ticks\":\"\"}},\"type\":\"scatter\"}],\"scatter3d\":[{\"line\":{\"colorbar\":{\"outlinewidth\":0,\"ticks\":\"\"}},\"marker\":{\"colorbar\":{\"outlinewidth\":0,\"ticks\":\"\"}},\"type\":\"scatter3d\"}],\"scattercarpet\":[{\"marker\":{\"colorbar\":{\"outlinewidth\":0,\"ticks\":\"\"}},\"type\":\"scattercarpet\"}],\"scattergeo\":[{\"marker\":{\"colorbar\":{\"outlinewidth\":0,\"ticks\":\"\"}},\"type\":\"scattergeo\"}],\"scattergl\":[{\"marker\":{\"colorbar\":{\"outlinewidth\":0,\"ticks\":\"\"}},\"type\":\"scattergl\"}],\"scattermapbox\":[{\"marker\":{\"colorbar\":{\"outlinewidth\":0,\"ticks\":\"\"}},\"type\":\"scattermapbox\"}],\"scatterpolar\":[{\"marker\":{\"colorbar\":{\"outlinewidth\":0,\"ticks\":\"\"}},\"type\":\"scatterpolar\"}],\"scatterpolargl\":[{\"marker\":{\"colorbar\":{\"outlinewidth\":0,\"ticks\":\"\"}},\"type\":\"scatterpolargl\"}],\"scatterternary\":[{\"marker\":{\"colorbar\":{\"outlinewidth\":0,\"ticks\":\"\"}},\"type\":\"scatterternary\"}],\"surface\":[{\"colorbar\":{\"outlinewidth\":0,\"ticks\":\"\"},\"colorscale\":[[0.0,\"#0d0887\"],[0.1111111111111111,\"#46039f\"],[0.2222222222222222,\"#7201a8\"],[0.3333333333333333,\"#9c179e\"],[0.4444444444444444,\"#bd3786\"],[0.5555555555555556,\"#d8576b\"],[0.6666666666666666,\"#ed7953\"],[0.7777777777777778,\"#fb9f3a\"],[0.8888888888888888,\"#fdca26\"],[1.0,\"#f0f921\"]],\"type\":\"surface\"}],\"table\":[{\"cells\":{\"fill\":{\"color\":\"#EBF0F8\"},\"line\":{\"color\":\"white\"}},\"header\":{\"fill\":{\"color\":\"#C8D4E3\"},\"line\":{\"color\":\"white\"}},\"type\":\"table\"}]},\"layout\":{\"annotationdefaults\":{\"arrowcolor\":\"#2a3f5f\",\"arrowhead\":0,\"arrowwidth\":1},\"autotypenumbers\":\"strict\",\"coloraxis\":{\"colorbar\":{\"outlinewidth\":0,\"ticks\":\"\"}},\"colorscale\":{\"diverging\":[[0,\"#8e0152\"],[0.1,\"#c51b7d\"],[0.2,\"#de77ae\"],[0.3,\"#f1b6da\"],[0.4,\"#fde0ef\"],[0.5,\"#f7f7f7\"],[0.6,\"#e6f5d0\"],[0.7,\"#b8e186\"],[0.8,\"#7fbc41\"],[0.9,\"#4d9221\"],[1,\"#276419\"]],\"sequential\":[[0.0,\"#0d0887\"],[0.1111111111111111,\"#46039f\"],[0.2222222222222222,\"#7201a8\"],[0.3333333333333333,\"#9c179e\"],[0.4444444444444444,\"#bd3786\"],[0.5555555555555556,\"#d8576b\"],[0.6666666666666666,\"#ed7953\"],[0.7777777777777778,\"#fb9f3a\"],[0.8888888888888888,\"#fdca26\"],[1.0,\"#f0f921\"]],\"sequentialminus\":[[0.0,\"#0d0887\"],[0.1111111111111111,\"#46039f\"],[0.2222222222222222,\"#7201a8\"],[0.3333333333333333,\"#9c179e\"],[0.4444444444444444,\"#bd3786\"],[0.5555555555555556,\"#d8576b\"],[0.6666666666666666,\"#ed7953\"],[0.7777777777777778,\"#fb9f3a\"],[0.8888888888888888,\"#fdca26\"],[1.0,\"#f0f921\"]]},\"colorway\":[\"#636efa\",\"#EF553B\",\"#00cc96\",\"#ab63fa\",\"#FFA15A\",\"#19d3f3\",\"#FF6692\",\"#B6E880\",\"#FF97FF\",\"#FECB52\"],\"font\":{\"color\":\"#2a3f5f\"},\"geo\":{\"bgcolor\":\"white\",\"lakecolor\":\"white\",\"landcolor\":\"#E5ECF6\",\"showlakes\":true,\"showland\":true,\"subunitcolor\":\"white\"},\"hoverlabel\":{\"align\":\"left\"},\"hovermode\":\"closest\",\"mapbox\":{\"style\":\"light\"},\"paper_bgcolor\":\"white\",\"plot_bgcolor\":\"#E5ECF6\",\"polar\":{\"angularaxis\":{\"gridcolor\":\"white\",\"linecolor\":\"white\",\"ticks\":\"\"},\"bgcolor\":\"#E5ECF6\",\"radialaxis\":{\"gridcolor\":\"white\",\"linecolor\":\"white\",\"ticks\":\"\"}},\"scene\":{\"xaxis\":{\"backgroundcolor\":\"#E5ECF6\",\"gridcolor\":\"white\",\"gridwidth\":2,\"linecolor\":\"white\",\"showbackground\":true,\"ticks\":\"\",\"zerolinecolor\":\"white\"},\"yaxis\":{\"backgroundcolor\":\"#E5ECF6\",\"gridcolor\":\"white\",\"gridwidth\":2,\"linecolor\":\"white\",\"showbackground\":true,\"ticks\":\"\",\"zerolinecolor\":\"white\"},\"zaxis\":{\"backgroundcolor\":\"#E5ECF6\",\"gridcolor\":\"white\",\"gridwidth\":2,\"linecolor\":\"white\",\"showbackground\":true,\"ticks\":\"\",\"zerolinecolor\":\"white\"}},\"shapedefaults\":{\"line\":{\"color\":\"#2a3f5f\"}},\"ternary\":{\"aaxis\":{\"gridcolor\":\"white\",\"linecolor\":\"white\",\"ticks\":\"\"},\"baxis\":{\"gridcolor\":\"white\",\"linecolor\":\"white\",\"ticks\":\"\"},\"bgcolor\":\"#E5ECF6\",\"caxis\":{\"gridcolor\":\"white\",\"linecolor\":\"white\",\"ticks\":\"\"}},\"title\":{\"x\":0.05},\"xaxis\":{\"automargin\":true,\"gridcolor\":\"white\",\"linecolor\":\"white\",\"ticks\":\"\",\"title\":{\"standoff\":15},\"zerolinecolor\":\"white\",\"zerolinewidth\":2},\"yaxis\":{\"automargin\":true,\"gridcolor\":\"white\",\"linecolor\":\"white\",\"ticks\":\"\",\"title\":{\"standoff\":15},\"zerolinecolor\":\"white\",\"zerolinewidth\":2}}},\"xaxis\":{\"anchor\":\"y\",\"domain\":[0.0,1.0],\"title\":{\"text\":\"\\uac8c\\uc2dc\\uc77c\"}},\"yaxis\":{\"anchor\":\"x\",\"domain\":[0.0,1.0],\"title\":{\"text\":\"value\"}},\"legend\":{\"title\":{\"text\":\"variable\"},\"tracegroupgap\":0},\"margin\":{\"t\":60}},                        {\"responsive\": true}                    ).then(function(){\n",
       "                            \n",
       "var gd = document.getElementById('3d66004b-5351-4aa1-b63d-3d51f35d08ff');\n",
       "var x = new MutationObserver(function (mutations, observer) {{\n",
       "        var display = window.getComputedStyle(gd).display;\n",
       "        if (!display || display === 'none') {{\n",
       "            console.log([gd, 'removed!']);\n",
       "            Plotly.purge(gd);\n",
       "            observer.disconnect();\n",
       "        }}\n",
       "}});\n",
       "\n",
       "// Listen for the removal of the full notebook cells\n",
       "var notebookContainer = gd.closest('#notebook-container');\n",
       "if (notebookContainer) {{\n",
       "    x.observe(notebookContainer, {childList: true});\n",
       "}}\n",
       "\n",
       "// Listen for the clearing of the current output cell\n",
       "var outputEl = gd.closest('.output');\n",
       "if (outputEl) {{\n",
       "    x.observe(outputEl, {childList: true});\n",
       "}}\n",
       "\n",
       "                        })                };                });            </script>        </div>"
      ]
     },
     "metadata": {},
     "output_type": "display_data"
    }
   ],
   "source": [
    "non_official_view_df= non_official_df['조회수'].groupby(izone_df['게시일']).sum()\n",
    "non_official_view_df.plot()"
   ]
  },
  {
   "cell_type": "code",
   "execution_count": 10,
   "id": "71fe7c4f",
   "metadata": {
    "ExecuteTime": {
     "end_time": "2022-01-01T07:05:50.603767Z",
     "start_time": "2022-01-01T07:05:50.589767Z"
    }
   },
   "outputs": [
    {
     "data": {
      "text/html": [
       "<div>\n",
       "<style scoped>\n",
       "    .dataframe tbody tr th:only-of-type {\n",
       "        vertical-align: middle;\n",
       "    }\n",
       "\n",
       "    .dataframe tbody tr th {\n",
       "        vertical-align: top;\n",
       "    }\n",
       "\n",
       "    .dataframe thead th {\n",
       "        text-align: right;\n",
       "    }\n",
       "</style>\n",
       "<table border=\"1\" class=\"dataframe\">\n",
       "  <thead>\n",
       "    <tr style=\"text-align: right;\">\n",
       "      <th></th>\n",
       "      <th>제목</th>\n",
       "      <th>업로더</th>\n",
       "      <th>조회수</th>\n",
       "      <th>게시일</th>\n",
       "    </tr>\n",
       "  </thead>\n",
       "  <tbody>\n",
       "    <tr>\n",
       "      <th>1</th>\n",
       "      <td>아이즈원</td>\n",
       "      <td>강민혁 X 차누</td>\n",
       "      <td>3727913</td>\n",
       "      <td>2021-03-25</td>\n",
       "    </tr>\n",
       "    <tr>\n",
       "      <th>3</th>\n",
       "      <td>아이즈원(IZ*ONE) - Panorama(파노라마) 교차편집(stage mix)</td>\n",
       "      <td>강민혁 X 차누</td>\n",
       "      <td>5157126</td>\n",
       "      <td>2021-03-24</td>\n",
       "    </tr>\n",
       "    <tr>\n",
       "      <th>4</th>\n",
       "      <td>IZ*ONE (아이즈원) 'Panorama' MV</td>\n",
       "      <td>Stone Music Entertainment</td>\n",
       "      <td>69191968</td>\n",
       "      <td>2020-12-07</td>\n",
       "    </tr>\n",
       "    <tr>\n",
       "      <th>5</th>\n",
       "      <td>[4회] 아홉 개의 보석! '크라운' ♬FIESTA_IZ*ONE(아이즈원) @CON...</td>\n",
       "      <td>Mnet K-POP</td>\n",
       "      <td>9694389</td>\n",
       "      <td>2021-08-27</td>\n",
       "    </tr>\n",
       "    <tr>\n",
       "      <th>6</th>\n",
       "      <td>[ENG/JPN] 🧐마피아게임 하다가 단체로 드러누운(?) 아이즈원 | IZ*ONE...</td>\n",
       "      <td>딩고 뮤직 / dingo music</td>\n",
       "      <td>5807974</td>\n",
       "      <td>2020-12-13</td>\n",
       "    </tr>\n",
       "    <tr>\n",
       "      <th>...</th>\n",
       "      <td>...</td>\n",
       "      <td>...</td>\n",
       "      <td>...</td>\n",
       "      <td>...</td>\n",
       "    </tr>\n",
       "    <tr>\n",
       "      <th>511</th>\n",
       "      <td>[입덕직캠] 아이즈원 미야와키 사쿠라 직캠 4K 'Panorama' (IZ*ONE ...</td>\n",
       "      <td>M2</td>\n",
       "      <td>2186092</td>\n",
       "      <td>2020-12-20</td>\n",
       "    </tr>\n",
       "    <tr>\n",
       "      <th>513</th>\n",
       "      <td>[MPD직캠] 아이즈원 김채원 직캠 4K ‘Panorama’ (IZ*ONE Kim ...</td>\n",
       "      <td>M2</td>\n",
       "      <td>2489050</td>\n",
       "      <td>2020-12-08</td>\n",
       "    </tr>\n",
       "    <tr>\n",
       "      <th>515</th>\n",
       "      <td>[Artist Of The Month] '16 Shots' covered by IZ...</td>\n",
       "      <td>STUDIO CHOOM [스튜디오 춤]</td>\n",
       "      <td>11180199</td>\n",
       "      <td>2020-10-05</td>\n",
       "    </tr>\n",
       "    <tr>\n",
       "      <th>520</th>\n",
       "      <td>[입덕직캠] 아이즈원 안유진 직캠 4K ‘Sequence’ (IZ*ONE Ahn Y...</td>\n",
       "      <td>M2</td>\n",
       "      <td>3601004</td>\n",
       "      <td>2020-12-11</td>\n",
       "    </tr>\n",
       "    <tr>\n",
       "      <th>521</th>\n",
       "      <td>Ear Massage with Glass Dropper 👂 ASMR Full Ver...</td>\n",
       "      <td>M2</td>\n",
       "      <td>2422951</td>\n",
       "      <td>2020-07-05</td>\n",
       "    </tr>\n",
       "  </tbody>\n",
       "</table>\n",
       "<p>139 rows × 4 columns</p>\n",
       "</div>"
      ],
      "text/plain": [
       "                                                    제목  \\\n",
       "1                                                 아이즈원   \n",
       "3        아이즈원(IZ*ONE) - Panorama(파노라마) 교차편집(stage mix)   \n",
       "4                          IZ*ONE (아이즈원) 'Panorama' MV   \n",
       "5    [4회] 아홉 개의 보석! '크라운' ♬FIESTA_IZ*ONE(아이즈원) @CON...   \n",
       "6    [ENG/JPN] 🧐마피아게임 하다가 단체로 드러누운(?) 아이즈원 | IZ*ONE...   \n",
       "..                                                 ...   \n",
       "511  [입덕직캠] 아이즈원 미야와키 사쿠라 직캠 4K 'Panorama' (IZ*ONE ...   \n",
       "513  [MPD직캠] 아이즈원 김채원 직캠 4K ‘Panorama’ (IZ*ONE Kim ...   \n",
       "515  [Artist Of The Month] '16 Shots' covered by IZ...   \n",
       "520  [입덕직캠] 아이즈원 안유진 직캠 4K ‘Sequence’ (IZ*ONE Ahn Y...   \n",
       "521  Ear Massage with Glass Dropper 👂 ASMR Full Ver...   \n",
       "\n",
       "                           업로더       조회수         게시일  \n",
       "1                     강민혁 X 차누   3727913  2021-03-25  \n",
       "3                     강민혁 X 차누   5157126  2021-03-24  \n",
       "4    Stone Music Entertainment  69191968  2020-12-07  \n",
       "5                   Mnet K-POP   9694389  2021-08-27  \n",
       "6          딩고 뮤직 / dingo music   5807974  2020-12-13  \n",
       "..                         ...       ...         ...  \n",
       "511                         M2   2186092  2020-12-20  \n",
       "513                         M2   2489050  2020-12-08  \n",
       "515      STUDIO CHOOM [스튜디오 춤]  11180199  2020-10-05  \n",
       "520                         M2   3601004  2020-12-11  \n",
       "521                         M2   2422951  2020-07-05  \n",
       "\n",
       "[139 rows x 4 columns]"
      ]
     },
     "execution_count": 10,
     "metadata": {},
     "output_type": "execute_result"
    }
   ],
   "source": [
    "#200만 뷰를 넘은 영상은?\n",
    "non_official_df[non_official_df['조회수']>2000000]"
   ]
  },
  {
   "cell_type": "markdown",
   "id": "be8dc37d",
   "metadata": {},
   "source": [
    "# 가장 열심히 영상을 올려준 상위 10인의 유튜버는?"
   ]
  },
  {
   "cell_type": "code",
   "execution_count": 11,
   "id": "dd22ac84",
   "metadata": {
    "ExecuteTime": {
     "end_time": "2022-01-01T07:05:50.618768Z",
     "start_time": "2022-01-01T07:05:50.604768Z"
    }
   },
   "outputs": [],
   "source": [
    "uploader_count = izone_df['업로더'].groupby(izone_df['업로더']).count().to_frame()"
   ]
  },
  {
   "cell_type": "code",
   "execution_count": 12,
   "id": "a371eae2",
   "metadata": {
    "ExecuteTime": {
     "end_time": "2022-01-01T07:05:50.633767Z",
     "start_time": "2022-01-01T07:05:50.619767Z"
    }
   },
   "outputs": [
    {
     "data": {
      "text/html": [
       "<div>\n",
       "<style scoped>\n",
       "    .dataframe tbody tr th:only-of-type {\n",
       "        vertical-align: middle;\n",
       "    }\n",
       "\n",
       "    .dataframe tbody tr th {\n",
       "        vertical-align: top;\n",
       "    }\n",
       "\n",
       "    .dataframe thead th {\n",
       "        text-align: right;\n",
       "    }\n",
       "</style>\n",
       "<table border=\"1\" class=\"dataframe\">\n",
       "  <thead>\n",
       "    <tr style=\"text-align: right;\">\n",
       "      <th></th>\n",
       "      <th>카운트</th>\n",
       "    </tr>\n",
       "    <tr>\n",
       "      <th>업로더</th>\n",
       "      <th></th>\n",
       "    </tr>\n",
       "  </thead>\n",
       "  <tbody>\n",
       "    <tr>\n",
       "      <th>M2</th>\n",
       "      <td>72</td>\n",
       "    </tr>\n",
       "    <tr>\n",
       "      <th>쌈조TV3</th>\n",
       "      <td>56</td>\n",
       "    </tr>\n",
       "    <tr>\n",
       "      <th>official IZ*ONE</th>\n",
       "      <td>25</td>\n",
       "    </tr>\n",
       "    <tr>\n",
       "      <th>Mnet K-POP</th>\n",
       "      <td>21</td>\n",
       "    </tr>\n",
       "    <tr>\n",
       "      <th>Stone Music Entertainment</th>\n",
       "      <td>18</td>\n",
       "    </tr>\n",
       "    <tr>\n",
       "      <th>KBS Kpop</th>\n",
       "      <td>17</td>\n",
       "    </tr>\n",
       "    <tr>\n",
       "      <th>스브스케이팝 / SBS KPOP</th>\n",
       "      <td>17</td>\n",
       "    </tr>\n",
       "    <tr>\n",
       "      <th>강민혁 X 차누</th>\n",
       "      <td>14</td>\n",
       "    </tr>\n",
       "    <tr>\n",
       "      <th>ALL THE K-POP</th>\n",
       "      <td>10</td>\n",
       "    </tr>\n",
       "    <tr>\n",
       "      <th>MBCkpop</th>\n",
       "      <td>10</td>\n",
       "    </tr>\n",
       "    <tr>\n",
       "      <th>그린채널</th>\n",
       "      <td>8</td>\n",
       "    </tr>\n",
       "    <tr>\n",
       "      <th>쌈무는 못 말려</th>\n",
       "      <td>7</td>\n",
       "    </tr>\n",
       "    <tr>\n",
       "      <th>JTBC Voyage</th>\n",
       "      <td>6</td>\n",
       "    </tr>\n",
       "    <tr>\n",
       "      <th>JTBC Entertainment</th>\n",
       "      <td>6</td>\n",
       "    </tr>\n",
       "    <tr>\n",
       "      <th>쌈조TV2</th>\n",
       "      <td>6</td>\n",
       "    </tr>\n",
       "    <tr>\n",
       "      <th>The K-POP</th>\n",
       "      <td>6</td>\n",
       "    </tr>\n",
       "    <tr>\n",
       "      <th>최예나인생</th>\n",
       "      <td>5</td>\n",
       "    </tr>\n",
       "    <tr>\n",
       "      <th>ARTBEAT</th>\n",
       "      <td>5</td>\n",
       "    </tr>\n",
       "    <tr>\n",
       "      <th>비까리</th>\n",
       "      <td>4</td>\n",
       "    </tr>\n",
       "    <tr>\n",
       "      <th>앚빙구</th>\n",
       "      <td>4</td>\n",
       "    </tr>\n",
       "  </tbody>\n",
       "</table>\n",
       "</div>"
      ],
      "text/plain": [
       "                           카운트\n",
       "업로더                           \n",
       "M2                          72\n",
       "쌈조TV3                       56\n",
       "official IZ*ONE             25\n",
       "Mnet K-POP                  21\n",
       "Stone Music Entertainment   18\n",
       "KBS Kpop                    17\n",
       "스브스케이팝 / SBS KPOP           17\n",
       "강민혁 X 차누                    14\n",
       "ALL THE K-POP               10\n",
       "MBCkpop                     10\n",
       "그린채널                         8\n",
       "쌈무는 못 말려                     7\n",
       "JTBC Voyage                  6\n",
       "JTBC Entertainment           6\n",
       "쌈조TV2                        6\n",
       "The K-POP                    6\n",
       "최예나인생                        5\n",
       "ARTBEAT                      5\n",
       "비까리                          4\n",
       "앚빙구                          4"
      ]
     },
     "execution_count": 12,
     "metadata": {},
     "output_type": "execute_result"
    }
   ],
   "source": [
    "uploader_count.columns = ['카운트']\n",
    "uploader_count.sort_values(by='카운트',ascending=False).head(20)"
   ]
  }
 ],
 "metadata": {
  "kernelspec": {
   "display_name": "Python 3 (ipykernel)",
   "language": "python",
   "name": "python3"
  },
  "language_info": {
   "codemirror_mode": {
    "name": "ipython",
    "version": 3
   },
   "file_extension": ".py",
   "mimetype": "text/x-python",
   "name": "python",
   "nbconvert_exporter": "python",
   "pygments_lexer": "ipython3",
   "version": "3.7.11"
  },
  "toc": {
   "base_numbering": 1,
   "nav_menu": {},
   "number_sections": true,
   "sideBar": true,
   "skip_h1_title": false,
   "title_cell": "Table of Contents",
   "title_sidebar": "Contents",
   "toc_cell": false,
   "toc_position": {},
   "toc_section_display": true,
   "toc_window_display": false
  },
  "varInspector": {
   "cols": {
    "lenName": 16,
    "lenType": 16,
    "lenVar": 40
   },
   "kernels_config": {
    "python": {
     "delete_cmd_postfix": "",
     "delete_cmd_prefix": "del ",
     "library": "var_list.py",
     "varRefreshCmd": "print(var_dic_list())"
    },
    "r": {
     "delete_cmd_postfix": ") ",
     "delete_cmd_prefix": "rm(",
     "library": "var_list.r",
     "varRefreshCmd": "cat(var_dic_list()) "
    }
   },
   "types_to_exclude": [
    "module",
    "function",
    "builtin_function_or_method",
    "instance",
    "_Feature"
   ],
   "window_display": false
  }
 },
 "nbformat": 4,
 "nbformat_minor": 5
}
