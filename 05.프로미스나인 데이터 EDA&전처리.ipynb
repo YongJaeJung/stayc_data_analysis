{
 "cells": [
  {
   "cell_type": "markdown",
   "id": "09261b75",
   "metadata": {},
   "source": [
    "# 필요한 라이브러리, 데이터 로드"
   ]
  },
  {
   "cell_type": "code",
   "execution_count": 14,
   "id": "4fafbbd7",
   "metadata": {
    "ExecuteTime": {
     "end_time": "2022-01-01T05:27:25.477399Z",
     "start_time": "2022-01-01T05:27:25.463400Z"
    }
   },
   "outputs": [],
   "source": [
    "import pandas as pd\n",
    "import re"
   ]
  },
  {
   "cell_type": "code",
   "execution_count": 15,
   "id": "c0f3325c",
   "metadata": {
    "ExecuteTime": {
     "end_time": "2022-01-01T05:27:25.492399Z",
     "start_time": "2022-01-01T05:27:25.478399Z"
    }
   },
   "outputs": [],
   "source": [
    "fromis_9_df = pd.read_csv('./data/fromis_9_youtube.csv')\n",
    "fromis_9_df = fromis_9_df.drop(columns=fromis_9_df.columns[0],axis=1)"
   ]
  },
  {
   "cell_type": "code",
   "execution_count": 16,
   "id": "b282c911",
   "metadata": {
    "ExecuteTime": {
     "end_time": "2022-01-01T05:27:25.507403Z",
     "start_time": "2022-01-01T05:27:25.493399Z"
    }
   },
   "outputs": [],
   "source": [
    "fromis_9_df = fromis_9_df.dropna()"
   ]
  },
  {
   "cell_type": "code",
   "execution_count": 17,
   "id": "ff4a87b6",
   "metadata": {
    "ExecuteTime": {
     "end_time": "2022-01-01T05:27:25.522420Z",
     "start_time": "2022-01-01T05:27:25.508404Z"
    }
   },
   "outputs": [],
   "source": [
    "fromis_9_df = fromis_9_df.drop_duplicates(['제목'],keep='first')\n",
    "fromis_9_df = fromis_9_df.reset_index(drop=True)"
   ]
  },
  {
   "cell_type": "markdown",
   "id": "dfdf0b17",
   "metadata": {},
   "source": [
    "# 조회수"
   ]
  },
  {
   "cell_type": "code",
   "execution_count": 18,
   "id": "f4d678c9",
   "metadata": {
    "ExecuteTime": {
     "end_time": "2022-01-01T05:27:25.537411Z",
     "start_time": "2022-01-01T05:27:25.523425Z"
    }
   },
   "outputs": [],
   "source": [
    "click_num_re = re.compile('[0-9,]+')"
   ]
  },
  {
   "cell_type": "code",
   "execution_count": 19,
   "id": "4dd9b462",
   "metadata": {
    "ExecuteTime": {
     "end_time": "2022-01-01T05:27:25.552410Z",
     "start_time": "2022-01-01T05:27:25.538411Z"
    }
   },
   "outputs": [],
   "source": [
    "def click_clear(x):\n",
    "            \n",
    "    return int(click_num_re.findall(x)[0].replace(',',''))\n",
    "\n",
    "fromis_9_df['조회수'] = fromis_9_df['조회수'].map(click_clear)"
   ]
  },
  {
   "cell_type": "markdown",
   "id": "30e04ff6",
   "metadata": {},
   "source": [
    "# 게시일"
   ]
  },
  {
   "cell_type": "code",
   "execution_count": 20,
   "id": "42970e68",
   "metadata": {
    "ExecuteTime": {
     "end_time": "2022-01-01T05:27:25.567422Z",
     "start_time": "2022-01-01T05:27:25.553412Z"
    }
   },
   "outputs": [
    {
     "data": {
      "text/plain": [
       "datetime.datetime(2022, 1, 1, 0, 0)"
      ]
     },
     "execution_count": 20,
     "metadata": {},
     "output_type": "execute_result"
    }
   ],
   "source": [
    "from datetime import datetime\n",
    "from dateutil.relativedelta import relativedelta\n",
    "\n",
    "now = datetime.now()\n",
    "now - relativedelta(months=10)\n",
    "\n",
    "datetime(now.year,now.month,1)"
   ]
  },
  {
   "cell_type": "code",
   "execution_count": 21,
   "id": "e33f83e1",
   "metadata": {
    "ExecuteTime": {
     "end_time": "2022-01-01T05:27:25.582421Z",
     "start_time": "2022-01-01T05:27:25.568423Z"
    }
   },
   "outputs": [
    {
     "data": {
      "text/plain": [
       "'2021-9-30'"
      ]
     },
     "execution_count": 21,
     "metadata": {},
     "output_type": "execute_result"
    }
   ],
   "source": [
    "upload_num_re = re.compile('[0-9]+')\n",
    "#upload_str_re = re.compile('[가-힣]+')\n",
    "\n",
    "#upload_str_re.findall(fromis_9_df.loc[64,'게시일'])\n",
    "'-'.join(upload_num_re.findall(fromis_9_df.loc[2,'게시일']))"
   ]
  },
  {
   "cell_type": "code",
   "execution_count": 22,
   "id": "9bd774fa",
   "metadata": {
    "ExecuteTime": {
     "end_time": "2022-01-01T05:27:25.597814Z",
     "start_time": "2022-01-01T05:27:25.583423Z"
    }
   },
   "outputs": [],
   "source": [
    "def upload_clear(x):\n",
    "\n",
    "    return '-'.join(upload_num_re.findall(x))"
   ]
  },
  {
   "cell_type": "code",
   "execution_count": 23,
   "id": "25498386",
   "metadata": {
    "ExecuteTime": {
     "end_time": "2022-01-01T05:27:25.612814Z",
     "start_time": "2022-01-01T05:27:25.599815Z"
    }
   },
   "outputs": [],
   "source": [
    "fromis_9_df['게시일'] = fromis_9_df['게시일'].map(upload_clear)"
   ]
  },
  {
   "cell_type": "code",
   "execution_count": 24,
   "id": "f68cc9eb",
   "metadata": {
    "ExecuteTime": {
     "end_time": "2022-01-01T05:27:25.627830Z",
     "start_time": "2022-01-01T05:27:25.613815Z"
    }
   },
   "outputs": [
    {
     "data": {
      "text/html": [
       "<div>\n",
       "<style scoped>\n",
       "    .dataframe tbody tr th:only-of-type {\n",
       "        vertical-align: middle;\n",
       "    }\n",
       "\n",
       "    .dataframe tbody tr th {\n",
       "        vertical-align: top;\n",
       "    }\n",
       "\n",
       "    .dataframe thead th {\n",
       "        text-align: right;\n",
       "    }\n",
       "</style>\n",
       "<table border=\"1\" class=\"dataframe\">\n",
       "  <thead>\n",
       "    <tr style=\"text-align: right;\">\n",
       "      <th></th>\n",
       "      <th>제목</th>\n",
       "      <th>업로더</th>\n",
       "      <th>조회수</th>\n",
       "      <th>게시일</th>\n",
       "    </tr>\n",
       "  </thead>\n",
       "  <tbody>\n",
       "    <tr>\n",
       "      <th>0</th>\n",
       "      <td>[CHANNEL_9] fromis_9 (프로미스나인) '채널나인' EP.20 RUN...</td>\n",
       "      <td>Official fromis_9</td>\n",
       "      <td>62823</td>\n",
       "      <td>2021-12-30</td>\n",
       "    </tr>\n",
       "    <tr>\n",
       "      <th>1</th>\n",
       "      <td>fromis_9 (프로미스나인) 'Talk &amp; Talk' Official MV</td>\n",
       "      <td>HYBE LABELS</td>\n",
       "      <td>21665354</td>\n",
       "      <td>2021-9-1</td>\n",
       "    </tr>\n",
       "    <tr>\n",
       "      <th>2</th>\n",
       "      <td>프로미스나인(Fromis_9) - Talk &amp; Talk 교차편집(stage mix)</td>\n",
       "      <td>강민혁 X 차누</td>\n",
       "      <td>544393</td>\n",
       "      <td>2021-9-30</td>\n",
       "    </tr>\n",
       "    <tr>\n",
       "      <th>3</th>\n",
       "      <td>[BE ORIGINAL] fromis_9 (프로미스나인) 'Talk &amp; Talk' ...</td>\n",
       "      <td>STUDIO CHOOM [스튜디오 춤]</td>\n",
       "      <td>1836439</td>\n",
       "      <td>2021-9-4</td>\n",
       "    </tr>\n",
       "    <tr>\n",
       "      <th>4</th>\n",
       "      <td>[릴레이댄스] 프로미스나인 (fromis_9) - Talk &amp; Talk (4K)</td>\n",
       "      <td>M2</td>\n",
       "      <td>605471</td>\n",
       "      <td>2021-9-5</td>\n",
       "    </tr>\n",
       "  </tbody>\n",
       "</table>\n",
       "</div>"
      ],
      "text/plain": [
       "                                                  제목                    업로더  \\\n",
       "0  [CHANNEL_9] fromis_9 (프로미스나인) '채널나인' EP.20 RUN...      Official fromis_9   \n",
       "1        fromis_9 (프로미스나인) 'Talk & Talk' Official MV            HYBE LABELS   \n",
       "2     프로미스나인(Fromis_9) - Talk & Talk 교차편집(stage mix)               강민혁 X 차누   \n",
       "3  [BE ORIGINAL] fromis_9 (프로미스나인) 'Talk & Talk' ...  STUDIO CHOOM [스튜디오 춤]   \n",
       "4       [릴레이댄스] 프로미스나인 (fromis_9) - Talk & Talk (4K)                     M2   \n",
       "\n",
       "        조회수         게시일  \n",
       "0     62823  2021-12-30  \n",
       "1  21665354    2021-9-1  \n",
       "2    544393   2021-9-30  \n",
       "3   1836439    2021-9-4  \n",
       "4    605471    2021-9-5  "
      ]
     },
     "execution_count": 24,
     "metadata": {},
     "output_type": "execute_result"
    }
   ],
   "source": [
    "fromis_9_df.head()"
   ]
  },
  {
   "cell_type": "code",
   "execution_count": 25,
   "id": "19e6871c",
   "metadata": {
    "ExecuteTime": {
     "end_time": "2022-01-01T05:27:25.642847Z",
     "start_time": "2022-01-01T05:27:25.628832Z"
    }
   },
   "outputs": [],
   "source": [
    "fromis_9_df['게시일'] = pd.to_datetime(fromis_9_df['게시일'])"
   ]
  },
  {
   "cell_type": "code",
   "execution_count": 26,
   "id": "2a78d4ed",
   "metadata": {
    "ExecuteTime": {
     "end_time": "2022-01-01T05:27:25.658482Z",
     "start_time": "2022-01-01T05:27:25.643849Z"
    }
   },
   "outputs": [],
   "source": [
    "fromis_9_df.to_csv('./data/fromis_9_youtube_preprocessed.csv',encoding='utf-8-sig',index=False)"
   ]
  }
 ],
 "metadata": {
  "kernelspec": {
   "display_name": "Python 3 (ipykernel)",
   "language": "python",
   "name": "python3"
  },
  "language_info": {
   "codemirror_mode": {
    "name": "ipython",
    "version": 3
   },
   "file_extension": ".py",
   "mimetype": "text/x-python",
   "name": "python",
   "nbconvert_exporter": "python",
   "pygments_lexer": "ipython3",
   "version": "3.7.11"
  },
  "toc": {
   "base_numbering": 1,
   "nav_menu": {},
   "number_sections": true,
   "sideBar": true,
   "skip_h1_title": false,
   "title_cell": "Table of Contents",
   "title_sidebar": "Contents",
   "toc_cell": false,
   "toc_position": {},
   "toc_section_display": true,
   "toc_window_display": false
  },
  "varInspector": {
   "cols": {
    "lenName": 16,
    "lenType": 16,
    "lenVar": 40
   },
   "kernels_config": {
    "python": {
     "delete_cmd_postfix": "",
     "delete_cmd_prefix": "del ",
     "library": "var_list.py",
     "varRefreshCmd": "print(var_dic_list())"
    },
    "r": {
     "delete_cmd_postfix": ") ",
     "delete_cmd_prefix": "rm(",
     "library": "var_list.r",
     "varRefreshCmd": "cat(var_dic_list()) "
    }
   },
   "types_to_exclude": [
    "module",
    "function",
    "builtin_function_or_method",
    "instance",
    "_Feature"
   ],
   "window_display": false
  }
 },
 "nbformat": 4,
 "nbformat_minor": 5
}
