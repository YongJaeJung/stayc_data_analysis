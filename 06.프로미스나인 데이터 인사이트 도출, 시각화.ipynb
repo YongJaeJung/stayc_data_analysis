{
 "cells": [
  {
   "cell_type": "markdown",
   "id": "09261b75",
   "metadata": {},
   "source": [
    "# 필요한 라이브러리, 데이터 로드"
   ]
  },
  {
   "cell_type": "code",
   "execution_count": 1,
   "id": "4fafbbd7",
   "metadata": {
    "ExecuteTime": {
     "end_time": "2022-01-01T05:27:49.770343Z",
     "start_time": "2022-01-01T05:27:41.971193Z"
    }
   },
   "outputs": [
    {
     "data": {
      "text/html": [
       "        <script type=\"text/javascript\">\n",
       "        window.PlotlyConfig = {MathJaxConfig: 'local'};\n",
       "        if (window.MathJax) {MathJax.Hub.Config({SVG: {font: \"STIX-Web\"}});}\n",
       "        if (typeof require !== 'undefined') {\n",
       "        require.undef(\"plotly\");\n",
       "        requirejs.config({\n",
       "            paths: {\n",
       "                'plotly': ['https://cdn.plot.ly/plotly-2.8.3.min']\n",
       "            }\n",
       "        });\n",
       "        require(['plotly'], function(Plotly) {\n",
       "            window._Plotly = Plotly;\n",
       "        });\n",
       "        }\n",
       "        </script>\n",
       "        "
      ]
     },
     "metadata": {},
     "output_type": "display_data"
    }
   ],
   "source": [
    "import pandas as pd\n",
    "import re\n",
    "pd.options.plotting.backend = \"plotly\"\n",
    "import cufflinks as cf\n",
    "cf.go_offline(connected=True)\n",
    "from more_itertools import locate,replace"
   ]
  },
  {
   "cell_type": "code",
   "execution_count": 2,
   "id": "c0f3325c",
   "metadata": {
    "ExecuteTime": {
     "end_time": "2022-01-01T05:27:49.800343Z",
     "start_time": "2022-01-01T05:27:49.771345Z"
    }
   },
   "outputs": [
    {
     "data": {
      "text/html": [
       "<div>\n",
       "<style scoped>\n",
       "    .dataframe tbody tr th:only-of-type {\n",
       "        vertical-align: middle;\n",
       "    }\n",
       "\n",
       "    .dataframe tbody tr th {\n",
       "        vertical-align: top;\n",
       "    }\n",
       "\n",
       "    .dataframe thead th {\n",
       "        text-align: right;\n",
       "    }\n",
       "</style>\n",
       "<table border=\"1\" class=\"dataframe\">\n",
       "  <thead>\n",
       "    <tr style=\"text-align: right;\">\n",
       "      <th></th>\n",
       "      <th>제목</th>\n",
       "      <th>업로더</th>\n",
       "      <th>조회수</th>\n",
       "      <th>게시일</th>\n",
       "    </tr>\n",
       "  </thead>\n",
       "  <tbody>\n",
       "    <tr>\n",
       "      <th>0</th>\n",
       "      <td>[CHANNEL_9] fromis_9 (프로미스나인) '채널나인' EP.20 RUN...</td>\n",
       "      <td>Official fromis_9</td>\n",
       "      <td>62823</td>\n",
       "      <td>2021-12-30</td>\n",
       "    </tr>\n",
       "    <tr>\n",
       "      <th>1</th>\n",
       "      <td>fromis_9 (프로미스나인) 'Talk &amp; Talk' Official MV</td>\n",
       "      <td>HYBE LABELS</td>\n",
       "      <td>21665354</td>\n",
       "      <td>2021-09-01</td>\n",
       "    </tr>\n",
       "    <tr>\n",
       "      <th>2</th>\n",
       "      <td>프로미스나인(Fromis_9) - Talk &amp; Talk 교차편집(stage mix)</td>\n",
       "      <td>강민혁 X 차누</td>\n",
       "      <td>544393</td>\n",
       "      <td>2021-09-30</td>\n",
       "    </tr>\n",
       "    <tr>\n",
       "      <th>3</th>\n",
       "      <td>[BE ORIGINAL] fromis_9 (프로미스나인) 'Talk &amp; Talk' ...</td>\n",
       "      <td>STUDIO CHOOM [스튜디오 춤]</td>\n",
       "      <td>1836439</td>\n",
       "      <td>2021-09-04</td>\n",
       "    </tr>\n",
       "    <tr>\n",
       "      <th>4</th>\n",
       "      <td>[릴레이댄스] 프로미스나인 (fromis_9) - Talk &amp; Talk (4K)</td>\n",
       "      <td>M2</td>\n",
       "      <td>605471</td>\n",
       "      <td>2021-09-05</td>\n",
       "    </tr>\n",
       "    <tr>\n",
       "      <th>...</th>\n",
       "      <td>...</td>\n",
       "      <td>...</td>\n",
       "      <td>...</td>\n",
       "      <td>...</td>\n",
       "    </tr>\n",
       "    <tr>\n",
       "      <th>489</th>\n",
       "      <td>메리 규리스마스! ⛄ [프로미스나인]</td>\n",
       "      <td>먐먀미스나인</td>\n",
       "      <td>468</td>\n",
       "      <td>2021-12-27</td>\n",
       "    </tr>\n",
       "    <tr>\n",
       "      <th>490</th>\n",
       "      <td>fromis_9 (프로미스나인) | Midnight Guest - Concept T...</td>\n",
       "      <td>GermanSone</td>\n",
       "      <td>269</td>\n",
       "      <td>2021-12-30</td>\n",
       "    </tr>\n",
       "    <tr>\n",
       "      <th>491</th>\n",
       "      <td>[MPD직캠] 프로미스나인 이채영 직캠 'Talk &amp; Talk' (fromis_9 ...</td>\n",
       "      <td>Moniklodstudio MKS</td>\n",
       "      <td>42</td>\n",
       "      <td>2021-12-27</td>\n",
       "    </tr>\n",
       "    <tr>\n",
       "      <th>492</th>\n",
       "      <td>211224 네이버 NOW. (studio문나잇) 사녹 #프로미스나인 #fromis...</td>\n",
       "      <td>전람회 [ appleboy tv ]</td>\n",
       "      <td>110</td>\n",
       "      <td>2021-12-25</td>\n",
       "    </tr>\n",
       "    <tr>\n",
       "      <th>493</th>\n",
       "      <td>프로미스나인 (fromis_9) 지선 ASMR - 졸리지? 그래도 화장은 지우고 자...</td>\n",
       "      <td>Official fromis_9</td>\n",
       "      <td>1438603</td>\n",
       "      <td>2020-03-31</td>\n",
       "    </tr>\n",
       "  </tbody>\n",
       "</table>\n",
       "<p>494 rows × 4 columns</p>\n",
       "</div>"
      ],
      "text/plain": [
       "                                                    제목                    업로더  \\\n",
       "0    [CHANNEL_9] fromis_9 (프로미스나인) '채널나인' EP.20 RUN...      Official fromis_9   \n",
       "1          fromis_9 (프로미스나인) 'Talk & Talk' Official MV            HYBE LABELS   \n",
       "2       프로미스나인(Fromis_9) - Talk & Talk 교차편집(stage mix)               강민혁 X 차누   \n",
       "3    [BE ORIGINAL] fromis_9 (프로미스나인) 'Talk & Talk' ...  STUDIO CHOOM [스튜디오 춤]   \n",
       "4         [릴레이댄스] 프로미스나인 (fromis_9) - Talk & Talk (4K)                     M2   \n",
       "..                                                 ...                    ...   \n",
       "489                               메리 규리스마스! ⛄ [프로미스나인]                 먐먀미스나인   \n",
       "490  fromis_9 (프로미스나인) | Midnight Guest - Concept T...             GermanSone   \n",
       "491  [MPD직캠] 프로미스나인 이채영 직캠 'Talk & Talk' (fromis_9 ...     Moniklodstudio MKS   \n",
       "492  211224 네이버 NOW. (studio문나잇) 사녹 #프로미스나인 #fromis...    전람회 [ appleboy tv ]   \n",
       "493  프로미스나인 (fromis_9) 지선 ASMR - 졸리지? 그래도 화장은 지우고 자...      Official fromis_9   \n",
       "\n",
       "          조회수         게시일  \n",
       "0       62823  2021-12-30  \n",
       "1    21665354  2021-09-01  \n",
       "2      544393  2021-09-30  \n",
       "3     1836439  2021-09-04  \n",
       "4      605471  2021-09-05  \n",
       "..        ...         ...  \n",
       "489       468  2021-12-27  \n",
       "490       269  2021-12-30  \n",
       "491        42  2021-12-27  \n",
       "492       110  2021-12-25  \n",
       "493   1438603  2020-03-31  \n",
       "\n",
       "[494 rows x 4 columns]"
      ]
     },
     "execution_count": 2,
     "metadata": {},
     "output_type": "execute_result"
    }
   ],
   "source": [
    "fromis_9_df = pd.read_csv('./data/fromis_9_youtube_preprocessed.csv',encoding='utf-8-sig')\n",
    "fromis_9_df"
   ]
  },
  {
   "cell_type": "markdown",
   "id": "32b5a45a",
   "metadata": {},
   "source": [
    "# 조회수 상위 10위 유튜버"
   ]
  },
  {
   "cell_type": "code",
   "execution_count": 3,
   "id": "c5938525",
   "metadata": {
    "ExecuteTime": {
     "end_time": "2022-01-01T05:27:49.815345Z",
     "start_time": "2022-01-01T05:27:49.801345Z"
    }
   },
   "outputs": [],
   "source": [
    "fromis_9_youtuber = fromis_9_df['조회수'].groupby(fromis_9_df['업로더']).sum().to_frame().sort_values(by='조회수',ascending=False).head(11)"
   ]
  },
  {
   "cell_type": "code",
   "execution_count": 4,
   "id": "6b7ceb18",
   "metadata": {
    "ExecuteTime": {
     "end_time": "2022-01-01T05:27:49.830343Z",
     "start_time": "2022-01-01T05:27:49.816344Z"
    }
   },
   "outputs": [
    {
     "data": {
      "text/html": [
       "<div>\n",
       "<style scoped>\n",
       "    .dataframe tbody tr th:only-of-type {\n",
       "        vertical-align: middle;\n",
       "    }\n",
       "\n",
       "    .dataframe tbody tr th {\n",
       "        vertical-align: top;\n",
       "    }\n",
       "\n",
       "    .dataframe thead th {\n",
       "        text-align: right;\n",
       "    }\n",
       "</style>\n",
       "<table border=\"1\" class=\"dataframe\">\n",
       "  <thead>\n",
       "    <tr style=\"text-align: right;\">\n",
       "      <th></th>\n",
       "      <th>조회수</th>\n",
       "    </tr>\n",
       "    <tr>\n",
       "      <th>업로더</th>\n",
       "      <th></th>\n",
       "    </tr>\n",
       "  </thead>\n",
       "  <tbody>\n",
       "    <tr>\n",
       "      <th>Official fromis_9</th>\n",
       "      <td>126986198</td>\n",
       "    </tr>\n",
       "    <tr>\n",
       "      <th>HYBE LABELS</th>\n",
       "      <td>24299036</td>\n",
       "    </tr>\n",
       "    <tr>\n",
       "      <th>M2</th>\n",
       "      <td>19460653</td>\n",
       "    </tr>\n",
       "    <tr>\n",
       "      <th>Stone Music Entertainment</th>\n",
       "      <td>13292592</td>\n",
       "    </tr>\n",
       "    <tr>\n",
       "      <th>강민혁 X 차누</th>\n",
       "      <td>9530162</td>\n",
       "    </tr>\n",
       "    <tr>\n",
       "      <th>귷</th>\n",
       "      <td>7228144</td>\n",
       "    </tr>\n",
       "    <tr>\n",
       "      <th>KBS Kpop</th>\n",
       "      <td>2999463</td>\n",
       "    </tr>\n",
       "    <tr>\n",
       "      <th>ARTBEAT</th>\n",
       "      <td>2340845</td>\n",
       "    </tr>\n",
       "    <tr>\n",
       "      <th>STUDIO CHOOM [스튜디오 춤]</th>\n",
       "      <td>1836439</td>\n",
       "    </tr>\n",
       "    <tr>\n",
       "      <th>스브스케이팝 / SBS KPOP</th>\n",
       "      <td>1591978</td>\n",
       "    </tr>\n",
       "    <tr>\n",
       "      <th>SoulYeon솔연</th>\n",
       "      <td>1534198</td>\n",
       "    </tr>\n",
       "  </tbody>\n",
       "</table>\n",
       "</div>"
      ],
      "text/plain": [
       "                                 조회수\n",
       "업로더                                 \n",
       "Official fromis_9          126986198\n",
       "HYBE LABELS                 24299036\n",
       "M2                          19460653\n",
       "Stone Music Entertainment   13292592\n",
       "강민혁 X 차누                     9530162\n",
       "귷                            7228144\n",
       "KBS Kpop                     2999463\n",
       "ARTBEAT                      2340845\n",
       "STUDIO CHOOM [스튜디오 춤]        1836439\n",
       "스브스케이팝 / SBS KPOP            1591978\n",
       "SoulYeon솔연                   1534198"
      ]
     },
     "execution_count": 4,
     "metadata": {},
     "output_type": "execute_result"
    }
   ],
   "source": [
    "fromis_9_youtuber"
   ]
  },
  {
   "cell_type": "code",
   "execution_count": 5,
   "id": "692d57ea",
   "metadata": {
    "ExecuteTime": {
     "end_time": "2022-01-01T05:27:51.831131Z",
     "start_time": "2022-01-01T05:27:49.831345Z"
    }
   },
   "outputs": [
    {
     "data": {
      "application/vnd.plotly.v1+json": {
       "config": {
        "plotlyServerURL": "https://plot.ly"
       },
       "data": [
        {
         "alignmentgroup": "True",
         "hovertemplate": "variable=조회수<br>업로더=%{x}<br>value=%{y}<extra></extra>",
         "legendgroup": "조회수",
         "marker": {
          "color": "#636efa",
          "pattern": {
           "shape": ""
          }
         },
         "name": "조회수",
         "offsetgroup": "조회수",
         "orientation": "v",
         "showlegend": true,
         "textposition": "auto",
         "type": "bar",
         "x": [
          "HYBE LABELS",
          "M2",
          "Stone Music Entertainment",
          "강민혁 X 차누",
          "귷",
          "KBS Kpop",
          "ARTBEAT",
          "STUDIO CHOOM [스튜디오 춤]",
          "스브스케이팝 / SBS KPOP",
          "SoulYeon솔연"
         ],
         "xaxis": "x",
         "y": [
          24299036,
          19460653,
          13292592,
          9530162,
          7228144,
          2999463,
          2340845,
          1836439,
          1591978,
          1534198
         ],
         "yaxis": "y"
        }
       ],
       "layout": {
        "barmode": "relative",
        "legend": {
         "title": {
          "text": "variable"
         },
         "tracegroupgap": 0
        },
        "margin": {
         "t": 60
        },
        "template": {
         "data": {
          "bar": [
           {
            "error_x": {
             "color": "#2a3f5f"
            },
            "error_y": {
             "color": "#2a3f5f"
            },
            "marker": {
             "line": {
              "color": "#E5ECF6",
              "width": 0.5
             },
             "pattern": {
              "fillmode": "overlay",
              "size": 10,
              "solidity": 0.2
             }
            },
            "type": "bar"
           }
          ],
          "barpolar": [
           {
            "marker": {
             "line": {
              "color": "#E5ECF6",
              "width": 0.5
             },
             "pattern": {
              "fillmode": "overlay",
              "size": 10,
              "solidity": 0.2
             }
            },
            "type": "barpolar"
           }
          ],
          "carpet": [
           {
            "aaxis": {
             "endlinecolor": "#2a3f5f",
             "gridcolor": "white",
             "linecolor": "white",
             "minorgridcolor": "white",
             "startlinecolor": "#2a3f5f"
            },
            "baxis": {
             "endlinecolor": "#2a3f5f",
             "gridcolor": "white",
             "linecolor": "white",
             "minorgridcolor": "white",
             "startlinecolor": "#2a3f5f"
            },
            "type": "carpet"
           }
          ],
          "choropleth": [
           {
            "colorbar": {
             "outlinewidth": 0,
             "ticks": ""
            },
            "type": "choropleth"
           }
          ],
          "contour": [
           {
            "colorbar": {
             "outlinewidth": 0,
             "ticks": ""
            },
            "colorscale": [
             [
              0,
              "#0d0887"
             ],
             [
              0.1111111111111111,
              "#46039f"
             ],
             [
              0.2222222222222222,
              "#7201a8"
             ],
             [
              0.3333333333333333,
              "#9c179e"
             ],
             [
              0.4444444444444444,
              "#bd3786"
             ],
             [
              0.5555555555555556,
              "#d8576b"
             ],
             [
              0.6666666666666666,
              "#ed7953"
             ],
             [
              0.7777777777777778,
              "#fb9f3a"
             ],
             [
              0.8888888888888888,
              "#fdca26"
             ],
             [
              1,
              "#f0f921"
             ]
            ],
            "type": "contour"
           }
          ],
          "contourcarpet": [
           {
            "colorbar": {
             "outlinewidth": 0,
             "ticks": ""
            },
            "type": "contourcarpet"
           }
          ],
          "heatmap": [
           {
            "colorbar": {
             "outlinewidth": 0,
             "ticks": ""
            },
            "colorscale": [
             [
              0,
              "#0d0887"
             ],
             [
              0.1111111111111111,
              "#46039f"
             ],
             [
              0.2222222222222222,
              "#7201a8"
             ],
             [
              0.3333333333333333,
              "#9c179e"
             ],
             [
              0.4444444444444444,
              "#bd3786"
             ],
             [
              0.5555555555555556,
              "#d8576b"
             ],
             [
              0.6666666666666666,
              "#ed7953"
             ],
             [
              0.7777777777777778,
              "#fb9f3a"
             ],
             [
              0.8888888888888888,
              "#fdca26"
             ],
             [
              1,
              "#f0f921"
             ]
            ],
            "type": "heatmap"
           }
          ],
          "heatmapgl": [
           {
            "colorbar": {
             "outlinewidth": 0,
             "ticks": ""
            },
            "colorscale": [
             [
              0,
              "#0d0887"
             ],
             [
              0.1111111111111111,
              "#46039f"
             ],
             [
              0.2222222222222222,
              "#7201a8"
             ],
             [
              0.3333333333333333,
              "#9c179e"
             ],
             [
              0.4444444444444444,
              "#bd3786"
             ],
             [
              0.5555555555555556,
              "#d8576b"
             ],
             [
              0.6666666666666666,
              "#ed7953"
             ],
             [
              0.7777777777777778,
              "#fb9f3a"
             ],
             [
              0.8888888888888888,
              "#fdca26"
             ],
             [
              1,
              "#f0f921"
             ]
            ],
            "type": "heatmapgl"
           }
          ],
          "histogram": [
           {
            "marker": {
             "pattern": {
              "fillmode": "overlay",
              "size": 10,
              "solidity": 0.2
             }
            },
            "type": "histogram"
           }
          ],
          "histogram2d": [
           {
            "colorbar": {
             "outlinewidth": 0,
             "ticks": ""
            },
            "colorscale": [
             [
              0,
              "#0d0887"
             ],
             [
              0.1111111111111111,
              "#46039f"
             ],
             [
              0.2222222222222222,
              "#7201a8"
             ],
             [
              0.3333333333333333,
              "#9c179e"
             ],
             [
              0.4444444444444444,
              "#bd3786"
             ],
             [
              0.5555555555555556,
              "#d8576b"
             ],
             [
              0.6666666666666666,
              "#ed7953"
             ],
             [
              0.7777777777777778,
              "#fb9f3a"
             ],
             [
              0.8888888888888888,
              "#fdca26"
             ],
             [
              1,
              "#f0f921"
             ]
            ],
            "type": "histogram2d"
           }
          ],
          "histogram2dcontour": [
           {
            "colorbar": {
             "outlinewidth": 0,
             "ticks": ""
            },
            "colorscale": [
             [
              0,
              "#0d0887"
             ],
             [
              0.1111111111111111,
              "#46039f"
             ],
             [
              0.2222222222222222,
              "#7201a8"
             ],
             [
              0.3333333333333333,
              "#9c179e"
             ],
             [
              0.4444444444444444,
              "#bd3786"
             ],
             [
              0.5555555555555556,
              "#d8576b"
             ],
             [
              0.6666666666666666,
              "#ed7953"
             ],
             [
              0.7777777777777778,
              "#fb9f3a"
             ],
             [
              0.8888888888888888,
              "#fdca26"
             ],
             [
              1,
              "#f0f921"
             ]
            ],
            "type": "histogram2dcontour"
           }
          ],
          "mesh3d": [
           {
            "colorbar": {
             "outlinewidth": 0,
             "ticks": ""
            },
            "type": "mesh3d"
           }
          ],
          "parcoords": [
           {
            "line": {
             "colorbar": {
              "outlinewidth": 0,
              "ticks": ""
             }
            },
            "type": "parcoords"
           }
          ],
          "pie": [
           {
            "automargin": true,
            "type": "pie"
           }
          ],
          "scatter": [
           {
            "marker": {
             "colorbar": {
              "outlinewidth": 0,
              "ticks": ""
             }
            },
            "type": "scatter"
           }
          ],
          "scatter3d": [
           {
            "line": {
             "colorbar": {
              "outlinewidth": 0,
              "ticks": ""
             }
            },
            "marker": {
             "colorbar": {
              "outlinewidth": 0,
              "ticks": ""
             }
            },
            "type": "scatter3d"
           }
          ],
          "scattercarpet": [
           {
            "marker": {
             "colorbar": {
              "outlinewidth": 0,
              "ticks": ""
             }
            },
            "type": "scattercarpet"
           }
          ],
          "scattergeo": [
           {
            "marker": {
             "colorbar": {
              "outlinewidth": 0,
              "ticks": ""
             }
            },
            "type": "scattergeo"
           }
          ],
          "scattergl": [
           {
            "marker": {
             "colorbar": {
              "outlinewidth": 0,
              "ticks": ""
             }
            },
            "type": "scattergl"
           }
          ],
          "scattermapbox": [
           {
            "marker": {
             "colorbar": {
              "outlinewidth": 0,
              "ticks": ""
             }
            },
            "type": "scattermapbox"
           }
          ],
          "scatterpolar": [
           {
            "marker": {
             "colorbar": {
              "outlinewidth": 0,
              "ticks": ""
             }
            },
            "type": "scatterpolar"
           }
          ],
          "scatterpolargl": [
           {
            "marker": {
             "colorbar": {
              "outlinewidth": 0,
              "ticks": ""
             }
            },
            "type": "scatterpolargl"
           }
          ],
          "scatterternary": [
           {
            "marker": {
             "colorbar": {
              "outlinewidth": 0,
              "ticks": ""
             }
            },
            "type": "scatterternary"
           }
          ],
          "surface": [
           {
            "colorbar": {
             "outlinewidth": 0,
             "ticks": ""
            },
            "colorscale": [
             [
              0,
              "#0d0887"
             ],
             [
              0.1111111111111111,
              "#46039f"
             ],
             [
              0.2222222222222222,
              "#7201a8"
             ],
             [
              0.3333333333333333,
              "#9c179e"
             ],
             [
              0.4444444444444444,
              "#bd3786"
             ],
             [
              0.5555555555555556,
              "#d8576b"
             ],
             [
              0.6666666666666666,
              "#ed7953"
             ],
             [
              0.7777777777777778,
              "#fb9f3a"
             ],
             [
              0.8888888888888888,
              "#fdca26"
             ],
             [
              1,
              "#f0f921"
             ]
            ],
            "type": "surface"
           }
          ],
          "table": [
           {
            "cells": {
             "fill": {
              "color": "#EBF0F8"
             },
             "line": {
              "color": "white"
             }
            },
            "header": {
             "fill": {
              "color": "#C8D4E3"
             },
             "line": {
              "color": "white"
             }
            },
            "type": "table"
           }
          ]
         },
         "layout": {
          "annotationdefaults": {
           "arrowcolor": "#2a3f5f",
           "arrowhead": 0,
           "arrowwidth": 1
          },
          "autotypenumbers": "strict",
          "coloraxis": {
           "colorbar": {
            "outlinewidth": 0,
            "ticks": ""
           }
          },
          "colorscale": {
           "diverging": [
            [
             0,
             "#8e0152"
            ],
            [
             0.1,
             "#c51b7d"
            ],
            [
             0.2,
             "#de77ae"
            ],
            [
             0.3,
             "#f1b6da"
            ],
            [
             0.4,
             "#fde0ef"
            ],
            [
             0.5,
             "#f7f7f7"
            ],
            [
             0.6,
             "#e6f5d0"
            ],
            [
             0.7,
             "#b8e186"
            ],
            [
             0.8,
             "#7fbc41"
            ],
            [
             0.9,
             "#4d9221"
            ],
            [
             1,
             "#276419"
            ]
           ],
           "sequential": [
            [
             0,
             "#0d0887"
            ],
            [
             0.1111111111111111,
             "#46039f"
            ],
            [
             0.2222222222222222,
             "#7201a8"
            ],
            [
             0.3333333333333333,
             "#9c179e"
            ],
            [
             0.4444444444444444,
             "#bd3786"
            ],
            [
             0.5555555555555556,
             "#d8576b"
            ],
            [
             0.6666666666666666,
             "#ed7953"
            ],
            [
             0.7777777777777778,
             "#fb9f3a"
            ],
            [
             0.8888888888888888,
             "#fdca26"
            ],
            [
             1,
             "#f0f921"
            ]
           ],
           "sequentialminus": [
            [
             0,
             "#0d0887"
            ],
            [
             0.1111111111111111,
             "#46039f"
            ],
            [
             0.2222222222222222,
             "#7201a8"
            ],
            [
             0.3333333333333333,
             "#9c179e"
            ],
            [
             0.4444444444444444,
             "#bd3786"
            ],
            [
             0.5555555555555556,
             "#d8576b"
            ],
            [
             0.6666666666666666,
             "#ed7953"
            ],
            [
             0.7777777777777778,
             "#fb9f3a"
            ],
            [
             0.8888888888888888,
             "#fdca26"
            ],
            [
             1,
             "#f0f921"
            ]
           ]
          },
          "colorway": [
           "#636efa",
           "#EF553B",
           "#00cc96",
           "#ab63fa",
           "#FFA15A",
           "#19d3f3",
           "#FF6692",
           "#B6E880",
           "#FF97FF",
           "#FECB52"
          ],
          "font": {
           "color": "#2a3f5f"
          },
          "geo": {
           "bgcolor": "white",
           "lakecolor": "white",
           "landcolor": "#E5ECF6",
           "showlakes": true,
           "showland": true,
           "subunitcolor": "white"
          },
          "hoverlabel": {
           "align": "left"
          },
          "hovermode": "closest",
          "mapbox": {
           "style": "light"
          },
          "paper_bgcolor": "white",
          "plot_bgcolor": "#E5ECF6",
          "polar": {
           "angularaxis": {
            "gridcolor": "white",
            "linecolor": "white",
            "ticks": ""
           },
           "bgcolor": "#E5ECF6",
           "radialaxis": {
            "gridcolor": "white",
            "linecolor": "white",
            "ticks": ""
           }
          },
          "scene": {
           "xaxis": {
            "backgroundcolor": "#E5ECF6",
            "gridcolor": "white",
            "gridwidth": 2,
            "linecolor": "white",
            "showbackground": true,
            "ticks": "",
            "zerolinecolor": "white"
           },
           "yaxis": {
            "backgroundcolor": "#E5ECF6",
            "gridcolor": "white",
            "gridwidth": 2,
            "linecolor": "white",
            "showbackground": true,
            "ticks": "",
            "zerolinecolor": "white"
           },
           "zaxis": {
            "backgroundcolor": "#E5ECF6",
            "gridcolor": "white",
            "gridwidth": 2,
            "linecolor": "white",
            "showbackground": true,
            "ticks": "",
            "zerolinecolor": "white"
           }
          },
          "shapedefaults": {
           "line": {
            "color": "#2a3f5f"
           }
          },
          "ternary": {
           "aaxis": {
            "gridcolor": "white",
            "linecolor": "white",
            "ticks": ""
           },
           "baxis": {
            "gridcolor": "white",
            "linecolor": "white",
            "ticks": ""
           },
           "bgcolor": "#E5ECF6",
           "caxis": {
            "gridcolor": "white",
            "linecolor": "white",
            "ticks": ""
           }
          },
          "title": {
           "x": 0.05
          },
          "xaxis": {
           "automargin": true,
           "gridcolor": "white",
           "linecolor": "white",
           "ticks": "",
           "title": {
            "standoff": 15
           },
           "zerolinecolor": "white",
           "zerolinewidth": 2
          },
          "yaxis": {
           "automargin": true,
           "gridcolor": "white",
           "linecolor": "white",
           "ticks": "",
           "title": {
            "standoff": 15
           },
           "zerolinecolor": "white",
           "zerolinewidth": 2
          }
         }
        },
        "xaxis": {
         "anchor": "y",
         "domain": [
          0,
          1
         ],
         "title": {
          "text": "업로더"
         }
        },
        "yaxis": {
         "anchor": "x",
         "domain": [
          0,
          1
         ],
         "title": {
          "text": "value"
         }
        }
       }
      },
      "text/html": [
       "<div>                            <div id=\"83f12094-76fd-494d-a125-8ed11bbaf97b\" class=\"plotly-graph-div\" style=\"height:525px; width:100%;\"></div>            <script type=\"text/javascript\">                require([\"plotly\"], function(Plotly) {                    window.PLOTLYENV=window.PLOTLYENV || {};                                    if (document.getElementById(\"83f12094-76fd-494d-a125-8ed11bbaf97b\")) {                    Plotly.newPlot(                        \"83f12094-76fd-494d-a125-8ed11bbaf97b\",                        [{\"alignmentgroup\":\"True\",\"hovertemplate\":\"variable=\\uc870\\ud68c\\uc218<br>\\uc5c5\\ub85c\\ub354=%{x}<br>value=%{y}<extra></extra>\",\"legendgroup\":\"\\uc870\\ud68c\\uc218\",\"marker\":{\"color\":\"#636efa\",\"pattern\":{\"shape\":\"\"}},\"name\":\"\\uc870\\ud68c\\uc218\",\"offsetgroup\":\"\\uc870\\ud68c\\uc218\",\"orientation\":\"v\",\"showlegend\":true,\"textposition\":\"auto\",\"x\":[\"HYBE LABELS\",\"M2\",\"Stone Music Entertainment\",\"\\uac15\\ubbfc\\ud601 X \\ucc28\\ub204\",\"\\uadf7\",\"KBS Kpop\",\"ARTBEAT\",\"STUDIO CHOOM [\\uc2a4\\ud29c\\ub514\\uc624 \\ucda4]\",\"\\uc2a4\\ube0c\\uc2a4\\ucf00\\uc774\\ud31d / SBS KPOP\",\"SoulYeon\\uc194\\uc5f0\"],\"xaxis\":\"x\",\"y\":[24299036,19460653,13292592,9530162,7228144,2999463,2340845,1836439,1591978,1534198],\"yaxis\":\"y\",\"type\":\"bar\"}],                        {\"template\":{\"data\":{\"bar\":[{\"error_x\":{\"color\":\"#2a3f5f\"},\"error_y\":{\"color\":\"#2a3f5f\"},\"marker\":{\"line\":{\"color\":\"#E5ECF6\",\"width\":0.5},\"pattern\":{\"fillmode\":\"overlay\",\"size\":10,\"solidity\":0.2}},\"type\":\"bar\"}],\"barpolar\":[{\"marker\":{\"line\":{\"color\":\"#E5ECF6\",\"width\":0.5},\"pattern\":{\"fillmode\":\"overlay\",\"size\":10,\"solidity\":0.2}},\"type\":\"barpolar\"}],\"carpet\":[{\"aaxis\":{\"endlinecolor\":\"#2a3f5f\",\"gridcolor\":\"white\",\"linecolor\":\"white\",\"minorgridcolor\":\"white\",\"startlinecolor\":\"#2a3f5f\"},\"baxis\":{\"endlinecolor\":\"#2a3f5f\",\"gridcolor\":\"white\",\"linecolor\":\"white\",\"minorgridcolor\":\"white\",\"startlinecolor\":\"#2a3f5f\"},\"type\":\"carpet\"}],\"choropleth\":[{\"colorbar\":{\"outlinewidth\":0,\"ticks\":\"\"},\"type\":\"choropleth\"}],\"contour\":[{\"colorbar\":{\"outlinewidth\":0,\"ticks\":\"\"},\"colorscale\":[[0.0,\"#0d0887\"],[0.1111111111111111,\"#46039f\"],[0.2222222222222222,\"#7201a8\"],[0.3333333333333333,\"#9c179e\"],[0.4444444444444444,\"#bd3786\"],[0.5555555555555556,\"#d8576b\"],[0.6666666666666666,\"#ed7953\"],[0.7777777777777778,\"#fb9f3a\"],[0.8888888888888888,\"#fdca26\"],[1.0,\"#f0f921\"]],\"type\":\"contour\"}],\"contourcarpet\":[{\"colorbar\":{\"outlinewidth\":0,\"ticks\":\"\"},\"type\":\"contourcarpet\"}],\"heatmap\":[{\"colorbar\":{\"outlinewidth\":0,\"ticks\":\"\"},\"colorscale\":[[0.0,\"#0d0887\"],[0.1111111111111111,\"#46039f\"],[0.2222222222222222,\"#7201a8\"],[0.3333333333333333,\"#9c179e\"],[0.4444444444444444,\"#bd3786\"],[0.5555555555555556,\"#d8576b\"],[0.6666666666666666,\"#ed7953\"],[0.7777777777777778,\"#fb9f3a\"],[0.8888888888888888,\"#fdca26\"],[1.0,\"#f0f921\"]],\"type\":\"heatmap\"}],\"heatmapgl\":[{\"colorbar\":{\"outlinewidth\":0,\"ticks\":\"\"},\"colorscale\":[[0.0,\"#0d0887\"],[0.1111111111111111,\"#46039f\"],[0.2222222222222222,\"#7201a8\"],[0.3333333333333333,\"#9c179e\"],[0.4444444444444444,\"#bd3786\"],[0.5555555555555556,\"#d8576b\"],[0.6666666666666666,\"#ed7953\"],[0.7777777777777778,\"#fb9f3a\"],[0.8888888888888888,\"#fdca26\"],[1.0,\"#f0f921\"]],\"type\":\"heatmapgl\"}],\"histogram\":[{\"marker\":{\"pattern\":{\"fillmode\":\"overlay\",\"size\":10,\"solidity\":0.2}},\"type\":\"histogram\"}],\"histogram2d\":[{\"colorbar\":{\"outlinewidth\":0,\"ticks\":\"\"},\"colorscale\":[[0.0,\"#0d0887\"],[0.1111111111111111,\"#46039f\"],[0.2222222222222222,\"#7201a8\"],[0.3333333333333333,\"#9c179e\"],[0.4444444444444444,\"#bd3786\"],[0.5555555555555556,\"#d8576b\"],[0.6666666666666666,\"#ed7953\"],[0.7777777777777778,\"#fb9f3a\"],[0.8888888888888888,\"#fdca26\"],[1.0,\"#f0f921\"]],\"type\":\"histogram2d\"}],\"histogram2dcontour\":[{\"colorbar\":{\"outlinewidth\":0,\"ticks\":\"\"},\"colorscale\":[[0.0,\"#0d0887\"],[0.1111111111111111,\"#46039f\"],[0.2222222222222222,\"#7201a8\"],[0.3333333333333333,\"#9c179e\"],[0.4444444444444444,\"#bd3786\"],[0.5555555555555556,\"#d8576b\"],[0.6666666666666666,\"#ed7953\"],[0.7777777777777778,\"#fb9f3a\"],[0.8888888888888888,\"#fdca26\"],[1.0,\"#f0f921\"]],\"type\":\"histogram2dcontour\"}],\"mesh3d\":[{\"colorbar\":{\"outlinewidth\":0,\"ticks\":\"\"},\"type\":\"mesh3d\"}],\"parcoords\":[{\"line\":{\"colorbar\":{\"outlinewidth\":0,\"ticks\":\"\"}},\"type\":\"parcoords\"}],\"pie\":[{\"automargin\":true,\"type\":\"pie\"}],\"scatter\":[{\"marker\":{\"colorbar\":{\"outlinewidth\":0,\"ticks\":\"\"}},\"type\":\"scatter\"}],\"scatter3d\":[{\"line\":{\"colorbar\":{\"outlinewidth\":0,\"ticks\":\"\"}},\"marker\":{\"colorbar\":{\"outlinewidth\":0,\"ticks\":\"\"}},\"type\":\"scatter3d\"}],\"scattercarpet\":[{\"marker\":{\"colorbar\":{\"outlinewidth\":0,\"ticks\":\"\"}},\"type\":\"scattercarpet\"}],\"scattergeo\":[{\"marker\":{\"colorbar\":{\"outlinewidth\":0,\"ticks\":\"\"}},\"type\":\"scattergeo\"}],\"scattergl\":[{\"marker\":{\"colorbar\":{\"outlinewidth\":0,\"ticks\":\"\"}},\"type\":\"scattergl\"}],\"scattermapbox\":[{\"marker\":{\"colorbar\":{\"outlinewidth\":0,\"ticks\":\"\"}},\"type\":\"scattermapbox\"}],\"scatterpolar\":[{\"marker\":{\"colorbar\":{\"outlinewidth\":0,\"ticks\":\"\"}},\"type\":\"scatterpolar\"}],\"scatterpolargl\":[{\"marker\":{\"colorbar\":{\"outlinewidth\":0,\"ticks\":\"\"}},\"type\":\"scatterpolargl\"}],\"scatterternary\":[{\"marker\":{\"colorbar\":{\"outlinewidth\":0,\"ticks\":\"\"}},\"type\":\"scatterternary\"}],\"surface\":[{\"colorbar\":{\"outlinewidth\":0,\"ticks\":\"\"},\"colorscale\":[[0.0,\"#0d0887\"],[0.1111111111111111,\"#46039f\"],[0.2222222222222222,\"#7201a8\"],[0.3333333333333333,\"#9c179e\"],[0.4444444444444444,\"#bd3786\"],[0.5555555555555556,\"#d8576b\"],[0.6666666666666666,\"#ed7953\"],[0.7777777777777778,\"#fb9f3a\"],[0.8888888888888888,\"#fdca26\"],[1.0,\"#f0f921\"]],\"type\":\"surface\"}],\"table\":[{\"cells\":{\"fill\":{\"color\":\"#EBF0F8\"},\"line\":{\"color\":\"white\"}},\"header\":{\"fill\":{\"color\":\"#C8D4E3\"},\"line\":{\"color\":\"white\"}},\"type\":\"table\"}]},\"layout\":{\"annotationdefaults\":{\"arrowcolor\":\"#2a3f5f\",\"arrowhead\":0,\"arrowwidth\":1},\"autotypenumbers\":\"strict\",\"coloraxis\":{\"colorbar\":{\"outlinewidth\":0,\"ticks\":\"\"}},\"colorscale\":{\"diverging\":[[0,\"#8e0152\"],[0.1,\"#c51b7d\"],[0.2,\"#de77ae\"],[0.3,\"#f1b6da\"],[0.4,\"#fde0ef\"],[0.5,\"#f7f7f7\"],[0.6,\"#e6f5d0\"],[0.7,\"#b8e186\"],[0.8,\"#7fbc41\"],[0.9,\"#4d9221\"],[1,\"#276419\"]],\"sequential\":[[0.0,\"#0d0887\"],[0.1111111111111111,\"#46039f\"],[0.2222222222222222,\"#7201a8\"],[0.3333333333333333,\"#9c179e\"],[0.4444444444444444,\"#bd3786\"],[0.5555555555555556,\"#d8576b\"],[0.6666666666666666,\"#ed7953\"],[0.7777777777777778,\"#fb9f3a\"],[0.8888888888888888,\"#fdca26\"],[1.0,\"#f0f921\"]],\"sequentialminus\":[[0.0,\"#0d0887\"],[0.1111111111111111,\"#46039f\"],[0.2222222222222222,\"#7201a8\"],[0.3333333333333333,\"#9c179e\"],[0.4444444444444444,\"#bd3786\"],[0.5555555555555556,\"#d8576b\"],[0.6666666666666666,\"#ed7953\"],[0.7777777777777778,\"#fb9f3a\"],[0.8888888888888888,\"#fdca26\"],[1.0,\"#f0f921\"]]},\"colorway\":[\"#636efa\",\"#EF553B\",\"#00cc96\",\"#ab63fa\",\"#FFA15A\",\"#19d3f3\",\"#FF6692\",\"#B6E880\",\"#FF97FF\",\"#FECB52\"],\"font\":{\"color\":\"#2a3f5f\"},\"geo\":{\"bgcolor\":\"white\",\"lakecolor\":\"white\",\"landcolor\":\"#E5ECF6\",\"showlakes\":true,\"showland\":true,\"subunitcolor\":\"white\"},\"hoverlabel\":{\"align\":\"left\"},\"hovermode\":\"closest\",\"mapbox\":{\"style\":\"light\"},\"paper_bgcolor\":\"white\",\"plot_bgcolor\":\"#E5ECF6\",\"polar\":{\"angularaxis\":{\"gridcolor\":\"white\",\"linecolor\":\"white\",\"ticks\":\"\"},\"bgcolor\":\"#E5ECF6\",\"radialaxis\":{\"gridcolor\":\"white\",\"linecolor\":\"white\",\"ticks\":\"\"}},\"scene\":{\"xaxis\":{\"backgroundcolor\":\"#E5ECF6\",\"gridcolor\":\"white\",\"gridwidth\":2,\"linecolor\":\"white\",\"showbackground\":true,\"ticks\":\"\",\"zerolinecolor\":\"white\"},\"yaxis\":{\"backgroundcolor\":\"#E5ECF6\",\"gridcolor\":\"white\",\"gridwidth\":2,\"linecolor\":\"white\",\"showbackground\":true,\"ticks\":\"\",\"zerolinecolor\":\"white\"},\"zaxis\":{\"backgroundcolor\":\"#E5ECF6\",\"gridcolor\":\"white\",\"gridwidth\":2,\"linecolor\":\"white\",\"showbackground\":true,\"ticks\":\"\",\"zerolinecolor\":\"white\"}},\"shapedefaults\":{\"line\":{\"color\":\"#2a3f5f\"}},\"ternary\":{\"aaxis\":{\"gridcolor\":\"white\",\"linecolor\":\"white\",\"ticks\":\"\"},\"baxis\":{\"gridcolor\":\"white\",\"linecolor\":\"white\",\"ticks\":\"\"},\"bgcolor\":\"#E5ECF6\",\"caxis\":{\"gridcolor\":\"white\",\"linecolor\":\"white\",\"ticks\":\"\"}},\"title\":{\"x\":0.05},\"xaxis\":{\"automargin\":true,\"gridcolor\":\"white\",\"linecolor\":\"white\",\"ticks\":\"\",\"title\":{\"standoff\":15},\"zerolinecolor\":\"white\",\"zerolinewidth\":2},\"yaxis\":{\"automargin\":true,\"gridcolor\":\"white\",\"linecolor\":\"white\",\"ticks\":\"\",\"title\":{\"standoff\":15},\"zerolinecolor\":\"white\",\"zerolinewidth\":2}}},\"xaxis\":{\"anchor\":\"y\",\"domain\":[0.0,1.0],\"title\":{\"text\":\"\\uc5c5\\ub85c\\ub354\"}},\"yaxis\":{\"anchor\":\"x\",\"domain\":[0.0,1.0],\"title\":{\"text\":\"value\"}},\"legend\":{\"title\":{\"text\":\"variable\"},\"tracegroupgap\":0},\"margin\":{\"t\":60},\"barmode\":\"relative\"},                        {\"responsive\": true}                    ).then(function(){\n",
       "                            \n",
       "var gd = document.getElementById('83f12094-76fd-494d-a125-8ed11bbaf97b');\n",
       "var x = new MutationObserver(function (mutations, observer) {{\n",
       "        var display = window.getComputedStyle(gd).display;\n",
       "        if (!display || display === 'none') {{\n",
       "            console.log([gd, 'removed!']);\n",
       "            Plotly.purge(gd);\n",
       "            observer.disconnect();\n",
       "        }}\n",
       "}});\n",
       "\n",
       "// Listen for the removal of the full notebook cells\n",
       "var notebookContainer = gd.closest('#notebook-container');\n",
       "if (notebookContainer) {{\n",
       "    x.observe(notebookContainer, {childList: true});\n",
       "}}\n",
       "\n",
       "// Listen for the clearing of the current output cell\n",
       "var outputEl = gd.closest('.output');\n",
       "if (outputEl) {{\n",
       "    x.observe(outputEl, {childList: true});\n",
       "}}\n",
       "\n",
       "                        })                };                });            </script>        </div>"
      ]
     },
     "metadata": {},
     "output_type": "display_data"
    }
   ],
   "source": [
    "# 솔연님의 눈부신 성과\n",
    "fromis_9_youtuber.iloc[1:].plot.bar()"
   ]
  },
  {
   "cell_type": "code",
   "execution_count": 6,
   "id": "18de0a5d",
   "metadata": {
    "ExecuteTime": {
     "end_time": "2022-01-01T05:27:51.846131Z",
     "start_time": "2022-01-01T05:27:51.832131Z"
    }
   },
   "outputs": [
    {
     "data": {
      "text/html": [
       "<div>\n",
       "<style scoped>\n",
       "    .dataframe tbody tr th:only-of-type {\n",
       "        vertical-align: middle;\n",
       "    }\n",
       "\n",
       "    .dataframe tbody tr th {\n",
       "        vertical-align: top;\n",
       "    }\n",
       "\n",
       "    .dataframe thead th {\n",
       "        text-align: right;\n",
       "    }\n",
       "</style>\n",
       "<table border=\"1\" class=\"dataframe\">\n",
       "  <thead>\n",
       "    <tr style=\"text-align: right;\">\n",
       "      <th></th>\n",
       "      <th>제목</th>\n",
       "      <th>업로더</th>\n",
       "      <th>조회수</th>\n",
       "      <th>게시일</th>\n",
       "    </tr>\n",
       "  </thead>\n",
       "  <tbody>\n",
       "    <tr>\n",
       "      <th>144</th>\n",
       "      <td>프로미스나인 (fromis_9) WE GO (위고) 교차편집(Stage mix)</td>\n",
       "      <td>SoulYeon솔연</td>\n",
       "      <td>867409</td>\n",
       "      <td>2021-06-09</td>\n",
       "    </tr>\n",
       "    <tr>\n",
       "      <th>270</th>\n",
       "      <td>프로미스나인(Fromis_9) Feel Good (필 굿) 교차편집(stage mix)</td>\n",
       "      <td>SoulYeon솔연</td>\n",
       "      <td>358011</td>\n",
       "      <td>2020-12-15</td>\n",
       "    </tr>\n",
       "    <tr>\n",
       "      <th>366</th>\n",
       "      <td>[4K] 프로미스나인 (Fromis_9) Talk &amp; Talk (톡앤톡) 교차편집 ...</td>\n",
       "      <td>SoulYeon솔연</td>\n",
       "      <td>162945</td>\n",
       "      <td>2021-09-20</td>\n",
       "    </tr>\n",
       "    <tr>\n",
       "      <th>395</th>\n",
       "      <td>프로미스나인 (Fromis_9) To Heart (투 하트) 교차편집 (stage ...</td>\n",
       "      <td>SoulYeon솔연</td>\n",
       "      <td>145833</td>\n",
       "      <td>2021-07-10</td>\n",
       "    </tr>\n",
       "  </tbody>\n",
       "</table>\n",
       "</div>"
      ],
      "text/plain": [
       "                                                    제목         업로더     조회수  \\\n",
       "144       프로미스나인 (fromis_9) WE GO (위고) 교차편집(Stage mix)  SoulYeon솔연  867409   \n",
       "270   프로미스나인(Fromis_9) Feel Good (필 굿) 교차편집(stage mix)  SoulYeon솔연  358011   \n",
       "366  [4K] 프로미스나인 (Fromis_9) Talk & Talk (톡앤톡) 교차편집 ...  SoulYeon솔연  162945   \n",
       "395  프로미스나인 (Fromis_9) To Heart (투 하트) 교차편집 (stage ...  SoulYeon솔연  145833   \n",
       "\n",
       "            게시일  \n",
       "144  2021-06-09  \n",
       "270  2020-12-15  \n",
       "366  2021-09-20  \n",
       "395  2021-07-10  "
      ]
     },
     "execution_count": 6,
     "metadata": {},
     "output_type": "execute_result"
    }
   ],
   "source": [
    "# 교차편집 맛집\n",
    "fromis_9_df[fromis_9_df['업로더']=='SoulYeon솔연']"
   ]
  },
  {
   "cell_type": "markdown",
   "id": "074c70d9",
   "metadata": {},
   "source": [
    "# 조회수 분석"
   ]
  },
  {
   "cell_type": "markdown",
   "id": "e8090028",
   "metadata": {},
   "source": [
    "## MV가 높은 조회수"
   ]
  },
  {
   "cell_type": "code",
   "execution_count": 7,
   "id": "30b6b2ce",
   "metadata": {
    "ExecuteTime": {
     "end_time": "2022-01-01T05:27:51.967131Z",
     "start_time": "2022-01-01T05:27:51.847131Z"
    }
   },
   "outputs": [
    {
     "data": {
      "application/vnd.plotly.v1+json": {
       "config": {
        "plotlyServerURL": "https://plot.ly"
       },
       "data": [
        {
         "hovertemplate": "variable=조회수<br>게시일=%{x}<br>value=%{y}<extra></extra>",
         "legendgroup": "조회수",
         "line": {
          "color": "#636efa",
          "dash": "solid"
         },
         "marker": {
          "symbol": "circle"
         },
         "mode": "lines",
         "name": "조회수",
         "orientation": "v",
         "showlegend": true,
         "type": "scatter",
         "x": [
          "2017-11-30",
          "2018-01-24",
          "2018-01-25",
          "2018-05-13",
          "2018-06-05",
          "2018-06-09",
          "2018-06-12",
          "2018-06-30",
          "2018-07-21",
          "2018-07-23",
          "2018-07-27",
          "2018-08-03",
          "2018-10-05",
          "2018-10-10",
          "2018-10-11",
          "2018-10-14",
          "2018-10-18",
          "2018-10-19",
          "2018-10-28",
          "2018-10-29",
          "2018-11-01",
          "2018-11-09",
          "2018-11-14",
          "2018-11-16",
          "2018-11-17",
          "2018-11-24",
          "2018-12-03",
          "2018-12-21",
          "2018-12-22",
          "2018-12-28",
          "2019-01-04",
          "2019-01-18",
          "2019-02-14",
          "2019-02-22",
          "2019-03-23",
          "2019-03-24",
          "2019-05-08",
          "2019-05-16",
          "2019-05-22",
          "2019-05-23",
          "2019-06-04",
          "2019-06-05",
          "2019-06-07",
          "2019-06-09",
          "2019-06-11",
          "2019-06-12",
          "2019-06-14",
          "2019-06-15",
          "2019-06-19",
          "2019-06-21",
          "2019-06-25",
          "2019-06-29",
          "2019-07-06",
          "2019-07-09",
          "2019-07-12",
          "2019-07-16",
          "2019-07-19",
          "2019-07-22",
          "2019-07-26",
          "2019-07-28",
          "2019-07-30",
          "2019-08-02",
          "2019-08-09",
          "2019-08-10",
          "2019-08-24",
          "2019-08-29",
          "2019-08-30",
          "2019-09-17",
          "2019-10-22",
          "2019-12-03",
          "2019-12-09",
          "2019-12-16",
          "2019-12-24",
          "2019-12-30",
          "2020-01-03",
          "2020-01-10",
          "2020-01-24",
          "2020-01-31",
          "2020-02-07",
          "2020-02-14",
          "2020-02-23",
          "2020-03-13",
          "2020-03-20",
          "2020-03-31",
          "2020-04-11",
          "2020-04-26",
          "2020-04-27",
          "2020-04-28",
          "2020-05-01",
          "2020-05-05",
          "2020-05-11",
          "2020-05-12",
          "2020-05-15",
          "2020-05-17",
          "2020-05-19",
          "2020-05-26",
          "2020-07-07",
          "2020-07-14",
          "2020-07-21",
          "2020-07-28",
          "2020-08-04",
          "2020-08-11",
          "2020-08-18",
          "2020-08-20",
          "2020-08-21",
          "2020-08-25",
          "2020-09-14",
          "2020-09-16",
          "2020-09-17",
          "2020-09-19",
          "2020-09-20",
          "2020-09-21",
          "2020-09-22",
          "2020-09-25",
          "2020-09-26",
          "2020-09-27",
          "2020-09-29",
          "2020-10-08",
          "2020-10-09",
          "2020-10-10",
          "2020-10-14",
          "2020-10-16",
          "2020-10-18",
          "2020-10-21",
          "2020-10-22",
          "2020-10-28",
          "2020-11-01",
          "2020-11-09",
          "2020-11-19",
          "2020-12-01",
          "2020-12-08",
          "2020-12-15",
          "2020-12-18",
          "2020-12-22",
          "2020-12-24",
          "2020-12-27",
          "2021-01-21",
          "2021-01-23",
          "2021-01-29",
          "2021-01-30",
          "2021-03-07",
          "2021-04-02",
          "2021-04-12",
          "2021-04-17",
          "2021-04-20",
          "2021-04-29",
          "2021-05-05",
          "2021-05-08",
          "2021-05-13",
          "2021-05-14",
          "2021-05-15",
          "2021-05-16",
          "2021-05-17",
          "2021-05-18",
          "2021-05-21",
          "2021-05-22",
          "2021-05-23",
          "2021-05-24",
          "2021-05-25",
          "2021-05-26",
          "2021-05-27",
          "2021-05-28",
          "2021-05-29",
          "2021-05-30",
          "2021-05-31",
          "2021-06-01",
          "2021-06-02",
          "2021-06-04",
          "2021-06-05",
          "2021-06-06",
          "2021-06-08",
          "2021-06-09",
          "2021-06-10",
          "2021-06-14",
          "2021-06-17",
          "2021-06-22",
          "2021-06-23",
          "2021-06-24",
          "2021-06-26",
          "2021-06-29",
          "2021-07-01",
          "2021-07-04",
          "2021-07-05",
          "2021-07-07",
          "2021-07-10",
          "2021-07-14",
          "2021-07-15",
          "2021-07-17",
          "2021-07-20",
          "2021-07-21",
          "2021-07-22",
          "2021-07-27",
          "2021-07-28",
          "2021-08-03",
          "2021-08-04",
          "2021-08-05",
          "2021-08-12",
          "2021-08-16",
          "2021-08-17",
          "2021-08-18",
          "2021-08-19",
          "2021-08-20",
          "2021-08-21",
          "2021-08-22",
          "2021-08-23",
          "2021-08-26",
          "2021-08-27",
          "2021-08-28",
          "2021-08-29",
          "2021-08-30",
          "2021-08-31",
          "2021-09-01",
          "2021-09-02",
          "2021-09-03",
          "2021-09-04",
          "2021-09-05",
          "2021-09-06",
          "2021-09-07",
          "2021-09-08",
          "2021-09-09",
          "2021-09-10",
          "2021-09-11",
          "2021-09-12",
          "2021-09-13",
          "2021-09-14",
          "2021-09-16",
          "2021-09-17",
          "2021-09-18",
          "2021-09-19",
          "2021-09-20",
          "2021-09-21",
          "2021-09-22",
          "2021-09-23",
          "2021-09-24",
          "2021-09-25",
          "2021-09-26",
          "2021-09-29",
          "2021-09-30",
          "2021-10-04",
          "2021-10-05",
          "2021-10-07",
          "2021-10-11",
          "2021-10-14",
          "2021-10-17",
          "2021-10-20",
          "2021-10-21",
          "2021-10-22",
          "2021-10-23",
          "2021-10-24",
          "2021-10-28",
          "2021-10-31",
          "2021-11-01",
          "2021-11-04",
          "2021-11-05",
          "2021-11-07",
          "2021-11-08",
          "2021-11-09",
          "2021-11-11",
          "2021-11-12",
          "2021-11-14",
          "2021-11-17",
          "2021-11-18",
          "2021-11-19",
          "2021-11-22",
          "2021-11-23",
          "2021-11-25",
          "2021-11-26",
          "2021-11-29",
          "2021-11-30",
          "2021-12-01",
          "2021-12-02",
          "2021-12-03",
          "2021-12-04",
          "2021-12-09",
          "2021-12-16",
          "2021-12-17",
          "2021-12-20",
          "2021-12-22",
          "2021-12-23",
          "2021-12-24",
          "2021-12-25",
          "2021-12-26",
          "2021-12-27",
          "2021-12-28",
          "2021-12-29",
          "2021-12-30",
          "2021-12-31",
          "2022-01-01"
         ],
         "xaxis": "x",
         "y": [
          8369541,
          4874058,
          19575,
          78265,
          736457,
          69291,
          1259875,
          12836,
          2005733,
          4663,
          274043,
          184532,
          789504,
          24715691,
          459141,
          329690,
          95669,
          715,
          11567,
          100054,
          139470,
          103932,
          663549,
          272701,
          149607,
          152277,
          195033,
          138046,
          12445,
          7137618,
          115348,
          164498,
          98756,
          169054,
          63987,
          200853,
          4719,
          8245,
          12822,
          373077,
          19126705,
          682206,
          2191867,
          1931228,
          1779,
          66268,
          736224,
          78683,
          670563,
          3015,
          247677,
          4958133,
          961,
          418325,
          1443,
          481432,
          252593,
          1278876,
          4008267,
          2553550,
          354066,
          196553,
          156983,
          7644,
          290921,
          444668,
          267122,
          763154,
          253062,
          1362,
          179357,
          2437,
          97334,
          4215153,
          159610,
          223831,
          120552,
          67875,
          194306,
          3048,
          16219,
          250564,
          175557,
          1438603,
          258819,
          295610,
          31643,
          658860,
          143128,
          629239,
          1587659,
          583207,
          784,
          14956,
          861648,
          404458,
          425626,
          289407,
          189993,
          178230,
          156841,
          196393,
          152986,
          14079,
          899,
          139703,
          6661,
          24222957,
          166599,
          8914,
          3815,
          2246,
          1205489,
          163637,
          3585,
          387955,
          4056172,
          20508,
          126107,
          1681194,
          144477,
          105743,
          2426875,
          323145,
          40071,
          509282,
          3071,
          2261,
          716,
          200158,
          129419,
          515553,
          122848,
          133522,
          303309,
          136450,
          1848,
          118650,
          1172,
          1298,
          762,
          1785,
          1526,
          1084,
          2201,
          1462,
          1206,
          4211,
          166175,
          462879,
          49256,
          1394,
          22322259,
          200532,
          3270840,
          1634,
          788084,
          979865,
          1332100,
          993412,
          145182,
          184541,
          2354,
          5666,
          625698,
          650328,
          571,
          430082,
          475845,
          25303,
          328337,
          2953381,
          22322,
          867,
          51220,
          340430,
          35422,
          72788,
          23589,
          3724,
          16536,
          1391,
          7354,
          1168,
          145833,
          474039,
          2430,
          256340,
          358817,
          422104,
          13750,
          14053,
          5796,
          1269,
          12988,
          524,
          61381,
          105107,
          18445,
          76321,
          242112,
          1983,
          28919,
          90526,
          174,
          152943,
          1260,
          141,
          1111114,
          1146670,
          2108,
          21902307,
          349180,
          830442,
          1836439,
          905991,
          123320,
          247863,
          1215561,
          163776,
          279020,
          373354,
          35264,
          18298,
          5572,
          230987,
          89113,
          74,
          11719,
          164347,
          354547,
          164,
          189016,
          35352,
          206251,
          18979,
          2388,
          706217,
          32424,
          22865,
          137090,
          45,
          197266,
          95540,
          37893,
          176053,
          19184,
          11541,
          7577,
          126214,
          128069,
          28431,
          201141,
          6099,
          3170,
          15631,
          1160,
          132295,
          6462,
          45221,
          52301,
          154340,
          6412,
          1102,
          4717,
          119480,
          14193,
          2333,
          2979,
          497219,
          105936,
          182438,
          18170,
          145719,
          106414,
          22456,
          28794,
          3944,
          256001,
          171375,
          3753,
          267324,
          209061,
          9587,
          122765,
          458638,
          13119,
          4877
         ],
         "yaxis": "y"
        }
       ],
       "layout": {
        "legend": {
         "title": {
          "text": "variable"
         },
         "tracegroupgap": 0
        },
        "margin": {
         "t": 60
        },
        "template": {
         "data": {
          "bar": [
           {
            "error_x": {
             "color": "#2a3f5f"
            },
            "error_y": {
             "color": "#2a3f5f"
            },
            "marker": {
             "line": {
              "color": "#E5ECF6",
              "width": 0.5
             },
             "pattern": {
              "fillmode": "overlay",
              "size": 10,
              "solidity": 0.2
             }
            },
            "type": "bar"
           }
          ],
          "barpolar": [
           {
            "marker": {
             "line": {
              "color": "#E5ECF6",
              "width": 0.5
             },
             "pattern": {
              "fillmode": "overlay",
              "size": 10,
              "solidity": 0.2
             }
            },
            "type": "barpolar"
           }
          ],
          "carpet": [
           {
            "aaxis": {
             "endlinecolor": "#2a3f5f",
             "gridcolor": "white",
             "linecolor": "white",
             "minorgridcolor": "white",
             "startlinecolor": "#2a3f5f"
            },
            "baxis": {
             "endlinecolor": "#2a3f5f",
             "gridcolor": "white",
             "linecolor": "white",
             "minorgridcolor": "white",
             "startlinecolor": "#2a3f5f"
            },
            "type": "carpet"
           }
          ],
          "choropleth": [
           {
            "colorbar": {
             "outlinewidth": 0,
             "ticks": ""
            },
            "type": "choropleth"
           }
          ],
          "contour": [
           {
            "colorbar": {
             "outlinewidth": 0,
             "ticks": ""
            },
            "colorscale": [
             [
              0,
              "#0d0887"
             ],
             [
              0.1111111111111111,
              "#46039f"
             ],
             [
              0.2222222222222222,
              "#7201a8"
             ],
             [
              0.3333333333333333,
              "#9c179e"
             ],
             [
              0.4444444444444444,
              "#bd3786"
             ],
             [
              0.5555555555555556,
              "#d8576b"
             ],
             [
              0.6666666666666666,
              "#ed7953"
             ],
             [
              0.7777777777777778,
              "#fb9f3a"
             ],
             [
              0.8888888888888888,
              "#fdca26"
             ],
             [
              1,
              "#f0f921"
             ]
            ],
            "type": "contour"
           }
          ],
          "contourcarpet": [
           {
            "colorbar": {
             "outlinewidth": 0,
             "ticks": ""
            },
            "type": "contourcarpet"
           }
          ],
          "heatmap": [
           {
            "colorbar": {
             "outlinewidth": 0,
             "ticks": ""
            },
            "colorscale": [
             [
              0,
              "#0d0887"
             ],
             [
              0.1111111111111111,
              "#46039f"
             ],
             [
              0.2222222222222222,
              "#7201a8"
             ],
             [
              0.3333333333333333,
              "#9c179e"
             ],
             [
              0.4444444444444444,
              "#bd3786"
             ],
             [
              0.5555555555555556,
              "#d8576b"
             ],
             [
              0.6666666666666666,
              "#ed7953"
             ],
             [
              0.7777777777777778,
              "#fb9f3a"
             ],
             [
              0.8888888888888888,
              "#fdca26"
             ],
             [
              1,
              "#f0f921"
             ]
            ],
            "type": "heatmap"
           }
          ],
          "heatmapgl": [
           {
            "colorbar": {
             "outlinewidth": 0,
             "ticks": ""
            },
            "colorscale": [
             [
              0,
              "#0d0887"
             ],
             [
              0.1111111111111111,
              "#46039f"
             ],
             [
              0.2222222222222222,
              "#7201a8"
             ],
             [
              0.3333333333333333,
              "#9c179e"
             ],
             [
              0.4444444444444444,
              "#bd3786"
             ],
             [
              0.5555555555555556,
              "#d8576b"
             ],
             [
              0.6666666666666666,
              "#ed7953"
             ],
             [
              0.7777777777777778,
              "#fb9f3a"
             ],
             [
              0.8888888888888888,
              "#fdca26"
             ],
             [
              1,
              "#f0f921"
             ]
            ],
            "type": "heatmapgl"
           }
          ],
          "histogram": [
           {
            "marker": {
             "pattern": {
              "fillmode": "overlay",
              "size": 10,
              "solidity": 0.2
             }
            },
            "type": "histogram"
           }
          ],
          "histogram2d": [
           {
            "colorbar": {
             "outlinewidth": 0,
             "ticks": ""
            },
            "colorscale": [
             [
              0,
              "#0d0887"
             ],
             [
              0.1111111111111111,
              "#46039f"
             ],
             [
              0.2222222222222222,
              "#7201a8"
             ],
             [
              0.3333333333333333,
              "#9c179e"
             ],
             [
              0.4444444444444444,
              "#bd3786"
             ],
             [
              0.5555555555555556,
              "#d8576b"
             ],
             [
              0.6666666666666666,
              "#ed7953"
             ],
             [
              0.7777777777777778,
              "#fb9f3a"
             ],
             [
              0.8888888888888888,
              "#fdca26"
             ],
             [
              1,
              "#f0f921"
             ]
            ],
            "type": "histogram2d"
           }
          ],
          "histogram2dcontour": [
           {
            "colorbar": {
             "outlinewidth": 0,
             "ticks": ""
            },
            "colorscale": [
             [
              0,
              "#0d0887"
             ],
             [
              0.1111111111111111,
              "#46039f"
             ],
             [
              0.2222222222222222,
              "#7201a8"
             ],
             [
              0.3333333333333333,
              "#9c179e"
             ],
             [
              0.4444444444444444,
              "#bd3786"
             ],
             [
              0.5555555555555556,
              "#d8576b"
             ],
             [
              0.6666666666666666,
              "#ed7953"
             ],
             [
              0.7777777777777778,
              "#fb9f3a"
             ],
             [
              0.8888888888888888,
              "#fdca26"
             ],
             [
              1,
              "#f0f921"
             ]
            ],
            "type": "histogram2dcontour"
           }
          ],
          "mesh3d": [
           {
            "colorbar": {
             "outlinewidth": 0,
             "ticks": ""
            },
            "type": "mesh3d"
           }
          ],
          "parcoords": [
           {
            "line": {
             "colorbar": {
              "outlinewidth": 0,
              "ticks": ""
             }
            },
            "type": "parcoords"
           }
          ],
          "pie": [
           {
            "automargin": true,
            "type": "pie"
           }
          ],
          "scatter": [
           {
            "marker": {
             "colorbar": {
              "outlinewidth": 0,
              "ticks": ""
             }
            },
            "type": "scatter"
           }
          ],
          "scatter3d": [
           {
            "line": {
             "colorbar": {
              "outlinewidth": 0,
              "ticks": ""
             }
            },
            "marker": {
             "colorbar": {
              "outlinewidth": 0,
              "ticks": ""
             }
            },
            "type": "scatter3d"
           }
          ],
          "scattercarpet": [
           {
            "marker": {
             "colorbar": {
              "outlinewidth": 0,
              "ticks": ""
             }
            },
            "type": "scattercarpet"
           }
          ],
          "scattergeo": [
           {
            "marker": {
             "colorbar": {
              "outlinewidth": 0,
              "ticks": ""
             }
            },
            "type": "scattergeo"
           }
          ],
          "scattergl": [
           {
            "marker": {
             "colorbar": {
              "outlinewidth": 0,
              "ticks": ""
             }
            },
            "type": "scattergl"
           }
          ],
          "scattermapbox": [
           {
            "marker": {
             "colorbar": {
              "outlinewidth": 0,
              "ticks": ""
             }
            },
            "type": "scattermapbox"
           }
          ],
          "scatterpolar": [
           {
            "marker": {
             "colorbar": {
              "outlinewidth": 0,
              "ticks": ""
             }
            },
            "type": "scatterpolar"
           }
          ],
          "scatterpolargl": [
           {
            "marker": {
             "colorbar": {
              "outlinewidth": 0,
              "ticks": ""
             }
            },
            "type": "scatterpolargl"
           }
          ],
          "scatterternary": [
           {
            "marker": {
             "colorbar": {
              "outlinewidth": 0,
              "ticks": ""
             }
            },
            "type": "scatterternary"
           }
          ],
          "surface": [
           {
            "colorbar": {
             "outlinewidth": 0,
             "ticks": ""
            },
            "colorscale": [
             [
              0,
              "#0d0887"
             ],
             [
              0.1111111111111111,
              "#46039f"
             ],
             [
              0.2222222222222222,
              "#7201a8"
             ],
             [
              0.3333333333333333,
              "#9c179e"
             ],
             [
              0.4444444444444444,
              "#bd3786"
             ],
             [
              0.5555555555555556,
              "#d8576b"
             ],
             [
              0.6666666666666666,
              "#ed7953"
             ],
             [
              0.7777777777777778,
              "#fb9f3a"
             ],
             [
              0.8888888888888888,
              "#fdca26"
             ],
             [
              1,
              "#f0f921"
             ]
            ],
            "type": "surface"
           }
          ],
          "table": [
           {
            "cells": {
             "fill": {
              "color": "#EBF0F8"
             },
             "line": {
              "color": "white"
             }
            },
            "header": {
             "fill": {
              "color": "#C8D4E3"
             },
             "line": {
              "color": "white"
             }
            },
            "type": "table"
           }
          ]
         },
         "layout": {
          "annotationdefaults": {
           "arrowcolor": "#2a3f5f",
           "arrowhead": 0,
           "arrowwidth": 1
          },
          "autotypenumbers": "strict",
          "coloraxis": {
           "colorbar": {
            "outlinewidth": 0,
            "ticks": ""
           }
          },
          "colorscale": {
           "diverging": [
            [
             0,
             "#8e0152"
            ],
            [
             0.1,
             "#c51b7d"
            ],
            [
             0.2,
             "#de77ae"
            ],
            [
             0.3,
             "#f1b6da"
            ],
            [
             0.4,
             "#fde0ef"
            ],
            [
             0.5,
             "#f7f7f7"
            ],
            [
             0.6,
             "#e6f5d0"
            ],
            [
             0.7,
             "#b8e186"
            ],
            [
             0.8,
             "#7fbc41"
            ],
            [
             0.9,
             "#4d9221"
            ],
            [
             1,
             "#276419"
            ]
           ],
           "sequential": [
            [
             0,
             "#0d0887"
            ],
            [
             0.1111111111111111,
             "#46039f"
            ],
            [
             0.2222222222222222,
             "#7201a8"
            ],
            [
             0.3333333333333333,
             "#9c179e"
            ],
            [
             0.4444444444444444,
             "#bd3786"
            ],
            [
             0.5555555555555556,
             "#d8576b"
            ],
            [
             0.6666666666666666,
             "#ed7953"
            ],
            [
             0.7777777777777778,
             "#fb9f3a"
            ],
            [
             0.8888888888888888,
             "#fdca26"
            ],
            [
             1,
             "#f0f921"
            ]
           ],
           "sequentialminus": [
            [
             0,
             "#0d0887"
            ],
            [
             0.1111111111111111,
             "#46039f"
            ],
            [
             0.2222222222222222,
             "#7201a8"
            ],
            [
             0.3333333333333333,
             "#9c179e"
            ],
            [
             0.4444444444444444,
             "#bd3786"
            ],
            [
             0.5555555555555556,
             "#d8576b"
            ],
            [
             0.6666666666666666,
             "#ed7953"
            ],
            [
             0.7777777777777778,
             "#fb9f3a"
            ],
            [
             0.8888888888888888,
             "#fdca26"
            ],
            [
             1,
             "#f0f921"
            ]
           ]
          },
          "colorway": [
           "#636efa",
           "#EF553B",
           "#00cc96",
           "#ab63fa",
           "#FFA15A",
           "#19d3f3",
           "#FF6692",
           "#B6E880",
           "#FF97FF",
           "#FECB52"
          ],
          "font": {
           "color": "#2a3f5f"
          },
          "geo": {
           "bgcolor": "white",
           "lakecolor": "white",
           "landcolor": "#E5ECF6",
           "showlakes": true,
           "showland": true,
           "subunitcolor": "white"
          },
          "hoverlabel": {
           "align": "left"
          },
          "hovermode": "closest",
          "mapbox": {
           "style": "light"
          },
          "paper_bgcolor": "white",
          "plot_bgcolor": "#E5ECF6",
          "polar": {
           "angularaxis": {
            "gridcolor": "white",
            "linecolor": "white",
            "ticks": ""
           },
           "bgcolor": "#E5ECF6",
           "radialaxis": {
            "gridcolor": "white",
            "linecolor": "white",
            "ticks": ""
           }
          },
          "scene": {
           "xaxis": {
            "backgroundcolor": "#E5ECF6",
            "gridcolor": "white",
            "gridwidth": 2,
            "linecolor": "white",
            "showbackground": true,
            "ticks": "",
            "zerolinecolor": "white"
           },
           "yaxis": {
            "backgroundcolor": "#E5ECF6",
            "gridcolor": "white",
            "gridwidth": 2,
            "linecolor": "white",
            "showbackground": true,
            "ticks": "",
            "zerolinecolor": "white"
           },
           "zaxis": {
            "backgroundcolor": "#E5ECF6",
            "gridcolor": "white",
            "gridwidth": 2,
            "linecolor": "white",
            "showbackground": true,
            "ticks": "",
            "zerolinecolor": "white"
           }
          },
          "shapedefaults": {
           "line": {
            "color": "#2a3f5f"
           }
          },
          "ternary": {
           "aaxis": {
            "gridcolor": "white",
            "linecolor": "white",
            "ticks": ""
           },
           "baxis": {
            "gridcolor": "white",
            "linecolor": "white",
            "ticks": ""
           },
           "bgcolor": "#E5ECF6",
           "caxis": {
            "gridcolor": "white",
            "linecolor": "white",
            "ticks": ""
           }
          },
          "title": {
           "x": 0.05
          },
          "xaxis": {
           "automargin": true,
           "gridcolor": "white",
           "linecolor": "white",
           "ticks": "",
           "title": {
            "standoff": 15
           },
           "zerolinecolor": "white",
           "zerolinewidth": 2
          },
          "yaxis": {
           "automargin": true,
           "gridcolor": "white",
           "linecolor": "white",
           "ticks": "",
           "title": {
            "standoff": 15
           },
           "zerolinecolor": "white",
           "zerolinewidth": 2
          }
         }
        },
        "xaxis": {
         "anchor": "y",
         "domain": [
          0,
          1
         ],
         "title": {
          "text": "게시일"
         }
        },
        "yaxis": {
         "anchor": "x",
         "domain": [
          0,
          1
         ],
         "title": {
          "text": "value"
         }
        }
       }
      },
      "text/html": [
       "<div>                            <div id=\"12edbc68-6940-49ea-ba04-6a3a61778c0a\" class=\"plotly-graph-div\" style=\"height:525px; width:100%;\"></div>            <script type=\"text/javascript\">                require([\"plotly\"], function(Plotly) {                    window.PLOTLYENV=window.PLOTLYENV || {};                                    if (document.getElementById(\"12edbc68-6940-49ea-ba04-6a3a61778c0a\")) {                    Plotly.newPlot(                        \"12edbc68-6940-49ea-ba04-6a3a61778c0a\",                        [{\"hovertemplate\":\"variable=\\uc870\\ud68c\\uc218<br>\\uac8c\\uc2dc\\uc77c=%{x}<br>value=%{y}<extra></extra>\",\"legendgroup\":\"\\uc870\\ud68c\\uc218\",\"line\":{\"color\":\"#636efa\",\"dash\":\"solid\"},\"marker\":{\"symbol\":\"circle\"},\"mode\":\"lines\",\"name\":\"\\uc870\\ud68c\\uc218\",\"orientation\":\"v\",\"showlegend\":true,\"x\":[\"2017-11-30\",\"2018-01-24\",\"2018-01-25\",\"2018-05-13\",\"2018-06-05\",\"2018-06-09\",\"2018-06-12\",\"2018-06-30\",\"2018-07-21\",\"2018-07-23\",\"2018-07-27\",\"2018-08-03\",\"2018-10-05\",\"2018-10-10\",\"2018-10-11\",\"2018-10-14\",\"2018-10-18\",\"2018-10-19\",\"2018-10-28\",\"2018-10-29\",\"2018-11-01\",\"2018-11-09\",\"2018-11-14\",\"2018-11-16\",\"2018-11-17\",\"2018-11-24\",\"2018-12-03\",\"2018-12-21\",\"2018-12-22\",\"2018-12-28\",\"2019-01-04\",\"2019-01-18\",\"2019-02-14\",\"2019-02-22\",\"2019-03-23\",\"2019-03-24\",\"2019-05-08\",\"2019-05-16\",\"2019-05-22\",\"2019-05-23\",\"2019-06-04\",\"2019-06-05\",\"2019-06-07\",\"2019-06-09\",\"2019-06-11\",\"2019-06-12\",\"2019-06-14\",\"2019-06-15\",\"2019-06-19\",\"2019-06-21\",\"2019-06-25\",\"2019-06-29\",\"2019-07-06\",\"2019-07-09\",\"2019-07-12\",\"2019-07-16\",\"2019-07-19\",\"2019-07-22\",\"2019-07-26\",\"2019-07-28\",\"2019-07-30\",\"2019-08-02\",\"2019-08-09\",\"2019-08-10\",\"2019-08-24\",\"2019-08-29\",\"2019-08-30\",\"2019-09-17\",\"2019-10-22\",\"2019-12-03\",\"2019-12-09\",\"2019-12-16\",\"2019-12-24\",\"2019-12-30\",\"2020-01-03\",\"2020-01-10\",\"2020-01-24\",\"2020-01-31\",\"2020-02-07\",\"2020-02-14\",\"2020-02-23\",\"2020-03-13\",\"2020-03-20\",\"2020-03-31\",\"2020-04-11\",\"2020-04-26\",\"2020-04-27\",\"2020-04-28\",\"2020-05-01\",\"2020-05-05\",\"2020-05-11\",\"2020-05-12\",\"2020-05-15\",\"2020-05-17\",\"2020-05-19\",\"2020-05-26\",\"2020-07-07\",\"2020-07-14\",\"2020-07-21\",\"2020-07-28\",\"2020-08-04\",\"2020-08-11\",\"2020-08-18\",\"2020-08-20\",\"2020-08-21\",\"2020-08-25\",\"2020-09-14\",\"2020-09-16\",\"2020-09-17\",\"2020-09-19\",\"2020-09-20\",\"2020-09-21\",\"2020-09-22\",\"2020-09-25\",\"2020-09-26\",\"2020-09-27\",\"2020-09-29\",\"2020-10-08\",\"2020-10-09\",\"2020-10-10\",\"2020-10-14\",\"2020-10-16\",\"2020-10-18\",\"2020-10-21\",\"2020-10-22\",\"2020-10-28\",\"2020-11-01\",\"2020-11-09\",\"2020-11-19\",\"2020-12-01\",\"2020-12-08\",\"2020-12-15\",\"2020-12-18\",\"2020-12-22\",\"2020-12-24\",\"2020-12-27\",\"2021-01-21\",\"2021-01-23\",\"2021-01-29\",\"2021-01-30\",\"2021-03-07\",\"2021-04-02\",\"2021-04-12\",\"2021-04-17\",\"2021-04-20\",\"2021-04-29\",\"2021-05-05\",\"2021-05-08\",\"2021-05-13\",\"2021-05-14\",\"2021-05-15\",\"2021-05-16\",\"2021-05-17\",\"2021-05-18\",\"2021-05-21\",\"2021-05-22\",\"2021-05-23\",\"2021-05-24\",\"2021-05-25\",\"2021-05-26\",\"2021-05-27\",\"2021-05-28\",\"2021-05-29\",\"2021-05-30\",\"2021-05-31\",\"2021-06-01\",\"2021-06-02\",\"2021-06-04\",\"2021-06-05\",\"2021-06-06\",\"2021-06-08\",\"2021-06-09\",\"2021-06-10\",\"2021-06-14\",\"2021-06-17\",\"2021-06-22\",\"2021-06-23\",\"2021-06-24\",\"2021-06-26\",\"2021-06-29\",\"2021-07-01\",\"2021-07-04\",\"2021-07-05\",\"2021-07-07\",\"2021-07-10\",\"2021-07-14\",\"2021-07-15\",\"2021-07-17\",\"2021-07-20\",\"2021-07-21\",\"2021-07-22\",\"2021-07-27\",\"2021-07-28\",\"2021-08-03\",\"2021-08-04\",\"2021-08-05\",\"2021-08-12\",\"2021-08-16\",\"2021-08-17\",\"2021-08-18\",\"2021-08-19\",\"2021-08-20\",\"2021-08-21\",\"2021-08-22\",\"2021-08-23\",\"2021-08-26\",\"2021-08-27\",\"2021-08-28\",\"2021-08-29\",\"2021-08-30\",\"2021-08-31\",\"2021-09-01\",\"2021-09-02\",\"2021-09-03\",\"2021-09-04\",\"2021-09-05\",\"2021-09-06\",\"2021-09-07\",\"2021-09-08\",\"2021-09-09\",\"2021-09-10\",\"2021-09-11\",\"2021-09-12\",\"2021-09-13\",\"2021-09-14\",\"2021-09-16\",\"2021-09-17\",\"2021-09-18\",\"2021-09-19\",\"2021-09-20\",\"2021-09-21\",\"2021-09-22\",\"2021-09-23\",\"2021-09-24\",\"2021-09-25\",\"2021-09-26\",\"2021-09-29\",\"2021-09-30\",\"2021-10-04\",\"2021-10-05\",\"2021-10-07\",\"2021-10-11\",\"2021-10-14\",\"2021-10-17\",\"2021-10-20\",\"2021-10-21\",\"2021-10-22\",\"2021-10-23\",\"2021-10-24\",\"2021-10-28\",\"2021-10-31\",\"2021-11-01\",\"2021-11-04\",\"2021-11-05\",\"2021-11-07\",\"2021-11-08\",\"2021-11-09\",\"2021-11-11\",\"2021-11-12\",\"2021-11-14\",\"2021-11-17\",\"2021-11-18\",\"2021-11-19\",\"2021-11-22\",\"2021-11-23\",\"2021-11-25\",\"2021-11-26\",\"2021-11-29\",\"2021-11-30\",\"2021-12-01\",\"2021-12-02\",\"2021-12-03\",\"2021-12-04\",\"2021-12-09\",\"2021-12-16\",\"2021-12-17\",\"2021-12-20\",\"2021-12-22\",\"2021-12-23\",\"2021-12-24\",\"2021-12-25\",\"2021-12-26\",\"2021-12-27\",\"2021-12-28\",\"2021-12-29\",\"2021-12-30\",\"2021-12-31\",\"2022-01-01\"],\"xaxis\":\"x\",\"y\":[8369541,4874058,19575,78265,736457,69291,1259875,12836,2005733,4663,274043,184532,789504,24715691,459141,329690,95669,715,11567,100054,139470,103932,663549,272701,149607,152277,195033,138046,12445,7137618,115348,164498,98756,169054,63987,200853,4719,8245,12822,373077,19126705,682206,2191867,1931228,1779,66268,736224,78683,670563,3015,247677,4958133,961,418325,1443,481432,252593,1278876,4008267,2553550,354066,196553,156983,7644,290921,444668,267122,763154,253062,1362,179357,2437,97334,4215153,159610,223831,120552,67875,194306,3048,16219,250564,175557,1438603,258819,295610,31643,658860,143128,629239,1587659,583207,784,14956,861648,404458,425626,289407,189993,178230,156841,196393,152986,14079,899,139703,6661,24222957,166599,8914,3815,2246,1205489,163637,3585,387955,4056172,20508,126107,1681194,144477,105743,2426875,323145,40071,509282,3071,2261,716,200158,129419,515553,122848,133522,303309,136450,1848,118650,1172,1298,762,1785,1526,1084,2201,1462,1206,4211,166175,462879,49256,1394,22322259,200532,3270840,1634,788084,979865,1332100,993412,145182,184541,2354,5666,625698,650328,571,430082,475845,25303,328337,2953381,22322,867,51220,340430,35422,72788,23589,3724,16536,1391,7354,1168,145833,474039,2430,256340,358817,422104,13750,14053,5796,1269,12988,524,61381,105107,18445,76321,242112,1983,28919,90526,174,152943,1260,141,1111114,1146670,2108,21902307,349180,830442,1836439,905991,123320,247863,1215561,163776,279020,373354,35264,18298,5572,230987,89113,74,11719,164347,354547,164,189016,35352,206251,18979,2388,706217,32424,22865,137090,45,197266,95540,37893,176053,19184,11541,7577,126214,128069,28431,201141,6099,3170,15631,1160,132295,6462,45221,52301,154340,6412,1102,4717,119480,14193,2333,2979,497219,105936,182438,18170,145719,106414,22456,28794,3944,256001,171375,3753,267324,209061,9587,122765,458638,13119,4877],\"yaxis\":\"y\",\"type\":\"scatter\"}],                        {\"template\":{\"data\":{\"bar\":[{\"error_x\":{\"color\":\"#2a3f5f\"},\"error_y\":{\"color\":\"#2a3f5f\"},\"marker\":{\"line\":{\"color\":\"#E5ECF6\",\"width\":0.5},\"pattern\":{\"fillmode\":\"overlay\",\"size\":10,\"solidity\":0.2}},\"type\":\"bar\"}],\"barpolar\":[{\"marker\":{\"line\":{\"color\":\"#E5ECF6\",\"width\":0.5},\"pattern\":{\"fillmode\":\"overlay\",\"size\":10,\"solidity\":0.2}},\"type\":\"barpolar\"}],\"carpet\":[{\"aaxis\":{\"endlinecolor\":\"#2a3f5f\",\"gridcolor\":\"white\",\"linecolor\":\"white\",\"minorgridcolor\":\"white\",\"startlinecolor\":\"#2a3f5f\"},\"baxis\":{\"endlinecolor\":\"#2a3f5f\",\"gridcolor\":\"white\",\"linecolor\":\"white\",\"minorgridcolor\":\"white\",\"startlinecolor\":\"#2a3f5f\"},\"type\":\"carpet\"}],\"choropleth\":[{\"colorbar\":{\"outlinewidth\":0,\"ticks\":\"\"},\"type\":\"choropleth\"}],\"contour\":[{\"colorbar\":{\"outlinewidth\":0,\"ticks\":\"\"},\"colorscale\":[[0.0,\"#0d0887\"],[0.1111111111111111,\"#46039f\"],[0.2222222222222222,\"#7201a8\"],[0.3333333333333333,\"#9c179e\"],[0.4444444444444444,\"#bd3786\"],[0.5555555555555556,\"#d8576b\"],[0.6666666666666666,\"#ed7953\"],[0.7777777777777778,\"#fb9f3a\"],[0.8888888888888888,\"#fdca26\"],[1.0,\"#f0f921\"]],\"type\":\"contour\"}],\"contourcarpet\":[{\"colorbar\":{\"outlinewidth\":0,\"ticks\":\"\"},\"type\":\"contourcarpet\"}],\"heatmap\":[{\"colorbar\":{\"outlinewidth\":0,\"ticks\":\"\"},\"colorscale\":[[0.0,\"#0d0887\"],[0.1111111111111111,\"#46039f\"],[0.2222222222222222,\"#7201a8\"],[0.3333333333333333,\"#9c179e\"],[0.4444444444444444,\"#bd3786\"],[0.5555555555555556,\"#d8576b\"],[0.6666666666666666,\"#ed7953\"],[0.7777777777777778,\"#fb9f3a\"],[0.8888888888888888,\"#fdca26\"],[1.0,\"#f0f921\"]],\"type\":\"heatmap\"}],\"heatmapgl\":[{\"colorbar\":{\"outlinewidth\":0,\"ticks\":\"\"},\"colorscale\":[[0.0,\"#0d0887\"],[0.1111111111111111,\"#46039f\"],[0.2222222222222222,\"#7201a8\"],[0.3333333333333333,\"#9c179e\"],[0.4444444444444444,\"#bd3786\"],[0.5555555555555556,\"#d8576b\"],[0.6666666666666666,\"#ed7953\"],[0.7777777777777778,\"#fb9f3a\"],[0.8888888888888888,\"#fdca26\"],[1.0,\"#f0f921\"]],\"type\":\"heatmapgl\"}],\"histogram\":[{\"marker\":{\"pattern\":{\"fillmode\":\"overlay\",\"size\":10,\"solidity\":0.2}},\"type\":\"histogram\"}],\"histogram2d\":[{\"colorbar\":{\"outlinewidth\":0,\"ticks\":\"\"},\"colorscale\":[[0.0,\"#0d0887\"],[0.1111111111111111,\"#46039f\"],[0.2222222222222222,\"#7201a8\"],[0.3333333333333333,\"#9c179e\"],[0.4444444444444444,\"#bd3786\"],[0.5555555555555556,\"#d8576b\"],[0.6666666666666666,\"#ed7953\"],[0.7777777777777778,\"#fb9f3a\"],[0.8888888888888888,\"#fdca26\"],[1.0,\"#f0f921\"]],\"type\":\"histogram2d\"}],\"histogram2dcontour\":[{\"colorbar\":{\"outlinewidth\":0,\"ticks\":\"\"},\"colorscale\":[[0.0,\"#0d0887\"],[0.1111111111111111,\"#46039f\"],[0.2222222222222222,\"#7201a8\"],[0.3333333333333333,\"#9c179e\"],[0.4444444444444444,\"#bd3786\"],[0.5555555555555556,\"#d8576b\"],[0.6666666666666666,\"#ed7953\"],[0.7777777777777778,\"#fb9f3a\"],[0.8888888888888888,\"#fdca26\"],[1.0,\"#f0f921\"]],\"type\":\"histogram2dcontour\"}],\"mesh3d\":[{\"colorbar\":{\"outlinewidth\":0,\"ticks\":\"\"},\"type\":\"mesh3d\"}],\"parcoords\":[{\"line\":{\"colorbar\":{\"outlinewidth\":0,\"ticks\":\"\"}},\"type\":\"parcoords\"}],\"pie\":[{\"automargin\":true,\"type\":\"pie\"}],\"scatter\":[{\"marker\":{\"colorbar\":{\"outlinewidth\":0,\"ticks\":\"\"}},\"type\":\"scatter\"}],\"scatter3d\":[{\"line\":{\"colorbar\":{\"outlinewidth\":0,\"ticks\":\"\"}},\"marker\":{\"colorbar\":{\"outlinewidth\":0,\"ticks\":\"\"}},\"type\":\"scatter3d\"}],\"scattercarpet\":[{\"marker\":{\"colorbar\":{\"outlinewidth\":0,\"ticks\":\"\"}},\"type\":\"scattercarpet\"}],\"scattergeo\":[{\"marker\":{\"colorbar\":{\"outlinewidth\":0,\"ticks\":\"\"}},\"type\":\"scattergeo\"}],\"scattergl\":[{\"marker\":{\"colorbar\":{\"outlinewidth\":0,\"ticks\":\"\"}},\"type\":\"scattergl\"}],\"scattermapbox\":[{\"marker\":{\"colorbar\":{\"outlinewidth\":0,\"ticks\":\"\"}},\"type\":\"scattermapbox\"}],\"scatterpolar\":[{\"marker\":{\"colorbar\":{\"outlinewidth\":0,\"ticks\":\"\"}},\"type\":\"scatterpolar\"}],\"scatterpolargl\":[{\"marker\":{\"colorbar\":{\"outlinewidth\":0,\"ticks\":\"\"}},\"type\":\"scatterpolargl\"}],\"scatterternary\":[{\"marker\":{\"colorbar\":{\"outlinewidth\":0,\"ticks\":\"\"}},\"type\":\"scatterternary\"}],\"surface\":[{\"colorbar\":{\"outlinewidth\":0,\"ticks\":\"\"},\"colorscale\":[[0.0,\"#0d0887\"],[0.1111111111111111,\"#46039f\"],[0.2222222222222222,\"#7201a8\"],[0.3333333333333333,\"#9c179e\"],[0.4444444444444444,\"#bd3786\"],[0.5555555555555556,\"#d8576b\"],[0.6666666666666666,\"#ed7953\"],[0.7777777777777778,\"#fb9f3a\"],[0.8888888888888888,\"#fdca26\"],[1.0,\"#f0f921\"]],\"type\":\"surface\"}],\"table\":[{\"cells\":{\"fill\":{\"color\":\"#EBF0F8\"},\"line\":{\"color\":\"white\"}},\"header\":{\"fill\":{\"color\":\"#C8D4E3\"},\"line\":{\"color\":\"white\"}},\"type\":\"table\"}]},\"layout\":{\"annotationdefaults\":{\"arrowcolor\":\"#2a3f5f\",\"arrowhead\":0,\"arrowwidth\":1},\"autotypenumbers\":\"strict\",\"coloraxis\":{\"colorbar\":{\"outlinewidth\":0,\"ticks\":\"\"}},\"colorscale\":{\"diverging\":[[0,\"#8e0152\"],[0.1,\"#c51b7d\"],[0.2,\"#de77ae\"],[0.3,\"#f1b6da\"],[0.4,\"#fde0ef\"],[0.5,\"#f7f7f7\"],[0.6,\"#e6f5d0\"],[0.7,\"#b8e186\"],[0.8,\"#7fbc41\"],[0.9,\"#4d9221\"],[1,\"#276419\"]],\"sequential\":[[0.0,\"#0d0887\"],[0.1111111111111111,\"#46039f\"],[0.2222222222222222,\"#7201a8\"],[0.3333333333333333,\"#9c179e\"],[0.4444444444444444,\"#bd3786\"],[0.5555555555555556,\"#d8576b\"],[0.6666666666666666,\"#ed7953\"],[0.7777777777777778,\"#fb9f3a\"],[0.8888888888888888,\"#fdca26\"],[1.0,\"#f0f921\"]],\"sequentialminus\":[[0.0,\"#0d0887\"],[0.1111111111111111,\"#46039f\"],[0.2222222222222222,\"#7201a8\"],[0.3333333333333333,\"#9c179e\"],[0.4444444444444444,\"#bd3786\"],[0.5555555555555556,\"#d8576b\"],[0.6666666666666666,\"#ed7953\"],[0.7777777777777778,\"#fb9f3a\"],[0.8888888888888888,\"#fdca26\"],[1.0,\"#f0f921\"]]},\"colorway\":[\"#636efa\",\"#EF553B\",\"#00cc96\",\"#ab63fa\",\"#FFA15A\",\"#19d3f3\",\"#FF6692\",\"#B6E880\",\"#FF97FF\",\"#FECB52\"],\"font\":{\"color\":\"#2a3f5f\"},\"geo\":{\"bgcolor\":\"white\",\"lakecolor\":\"white\",\"landcolor\":\"#E5ECF6\",\"showlakes\":true,\"showland\":true,\"subunitcolor\":\"white\"},\"hoverlabel\":{\"align\":\"left\"},\"hovermode\":\"closest\",\"mapbox\":{\"style\":\"light\"},\"paper_bgcolor\":\"white\",\"plot_bgcolor\":\"#E5ECF6\",\"polar\":{\"angularaxis\":{\"gridcolor\":\"white\",\"linecolor\":\"white\",\"ticks\":\"\"},\"bgcolor\":\"#E5ECF6\",\"radialaxis\":{\"gridcolor\":\"white\",\"linecolor\":\"white\",\"ticks\":\"\"}},\"scene\":{\"xaxis\":{\"backgroundcolor\":\"#E5ECF6\",\"gridcolor\":\"white\",\"gridwidth\":2,\"linecolor\":\"white\",\"showbackground\":true,\"ticks\":\"\",\"zerolinecolor\":\"white\"},\"yaxis\":{\"backgroundcolor\":\"#E5ECF6\",\"gridcolor\":\"white\",\"gridwidth\":2,\"linecolor\":\"white\",\"showbackground\":true,\"ticks\":\"\",\"zerolinecolor\":\"white\"},\"zaxis\":{\"backgroundcolor\":\"#E5ECF6\",\"gridcolor\":\"white\",\"gridwidth\":2,\"linecolor\":\"white\",\"showbackground\":true,\"ticks\":\"\",\"zerolinecolor\":\"white\"}},\"shapedefaults\":{\"line\":{\"color\":\"#2a3f5f\"}},\"ternary\":{\"aaxis\":{\"gridcolor\":\"white\",\"linecolor\":\"white\",\"ticks\":\"\"},\"baxis\":{\"gridcolor\":\"white\",\"linecolor\":\"white\",\"ticks\":\"\"},\"bgcolor\":\"#E5ECF6\",\"caxis\":{\"gridcolor\":\"white\",\"linecolor\":\"white\",\"ticks\":\"\"}},\"title\":{\"x\":0.05},\"xaxis\":{\"automargin\":true,\"gridcolor\":\"white\",\"linecolor\":\"white\",\"ticks\":\"\",\"title\":{\"standoff\":15},\"zerolinecolor\":\"white\",\"zerolinewidth\":2},\"yaxis\":{\"automargin\":true,\"gridcolor\":\"white\",\"linecolor\":\"white\",\"ticks\":\"\",\"title\":{\"standoff\":15},\"zerolinecolor\":\"white\",\"zerolinewidth\":2}}},\"xaxis\":{\"anchor\":\"y\",\"domain\":[0.0,1.0],\"title\":{\"text\":\"\\uac8c\\uc2dc\\uc77c\"}},\"yaxis\":{\"anchor\":\"x\",\"domain\":[0.0,1.0],\"title\":{\"text\":\"value\"}},\"legend\":{\"title\":{\"text\":\"variable\"},\"tracegroupgap\":0},\"margin\":{\"t\":60}},                        {\"responsive\": true}                    ).then(function(){\n",
       "                            \n",
       "var gd = document.getElementById('12edbc68-6940-49ea-ba04-6a3a61778c0a');\n",
       "var x = new MutationObserver(function (mutations, observer) {{\n",
       "        var display = window.getComputedStyle(gd).display;\n",
       "        if (!display || display === 'none') {{\n",
       "            console.log([gd, 'removed!']);\n",
       "            Plotly.purge(gd);\n",
       "            observer.disconnect();\n",
       "        }}\n",
       "}});\n",
       "\n",
       "// Listen for the removal of the full notebook cells\n",
       "var notebookContainer = gd.closest('#notebook-container');\n",
       "if (notebookContainer) {{\n",
       "    x.observe(notebookContainer, {childList: true});\n",
       "}}\n",
       "\n",
       "// Listen for the clearing of the current output cell\n",
       "var outputEl = gd.closest('.output');\n",
       "if (outputEl) {{\n",
       "    x.observe(outputEl, {childList: true});\n",
       "}}\n",
       "\n",
       "                        })                };                });            </script>        </div>"
      ]
     },
     "metadata": {},
     "output_type": "display_data"
    }
   ],
   "source": [
    "fromis_9_view_df = fromis_9_df['조회수'].groupby(fromis_9_df['게시일']).sum()\n",
    "fromis_9_view_df.plot()"
   ]
  },
  {
   "cell_type": "markdown",
   "id": "54a9bf39",
   "metadata": {},
   "source": [
    "## fromis_9 공식 유튜브 제외"
   ]
  },
  {
   "cell_type": "code",
   "execution_count": 8,
   "id": "636425c4",
   "metadata": {
    "ExecuteTime": {
     "end_time": "2022-01-01T05:27:51.982131Z",
     "start_time": "2022-01-01T05:27:51.968132Z"
    }
   },
   "outputs": [],
   "source": [
    "non_official_df = fromis_9_df[fromis_9_df['업로더']!='fromis_9']\n",
    "non_official_df = non_official_df[non_official_df['업로더']!='1theK (원더케이)']"
   ]
  },
  {
   "cell_type": "code",
   "execution_count": 9,
   "id": "b11b1f74",
   "metadata": {
    "ExecuteTime": {
     "end_time": "2022-01-01T05:27:52.027131Z",
     "start_time": "2022-01-01T05:27:51.983130Z"
    }
   },
   "outputs": [
    {
     "data": {
      "application/vnd.plotly.v1+json": {
       "config": {
        "plotlyServerURL": "https://plot.ly"
       },
       "data": [
        {
         "hovertemplate": "variable=조회수<br>게시일=%{x}<br>value=%{y}<extra></extra>",
         "legendgroup": "조회수",
         "line": {
          "color": "#636efa",
          "dash": "solid"
         },
         "marker": {
          "symbol": "circle"
         },
         "mode": "lines",
         "name": "조회수",
         "orientation": "v",
         "showlegend": true,
         "type": "scatter",
         "x": [
          "2017-11-30",
          "2018-01-24",
          "2018-01-25",
          "2018-05-13",
          "2018-06-05",
          "2018-06-09",
          "2018-06-12",
          "2018-06-30",
          "2018-07-21",
          "2018-07-23",
          "2018-07-27",
          "2018-08-03",
          "2018-10-05",
          "2018-10-10",
          "2018-10-11",
          "2018-10-14",
          "2018-10-18",
          "2018-10-19",
          "2018-10-28",
          "2018-10-29",
          "2018-11-01",
          "2018-11-09",
          "2018-11-14",
          "2018-11-16",
          "2018-11-17",
          "2018-11-24",
          "2018-12-03",
          "2018-12-21",
          "2018-12-22",
          "2018-12-28",
          "2019-01-04",
          "2019-01-18",
          "2019-02-14",
          "2019-02-22",
          "2019-03-23",
          "2019-03-24",
          "2019-05-08",
          "2019-05-16",
          "2019-05-22",
          "2019-05-23",
          "2019-06-04",
          "2019-06-05",
          "2019-06-07",
          "2019-06-09",
          "2019-06-11",
          "2019-06-12",
          "2019-06-14",
          "2019-06-15",
          "2019-06-19",
          "2019-06-21",
          "2019-06-25",
          "2019-06-29",
          "2019-07-06",
          "2019-07-09",
          "2019-07-12",
          "2019-07-16",
          "2019-07-19",
          "2019-07-22",
          "2019-07-26",
          "2019-07-28",
          "2019-07-30",
          "2019-08-02",
          "2019-08-09",
          "2019-08-10",
          "2019-08-24",
          "2019-08-29",
          "2019-08-30",
          "2019-09-17",
          "2019-10-22",
          "2019-12-03",
          "2019-12-09",
          "2019-12-16",
          "2019-12-24",
          "2019-12-30",
          "2020-01-03",
          "2020-01-10",
          "2020-01-24",
          "2020-01-31",
          "2020-02-07",
          "2020-02-14",
          "2020-02-23",
          "2020-03-13",
          "2020-03-20",
          "2020-03-31",
          "2020-04-11",
          "2020-04-26",
          "2020-04-27",
          "2020-04-28",
          "2020-05-01",
          "2020-05-05",
          "2020-05-11",
          "2020-05-12",
          "2020-05-15",
          "2020-05-17",
          "2020-05-19",
          "2020-05-26",
          "2020-07-07",
          "2020-07-14",
          "2020-07-21",
          "2020-07-28",
          "2020-08-04",
          "2020-08-11",
          "2020-08-18",
          "2020-08-20",
          "2020-08-21",
          "2020-08-25",
          "2020-09-14",
          "2020-09-16",
          "2020-09-17",
          "2020-09-19",
          "2020-09-20",
          "2020-09-21",
          "2020-09-22",
          "2020-09-25",
          "2020-09-26",
          "2020-09-27",
          "2020-09-29",
          "2020-10-08",
          "2020-10-09",
          "2020-10-10",
          "2020-10-14",
          "2020-10-16",
          "2020-10-18",
          "2020-10-21",
          "2020-10-22",
          "2020-10-28",
          "2020-11-01",
          "2020-11-09",
          "2020-11-19",
          "2020-12-01",
          "2020-12-08",
          "2020-12-15",
          "2020-12-18",
          "2020-12-22",
          "2020-12-24",
          "2020-12-27",
          "2021-01-21",
          "2021-01-23",
          "2021-01-29",
          "2021-01-30",
          "2021-03-07",
          "2021-04-02",
          "2021-04-12",
          "2021-04-17",
          "2021-04-20",
          "2021-04-29",
          "2021-05-05",
          "2021-05-08",
          "2021-05-13",
          "2021-05-14",
          "2021-05-15",
          "2021-05-16",
          "2021-05-17",
          "2021-05-18",
          "2021-05-21",
          "2021-05-22",
          "2021-05-23",
          "2021-05-24",
          "2021-05-25",
          "2021-05-26",
          "2021-05-27",
          "2021-05-28",
          "2021-05-29",
          "2021-05-30",
          "2021-05-31",
          "2021-06-01",
          "2021-06-02",
          "2021-06-04",
          "2021-06-05",
          "2021-06-06",
          "2021-06-08",
          "2021-06-09",
          "2021-06-10",
          "2021-06-14",
          "2021-06-17",
          "2021-06-22",
          "2021-06-23",
          "2021-06-24",
          "2021-06-26",
          "2021-06-29",
          "2021-07-01",
          "2021-07-04",
          "2021-07-05",
          "2021-07-07",
          "2021-07-10",
          "2021-07-14",
          "2021-07-15",
          "2021-07-17",
          "2021-07-20",
          "2021-07-21",
          "2021-07-22",
          "2021-07-27",
          "2021-07-28",
          "2021-08-03",
          "2021-08-04",
          "2021-08-05",
          "2021-08-12",
          "2021-08-16",
          "2021-08-17",
          "2021-08-18",
          "2021-08-19",
          "2021-08-20",
          "2021-08-21",
          "2021-08-22",
          "2021-08-23",
          "2021-08-26",
          "2021-08-27",
          "2021-08-28",
          "2021-08-29",
          "2021-08-30",
          "2021-08-31",
          "2021-09-01",
          "2021-09-02",
          "2021-09-03",
          "2021-09-04",
          "2021-09-05",
          "2021-09-06",
          "2021-09-07",
          "2021-09-08",
          "2021-09-09",
          "2021-09-10",
          "2021-09-11",
          "2021-09-12",
          "2021-09-13",
          "2021-09-14",
          "2021-09-16",
          "2021-09-17",
          "2021-09-18",
          "2021-09-19",
          "2021-09-20",
          "2021-09-21",
          "2021-09-22",
          "2021-09-23",
          "2021-09-24",
          "2021-09-25",
          "2021-09-26",
          "2021-09-29",
          "2021-09-30",
          "2021-10-04",
          "2021-10-05",
          "2021-10-07",
          "2021-10-11",
          "2021-10-14",
          "2021-10-17",
          "2021-10-20",
          "2021-10-21",
          "2021-10-22",
          "2021-10-23",
          "2021-10-24",
          "2021-10-28",
          "2021-10-31",
          "2021-11-01",
          "2021-11-04",
          "2021-11-05",
          "2021-11-07",
          "2021-11-08",
          "2021-11-09",
          "2021-11-11",
          "2021-11-12",
          "2021-11-14",
          "2021-11-17",
          "2021-11-18",
          "2021-11-19",
          "2021-11-22",
          "2021-11-23",
          "2021-11-25",
          "2021-11-26",
          "2021-11-29",
          "2021-11-30",
          "2021-12-01",
          "2021-12-02",
          "2021-12-03",
          "2021-12-04",
          "2021-12-09",
          "2021-12-16",
          "2021-12-17",
          "2021-12-20",
          "2021-12-22",
          "2021-12-23",
          "2021-12-24",
          "2021-12-25",
          "2021-12-26",
          "2021-12-27",
          "2021-12-28",
          "2021-12-29",
          "2021-12-30",
          "2021-12-31",
          "2022-01-01"
         ],
         "xaxis": "x",
         "y": [
          8369541,
          4874058,
          19575,
          78265,
          736457,
          69291,
          1259875,
          12836,
          2005733,
          4663,
          274043,
          184532,
          789504,
          24715691,
          459141,
          329690,
          95669,
          715,
          11567,
          100054,
          139470,
          103932,
          663549,
          272701,
          149607,
          152277,
          195033,
          138046,
          12445,
          7137618,
          115348,
          164498,
          98756,
          169054,
          63987,
          200853,
          4719,
          8245,
          12822,
          373077,
          19126705,
          682206,
          2191867,
          1931228,
          1779,
          66268,
          736224,
          78683,
          670563,
          3015,
          247677,
          4958133,
          961,
          418325,
          1443,
          481432,
          252593,
          1278876,
          4008267,
          2553550,
          354066,
          196553,
          156983,
          7644,
          290921,
          444668,
          267122,
          763154,
          253062,
          1362,
          179357,
          2437,
          97334,
          4215153,
          159610,
          223831,
          120552,
          67875,
          194306,
          3048,
          16219,
          250564,
          175557,
          1438603,
          258819,
          295610,
          31643,
          658860,
          143128,
          629239,
          1587659,
          583207,
          784,
          14956,
          861648,
          404458,
          425626,
          289407,
          189993,
          178230,
          156841,
          196393,
          152986,
          14079,
          899,
          139703,
          6661,
          24222957,
          166599,
          8914,
          3815,
          2246,
          1205489,
          163637,
          3585,
          387955,
          4056172,
          20508,
          126107,
          1681194,
          144477,
          105743,
          2426875,
          323145,
          40071,
          509282,
          3071,
          2261,
          716,
          200158,
          129419,
          515553,
          122848,
          133522,
          303309,
          136450,
          1848,
          118650,
          1172,
          1298,
          762,
          1785,
          1526,
          1084,
          2201,
          1462,
          1206,
          4211,
          166175,
          462879,
          49256,
          1394,
          22322259,
          200532,
          3270840,
          1634,
          788084,
          979865,
          1332100,
          993412,
          145182,
          184541,
          2354,
          5666,
          625698,
          650328,
          571,
          430082,
          475845,
          25303,
          328337,
          2953381,
          22322,
          867,
          51220,
          340430,
          35422,
          72788,
          23589,
          3724,
          16536,
          1391,
          7354,
          1168,
          145833,
          474039,
          2430,
          256340,
          358817,
          422104,
          13750,
          14053,
          5796,
          1269,
          12988,
          524,
          61381,
          105107,
          18445,
          76321,
          242112,
          1983,
          28919,
          90526,
          174,
          152943,
          1260,
          141,
          1111114,
          1146670,
          2108,
          21902307,
          349180,
          830442,
          1836439,
          905991,
          123320,
          247863,
          1215561,
          163776,
          279020,
          373354,
          35264,
          18298,
          5572,
          230987,
          89113,
          74,
          11719,
          164347,
          354547,
          164,
          189016,
          35352,
          206251,
          18979,
          2388,
          706217,
          32424,
          22865,
          137090,
          45,
          197266,
          95540,
          37893,
          176053,
          19184,
          11541,
          7577,
          126214,
          128069,
          28431,
          201141,
          6099,
          3170,
          15631,
          1160,
          132295,
          6462,
          45221,
          52301,
          154340,
          6412,
          1102,
          4717,
          119480,
          14193,
          2333,
          2979,
          497219,
          105936,
          182438,
          18170,
          145719,
          106414,
          22456,
          28794,
          3944,
          256001,
          171375,
          3753,
          267324,
          209061,
          9587,
          122765,
          458638,
          13119,
          4877
         ],
         "yaxis": "y"
        }
       ],
       "layout": {
        "legend": {
         "title": {
          "text": "variable"
         },
         "tracegroupgap": 0
        },
        "margin": {
         "t": 60
        },
        "template": {
         "data": {
          "bar": [
           {
            "error_x": {
             "color": "#2a3f5f"
            },
            "error_y": {
             "color": "#2a3f5f"
            },
            "marker": {
             "line": {
              "color": "#E5ECF6",
              "width": 0.5
             },
             "pattern": {
              "fillmode": "overlay",
              "size": 10,
              "solidity": 0.2
             }
            },
            "type": "bar"
           }
          ],
          "barpolar": [
           {
            "marker": {
             "line": {
              "color": "#E5ECF6",
              "width": 0.5
             },
             "pattern": {
              "fillmode": "overlay",
              "size": 10,
              "solidity": 0.2
             }
            },
            "type": "barpolar"
           }
          ],
          "carpet": [
           {
            "aaxis": {
             "endlinecolor": "#2a3f5f",
             "gridcolor": "white",
             "linecolor": "white",
             "minorgridcolor": "white",
             "startlinecolor": "#2a3f5f"
            },
            "baxis": {
             "endlinecolor": "#2a3f5f",
             "gridcolor": "white",
             "linecolor": "white",
             "minorgridcolor": "white",
             "startlinecolor": "#2a3f5f"
            },
            "type": "carpet"
           }
          ],
          "choropleth": [
           {
            "colorbar": {
             "outlinewidth": 0,
             "ticks": ""
            },
            "type": "choropleth"
           }
          ],
          "contour": [
           {
            "colorbar": {
             "outlinewidth": 0,
             "ticks": ""
            },
            "colorscale": [
             [
              0,
              "#0d0887"
             ],
             [
              0.1111111111111111,
              "#46039f"
             ],
             [
              0.2222222222222222,
              "#7201a8"
             ],
             [
              0.3333333333333333,
              "#9c179e"
             ],
             [
              0.4444444444444444,
              "#bd3786"
             ],
             [
              0.5555555555555556,
              "#d8576b"
             ],
             [
              0.6666666666666666,
              "#ed7953"
             ],
             [
              0.7777777777777778,
              "#fb9f3a"
             ],
             [
              0.8888888888888888,
              "#fdca26"
             ],
             [
              1,
              "#f0f921"
             ]
            ],
            "type": "contour"
           }
          ],
          "contourcarpet": [
           {
            "colorbar": {
             "outlinewidth": 0,
             "ticks": ""
            },
            "type": "contourcarpet"
           }
          ],
          "heatmap": [
           {
            "colorbar": {
             "outlinewidth": 0,
             "ticks": ""
            },
            "colorscale": [
             [
              0,
              "#0d0887"
             ],
             [
              0.1111111111111111,
              "#46039f"
             ],
             [
              0.2222222222222222,
              "#7201a8"
             ],
             [
              0.3333333333333333,
              "#9c179e"
             ],
             [
              0.4444444444444444,
              "#bd3786"
             ],
             [
              0.5555555555555556,
              "#d8576b"
             ],
             [
              0.6666666666666666,
              "#ed7953"
             ],
             [
              0.7777777777777778,
              "#fb9f3a"
             ],
             [
              0.8888888888888888,
              "#fdca26"
             ],
             [
              1,
              "#f0f921"
             ]
            ],
            "type": "heatmap"
           }
          ],
          "heatmapgl": [
           {
            "colorbar": {
             "outlinewidth": 0,
             "ticks": ""
            },
            "colorscale": [
             [
              0,
              "#0d0887"
             ],
             [
              0.1111111111111111,
              "#46039f"
             ],
             [
              0.2222222222222222,
              "#7201a8"
             ],
             [
              0.3333333333333333,
              "#9c179e"
             ],
             [
              0.4444444444444444,
              "#bd3786"
             ],
             [
              0.5555555555555556,
              "#d8576b"
             ],
             [
              0.6666666666666666,
              "#ed7953"
             ],
             [
              0.7777777777777778,
              "#fb9f3a"
             ],
             [
              0.8888888888888888,
              "#fdca26"
             ],
             [
              1,
              "#f0f921"
             ]
            ],
            "type": "heatmapgl"
           }
          ],
          "histogram": [
           {
            "marker": {
             "pattern": {
              "fillmode": "overlay",
              "size": 10,
              "solidity": 0.2
             }
            },
            "type": "histogram"
           }
          ],
          "histogram2d": [
           {
            "colorbar": {
             "outlinewidth": 0,
             "ticks": ""
            },
            "colorscale": [
             [
              0,
              "#0d0887"
             ],
             [
              0.1111111111111111,
              "#46039f"
             ],
             [
              0.2222222222222222,
              "#7201a8"
             ],
             [
              0.3333333333333333,
              "#9c179e"
             ],
             [
              0.4444444444444444,
              "#bd3786"
             ],
             [
              0.5555555555555556,
              "#d8576b"
             ],
             [
              0.6666666666666666,
              "#ed7953"
             ],
             [
              0.7777777777777778,
              "#fb9f3a"
             ],
             [
              0.8888888888888888,
              "#fdca26"
             ],
             [
              1,
              "#f0f921"
             ]
            ],
            "type": "histogram2d"
           }
          ],
          "histogram2dcontour": [
           {
            "colorbar": {
             "outlinewidth": 0,
             "ticks": ""
            },
            "colorscale": [
             [
              0,
              "#0d0887"
             ],
             [
              0.1111111111111111,
              "#46039f"
             ],
             [
              0.2222222222222222,
              "#7201a8"
             ],
             [
              0.3333333333333333,
              "#9c179e"
             ],
             [
              0.4444444444444444,
              "#bd3786"
             ],
             [
              0.5555555555555556,
              "#d8576b"
             ],
             [
              0.6666666666666666,
              "#ed7953"
             ],
             [
              0.7777777777777778,
              "#fb9f3a"
             ],
             [
              0.8888888888888888,
              "#fdca26"
             ],
             [
              1,
              "#f0f921"
             ]
            ],
            "type": "histogram2dcontour"
           }
          ],
          "mesh3d": [
           {
            "colorbar": {
             "outlinewidth": 0,
             "ticks": ""
            },
            "type": "mesh3d"
           }
          ],
          "parcoords": [
           {
            "line": {
             "colorbar": {
              "outlinewidth": 0,
              "ticks": ""
             }
            },
            "type": "parcoords"
           }
          ],
          "pie": [
           {
            "automargin": true,
            "type": "pie"
           }
          ],
          "scatter": [
           {
            "marker": {
             "colorbar": {
              "outlinewidth": 0,
              "ticks": ""
             }
            },
            "type": "scatter"
           }
          ],
          "scatter3d": [
           {
            "line": {
             "colorbar": {
              "outlinewidth": 0,
              "ticks": ""
             }
            },
            "marker": {
             "colorbar": {
              "outlinewidth": 0,
              "ticks": ""
             }
            },
            "type": "scatter3d"
           }
          ],
          "scattercarpet": [
           {
            "marker": {
             "colorbar": {
              "outlinewidth": 0,
              "ticks": ""
             }
            },
            "type": "scattercarpet"
           }
          ],
          "scattergeo": [
           {
            "marker": {
             "colorbar": {
              "outlinewidth": 0,
              "ticks": ""
             }
            },
            "type": "scattergeo"
           }
          ],
          "scattergl": [
           {
            "marker": {
             "colorbar": {
              "outlinewidth": 0,
              "ticks": ""
             }
            },
            "type": "scattergl"
           }
          ],
          "scattermapbox": [
           {
            "marker": {
             "colorbar": {
              "outlinewidth": 0,
              "ticks": ""
             }
            },
            "type": "scattermapbox"
           }
          ],
          "scatterpolar": [
           {
            "marker": {
             "colorbar": {
              "outlinewidth": 0,
              "ticks": ""
             }
            },
            "type": "scatterpolar"
           }
          ],
          "scatterpolargl": [
           {
            "marker": {
             "colorbar": {
              "outlinewidth": 0,
              "ticks": ""
             }
            },
            "type": "scatterpolargl"
           }
          ],
          "scatterternary": [
           {
            "marker": {
             "colorbar": {
              "outlinewidth": 0,
              "ticks": ""
             }
            },
            "type": "scatterternary"
           }
          ],
          "surface": [
           {
            "colorbar": {
             "outlinewidth": 0,
             "ticks": ""
            },
            "colorscale": [
             [
              0,
              "#0d0887"
             ],
             [
              0.1111111111111111,
              "#46039f"
             ],
             [
              0.2222222222222222,
              "#7201a8"
             ],
             [
              0.3333333333333333,
              "#9c179e"
             ],
             [
              0.4444444444444444,
              "#bd3786"
             ],
             [
              0.5555555555555556,
              "#d8576b"
             ],
             [
              0.6666666666666666,
              "#ed7953"
             ],
             [
              0.7777777777777778,
              "#fb9f3a"
             ],
             [
              0.8888888888888888,
              "#fdca26"
             ],
             [
              1,
              "#f0f921"
             ]
            ],
            "type": "surface"
           }
          ],
          "table": [
           {
            "cells": {
             "fill": {
              "color": "#EBF0F8"
             },
             "line": {
              "color": "white"
             }
            },
            "header": {
             "fill": {
              "color": "#C8D4E3"
             },
             "line": {
              "color": "white"
             }
            },
            "type": "table"
           }
          ]
         },
         "layout": {
          "annotationdefaults": {
           "arrowcolor": "#2a3f5f",
           "arrowhead": 0,
           "arrowwidth": 1
          },
          "autotypenumbers": "strict",
          "coloraxis": {
           "colorbar": {
            "outlinewidth": 0,
            "ticks": ""
           }
          },
          "colorscale": {
           "diverging": [
            [
             0,
             "#8e0152"
            ],
            [
             0.1,
             "#c51b7d"
            ],
            [
             0.2,
             "#de77ae"
            ],
            [
             0.3,
             "#f1b6da"
            ],
            [
             0.4,
             "#fde0ef"
            ],
            [
             0.5,
             "#f7f7f7"
            ],
            [
             0.6,
             "#e6f5d0"
            ],
            [
             0.7,
             "#b8e186"
            ],
            [
             0.8,
             "#7fbc41"
            ],
            [
             0.9,
             "#4d9221"
            ],
            [
             1,
             "#276419"
            ]
           ],
           "sequential": [
            [
             0,
             "#0d0887"
            ],
            [
             0.1111111111111111,
             "#46039f"
            ],
            [
             0.2222222222222222,
             "#7201a8"
            ],
            [
             0.3333333333333333,
             "#9c179e"
            ],
            [
             0.4444444444444444,
             "#bd3786"
            ],
            [
             0.5555555555555556,
             "#d8576b"
            ],
            [
             0.6666666666666666,
             "#ed7953"
            ],
            [
             0.7777777777777778,
             "#fb9f3a"
            ],
            [
             0.8888888888888888,
             "#fdca26"
            ],
            [
             1,
             "#f0f921"
            ]
           ],
           "sequentialminus": [
            [
             0,
             "#0d0887"
            ],
            [
             0.1111111111111111,
             "#46039f"
            ],
            [
             0.2222222222222222,
             "#7201a8"
            ],
            [
             0.3333333333333333,
             "#9c179e"
            ],
            [
             0.4444444444444444,
             "#bd3786"
            ],
            [
             0.5555555555555556,
             "#d8576b"
            ],
            [
             0.6666666666666666,
             "#ed7953"
            ],
            [
             0.7777777777777778,
             "#fb9f3a"
            ],
            [
             0.8888888888888888,
             "#fdca26"
            ],
            [
             1,
             "#f0f921"
            ]
           ]
          },
          "colorway": [
           "#636efa",
           "#EF553B",
           "#00cc96",
           "#ab63fa",
           "#FFA15A",
           "#19d3f3",
           "#FF6692",
           "#B6E880",
           "#FF97FF",
           "#FECB52"
          ],
          "font": {
           "color": "#2a3f5f"
          },
          "geo": {
           "bgcolor": "white",
           "lakecolor": "white",
           "landcolor": "#E5ECF6",
           "showlakes": true,
           "showland": true,
           "subunitcolor": "white"
          },
          "hoverlabel": {
           "align": "left"
          },
          "hovermode": "closest",
          "mapbox": {
           "style": "light"
          },
          "paper_bgcolor": "white",
          "plot_bgcolor": "#E5ECF6",
          "polar": {
           "angularaxis": {
            "gridcolor": "white",
            "linecolor": "white",
            "ticks": ""
           },
           "bgcolor": "#E5ECF6",
           "radialaxis": {
            "gridcolor": "white",
            "linecolor": "white",
            "ticks": ""
           }
          },
          "scene": {
           "xaxis": {
            "backgroundcolor": "#E5ECF6",
            "gridcolor": "white",
            "gridwidth": 2,
            "linecolor": "white",
            "showbackground": true,
            "ticks": "",
            "zerolinecolor": "white"
           },
           "yaxis": {
            "backgroundcolor": "#E5ECF6",
            "gridcolor": "white",
            "gridwidth": 2,
            "linecolor": "white",
            "showbackground": true,
            "ticks": "",
            "zerolinecolor": "white"
           },
           "zaxis": {
            "backgroundcolor": "#E5ECF6",
            "gridcolor": "white",
            "gridwidth": 2,
            "linecolor": "white",
            "showbackground": true,
            "ticks": "",
            "zerolinecolor": "white"
           }
          },
          "shapedefaults": {
           "line": {
            "color": "#2a3f5f"
           }
          },
          "ternary": {
           "aaxis": {
            "gridcolor": "white",
            "linecolor": "white",
            "ticks": ""
           },
           "baxis": {
            "gridcolor": "white",
            "linecolor": "white",
            "ticks": ""
           },
           "bgcolor": "#E5ECF6",
           "caxis": {
            "gridcolor": "white",
            "linecolor": "white",
            "ticks": ""
           }
          },
          "title": {
           "x": 0.05
          },
          "xaxis": {
           "automargin": true,
           "gridcolor": "white",
           "linecolor": "white",
           "ticks": "",
           "title": {
            "standoff": 15
           },
           "zerolinecolor": "white",
           "zerolinewidth": 2
          },
          "yaxis": {
           "automargin": true,
           "gridcolor": "white",
           "linecolor": "white",
           "ticks": "",
           "title": {
            "standoff": 15
           },
           "zerolinecolor": "white",
           "zerolinewidth": 2
          }
         }
        },
        "xaxis": {
         "anchor": "y",
         "domain": [
          0,
          1
         ],
         "title": {
          "text": "게시일"
         }
        },
        "yaxis": {
         "anchor": "x",
         "domain": [
          0,
          1
         ],
         "title": {
          "text": "value"
         }
        }
       }
      },
      "text/html": [
       "<div>                            <div id=\"857274fc-e4a5-4192-abcf-3d8f82a225ca\" class=\"plotly-graph-div\" style=\"height:525px; width:100%;\"></div>            <script type=\"text/javascript\">                require([\"plotly\"], function(Plotly) {                    window.PLOTLYENV=window.PLOTLYENV || {};                                    if (document.getElementById(\"857274fc-e4a5-4192-abcf-3d8f82a225ca\")) {                    Plotly.newPlot(                        \"857274fc-e4a5-4192-abcf-3d8f82a225ca\",                        [{\"hovertemplate\":\"variable=\\uc870\\ud68c\\uc218<br>\\uac8c\\uc2dc\\uc77c=%{x}<br>value=%{y}<extra></extra>\",\"legendgroup\":\"\\uc870\\ud68c\\uc218\",\"line\":{\"color\":\"#636efa\",\"dash\":\"solid\"},\"marker\":{\"symbol\":\"circle\"},\"mode\":\"lines\",\"name\":\"\\uc870\\ud68c\\uc218\",\"orientation\":\"v\",\"showlegend\":true,\"x\":[\"2017-11-30\",\"2018-01-24\",\"2018-01-25\",\"2018-05-13\",\"2018-06-05\",\"2018-06-09\",\"2018-06-12\",\"2018-06-30\",\"2018-07-21\",\"2018-07-23\",\"2018-07-27\",\"2018-08-03\",\"2018-10-05\",\"2018-10-10\",\"2018-10-11\",\"2018-10-14\",\"2018-10-18\",\"2018-10-19\",\"2018-10-28\",\"2018-10-29\",\"2018-11-01\",\"2018-11-09\",\"2018-11-14\",\"2018-11-16\",\"2018-11-17\",\"2018-11-24\",\"2018-12-03\",\"2018-12-21\",\"2018-12-22\",\"2018-12-28\",\"2019-01-04\",\"2019-01-18\",\"2019-02-14\",\"2019-02-22\",\"2019-03-23\",\"2019-03-24\",\"2019-05-08\",\"2019-05-16\",\"2019-05-22\",\"2019-05-23\",\"2019-06-04\",\"2019-06-05\",\"2019-06-07\",\"2019-06-09\",\"2019-06-11\",\"2019-06-12\",\"2019-06-14\",\"2019-06-15\",\"2019-06-19\",\"2019-06-21\",\"2019-06-25\",\"2019-06-29\",\"2019-07-06\",\"2019-07-09\",\"2019-07-12\",\"2019-07-16\",\"2019-07-19\",\"2019-07-22\",\"2019-07-26\",\"2019-07-28\",\"2019-07-30\",\"2019-08-02\",\"2019-08-09\",\"2019-08-10\",\"2019-08-24\",\"2019-08-29\",\"2019-08-30\",\"2019-09-17\",\"2019-10-22\",\"2019-12-03\",\"2019-12-09\",\"2019-12-16\",\"2019-12-24\",\"2019-12-30\",\"2020-01-03\",\"2020-01-10\",\"2020-01-24\",\"2020-01-31\",\"2020-02-07\",\"2020-02-14\",\"2020-02-23\",\"2020-03-13\",\"2020-03-20\",\"2020-03-31\",\"2020-04-11\",\"2020-04-26\",\"2020-04-27\",\"2020-04-28\",\"2020-05-01\",\"2020-05-05\",\"2020-05-11\",\"2020-05-12\",\"2020-05-15\",\"2020-05-17\",\"2020-05-19\",\"2020-05-26\",\"2020-07-07\",\"2020-07-14\",\"2020-07-21\",\"2020-07-28\",\"2020-08-04\",\"2020-08-11\",\"2020-08-18\",\"2020-08-20\",\"2020-08-21\",\"2020-08-25\",\"2020-09-14\",\"2020-09-16\",\"2020-09-17\",\"2020-09-19\",\"2020-09-20\",\"2020-09-21\",\"2020-09-22\",\"2020-09-25\",\"2020-09-26\",\"2020-09-27\",\"2020-09-29\",\"2020-10-08\",\"2020-10-09\",\"2020-10-10\",\"2020-10-14\",\"2020-10-16\",\"2020-10-18\",\"2020-10-21\",\"2020-10-22\",\"2020-10-28\",\"2020-11-01\",\"2020-11-09\",\"2020-11-19\",\"2020-12-01\",\"2020-12-08\",\"2020-12-15\",\"2020-12-18\",\"2020-12-22\",\"2020-12-24\",\"2020-12-27\",\"2021-01-21\",\"2021-01-23\",\"2021-01-29\",\"2021-01-30\",\"2021-03-07\",\"2021-04-02\",\"2021-04-12\",\"2021-04-17\",\"2021-04-20\",\"2021-04-29\",\"2021-05-05\",\"2021-05-08\",\"2021-05-13\",\"2021-05-14\",\"2021-05-15\",\"2021-05-16\",\"2021-05-17\",\"2021-05-18\",\"2021-05-21\",\"2021-05-22\",\"2021-05-23\",\"2021-05-24\",\"2021-05-25\",\"2021-05-26\",\"2021-05-27\",\"2021-05-28\",\"2021-05-29\",\"2021-05-30\",\"2021-05-31\",\"2021-06-01\",\"2021-06-02\",\"2021-06-04\",\"2021-06-05\",\"2021-06-06\",\"2021-06-08\",\"2021-06-09\",\"2021-06-10\",\"2021-06-14\",\"2021-06-17\",\"2021-06-22\",\"2021-06-23\",\"2021-06-24\",\"2021-06-26\",\"2021-06-29\",\"2021-07-01\",\"2021-07-04\",\"2021-07-05\",\"2021-07-07\",\"2021-07-10\",\"2021-07-14\",\"2021-07-15\",\"2021-07-17\",\"2021-07-20\",\"2021-07-21\",\"2021-07-22\",\"2021-07-27\",\"2021-07-28\",\"2021-08-03\",\"2021-08-04\",\"2021-08-05\",\"2021-08-12\",\"2021-08-16\",\"2021-08-17\",\"2021-08-18\",\"2021-08-19\",\"2021-08-20\",\"2021-08-21\",\"2021-08-22\",\"2021-08-23\",\"2021-08-26\",\"2021-08-27\",\"2021-08-28\",\"2021-08-29\",\"2021-08-30\",\"2021-08-31\",\"2021-09-01\",\"2021-09-02\",\"2021-09-03\",\"2021-09-04\",\"2021-09-05\",\"2021-09-06\",\"2021-09-07\",\"2021-09-08\",\"2021-09-09\",\"2021-09-10\",\"2021-09-11\",\"2021-09-12\",\"2021-09-13\",\"2021-09-14\",\"2021-09-16\",\"2021-09-17\",\"2021-09-18\",\"2021-09-19\",\"2021-09-20\",\"2021-09-21\",\"2021-09-22\",\"2021-09-23\",\"2021-09-24\",\"2021-09-25\",\"2021-09-26\",\"2021-09-29\",\"2021-09-30\",\"2021-10-04\",\"2021-10-05\",\"2021-10-07\",\"2021-10-11\",\"2021-10-14\",\"2021-10-17\",\"2021-10-20\",\"2021-10-21\",\"2021-10-22\",\"2021-10-23\",\"2021-10-24\",\"2021-10-28\",\"2021-10-31\",\"2021-11-01\",\"2021-11-04\",\"2021-11-05\",\"2021-11-07\",\"2021-11-08\",\"2021-11-09\",\"2021-11-11\",\"2021-11-12\",\"2021-11-14\",\"2021-11-17\",\"2021-11-18\",\"2021-11-19\",\"2021-11-22\",\"2021-11-23\",\"2021-11-25\",\"2021-11-26\",\"2021-11-29\",\"2021-11-30\",\"2021-12-01\",\"2021-12-02\",\"2021-12-03\",\"2021-12-04\",\"2021-12-09\",\"2021-12-16\",\"2021-12-17\",\"2021-12-20\",\"2021-12-22\",\"2021-12-23\",\"2021-12-24\",\"2021-12-25\",\"2021-12-26\",\"2021-12-27\",\"2021-12-28\",\"2021-12-29\",\"2021-12-30\",\"2021-12-31\",\"2022-01-01\"],\"xaxis\":\"x\",\"y\":[8369541,4874058,19575,78265,736457,69291,1259875,12836,2005733,4663,274043,184532,789504,24715691,459141,329690,95669,715,11567,100054,139470,103932,663549,272701,149607,152277,195033,138046,12445,7137618,115348,164498,98756,169054,63987,200853,4719,8245,12822,373077,19126705,682206,2191867,1931228,1779,66268,736224,78683,670563,3015,247677,4958133,961,418325,1443,481432,252593,1278876,4008267,2553550,354066,196553,156983,7644,290921,444668,267122,763154,253062,1362,179357,2437,97334,4215153,159610,223831,120552,67875,194306,3048,16219,250564,175557,1438603,258819,295610,31643,658860,143128,629239,1587659,583207,784,14956,861648,404458,425626,289407,189993,178230,156841,196393,152986,14079,899,139703,6661,24222957,166599,8914,3815,2246,1205489,163637,3585,387955,4056172,20508,126107,1681194,144477,105743,2426875,323145,40071,509282,3071,2261,716,200158,129419,515553,122848,133522,303309,136450,1848,118650,1172,1298,762,1785,1526,1084,2201,1462,1206,4211,166175,462879,49256,1394,22322259,200532,3270840,1634,788084,979865,1332100,993412,145182,184541,2354,5666,625698,650328,571,430082,475845,25303,328337,2953381,22322,867,51220,340430,35422,72788,23589,3724,16536,1391,7354,1168,145833,474039,2430,256340,358817,422104,13750,14053,5796,1269,12988,524,61381,105107,18445,76321,242112,1983,28919,90526,174,152943,1260,141,1111114,1146670,2108,21902307,349180,830442,1836439,905991,123320,247863,1215561,163776,279020,373354,35264,18298,5572,230987,89113,74,11719,164347,354547,164,189016,35352,206251,18979,2388,706217,32424,22865,137090,45,197266,95540,37893,176053,19184,11541,7577,126214,128069,28431,201141,6099,3170,15631,1160,132295,6462,45221,52301,154340,6412,1102,4717,119480,14193,2333,2979,497219,105936,182438,18170,145719,106414,22456,28794,3944,256001,171375,3753,267324,209061,9587,122765,458638,13119,4877],\"yaxis\":\"y\",\"type\":\"scatter\"}],                        {\"template\":{\"data\":{\"bar\":[{\"error_x\":{\"color\":\"#2a3f5f\"},\"error_y\":{\"color\":\"#2a3f5f\"},\"marker\":{\"line\":{\"color\":\"#E5ECF6\",\"width\":0.5},\"pattern\":{\"fillmode\":\"overlay\",\"size\":10,\"solidity\":0.2}},\"type\":\"bar\"}],\"barpolar\":[{\"marker\":{\"line\":{\"color\":\"#E5ECF6\",\"width\":0.5},\"pattern\":{\"fillmode\":\"overlay\",\"size\":10,\"solidity\":0.2}},\"type\":\"barpolar\"}],\"carpet\":[{\"aaxis\":{\"endlinecolor\":\"#2a3f5f\",\"gridcolor\":\"white\",\"linecolor\":\"white\",\"minorgridcolor\":\"white\",\"startlinecolor\":\"#2a3f5f\"},\"baxis\":{\"endlinecolor\":\"#2a3f5f\",\"gridcolor\":\"white\",\"linecolor\":\"white\",\"minorgridcolor\":\"white\",\"startlinecolor\":\"#2a3f5f\"},\"type\":\"carpet\"}],\"choropleth\":[{\"colorbar\":{\"outlinewidth\":0,\"ticks\":\"\"},\"type\":\"choropleth\"}],\"contour\":[{\"colorbar\":{\"outlinewidth\":0,\"ticks\":\"\"},\"colorscale\":[[0.0,\"#0d0887\"],[0.1111111111111111,\"#46039f\"],[0.2222222222222222,\"#7201a8\"],[0.3333333333333333,\"#9c179e\"],[0.4444444444444444,\"#bd3786\"],[0.5555555555555556,\"#d8576b\"],[0.6666666666666666,\"#ed7953\"],[0.7777777777777778,\"#fb9f3a\"],[0.8888888888888888,\"#fdca26\"],[1.0,\"#f0f921\"]],\"type\":\"contour\"}],\"contourcarpet\":[{\"colorbar\":{\"outlinewidth\":0,\"ticks\":\"\"},\"type\":\"contourcarpet\"}],\"heatmap\":[{\"colorbar\":{\"outlinewidth\":0,\"ticks\":\"\"},\"colorscale\":[[0.0,\"#0d0887\"],[0.1111111111111111,\"#46039f\"],[0.2222222222222222,\"#7201a8\"],[0.3333333333333333,\"#9c179e\"],[0.4444444444444444,\"#bd3786\"],[0.5555555555555556,\"#d8576b\"],[0.6666666666666666,\"#ed7953\"],[0.7777777777777778,\"#fb9f3a\"],[0.8888888888888888,\"#fdca26\"],[1.0,\"#f0f921\"]],\"type\":\"heatmap\"}],\"heatmapgl\":[{\"colorbar\":{\"outlinewidth\":0,\"ticks\":\"\"},\"colorscale\":[[0.0,\"#0d0887\"],[0.1111111111111111,\"#46039f\"],[0.2222222222222222,\"#7201a8\"],[0.3333333333333333,\"#9c179e\"],[0.4444444444444444,\"#bd3786\"],[0.5555555555555556,\"#d8576b\"],[0.6666666666666666,\"#ed7953\"],[0.7777777777777778,\"#fb9f3a\"],[0.8888888888888888,\"#fdca26\"],[1.0,\"#f0f921\"]],\"type\":\"heatmapgl\"}],\"histogram\":[{\"marker\":{\"pattern\":{\"fillmode\":\"overlay\",\"size\":10,\"solidity\":0.2}},\"type\":\"histogram\"}],\"histogram2d\":[{\"colorbar\":{\"outlinewidth\":0,\"ticks\":\"\"},\"colorscale\":[[0.0,\"#0d0887\"],[0.1111111111111111,\"#46039f\"],[0.2222222222222222,\"#7201a8\"],[0.3333333333333333,\"#9c179e\"],[0.4444444444444444,\"#bd3786\"],[0.5555555555555556,\"#d8576b\"],[0.6666666666666666,\"#ed7953\"],[0.7777777777777778,\"#fb9f3a\"],[0.8888888888888888,\"#fdca26\"],[1.0,\"#f0f921\"]],\"type\":\"histogram2d\"}],\"histogram2dcontour\":[{\"colorbar\":{\"outlinewidth\":0,\"ticks\":\"\"},\"colorscale\":[[0.0,\"#0d0887\"],[0.1111111111111111,\"#46039f\"],[0.2222222222222222,\"#7201a8\"],[0.3333333333333333,\"#9c179e\"],[0.4444444444444444,\"#bd3786\"],[0.5555555555555556,\"#d8576b\"],[0.6666666666666666,\"#ed7953\"],[0.7777777777777778,\"#fb9f3a\"],[0.8888888888888888,\"#fdca26\"],[1.0,\"#f0f921\"]],\"type\":\"histogram2dcontour\"}],\"mesh3d\":[{\"colorbar\":{\"outlinewidth\":0,\"ticks\":\"\"},\"type\":\"mesh3d\"}],\"parcoords\":[{\"line\":{\"colorbar\":{\"outlinewidth\":0,\"ticks\":\"\"}},\"type\":\"parcoords\"}],\"pie\":[{\"automargin\":true,\"type\":\"pie\"}],\"scatter\":[{\"marker\":{\"colorbar\":{\"outlinewidth\":0,\"ticks\":\"\"}},\"type\":\"scatter\"}],\"scatter3d\":[{\"line\":{\"colorbar\":{\"outlinewidth\":0,\"ticks\":\"\"}},\"marker\":{\"colorbar\":{\"outlinewidth\":0,\"ticks\":\"\"}},\"type\":\"scatter3d\"}],\"scattercarpet\":[{\"marker\":{\"colorbar\":{\"outlinewidth\":0,\"ticks\":\"\"}},\"type\":\"scattercarpet\"}],\"scattergeo\":[{\"marker\":{\"colorbar\":{\"outlinewidth\":0,\"ticks\":\"\"}},\"type\":\"scattergeo\"}],\"scattergl\":[{\"marker\":{\"colorbar\":{\"outlinewidth\":0,\"ticks\":\"\"}},\"type\":\"scattergl\"}],\"scattermapbox\":[{\"marker\":{\"colorbar\":{\"outlinewidth\":0,\"ticks\":\"\"}},\"type\":\"scattermapbox\"}],\"scatterpolar\":[{\"marker\":{\"colorbar\":{\"outlinewidth\":0,\"ticks\":\"\"}},\"type\":\"scatterpolar\"}],\"scatterpolargl\":[{\"marker\":{\"colorbar\":{\"outlinewidth\":0,\"ticks\":\"\"}},\"type\":\"scatterpolargl\"}],\"scatterternary\":[{\"marker\":{\"colorbar\":{\"outlinewidth\":0,\"ticks\":\"\"}},\"type\":\"scatterternary\"}],\"surface\":[{\"colorbar\":{\"outlinewidth\":0,\"ticks\":\"\"},\"colorscale\":[[0.0,\"#0d0887\"],[0.1111111111111111,\"#46039f\"],[0.2222222222222222,\"#7201a8\"],[0.3333333333333333,\"#9c179e\"],[0.4444444444444444,\"#bd3786\"],[0.5555555555555556,\"#d8576b\"],[0.6666666666666666,\"#ed7953\"],[0.7777777777777778,\"#fb9f3a\"],[0.8888888888888888,\"#fdca26\"],[1.0,\"#f0f921\"]],\"type\":\"surface\"}],\"table\":[{\"cells\":{\"fill\":{\"color\":\"#EBF0F8\"},\"line\":{\"color\":\"white\"}},\"header\":{\"fill\":{\"color\":\"#C8D4E3\"},\"line\":{\"color\":\"white\"}},\"type\":\"table\"}]},\"layout\":{\"annotationdefaults\":{\"arrowcolor\":\"#2a3f5f\",\"arrowhead\":0,\"arrowwidth\":1},\"autotypenumbers\":\"strict\",\"coloraxis\":{\"colorbar\":{\"outlinewidth\":0,\"ticks\":\"\"}},\"colorscale\":{\"diverging\":[[0,\"#8e0152\"],[0.1,\"#c51b7d\"],[0.2,\"#de77ae\"],[0.3,\"#f1b6da\"],[0.4,\"#fde0ef\"],[0.5,\"#f7f7f7\"],[0.6,\"#e6f5d0\"],[0.7,\"#b8e186\"],[0.8,\"#7fbc41\"],[0.9,\"#4d9221\"],[1,\"#276419\"]],\"sequential\":[[0.0,\"#0d0887\"],[0.1111111111111111,\"#46039f\"],[0.2222222222222222,\"#7201a8\"],[0.3333333333333333,\"#9c179e\"],[0.4444444444444444,\"#bd3786\"],[0.5555555555555556,\"#d8576b\"],[0.6666666666666666,\"#ed7953\"],[0.7777777777777778,\"#fb9f3a\"],[0.8888888888888888,\"#fdca26\"],[1.0,\"#f0f921\"]],\"sequentialminus\":[[0.0,\"#0d0887\"],[0.1111111111111111,\"#46039f\"],[0.2222222222222222,\"#7201a8\"],[0.3333333333333333,\"#9c179e\"],[0.4444444444444444,\"#bd3786\"],[0.5555555555555556,\"#d8576b\"],[0.6666666666666666,\"#ed7953\"],[0.7777777777777778,\"#fb9f3a\"],[0.8888888888888888,\"#fdca26\"],[1.0,\"#f0f921\"]]},\"colorway\":[\"#636efa\",\"#EF553B\",\"#00cc96\",\"#ab63fa\",\"#FFA15A\",\"#19d3f3\",\"#FF6692\",\"#B6E880\",\"#FF97FF\",\"#FECB52\"],\"font\":{\"color\":\"#2a3f5f\"},\"geo\":{\"bgcolor\":\"white\",\"lakecolor\":\"white\",\"landcolor\":\"#E5ECF6\",\"showlakes\":true,\"showland\":true,\"subunitcolor\":\"white\"},\"hoverlabel\":{\"align\":\"left\"},\"hovermode\":\"closest\",\"mapbox\":{\"style\":\"light\"},\"paper_bgcolor\":\"white\",\"plot_bgcolor\":\"#E5ECF6\",\"polar\":{\"angularaxis\":{\"gridcolor\":\"white\",\"linecolor\":\"white\",\"ticks\":\"\"},\"bgcolor\":\"#E5ECF6\",\"radialaxis\":{\"gridcolor\":\"white\",\"linecolor\":\"white\",\"ticks\":\"\"}},\"scene\":{\"xaxis\":{\"backgroundcolor\":\"#E5ECF6\",\"gridcolor\":\"white\",\"gridwidth\":2,\"linecolor\":\"white\",\"showbackground\":true,\"ticks\":\"\",\"zerolinecolor\":\"white\"},\"yaxis\":{\"backgroundcolor\":\"#E5ECF6\",\"gridcolor\":\"white\",\"gridwidth\":2,\"linecolor\":\"white\",\"showbackground\":true,\"ticks\":\"\",\"zerolinecolor\":\"white\"},\"zaxis\":{\"backgroundcolor\":\"#E5ECF6\",\"gridcolor\":\"white\",\"gridwidth\":2,\"linecolor\":\"white\",\"showbackground\":true,\"ticks\":\"\",\"zerolinecolor\":\"white\"}},\"shapedefaults\":{\"line\":{\"color\":\"#2a3f5f\"}},\"ternary\":{\"aaxis\":{\"gridcolor\":\"white\",\"linecolor\":\"white\",\"ticks\":\"\"},\"baxis\":{\"gridcolor\":\"white\",\"linecolor\":\"white\",\"ticks\":\"\"},\"bgcolor\":\"#E5ECF6\",\"caxis\":{\"gridcolor\":\"white\",\"linecolor\":\"white\",\"ticks\":\"\"}},\"title\":{\"x\":0.05},\"xaxis\":{\"automargin\":true,\"gridcolor\":\"white\",\"linecolor\":\"white\",\"ticks\":\"\",\"title\":{\"standoff\":15},\"zerolinecolor\":\"white\",\"zerolinewidth\":2},\"yaxis\":{\"automargin\":true,\"gridcolor\":\"white\",\"linecolor\":\"white\",\"ticks\":\"\",\"title\":{\"standoff\":15},\"zerolinecolor\":\"white\",\"zerolinewidth\":2}}},\"xaxis\":{\"anchor\":\"y\",\"domain\":[0.0,1.0],\"title\":{\"text\":\"\\uac8c\\uc2dc\\uc77c\"}},\"yaxis\":{\"anchor\":\"x\",\"domain\":[0.0,1.0],\"title\":{\"text\":\"value\"}},\"legend\":{\"title\":{\"text\":\"variable\"},\"tracegroupgap\":0},\"margin\":{\"t\":60}},                        {\"responsive\": true}                    ).then(function(){\n",
       "                            \n",
       "var gd = document.getElementById('857274fc-e4a5-4192-abcf-3d8f82a225ca');\n",
       "var x = new MutationObserver(function (mutations, observer) {{\n",
       "        var display = window.getComputedStyle(gd).display;\n",
       "        if (!display || display === 'none') {{\n",
       "            console.log([gd, 'removed!']);\n",
       "            Plotly.purge(gd);\n",
       "            observer.disconnect();\n",
       "        }}\n",
       "}});\n",
       "\n",
       "// Listen for the removal of the full notebook cells\n",
       "var notebookContainer = gd.closest('#notebook-container');\n",
       "if (notebookContainer) {{\n",
       "    x.observe(notebookContainer, {childList: true});\n",
       "}}\n",
       "\n",
       "// Listen for the clearing of the current output cell\n",
       "var outputEl = gd.closest('.output');\n",
       "if (outputEl) {{\n",
       "    x.observe(outputEl, {childList: true});\n",
       "}}\n",
       "\n",
       "                        })                };                });            </script>        </div>"
      ]
     },
     "metadata": {},
     "output_type": "display_data"
    }
   ],
   "source": [
    "non_official_view_df= non_official_df['조회수'].groupby(fromis_9_df['게시일']).sum()\n",
    "non_official_view_df.plot()"
   ]
  },
  {
   "cell_type": "code",
   "execution_count": 10,
   "id": "71fe7c4f",
   "metadata": {
    "ExecuteTime": {
     "end_time": "2022-01-01T05:27:52.042129Z",
     "start_time": "2022-01-01T05:27:52.029131Z"
    }
   },
   "outputs": [
    {
     "data": {
      "text/html": [
       "<div>\n",
       "<style scoped>\n",
       "    .dataframe tbody tr th:only-of-type {\n",
       "        vertical-align: middle;\n",
       "    }\n",
       "\n",
       "    .dataframe tbody tr th {\n",
       "        vertical-align: top;\n",
       "    }\n",
       "\n",
       "    .dataframe thead th {\n",
       "        text-align: right;\n",
       "    }\n",
       "</style>\n",
       "<table border=\"1\" class=\"dataframe\">\n",
       "  <thead>\n",
       "    <tr style=\"text-align: right;\">\n",
       "      <th></th>\n",
       "      <th>제목</th>\n",
       "      <th>업로더</th>\n",
       "      <th>조회수</th>\n",
       "      <th>게시일</th>\n",
       "    </tr>\n",
       "  </thead>\n",
       "  <tbody>\n",
       "    <tr>\n",
       "      <th>1</th>\n",
       "      <td>fromis_9 (프로미스나인) 'Talk &amp; Talk' Official MV</td>\n",
       "      <td>HYBE LABELS</td>\n",
       "      <td>21665354</td>\n",
       "      <td>2021-09-01</td>\n",
       "    </tr>\n",
       "    <tr>\n",
       "      <th>7</th>\n",
       "      <td>프로미스나인 (fromis_9) 'WE GO' M/V</td>\n",
       "      <td>Official fromis_9</td>\n",
       "      <td>21269451</td>\n",
       "      <td>2021-05-17</td>\n",
       "    </tr>\n",
       "    <tr>\n",
       "      <th>8</th>\n",
       "      <td>[MV] 프로미스나인 (fromis_9) - LOVE BOMB</td>\n",
       "      <td>Official fromis_9</td>\n",
       "      <td>24715691</td>\n",
       "      <td>2018-10-10</td>\n",
       "    </tr>\n",
       "    <tr>\n",
       "      <th>9</th>\n",
       "      <td>[MV] 프로미스나인 (fromis_9) - FUN!</td>\n",
       "      <td>Official fromis_9</td>\n",
       "      <td>19126705</td>\n",
       "      <td>2019-06-04</td>\n",
       "    </tr>\n",
       "    <tr>\n",
       "      <th>12</th>\n",
       "      <td>프로미스나인(Fromis_9) - Feel Good 교차편집(stage mix)</td>\n",
       "      <td>강민혁 X 차누</td>\n",
       "      <td>2426875</td>\n",
       "      <td>2020-10-18</td>\n",
       "    </tr>\n",
       "    <tr>\n",
       "      <th>16</th>\n",
       "      <td>프로미스나인 / fromis_9 - LOVE BOMB 교차편집 Stage Mix</td>\n",
       "      <td>귷</td>\n",
       "      <td>7137618</td>\n",
       "      <td>2018-12-28</td>\n",
       "    </tr>\n",
       "    <tr>\n",
       "      <th>23</th>\n",
       "      <td>프로미스나인 (fromis_9) 'Feel Good (SECRET CODE)' M/V</td>\n",
       "      <td>Official fromis_9</td>\n",
       "      <td>23469286</td>\n",
       "      <td>2020-09-16</td>\n",
       "    </tr>\n",
       "    <tr>\n",
       "      <th>24</th>\n",
       "      <td>fromis_9 (프로미스나인) - To Heart MV</td>\n",
       "      <td>Stone Music Entertainment</td>\n",
       "      <td>4874058</td>\n",
       "      <td>2018-01-24</td>\n",
       "    </tr>\n",
       "    <tr>\n",
       "      <th>58</th>\n",
       "      <td>[LIVE CLASS] 프로미스나인(fromis_9) - FUN!</td>\n",
       "      <td>M2</td>\n",
       "      <td>4872689</td>\n",
       "      <td>2019-06-29</td>\n",
       "    </tr>\n",
       "    <tr>\n",
       "      <th>94</th>\n",
       "      <td>프로미스나인 (fromis_9) - FUN! Choreography</td>\n",
       "      <td>Official fromis_9</td>\n",
       "      <td>2191867</td>\n",
       "      <td>2019-06-07</td>\n",
       "    </tr>\n",
       "    <tr>\n",
       "      <th>158</th>\n",
       "      <td>fromis_9 (프로미스_9) - 유리구두 (Glass Shoes) MV</td>\n",
       "      <td>Stone Music Entertainment</td>\n",
       "      <td>8369541</td>\n",
       "      <td>2017-11-30</td>\n",
       "    </tr>\n",
       "    <tr>\n",
       "      <th>169</th>\n",
       "      <td>[Oh, K!] 프로미스나인(fromis_9) in NY! 뉴욕 *****에서 게릴...</td>\n",
       "      <td>M2</td>\n",
       "      <td>4008267</td>\n",
       "      <td>2019-07-26</td>\n",
       "    </tr>\n",
       "    <tr>\n",
       "      <th>184</th>\n",
       "      <td>프로미스나인 (fromis_9) 지선 ASMR - 3DIO 귀청소 롤플레잉</td>\n",
       "      <td>Official fromis_9</td>\n",
       "      <td>4215153</td>\n",
       "      <td>2019-12-30</td>\n",
       "    </tr>\n",
       "    <tr>\n",
       "      <th>239</th>\n",
       "      <td>프로미스나인(Fromis_9) - Love RUMPUMPUM 교차편집(stage mix)</td>\n",
       "      <td>강민혁 X 차누</td>\n",
       "      <td>2553550</td>\n",
       "      <td>2019-07-28</td>\n",
       "    </tr>\n",
       "    <tr>\n",
       "      <th>257</th>\n",
       "      <td>프로미스나인(fromis_9) - 두근두근(DKDK) 교차편집(stage mix)</td>\n",
       "      <td>강민혁 X 차누</td>\n",
       "      <td>2005733</td>\n",
       "      <td>2018-07-21</td>\n",
       "    </tr>\n",
       "    <tr>\n",
       "      <th>435</th>\n",
       "      <td>Ear Massage with Make Up Tools 👂 ASMR Full Ver...</td>\n",
       "      <td>M2</td>\n",
       "      <td>2971159</td>\n",
       "      <td>2020-09-29</td>\n",
       "    </tr>\n",
       "  </tbody>\n",
       "</table>\n",
       "</div>"
      ],
      "text/plain": [
       "                                                    제목  \\\n",
       "1          fromis_9 (프로미스나인) 'Talk & Talk' Official MV   \n",
       "7                        프로미스나인 (fromis_9) 'WE GO' M/V   \n",
       "8                   [MV] 프로미스나인 (fromis_9) - LOVE BOMB   \n",
       "9                        [MV] 프로미스나인 (fromis_9) - FUN!   \n",
       "12        프로미스나인(Fromis_9) - Feel Good 교차편집(stage mix)   \n",
       "16        프로미스나인 / fromis_9 - LOVE BOMB 교차편집 Stage Mix   \n",
       "23     프로미스나인 (fromis_9) 'Feel Good (SECRET CODE)' M/V   \n",
       "24                     fromis_9 (프로미스나인) - To Heart MV   \n",
       "58                [LIVE CLASS] 프로미스나인(fromis_9) - FUN!   \n",
       "94               프로미스나인 (fromis_9) - FUN! Choreography   \n",
       "158          fromis_9 (프로미스_9) - 유리구두 (Glass Shoes) MV   \n",
       "169  [Oh, K!] 프로미스나인(fromis_9) in NY! 뉴욕 *****에서 게릴...   \n",
       "184          프로미스나인 (fromis_9) 지선 ASMR - 3DIO 귀청소 롤플레잉   \n",
       "239  프로미스나인(Fromis_9) - Love RUMPUMPUM 교차편집(stage mix)   \n",
       "257      프로미스나인(fromis_9) - 두근두근(DKDK) 교차편집(stage mix)   \n",
       "435  Ear Massage with Make Up Tools 👂 ASMR Full Ver...   \n",
       "\n",
       "                           업로더       조회수         게시일  \n",
       "1                  HYBE LABELS  21665354  2021-09-01  \n",
       "7            Official fromis_9  21269451  2021-05-17  \n",
       "8            Official fromis_9  24715691  2018-10-10  \n",
       "9            Official fromis_9  19126705  2019-06-04  \n",
       "12                    강민혁 X 차누   2426875  2020-10-18  \n",
       "16                           귷   7137618  2018-12-28  \n",
       "23           Official fromis_9  23469286  2020-09-16  \n",
       "24   Stone Music Entertainment   4874058  2018-01-24  \n",
       "58                          M2   4872689  2019-06-29  \n",
       "94           Official fromis_9   2191867  2019-06-07  \n",
       "158  Stone Music Entertainment   8369541  2017-11-30  \n",
       "169                         M2   4008267  2019-07-26  \n",
       "184          Official fromis_9   4215153  2019-12-30  \n",
       "239                   강민혁 X 차누   2553550  2019-07-28  \n",
       "257                   강민혁 X 차누   2005733  2018-07-21  \n",
       "435                         M2   2971159  2020-09-29  "
      ]
     },
     "execution_count": 10,
     "metadata": {},
     "output_type": "execute_result"
    }
   ],
   "source": [
    "#200만 뷰를 넘은 영상은?\n",
    "non_official_df[non_official_df['조회수']>2000000]"
   ]
  },
  {
   "cell_type": "markdown",
   "id": "be8dc37d",
   "metadata": {},
   "source": [
    "# 가장 열심히 영상을 올려준 상위 10인의 유튜버는?"
   ]
  },
  {
   "cell_type": "code",
   "execution_count": 11,
   "id": "dd22ac84",
   "metadata": {
    "ExecuteTime": {
     "end_time": "2022-01-01T05:27:52.057132Z",
     "start_time": "2022-01-01T05:27:52.043131Z"
    }
   },
   "outputs": [],
   "source": [
    "uploader_count = fromis_9_df['업로더'].groupby(fromis_9_df['업로더']).count().to_frame()"
   ]
  },
  {
   "cell_type": "code",
   "execution_count": 12,
   "id": "a371eae2",
   "metadata": {
    "ExecuteTime": {
     "end_time": "2022-01-01T05:27:52.072130Z",
     "start_time": "2022-01-01T05:27:52.058131Z"
    }
   },
   "outputs": [
    {
     "data": {
      "text/html": [
       "<div>\n",
       "<style scoped>\n",
       "    .dataframe tbody tr th:only-of-type {\n",
       "        vertical-align: middle;\n",
       "    }\n",
       "\n",
       "    .dataframe tbody tr th {\n",
       "        vertical-align: top;\n",
       "    }\n",
       "\n",
       "    .dataframe thead th {\n",
       "        text-align: right;\n",
       "    }\n",
       "</style>\n",
       "<table border=\"1\" class=\"dataframe\">\n",
       "  <thead>\n",
       "    <tr style=\"text-align: right;\">\n",
       "      <th></th>\n",
       "      <th>카운트</th>\n",
       "    </tr>\n",
       "    <tr>\n",
       "      <th>업로더</th>\n",
       "      <th></th>\n",
       "    </tr>\n",
       "  </thead>\n",
       "  <tbody>\n",
       "    <tr>\n",
       "      <th>Official fromis_9</th>\n",
       "      <td>112</td>\n",
       "    </tr>\n",
       "    <tr>\n",
       "      <th>모시까요</th>\n",
       "      <td>25</td>\n",
       "    </tr>\n",
       "    <tr>\n",
       "      <th>퓨리</th>\n",
       "      <td>19</td>\n",
       "    </tr>\n",
       "    <tr>\n",
       "      <th>옳게된플로버</th>\n",
       "      <td>16</td>\n",
       "    </tr>\n",
       "    <tr>\n",
       "      <th>M2</th>\n",
       "      <td>16</td>\n",
       "    </tr>\n",
       "    <tr>\n",
       "      <th>KBS Kpop</th>\n",
       "      <td>13</td>\n",
       "    </tr>\n",
       "    <tr>\n",
       "      <th>새바</th>\n",
       "      <td>9</td>\n",
       "    </tr>\n",
       "    <tr>\n",
       "      <th>The K-POP</th>\n",
       "      <td>8</td>\n",
       "    </tr>\n",
       "    <tr>\n",
       "      <th>부각나꼬</th>\n",
       "      <td>8</td>\n",
       "    </tr>\n",
       "    <tr>\n",
       "      <th>fromis_9 shortclip</th>\n",
       "      <td>7</td>\n",
       "    </tr>\n",
       "    <tr>\n",
       "      <th>치츄MUZIK</th>\n",
       "      <td>6</td>\n",
       "    </tr>\n",
       "    <tr>\n",
       "      <th>강민혁 X 차누</th>\n",
       "      <td>5</td>\n",
       "    </tr>\n",
       "    <tr>\n",
       "      <th>나 잘한다해짜나</th>\n",
       "      <td>5</td>\n",
       "    </tr>\n",
       "    <tr>\n",
       "      <th>ARTBEAT</th>\n",
       "      <td>5</td>\n",
       "    </tr>\n",
       "    <tr>\n",
       "      <th>우유한잔</th>\n",
       "      <td>5</td>\n",
       "    </tr>\n",
       "    <tr>\n",
       "      <th>helu lo</th>\n",
       "      <td>5</td>\n",
       "    </tr>\n",
       "    <tr>\n",
       "      <th>SoulYeon솔연</th>\n",
       "      <td>4</td>\n",
       "    </tr>\n",
       "    <tr>\n",
       "      <th>비하인드 / BEHIND</th>\n",
       "      <td>4</td>\n",
       "    </tr>\n",
       "    <tr>\n",
       "      <th>Mnet K-POP</th>\n",
       "      <td>4</td>\n",
       "    </tr>\n",
       "    <tr>\n",
       "      <th>[NJW]</th>\n",
       "      <td>4</td>\n",
       "    </tr>\n",
       "  </tbody>\n",
       "</table>\n",
       "</div>"
      ],
      "text/plain": [
       "                    카운트\n",
       "업로더                    \n",
       "Official fromis_9   112\n",
       "모시까요                 25\n",
       "퓨리                   19\n",
       "옳게된플로버               16\n",
       "M2                   16\n",
       "KBS Kpop             13\n",
       "새바                    9\n",
       "The K-POP             8\n",
       "부각나꼬                  8\n",
       "fromis_9 shortclip    7\n",
       "치츄MUZIK               6\n",
       "강민혁 X 차누              5\n",
       "나 잘한다해짜나              5\n",
       "ARTBEAT               5\n",
       "우유한잔                  5\n",
       "helu lo               5\n",
       "SoulYeon솔연            4\n",
       "비하인드 / BEHIND         4\n",
       "Mnet K-POP            4\n",
       "[NJW]                 4"
      ]
     },
     "execution_count": 12,
     "metadata": {},
     "output_type": "execute_result"
    }
   ],
   "source": [
    "uploader_count.columns = ['카운트']\n",
    "uploader_count.sort_values(by='카운트',ascending=False).head(20)"
   ]
  }
 ],
 "metadata": {
  "kernelspec": {
   "display_name": "Python 3 (ipykernel)",
   "language": "python",
   "name": "python3"
  },
  "language_info": {
   "codemirror_mode": {
    "name": "ipython",
    "version": 3
   },
   "file_extension": ".py",
   "mimetype": "text/x-python",
   "name": "python",
   "nbconvert_exporter": "python",
   "pygments_lexer": "ipython3",
   "version": "3.7.11"
  },
  "toc": {
   "base_numbering": 1,
   "nav_menu": {},
   "number_sections": true,
   "sideBar": true,
   "skip_h1_title": false,
   "title_cell": "Table of Contents",
   "title_sidebar": "Contents",
   "toc_cell": false,
   "toc_position": {},
   "toc_section_display": true,
   "toc_window_display": false
  },
  "varInspector": {
   "cols": {
    "lenName": 16,
    "lenType": 16,
    "lenVar": 40
   },
   "kernels_config": {
    "python": {
     "delete_cmd_postfix": "",
     "delete_cmd_prefix": "del ",
     "library": "var_list.py",
     "varRefreshCmd": "print(var_dic_list())"
    },
    "r": {
     "delete_cmd_postfix": ") ",
     "delete_cmd_prefix": "rm(",
     "library": "var_list.r",
     "varRefreshCmd": "cat(var_dic_list()) "
    }
   },
   "types_to_exclude": [
    "module",
    "function",
    "builtin_function_or_method",
    "instance",
    "_Feature"
   ],
   "window_display": false
  }
 },
 "nbformat": 4,
 "nbformat_minor": 5
}
