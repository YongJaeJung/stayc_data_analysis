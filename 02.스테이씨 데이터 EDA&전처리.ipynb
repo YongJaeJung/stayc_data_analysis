{
 "cells": [
  {
   "cell_type": "markdown",
   "id": "09261b75",
   "metadata": {},
   "source": [
    "# 필요한 라이브러리, 데이터 로드"
   ]
  },
  {
   "cell_type": "code",
   "execution_count": 14,
   "id": "4fafbbd7",
   "metadata": {
    "ExecuteTime": {
     "end_time": "2021-12-29T16:44:53.966808Z",
     "start_time": "2021-12-29T16:44:53.963808Z"
    }
   },
   "outputs": [],
   "source": [
    "import pandas as pd\n",
    "import re"
   ]
  },
  {
   "cell_type": "code",
   "execution_count": 15,
   "id": "c0f3325c",
   "metadata": {
    "ExecuteTime": {
     "end_time": "2021-12-29T16:44:53.981807Z",
     "start_time": "2021-12-29T16:44:53.967808Z"
    }
   },
   "outputs": [],
   "source": [
    "stayc_df = pd.read_csv('./data/stayc_youtube.csv')\n",
    "stayc_df = stayc_df.drop(columns=stayc_df.columns[0],axis=1)"
   ]
  },
  {
   "cell_type": "code",
   "execution_count": 16,
   "id": "b282c911",
   "metadata": {
    "ExecuteTime": {
     "end_time": "2021-12-29T16:44:53.996809Z",
     "start_time": "2021-12-29T16:44:53.982808Z"
    }
   },
   "outputs": [],
   "source": [
    "stayc_df = stayc_df.dropna()"
   ]
  },
  {
   "cell_type": "code",
   "execution_count": 17,
   "id": "ff4a87b6",
   "metadata": {
    "ExecuteTime": {
     "end_time": "2021-12-29T16:44:54.011808Z",
     "start_time": "2021-12-29T16:44:53.997808Z"
    }
   },
   "outputs": [],
   "source": [
    "stayc_df = stayc_df.drop_duplicates(['제목'],keep='first')\n",
    "stayc_df = stayc_df.reset_index(drop=True)"
   ]
  },
  {
   "cell_type": "markdown",
   "id": "dfdf0b17",
   "metadata": {},
   "source": [
    "# 조회수"
   ]
  },
  {
   "cell_type": "code",
   "execution_count": 18,
   "id": "f4d678c9",
   "metadata": {
    "ExecuteTime": {
     "end_time": "2021-12-29T16:44:54.026819Z",
     "start_time": "2021-12-29T16:44:54.012808Z"
    }
   },
   "outputs": [],
   "source": [
    "click_num_re = re.compile('[0-9,]+')"
   ]
  },
  {
   "cell_type": "code",
   "execution_count": 19,
   "id": "4dd9b462",
   "metadata": {
    "ExecuteTime": {
     "end_time": "2021-12-29T16:44:54.041946Z",
     "start_time": "2021-12-29T16:44:54.027820Z"
    }
   },
   "outputs": [],
   "source": [
    "def click_clear(x):\n",
    "            \n",
    "    return int(click_num_re.findall(x)[0].replace(',',''))\n",
    "\n",
    "stayc_df['조회수'] = stayc_df['조회수'].map(click_clear)"
   ]
  },
  {
   "cell_type": "markdown",
   "id": "30e04ff6",
   "metadata": {},
   "source": [
    "# 게시일"
   ]
  },
  {
   "cell_type": "code",
   "execution_count": 20,
   "id": "42970e68",
   "metadata": {
    "ExecuteTime": {
     "end_time": "2021-12-29T16:44:54.057130Z",
     "start_time": "2021-12-29T16:44:54.042948Z"
    }
   },
   "outputs": [
    {
     "data": {
      "text/plain": [
       "datetime.datetime(2021, 12, 1, 0, 0)"
      ]
     },
     "execution_count": 20,
     "metadata": {},
     "output_type": "execute_result"
    }
   ],
   "source": [
    "from datetime import datetime\n",
    "from dateutil.relativedelta import relativedelta\n",
    "\n",
    "now = datetime.now()\n",
    "now - relativedelta(months=10)\n",
    "\n",
    "datetime(now.year,now.month,1)"
   ]
  },
  {
   "cell_type": "code",
   "execution_count": 21,
   "id": "e33f83e1",
   "metadata": {
    "ExecuteTime": {
     "end_time": "2021-12-29T16:44:54.072130Z",
     "start_time": "2021-12-29T16:44:54.058132Z"
    }
   },
   "outputs": [
    {
     "data": {
      "text/plain": [
       "'2021-9-6'"
      ]
     },
     "execution_count": 21,
     "metadata": {},
     "output_type": "execute_result"
    }
   ],
   "source": [
    "upload_num_re = re.compile('[0-9]+')\n",
    "#upload_str_re = re.compile('[가-힣]+')\n",
    "\n",
    "#upload_str_re.findall(stayc_df.loc[64,'게시일'])\n",
    "'-'.join(upload_num_re.findall(stayc_df.loc[2,'게시일']))"
   ]
  },
  {
   "cell_type": "code",
   "execution_count": 22,
   "id": "9bd774fa",
   "metadata": {
    "ExecuteTime": {
     "end_time": "2021-12-29T16:44:54.087146Z",
     "start_time": "2021-12-29T16:44:54.073132Z"
    }
   },
   "outputs": [],
   "source": [
    "def upload_clear(x):\n",
    "\n",
    "    return '-'.join(upload_num_re.findall(x))"
   ]
  },
  {
   "cell_type": "code",
   "execution_count": 23,
   "id": "25498386",
   "metadata": {
    "ExecuteTime": {
     "end_time": "2021-12-29T16:44:54.102168Z",
     "start_time": "2021-12-29T16:44:54.089152Z"
    }
   },
   "outputs": [],
   "source": [
    "stayc_df['게시일'] = stayc_df['게시일'].map(upload_clear)"
   ]
  },
  {
   "cell_type": "code",
   "execution_count": 24,
   "id": "f68cc9eb",
   "metadata": {
    "ExecuteTime": {
     "end_time": "2021-12-29T16:44:54.117169Z",
     "start_time": "2021-12-29T16:44:54.103168Z"
    }
   },
   "outputs": [
    {
     "data": {
      "text/html": [
       "<div>\n",
       "<style scoped>\n",
       "    .dataframe tbody tr th:only-of-type {\n",
       "        vertical-align: middle;\n",
       "    }\n",
       "\n",
       "    .dataframe tbody tr th {\n",
       "        vertical-align: top;\n",
       "    }\n",
       "\n",
       "    .dataframe thead th {\n",
       "        text-align: right;\n",
       "    }\n",
       "</style>\n",
       "<table border=\"1\" class=\"dataframe\">\n",
       "  <thead>\n",
       "    <tr style=\"text-align: right;\">\n",
       "      <th></th>\n",
       "      <th>제목</th>\n",
       "      <th>업로더</th>\n",
       "      <th>조회수</th>\n",
       "      <th>게시일</th>\n",
       "    </tr>\n",
       "  </thead>\n",
       "  <tbody>\n",
       "    <tr>\n",
       "      <th>0</th>\n",
       "      <td>[MV] STAYC(스테이씨) - ASAP</td>\n",
       "      <td>1theK (원더케이)</td>\n",
       "      <td>11364531</td>\n",
       "      <td>2021-4-8</td>\n",
       "    </tr>\n",
       "    <tr>\n",
       "      <th>1</th>\n",
       "      <td>[MV] STAYC(스테이씨) _ STEREOTYPE(색안경)</td>\n",
       "      <td>1theK (원더케이)</td>\n",
       "      <td>6597782</td>\n",
       "      <td>2021-9-6</td>\n",
       "    </tr>\n",
       "    <tr>\n",
       "      <th>2</th>\n",
       "      <td>STAYC (스테이씨) PLAYLIST 2021 (ALL SONGS) | 스테이씨 ...</td>\n",
       "      <td>LQ KPOP</td>\n",
       "      <td>275136</td>\n",
       "      <td>2021-9-6</td>\n",
       "    </tr>\n",
       "    <tr>\n",
       "      <th>3</th>\n",
       "      <td>스테이씨 노래모음 9곡 (가사포함) | STAYC Playlist 9 Songs (...</td>\n",
       "      <td>밤공원 𝙋𝙇𝘼𝙔𝙇𝙄𝙎𝙏</td>\n",
       "      <td>36162</td>\n",
       "      <td>2021-10-14</td>\n",
       "    </tr>\n",
       "    <tr>\n",
       "      <th>4</th>\n",
       "      <td>STAYC(스테이씨) '색안경 (STEREOTYPE)' Dance Practice</td>\n",
       "      <td>STAYC</td>\n",
       "      <td>3392504</td>\n",
       "      <td>2021-9-7</td>\n",
       "    </tr>\n",
       "  </tbody>\n",
       "</table>\n",
       "</div>"
      ],
      "text/plain": [
       "                                                  제목           업로더       조회수  \\\n",
       "0                            [MV] STAYC(스테이씨) - ASAP  1theK (원더케이)  11364531   \n",
       "1                 [MV] STAYC(스테이씨) _ STEREOTYPE(색안경)  1theK (원더케이)   6597782   \n",
       "2  STAYC (스테이씨) PLAYLIST 2021 (ALL SONGS) | 스테이씨 ...       LQ KPOP    275136   \n",
       "3  스테이씨 노래모음 9곡 (가사포함) | STAYC Playlist 9 Songs (...  밤공원 𝙋𝙇𝘼𝙔𝙇𝙄𝙎𝙏     36162   \n",
       "4      STAYC(스테이씨) '색안경 (STEREOTYPE)' Dance Practice         STAYC   3392504   \n",
       "\n",
       "          게시일  \n",
       "0    2021-4-8  \n",
       "1    2021-9-6  \n",
       "2    2021-9-6  \n",
       "3  2021-10-14  \n",
       "4    2021-9-7  "
      ]
     },
     "execution_count": 24,
     "metadata": {},
     "output_type": "execute_result"
    }
   ],
   "source": [
    "stayc_df.head()"
   ]
  },
  {
   "cell_type": "code",
   "execution_count": 25,
   "id": "19e6871c",
   "metadata": {
    "ExecuteTime": {
     "end_time": "2021-12-29T16:44:54.132168Z",
     "start_time": "2021-12-29T16:44:54.118169Z"
    }
   },
   "outputs": [],
   "source": [
    "stayc_df['게시일'] = pd.to_datetime(stayc_df['게시일'])"
   ]
  },
  {
   "cell_type": "code",
   "execution_count": 26,
   "id": "2a78d4ed",
   "metadata": {
    "ExecuteTime": {
     "end_time": "2021-12-29T16:44:54.147168Z",
     "start_time": "2021-12-29T16:44:54.133168Z"
    }
   },
   "outputs": [],
   "source": [
    "stayc_df.to_csv('./data/stacy_youtube_preprocessed.csv',encoding='utf-8-sig',index=False)"
   ]
  }
 ],
 "metadata": {
  "kernelspec": {
   "display_name": "Python 3 (ipykernel)",
   "language": "python",
   "name": "python3"
  },
  "language_info": {
   "codemirror_mode": {
    "name": "ipython",
    "version": 3
   },
   "file_extension": ".py",
   "mimetype": "text/x-python",
   "name": "python",
   "nbconvert_exporter": "python",
   "pygments_lexer": "ipython3",
   "version": "3.7.11"
  },
  "toc": {
   "base_numbering": 1,
   "nav_menu": {},
   "number_sections": true,
   "sideBar": true,
   "skip_h1_title": false,
   "title_cell": "Table of Contents",
   "title_sidebar": "Contents",
   "toc_cell": false,
   "toc_position": {},
   "toc_section_display": true,
   "toc_window_display": false
  },
  "varInspector": {
   "cols": {
    "lenName": 16,
    "lenType": 16,
    "lenVar": 40
   },
   "kernels_config": {
    "python": {
     "delete_cmd_postfix": "",
     "delete_cmd_prefix": "del ",
     "library": "var_list.py",
     "varRefreshCmd": "print(var_dic_list())"
    },
    "r": {
     "delete_cmd_postfix": ") ",
     "delete_cmd_prefix": "rm(",
     "library": "var_list.r",
     "varRefreshCmd": "cat(var_dic_list()) "
    }
   },
   "types_to_exclude": [
    "module",
    "function",
    "builtin_function_or_method",
    "instance",
    "_Feature"
   ],
   "window_display": false
  }
 },
 "nbformat": 4,
 "nbformat_minor": 5
}
