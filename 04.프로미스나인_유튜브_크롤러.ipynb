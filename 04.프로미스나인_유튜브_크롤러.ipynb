{
 "cells": [
  {
   "cell_type": "markdown",
   "id": "94098e10",
   "metadata": {},
   "source": [
    "# 필요한 라이브러리 로드"
   ]
  },
  {
   "cell_type": "code",
   "execution_count": 1,
   "id": "5d41c127",
   "metadata": {
    "ExecuteTime": {
     "end_time": "2022-01-01T04:44:56.548685Z",
     "start_time": "2022-01-01T04:44:56.025496Z"
    }
   },
   "outputs": [],
   "source": [
    "from selenium import webdriver\n",
    "from selenium.webdriver.common.keys import Keys\n",
    "from selenium.webdriver.common.by import By\n",
    "from selenium.webdriver.chrome.service import Service\n",
    "from selenium.webdriver.support.ui import WebDriverWait\n",
    "from selenium.webdriver.support import expected_conditions as EC\n",
    "from selenium.webdriver import ActionChains\n",
    "import pandas as pd\n",
    "from time import sleep\n",
    "from tqdm import tqdm"
   ]
  },
  {
   "cell_type": "markdown",
   "id": "1ee6bfc7",
   "metadata": {},
   "source": [
    "# 초기 화면 로드"
   ]
  },
  {
   "cell_type": "code",
   "execution_count": 2,
   "id": "5c2581f6",
   "metadata": {
    "ExecuteTime": {
     "end_time": "2022-01-01T04:45:00.135369Z",
     "start_time": "2022-01-01T04:44:56.549687Z"
    }
   },
   "outputs": [],
   "source": [
    "keyword = '프로미스나인+fromis_9'\n",
    "url = 'https://www.youtube.com/results?search_query={}'.format(keyword)\n",
    "s = Service('./chromedriver.exe')\n",
    "driver = webdriver.Chrome(service=s)\n",
    "driver.get(url)\n",
    "action = ActionChains(driver)"
   ]
  },
  {
   "cell_type": "markdown",
   "id": "902e12f9",
   "metadata": {},
   "source": [
    "# 동영상만 보기 설정"
   ]
  },
  {
   "cell_type": "code",
   "execution_count": 3,
   "id": "9a39cb48",
   "metadata": {
    "ExecuteTime": {
     "end_time": "2022-01-01T04:45:00.498367Z",
     "start_time": "2022-01-01T04:45:00.167367Z"
    }
   },
   "outputs": [],
   "source": [
    "filter_element = WebDriverWait(driver, 10).until(\n",
    " EC.presence_of_all_elements_located((By.XPATH, \"//*[@id='text']\"))\n",
    ")\n",
    "\n",
    "filter_element[2].click()"
   ]
  },
  {
   "cell_type": "code",
   "execution_count": 4,
   "id": "8d5e1d05",
   "metadata": {
    "ExecuteTime": {
     "end_time": "2022-01-01T04:45:00.740367Z",
     "start_time": "2022-01-01T04:45:00.514367Z"
    }
   },
   "outputs": [],
   "source": [
    "filter_sub_element = WebDriverWait(driver, 10).until(\n",
    " EC.presence_of_all_elements_located((By.XPATH, \"//*[contains(text(),'동영상')]\"))\n",
    ")\n",
    "\n",
    "filter_sub_element[1].click()"
   ]
  },
  {
   "cell_type": "markdown",
   "id": "8f197dca",
   "metadata": {},
   "source": [
    "# 스크롤 100회 내리기"
   ]
  },
  {
   "cell_type": "code",
   "execution_count": 5,
   "id": "1bc12e75",
   "metadata": {
    "ExecuteTime": {
     "end_time": "2022-01-01T04:48:23.872167Z",
     "start_time": "2022-01-01T04:45:00.742367Z"
    }
   },
   "outputs": [
    {
     "name": "stderr",
     "output_type": "stream",
     "text": [
      "100%|████████████████████████████████████████████████████████████████████████████████| 100/100 [03:23<00:00,  2.03s/it]\n"
     ]
    }
   ],
   "source": [
    "for i in tqdm(range(100)):\n",
    "    start = i * 10000\n",
    "    end = (i+1) * 10000\n",
    "    driver.execute_script(f\"window.scrollTo({start},{end})\")\n",
    "    sleep(2)"
   ]
  },
  {
   "cell_type": "markdown",
   "id": "106c44ee",
   "metadata": {},
   "source": [
    "# 제목, 업로더 크롤링"
   ]
  },
  {
   "cell_type": "markdown",
   "id": "46f83f14",
   "metadata": {},
   "source": [
    "## 제목, 업로더 태그 가져오기"
   ]
  },
  {
   "cell_type": "code",
   "execution_count": 6,
   "id": "f738c37d",
   "metadata": {
    "ExecuteTime": {
     "end_time": "2022-01-01T04:48:24.082168Z",
     "start_time": "2022-01-01T04:48:23.873170Z"
    }
   },
   "outputs": [],
   "source": [
    "fromis_9_titles = driver.find_elements(By.ID, \"video-title\")\n",
    "fromis_9_uploader= driver.find_elements(By.XPATH, \"//a[@class='yt-simple-endpoint style-scope yt-formatted-string']\")"
   ]
  },
  {
   "cell_type": "markdown",
   "id": "b00c8ee7",
   "metadata": {},
   "source": [
    "## 제목, 업로더 텍스트 저장"
   ]
  },
  {
   "cell_type": "code",
   "execution_count": 7,
   "id": "083a6dd8",
   "metadata": {
    "ExecuteTime": {
     "end_time": "2022-01-01T04:48:35.366168Z",
     "start_time": "2022-01-01T04:48:24.083169Z"
    }
   },
   "outputs": [],
   "source": [
    "titles = [x.text for x in fromis_9_titles]\n",
    "uploaders = [fromis_9_uploader[i].text for i in fromis_9_uploader if i != '']"
   ]
  },
  {
   "cell_type": "markdown",
   "id": "88c2652a",
   "metadata": {},
   "source": [
    "# 조회수, 날짜 크롤링"
   ]
  },
  {
   "cell_type": "code",
   "execution_count": 8,
   "id": "532bf078",
   "metadata": {
    "ExecuteTime": {
     "end_time": "2022-01-01T04:48:35.381170Z",
     "start_time": "2022-01-01T04:48:35.367169Z"
    }
   },
   "outputs": [],
   "source": [
    "error_row = []"
   ]
  },
  {
   "cell_type": "code",
   "execution_count": 20,
   "id": "b572f0d8",
   "metadata": {
    "ExecuteTime": {
     "end_time": "2022-01-01T05:20:14.788266Z",
     "start_time": "2022-01-01T05:05:18.746942Z"
    }
   },
   "outputs": [
    {
     "name": "stderr",
     "output_type": "stream",
     "text": [
      "529it [14:56,  1.69s/it]\n"
     ]
    }
   ],
   "source": [
    "fromis_9_list = []\n",
    "views = []\n",
    "update_dates = []\n",
    "    \n",
    "for i,title in tqdm(enumerate(fromis_9_titles)):\n",
    "    try:\n",
    "        \n",
    "        title_element = WebDriverWait(driver, 10).until(\n",
    "        EC.element_to_be_clickable(title)\n",
    "        )\n",
    "        \n",
    "        title_element.send_keys(Keys.CONTROL +\"\\n\")\n",
    "        driver.switch_to.window(driver.window_handles[1])\n",
    "        \n",
    "        view_element = WebDriverWait(driver, 10).until(\n",
    "        EC.presence_of_element_located((By.XPATH, \"//span[@class='view-count style-scope ytd-video-view-count-renderer']\"))\n",
    "        )\n",
    "        \n",
    "        update_element = WebDriverWait(driver, 10).until(\n",
    "        EC.presence_of_element_located((By.XPATH, \"//div[@id='info-strings']\"))\n",
    "        )\n",
    "        \n",
    "        views.append(view_element.text)\n",
    "        update_dates.append(update_element.text)\n",
    "\n",
    "        driver.close()\n",
    "\n",
    "        # 메인 탭으로 이동\n",
    "        driver.switch_to.window(driver.window_handles[0])\n",
    "        \n",
    "    except:\n",
    "        error_row.append(i)\n",
    "        print('오류')\n",
    "        views.append('오류')\n",
    "        update_dates.append('오류')\n",
    "        driver.close()\n",
    "\n",
    "        # 메인 탭으로 이동\n",
    "        driver.switch_to.window(driver.window_handles[0])"
   ]
  },
  {
   "cell_type": "code",
   "execution_count": 21,
   "id": "6fc552cf",
   "metadata": {
    "ExecuteTime": {
     "end_time": "2022-01-01T05:20:28.285642Z",
     "start_time": "2022-01-01T05:20:28.267644Z"
    }
   },
   "outputs": [
    {
     "data": {
      "text/plain": [
       "[]"
      ]
     },
     "execution_count": 21,
     "metadata": {},
     "output_type": "execute_result"
    }
   ],
   "source": [
    "error_row"
   ]
  },
  {
   "cell_type": "code",
   "execution_count": 29,
   "id": "d0f7d01e",
   "metadata": {
    "ExecuteTime": {
     "end_time": "2022-01-01T05:22:43.068842Z",
     "start_time": "2022-01-01T05:22:43.055845Z"
    }
   },
   "outputs": [],
   "source": [
    "for title,uploader,view,update_date in zip(titles,uploaders,views,update_dates):\n",
    "    fromis_9_list.append([title,uploader,view,update_date])"
   ]
  },
  {
   "cell_type": "code",
   "execution_count": 30,
   "id": "6fb33c57",
   "metadata": {
    "ExecuteTime": {
     "end_time": "2022-01-01T05:22:45.434080Z",
     "start_time": "2022-01-01T05:22:45.431081Z"
    }
   },
   "outputs": [],
   "source": [
    "fromis_9_df = pd.DataFrame(data=fromis_9_list,columns=['제목','업로더','조회수','게시일'])"
   ]
  },
  {
   "cell_type": "code",
   "execution_count": 31,
   "id": "575cd3ca",
   "metadata": {
    "ExecuteTime": {
     "end_time": "2022-01-01T05:22:46.036286Z",
     "start_time": "2022-01-01T05:22:46.025284Z"
    }
   },
   "outputs": [],
   "source": [
    "fromis_9_df = fromis_9_df.drop_duplicates(keep='first')"
   ]
  },
  {
   "cell_type": "code",
   "execution_count": 32,
   "id": "ef414d72",
   "metadata": {
    "ExecuteTime": {
     "end_time": "2022-01-01T05:22:47.242534Z",
     "start_time": "2022-01-01T05:22:47.224506Z"
    }
   },
   "outputs": [],
   "source": [
    "fromis_9_df=  fromis_9_df.reset_index(drop=True)"
   ]
  },
  {
   "cell_type": "code",
   "execution_count": 33,
   "id": "f7203496",
   "metadata": {
    "ExecuteTime": {
     "end_time": "2022-01-01T05:22:47.753163Z",
     "start_time": "2022-01-01T05:22:47.735149Z"
    }
   },
   "outputs": [
    {
     "data": {
      "text/html": [
       "<div>\n",
       "<style scoped>\n",
       "    .dataframe tbody tr th:only-of-type {\n",
       "        vertical-align: middle;\n",
       "    }\n",
       "\n",
       "    .dataframe tbody tr th {\n",
       "        vertical-align: top;\n",
       "    }\n",
       "\n",
       "    .dataframe thead th {\n",
       "        text-align: right;\n",
       "    }\n",
       "</style>\n",
       "<table border=\"1\" class=\"dataframe\">\n",
       "  <thead>\n",
       "    <tr style=\"text-align: right;\">\n",
       "      <th></th>\n",
       "      <th>제목</th>\n",
       "      <th>업로더</th>\n",
       "      <th>조회수</th>\n",
       "      <th>게시일</th>\n",
       "    </tr>\n",
       "  </thead>\n",
       "  <tbody>\n",
       "    <tr>\n",
       "      <th>0</th>\n",
       "      <td>[CHANNEL_9] fromis_9 (프로미스나인) '채널나인' EP.20 RUN...</td>\n",
       "      <td>Official fromis_9</td>\n",
       "      <td>조회수 62,823회</td>\n",
       "      <td>2021. 12. 30.</td>\n",
       "    </tr>\n",
       "    <tr>\n",
       "      <th>1</th>\n",
       "      <td>fromis_9 (프로미스나인) 'Talk &amp; Talk' Official MV</td>\n",
       "      <td>HYBE LABELS</td>\n",
       "      <td>조회수 21,665,354회</td>\n",
       "      <td>2021. 9. 1.</td>\n",
       "    </tr>\n",
       "    <tr>\n",
       "      <th>2</th>\n",
       "      <td>프로미스나인(Fromis_9) - Talk &amp; Talk 교차편집(stage mix)</td>\n",
       "      <td>강민혁 X 차누</td>\n",
       "      <td>조회수 544,393회</td>\n",
       "      <td>2021. 9. 30.</td>\n",
       "    </tr>\n",
       "    <tr>\n",
       "      <th>3</th>\n",
       "      <td>[BE ORIGINAL] fromis_9 (프로미스나인) 'Talk &amp; Talk' ...</td>\n",
       "      <td>STUDIO CHOOM [스튜디오 춤]</td>\n",
       "      <td>조회수 1,836,439회</td>\n",
       "      <td>2021. 9. 4.</td>\n",
       "    </tr>\n",
       "    <tr>\n",
       "      <th>4</th>\n",
       "      <td>[릴레이댄스] 프로미스나인 (fromis_9) - Talk &amp; Talk (4K)</td>\n",
       "      <td>M2</td>\n",
       "      <td>조회수 605,471회</td>\n",
       "      <td>2021. 9. 5.</td>\n",
       "    </tr>\n",
       "    <tr>\n",
       "      <th>...</th>\n",
       "      <td>...</td>\n",
       "      <td>...</td>\n",
       "      <td>...</td>\n",
       "      <td>...</td>\n",
       "    </tr>\n",
       "    <tr>\n",
       "      <th>497</th>\n",
       "      <td>메리 규리스마스! ⛄ [프로미스나인]</td>\n",
       "      <td>먐먀미스나인</td>\n",
       "      <td>조회수 468회</td>\n",
       "      <td>2021. 12. 27.</td>\n",
       "    </tr>\n",
       "    <tr>\n",
       "      <th>498</th>\n",
       "      <td>fromis_9 (프로미스나인) | Midnight Guest - Concept T...</td>\n",
       "      <td>GermanSone</td>\n",
       "      <td>조회수 269회</td>\n",
       "      <td>2021. 12. 30.</td>\n",
       "    </tr>\n",
       "    <tr>\n",
       "      <th>499</th>\n",
       "      <td>[MPD직캠] 프로미스나인 이채영 직캠 'Talk &amp; Talk' (fromis_9 ...</td>\n",
       "      <td>Moniklodstudio MKS</td>\n",
       "      <td>조회수 42회</td>\n",
       "      <td>2021. 12. 27.</td>\n",
       "    </tr>\n",
       "    <tr>\n",
       "      <th>500</th>\n",
       "      <td>211224 네이버 NOW. (studio문나잇) 사녹 #프로미스나인 #fromis...</td>\n",
       "      <td>전람회 [ appleboy tv ]</td>\n",
       "      <td>조회수 110회</td>\n",
       "      <td>2021. 12. 25.</td>\n",
       "    </tr>\n",
       "    <tr>\n",
       "      <th>501</th>\n",
       "      <td>프로미스나인 (fromis_9) 지선 ASMR - 졸리지? 그래도 화장은 지우고 자...</td>\n",
       "      <td>Official fromis_9</td>\n",
       "      <td>조회수 1,438,603회</td>\n",
       "      <td>2020. 3. 31.</td>\n",
       "    </tr>\n",
       "  </tbody>\n",
       "</table>\n",
       "<p>502 rows × 4 columns</p>\n",
       "</div>"
      ],
      "text/plain": [
       "                                                    제목                    업로더  \\\n",
       "0    [CHANNEL_9] fromis_9 (프로미스나인) '채널나인' EP.20 RUN...      Official fromis_9   \n",
       "1          fromis_9 (프로미스나인) 'Talk & Talk' Official MV            HYBE LABELS   \n",
       "2       프로미스나인(Fromis_9) - Talk & Talk 교차편집(stage mix)               강민혁 X 차누   \n",
       "3    [BE ORIGINAL] fromis_9 (프로미스나인) 'Talk & Talk' ...  STUDIO CHOOM [스튜디오 춤]   \n",
       "4         [릴레이댄스] 프로미스나인 (fromis_9) - Talk & Talk (4K)                     M2   \n",
       "..                                                 ...                    ...   \n",
       "497                               메리 규리스마스! ⛄ [프로미스나인]                 먐먀미스나인   \n",
       "498  fromis_9 (프로미스나인) | Midnight Guest - Concept T...             GermanSone   \n",
       "499  [MPD직캠] 프로미스나인 이채영 직캠 'Talk & Talk' (fromis_9 ...     Moniklodstudio MKS   \n",
       "500  211224 네이버 NOW. (studio문나잇) 사녹 #프로미스나인 #fromis...    전람회 [ appleboy tv ]   \n",
       "501  프로미스나인 (fromis_9) 지선 ASMR - 졸리지? 그래도 화장은 지우고 자...      Official fromis_9   \n",
       "\n",
       "                 조회수            게시일  \n",
       "0        조회수 62,823회  2021. 12. 30.  \n",
       "1    조회수 21,665,354회    2021. 9. 1.  \n",
       "2       조회수 544,393회   2021. 9. 30.  \n",
       "3     조회수 1,836,439회    2021. 9. 4.  \n",
       "4       조회수 605,471회    2021. 9. 5.  \n",
       "..               ...            ...  \n",
       "497         조회수 468회  2021. 12. 27.  \n",
       "498         조회수 269회  2021. 12. 30.  \n",
       "499          조회수 42회  2021. 12. 27.  \n",
       "500         조회수 110회  2021. 12. 25.  \n",
       "501   조회수 1,438,603회   2020. 3. 31.  \n",
       "\n",
       "[502 rows x 4 columns]"
      ]
     },
     "execution_count": 33,
     "metadata": {},
     "output_type": "execute_result"
    }
   ],
   "source": [
    "fromis_9_df"
   ]
  },
  {
   "cell_type": "code",
   "execution_count": 34,
   "id": "e574f6a8",
   "metadata": {
    "ExecuteTime": {
     "end_time": "2022-01-01T05:22:52.790648Z",
     "start_time": "2022-01-01T05:22:52.774712Z"
    }
   },
   "outputs": [],
   "source": [
    "fromis_9_df.to_csv('./data/fromis_9_youtube.csv',sep=',',na_rep='NaN',encoding='utf-8-sig')"
   ]
  }
 ],
 "metadata": {
  "kernelspec": {
   "display_name": "Python 3 (ipykernel)",
   "language": "python",
   "name": "python3"
  },
  "language_info": {
   "codemirror_mode": {
    "name": "ipython",
    "version": 3
   },
   "file_extension": ".py",
   "mimetype": "text/x-python",
   "name": "python",
   "nbconvert_exporter": "python",
   "pygments_lexer": "ipython3",
   "version": "3.7.11"
  },
  "toc": {
   "base_numbering": 1,
   "nav_menu": {},
   "number_sections": true,
   "sideBar": true,
   "skip_h1_title": false,
   "title_cell": "Table of Contents",
   "title_sidebar": "Contents",
   "toc_cell": false,
   "toc_position": {},
   "toc_section_display": true,
   "toc_window_display": false
  },
  "varInspector": {
   "cols": {
    "lenName": 16,
    "lenType": 16,
    "lenVar": 40
   },
   "kernels_config": {
    "python": {
     "delete_cmd_postfix": "",
     "delete_cmd_prefix": "del ",
     "library": "var_list.py",
     "varRefreshCmd": "print(var_dic_list())"
    },
    "r": {
     "delete_cmd_postfix": ") ",
     "delete_cmd_prefix": "rm(",
     "library": "var_list.r",
     "varRefreshCmd": "cat(var_dic_list()) "
    }
   },
   "types_to_exclude": [
    "module",
    "function",
    "builtin_function_or_method",
    "instance",
    "_Feature"
   ],
   "window_display": false
  }
 },
 "nbformat": 4,
 "nbformat_minor": 5
}
